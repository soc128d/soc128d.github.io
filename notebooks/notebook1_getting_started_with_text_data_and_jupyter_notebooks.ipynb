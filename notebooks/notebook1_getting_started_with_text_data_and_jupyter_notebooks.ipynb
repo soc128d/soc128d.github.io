{
 "cells": [
  {
   "cell_type": "markdown",
   "metadata": {},
   "source": [
    "#### Sociology 128D: Mining Culture Through Text Data: Introduction to Social Data Science"
   ]
  },
  {
   "cell_type": "markdown",
   "metadata": {},
   "source": [
    "# Notebook 1: Getting Started with Text Data and Jupyter Notebooks"
   ]
  },
  {
   "cell_type": "markdown",
   "metadata": {},
   "source": [
    "#### A note about class notebooks\n",
    "\n",
    "Most class sessions will involve a Jupyter Notebook not unlike this one. These notebooks will include code you can modify and execute to get a feel for how things work. Many of the notebooks will have additional exercises at the end that ask you to use code provided elsewhere in the notebook in new ways to answer research questions you come up with yourself. Over the course of the quarter, you will be expected to complete the exercises for four of those notebooks.\n",
    "\n",
    "Each notebook will be used to follow along with lecture material explaining the use of different tools, various considerations when using them, how they have been used in published social research, and other ways they might be used."
   ]
  },
  {
   "cell_type": "markdown",
   "metadata": {},
   "source": [
    "#### A note about notebooks in general\n",
    "\n",
    "Project Jupyter ([wiki link](https://en.wikipedia.org/wiki/Project_Jupyter)) \"exists to develop open-source software, open-standards, and services for interactive computing across dozens of programming languages,\" according to their [official site](https://jupyter.org/). According to Project Jupyter,\n",
    "\n",
    "> The Jupyter Notebook is an open-source web application that allows you to create and share documents that contain live code, equations, visualizations and narrative text. Uses include: data cleaning and transformation, numerical simulation, statistical modeling, data visualization, machine learning, and much more.\n",
    "\n",
    "While you are welcome to use the cloud-based implementation from Google, [Google Colab](https://research.google.com/colaboratory/), I recommend running notebooks locally. Although we will use Python 3 for this class, notebooks can be used for certain other languages (including R, Julia, and even Stata, among others).\n",
    "\n",
    "Notebooks allow you to blend code with markdown. One use case is that you can write code and comment the code in a more attractive and effective way. At the other extreme, another use case is writing a document in markdown and including a bit of code here and there.\n",
    "\n",
    "#### A note about markdown\n",
    "\n",
    "Here are some basics of formatting markdown:"
   ]
  },
  {
   "cell_type": "markdown",
   "metadata": {},
   "source": [
    "```# Heading 1```\n",
    "\n",
    "# Heading 1\n",
    "\n",
    "\n",
    "```## Heading 2```\n",
    "\n",
    "## Heading 2\n",
    "\n",
    "``` *Italics* ```\n",
    "\n",
    "*Italics*\n",
    "\n",
    "``` **Boldface** ```\n",
    "\n",
    "**Boldface**\n",
    "\n",
    "``` ***Italics and boldface***```\n",
    "\n",
    "***Italics and boldface***\n",
    "\n",
    "``` `Monospace` ```\n",
    "\n",
    "`Monospace`\n",
    "\n",
    "``` [Link to a guide](https://ingeh.medium.com/markdown-for-jupyter-notebooks-cheatsheet-386c05aeebed) ```\n",
    "\n",
    "[Link to a guide](https://ingeh.medium.com/markdown-for-jupyter-notebooks-cheatsheet-386c05aeebed)"
   ]
  },
  {
   "cell_type": "markdown",
   "metadata": {},
   "source": [
    "Everything to this point was written in markdown cells. If you are actively in a cell and click on `Cell` in the menu at the top, you can change the cell type. The two main types we'll use are Code and Markdown. If you double-click on a markdown cell, it temporarily looks like a code one (but isn't one, and won't behave like it). You can just `Run` the cell after editing it to make it looks\n",
    "nice again."
   ]
  },
  {
   "cell_type": "markdown",
   "metadata": {},
   "source": [
    "Try editing this cell. Maybe write in a secret. You won't be turning this in, after all. Double-click on the cell to edit it, then `Run` the cell. This executes the code only in the current cell. You can also use `ctrl + enter` to run the cell."
   ]
  },
  {
   "cell_type": "markdown",
   "metadata": {},
   "source": [
    "Now delete the previous cell, where you may have written a secret. There's no use leaving that on your hard drive in a random file you might forget to protect. To delete the cell, select it, and then click the scissors icon on the menu at the top.\n",
    "\n",
    "You can add a new cell by clicking the `+` button. You can also execute your current cell and add a new cell at the same time using `alt + enter` (which I think is `option + enter` on Macs).\n",
    "\n",
    "The `Kernel` button at the top may come in handy when we start running more complicated code, but it also gives you the option to restart the notebook and clear all the output, restart the notebook and the run the entire thing, or change kernels.\n",
    "\n",
    "Now let's look at Code cells."
   ]
  },
  {
   "cell_type": "code",
   "execution_count": null,
   "metadata": {},
   "outputs": [],
   "source": [
    "# This is a comment in a code cell\n",
    "# Anything after \"#\" (number sign, pound sign, hash, etc.) is \"commented out\"\n",
    "\n",
    "# If you want to write a comment on multiple lines,\n",
    "# you can keep using this symbol to \"comment out\" the line.\n",
    "\n",
    "\"\"\"You can write comments that span multiple lines by surrounding them with triple quotation marks, but they just run off the screen unless you manually break the line\"\"\"\n",
    "\n",
    "\"\"\"But triple quotes can be useful if you pay attention to line width and insert linebreaks at appropriate points, \n",
    "preventing the line from running outside the visible portion of the cell. You may see these inside Python functions,\n",
    "where they are called docstrings. docstrings describe functions and are accessible outside of the function.\"\"\"\n",
    "\n",
    "def example_function():\n",
    "    \"\"\"This function prints a string telling you it's an example.\"\"\"\n",
    "    print(\"This is just an example.\")"
   ]
  },
  {
   "cell_type": "markdown",
   "metadata": {},
   "source": [
    "Now call the function:"
   ]
  },
  {
   "cell_type": "code",
   "execution_count": null,
   "metadata": {},
   "outputs": [],
   "source": [
    "example_function()"
   ]
  },
  {
   "cell_type": "markdown",
   "metadata": {},
   "source": [
    "If a function has a docstring, we can access that by writing `func.__doc__`, where \"func\" is the name of the function. You can see that when you execute the code in the cell below (replacing \"func\" with \"example_function\"). In this case, it'd be fine to just look at the cell above where we've defined the function. However, we will often import libraries and use functions when the code is not visibly present in the notebook. If the code is documented well, accessing the docstrings can be useful."
   ]
  },
  {
   "cell_type": "code",
   "execution_count": null,
   "metadata": {},
   "outputs": [],
   "source": [
    "example_function.__doc__"
   ]
  },
  {
   "cell_type": "markdown",
   "metadata": {},
   "source": [
    "We can also look at the docstring for the `print()` function itself."
   ]
  },
  {
   "cell_type": "code",
   "execution_count": null,
   "metadata": {},
   "outputs": [],
   "source": [
    "print.__doc__"
   ]
  },
  {
   "cell_type": "markdown",
   "metadata": {},
   "source": [
    "...and we can `print` that to make it a bit more attractive:"
   ]
  },
  {
   "cell_type": "code",
   "execution_count": null,
   "metadata": {},
   "outputs": [],
   "source": [
    "print(print.__doc__)"
   ]
  },
  {
   "cell_type": "code",
   "execution_count": null,
   "metadata": {},
   "outputs": [],
   "source": [
    "1 - 1 # You can also write comments after code"
   ]
  },
  {
   "cell_type": "markdown",
   "metadata": {},
   "source": [
    "As you can see in the cell above, you can execute Python code in code cells and get the output directly. We wrote \n",
    "`1 - 1` and got 0 as the output. Let's try that twice and see what happens."
   ]
  },
  {
   "cell_type": "code",
   "execution_count": null,
   "metadata": {},
   "outputs": [],
   "source": [
    "1 - 1 # first time\n",
    "2 - 3 # second time"
   ]
  },
  {
   "cell_type": "markdown",
   "metadata": {},
   "source": [
    "Why didn't we get 0 *and* -1? The answer is that we only see the output of the last line, although each line of code is executed sequentially.\n",
    "\n",
    "Let's verify this:"
   ]
  },
  {
   "cell_type": "code",
   "execution_count": null,
   "metadata": {},
   "outputs": [],
   "source": [
    "assert 2 + 2 == 5\n",
    "\n",
    "print(\"If this line were to print, that would mean the previous line of code was not executed\")"
   ]
  },
  {
   "cell_type": "markdown",
   "metadata": {},
   "source": [
    "If we want to see the output from more than one cell, we can use the `print()` function for each, like so:"
   ]
  },
  {
   "cell_type": "code",
   "execution_count": null,
   "metadata": {},
   "outputs": [],
   "source": [
    "print(1 - 1)\n",
    "print(2 - 3)"
   ]
  },
  {
   "cell_type": "markdown",
   "metadata": {},
   "source": [
    "The code is interpreted line by line, from top to bottom. If a line throws an error, the subsequent code does not execute. Print statements are also printed sequentially."
   ]
  },
  {
   "cell_type": "markdown",
   "metadata": {},
   "source": [
    "#### Now let's interact with some text data."
   ]
  },
  {
   "cell_type": "markdown",
   "metadata": {},
   "source": [
    "Now let's look at a few things we can do to string variables.\n",
    "\n",
    "`str.upper()` makes text uppercase.\n",
    "\n",
    "`str.lower()` makes text lowercase.\n",
    "\n",
    "`str.capitalize()` does what it says on the tin.\n",
    "\n",
    "`str.startswith()` checks whether a string variable starts with the specified characters.\n",
    "\n",
    "`str.endswith()` checks whether a string ends with the specified characters.\n",
    "\n",
    "`str.replace()` takes two arguments: the substring you want to replace and what you want to replace it with.\n",
    "\n",
    "`str.strip()` removes the specified character from the beginning and end of the string, and the default character is whitespace.\n",
    "\n",
    "`str.lstrip()` does the same, but only for the left (start) of the string.\n",
    "\n",
    "`str.rstrip()` does the same for the right (end).\n",
    "\n",
    "`str.split()` defaults to splitting on white space, like spaces. However, if you supply a character to the `split()` method, it will split text on that instead. When you split a string variable, a list is returned.\n",
    "\n",
    "Let's use as an example the first principle from Grimmer and Stewart (2013, p. 269): \"All quantitative models of language are wrong—but some are useful.\""
   ]
  },
  {
   "cell_type": "code",
   "execution_count": null,
   "metadata": {},
   "outputs": [],
   "source": [
    "s = \"All quantitative models of language are wrong—but some are useful.\""
   ]
  },
  {
   "cell_type": "code",
   "execution_count": null,
   "metadata": {},
   "outputs": [],
   "source": [
    "s"
   ]
  },
  {
   "cell_type": "code",
   "execution_count": null,
   "metadata": {},
   "outputs": [],
   "source": [
    "print(s)"
   ]
  },
  {
   "cell_type": "code",
   "execution_count": null,
   "metadata": {},
   "outputs": [],
   "source": [
    "s.lower()"
   ]
  },
  {
   "cell_type": "code",
   "execution_count": null,
   "metadata": {},
   "outputs": [],
   "source": [
    "s.upper()"
   ]
  },
  {
   "cell_type": "code",
   "execution_count": null,
   "metadata": {},
   "outputs": [],
   "source": [
    "s.startswith(\"Sphinx\")"
   ]
  },
  {
   "cell_type": "code",
   "execution_count": null,
   "metadata": {},
   "outputs": [],
   "source": [
    "s.split()"
   ]
  },
  {
   "cell_type": "code",
   "execution_count": null,
   "metadata": {},
   "outputs": [],
   "source": [
    "s.split(\",\") # length == 1 because there are no commas, but it's still a list!"
   ]
  },
  {
   "cell_type": "code",
   "execution_count": null,
   "metadata": {},
   "outputs": [],
   "source": [
    "len(s.split()) # splitting on whitespace"
   ]
  },
  {
   "cell_type": "code",
   "execution_count": null,
   "metadata": {},
   "outputs": [],
   "source": [
    "s = s.replace(\"—\", \", \")\n",
    "s"
   ]
  },
  {
   "cell_type": "code",
   "execution_count": null,
   "metadata": {},
   "outputs": [],
   "source": [
    "len(s.split(\",\"))"
   ]
  },
  {
   "cell_type": "markdown",
   "metadata": {},
   "source": [
    "We can save the result of using `str.split()` as a variable and confirm it's a list."
   ]
  },
  {
   "cell_type": "code",
   "execution_count": null,
   "metadata": {},
   "outputs": [],
   "source": [
    "words = s.split()"
   ]
  },
  {
   "cell_type": "code",
   "execution_count": null,
   "metadata": {},
   "outputs": [],
   "source": [
    "for word in words:\n",
    "    print(word)"
   ]
  },
  {
   "cell_type": "code",
   "execution_count": null,
   "metadata": {},
   "outputs": [],
   "source": [
    "s.replace(\"useful\", \"really cool\")"
   ]
  },
  {
   "cell_type": "markdown",
   "metadata": {},
   "source": [
    "Initially, we'll just look at *The Picture of Dorian Gray* by Oscar Wilde and *Frankenstein* by Mary Shelley. These are both in the public domain, and they are here courtesy of [Project Gutenberg](https://www.gutenberg.org/).\n",
    "\n",
    "The two lines of code below declare the variable `dorian_gray` to be the string \"picture_of_dorian_gray.txt\" and the variable `frankenstein` to be the string \"frankenstein.txt\""
   ]
  },
  {
   "cell_type": "code",
   "execution_count": null,
   "metadata": {},
   "outputs": [],
   "source": [
    "dorian_gray = \"picture_of_dorian_gray.txt\"\n",
    "frankenstein = \"frankenstein.txt\""
   ]
  },
  {
   "cell_type": "markdown",
   "metadata": {},
   "source": [
    "If we execute code with just the variable names, we get the assigned values (i.e., the file names)."
   ]
  },
  {
   "cell_type": "code",
   "execution_count": null,
   "metadata": {},
   "outputs": [],
   "source": [
    "dorian_gray"
   ]
  },
  {
   "cell_type": "code",
   "execution_count": null,
   "metadata": {},
   "outputs": [],
   "source": [
    "print(frankenstein)"
   ]
  },
  {
   "cell_type": "markdown",
   "metadata": {},
   "source": [
    "To acess the text, we need to read the file into memory. We can read in lines of text and interact with them straight away, or we can read them into memory and store them."
   ]
  },
  {
   "cell_type": "code",
   "execution_count": null,
   "metadata": {},
   "outputs": [],
   "source": [
    "# Warning--this will print the entire book!\n",
    "\n",
    "with open(dorian_gray, \"r\", encoding=\"utf-8\") as reader:\n",
    "    for line in reader:\n",
    "        print(line)"
   ]
  },
  {
   "cell_type": "markdown",
   "metadata": {},
   "source": [
    "The \"with open(...) as...\" approach closes the file after it executes, which is quite handy. \"r\" tells the function `open()` to read (instead of write, append, etc.). We can change the variable names, though:"
   ]
  },
  {
   "cell_type": "code",
   "execution_count": null,
   "metadata": {},
   "outputs": [],
   "source": [
    "with open(dorian_gray, \"r\", encoding=\"utf-8\") as thing1:\n",
    "    for thing2 in thing1:\n",
    "        print(thing2)\n",
    "        break # this stops the loop after the first iteration, so it only prints the first line"
   ]
  },
  {
   "cell_type": "markdown",
   "metadata": {},
   "source": [
    "We can also store the book in memory."
   ]
  },
  {
   "cell_type": "code",
   "execution_count": null,
   "metadata": {},
   "outputs": [],
   "source": [
    "whole_book = open(dorian_gray, \"r\", encoding=\"utf-8\").read()"
   ]
  },
  {
   "cell_type": "markdown",
   "metadata": {},
   "source": [
    "If we execute a cell with just the variable name, we get the whole book, but it isn't very attractive."
   ]
  },
  {
   "cell_type": "code",
   "execution_count": null,
   "metadata": {},
   "outputs": [],
   "source": [
    "whole_book"
   ]
  },
  {
   "cell_type": "code",
   "execution_count": null,
   "metadata": {},
   "outputs": [],
   "source": [
    "whole_book[:100] # first 100 characters"
   ]
  },
  {
   "cell_type": "markdown",
   "metadata": {},
   "source": [
    "Let's use `print()` instead."
   ]
  },
  {
   "cell_type": "code",
   "execution_count": null,
   "metadata": {},
   "outputs": [],
   "source": [
    "print(whole_book)"
   ]
  },
  {
   "cell_type": "markdown",
   "metadata": {},
   "source": [
    "Now might be a good time to tell you that you can press `ctrl + /` to comment out selected code. If you don't have any code selected, it will comment out whichever line you are on. If you want to get rid of all of the output, you can comment out the code in the cells above and run them again."
   ]
  },
  {
   "cell_type": "code",
   "execution_count": null,
   "metadata": {},
   "outputs": [],
   "source": [
    "dorian_gray_lines = 0\n",
    "frankenstein_lines = 0\n",
    "\n",
    "with open(dorian_gray, \"r\", encoding=\"utf-8\") as reader:\n",
    "    for line in reader:\n",
    "        dorian_gray_lines += 1\n",
    "        \n",
    "with open(frankenstein, \"r\", encoding=\"utf-8\") as reader:\n",
    "    for line in reader:\n",
    "        frankenstein_lines += 1\n",
    "        \n",
    "print(f\"The Picture of Dorian Gray has {dorian_gray_lines} lines.\")\n",
    "print(f\"Frankenstein has {frankenstein_lines} words.\")"
   ]
  },
  {
   "cell_type": "code",
   "execution_count": null,
   "metadata": {},
   "outputs": [],
   "source": [
    "wilde_wordcount = 0\n",
    "shelley_wordcount = 0\n",
    "\n",
    "with open(dorian_gray, \"r\", encoding=\"utf-8\") as reader:\n",
    "    for line in reader:\n",
    "        line = line.split()\n",
    "        wilde_wordcount += len(line)\n",
    "        \n",
    "with open(frankenstein, \"r\", encoding=\"utf-8\") as reader:\n",
    "    for line in reader:\n",
    "        line = line.split()\n",
    "        shelley_wordcount += len(line)\n",
    "        \n",
    "print(f\"The Picture of Dorian Gray has {wilde_wordcount} words.\")\n",
    "print(f\"Frankenstein has {shelley_wordcount} words.\")"
   ]
  },
  {
   "cell_type": "code",
   "execution_count": null,
   "metadata": {},
   "outputs": [],
   "source": [
    "questions_in_jc = []\n",
    "\n",
    "with open(\"julius_caesar.txt\", \"r\", encoding=\"utf-8\") as reader:\n",
    "    for line in reader:\n",
    "        line = line.rstrip(\"\\n\")\n",
    "        if line.endswith(\"?\"):\n",
    "            questions_in_jc.append(line)\n",
    "        \n",
    "questions_in_jc"
   ]
  },
  {
   "cell_type": "markdown",
   "metadata": {},
   "source": [
    "Remember docstrings? Let's take a look at one for a function we're about to use."
   ]
  },
  {
   "cell_type": "code",
   "execution_count": null,
   "metadata": {
    "scrolled": false
   },
   "outputs": [],
   "source": [
    "import pandas as pd\n",
    "\n",
    "print(pd.read_csv.__doc__)"
   ]
  },
  {
   "cell_type": "markdown",
   "metadata": {},
   "source": [
    "`pandas` is a fantastic library for manipulating data. Visually, the dataframes are a lot like spreadsheets.\n",
    "\n",
    "Let's have an initial go at using `pandas` with a dataset of tweets from January 6, 2021. You can download the dataset from Kaggle at [this link](https://www.kaggle.com/mrmorj/capitol-riot-tweets). Just unzip/extract the archive and place the CSV in the same directory as this notebook (or edit the `f = \"...\"` line in the following cell to include the file path)."
   ]
  },
  {
   "cell_type": "code",
   "execution_count": null,
   "metadata": {},
   "outputs": [],
   "source": [
    "f = \"tweets_2021-01-06.csv\"\n",
    "df = pd.read_csv(f)"
   ]
  },
  {
   "cell_type": "code",
   "execution_count": null,
   "metadata": {},
   "outputs": [],
   "source": [
    "df.head()"
   ]
  },
  {
   "cell_type": "code",
   "execution_count": null,
   "metadata": {},
   "outputs": [],
   "source": [
    "df[[\"follower_count\", \"likes\", \"retweets\"]].corr()"
   ]
  },
  {
   "cell_type": "code",
   "execution_count": null,
   "metadata": {},
   "outputs": [],
   "source": [
    "df[[\"tweet_id\", \"query\"]].groupby(\"query\").count()"
   ]
  },
  {
   "cell_type": "code",
   "execution_count": null,
   "metadata": {},
   "outputs": [],
   "source": [
    "df[\"wordcount\"] = df[\"text\"].apply(lambda x: len(str(x).split()))"
   ]
  },
  {
   "cell_type": "code",
   "execution_count": null,
   "metadata": {},
   "outputs": [],
   "source": [
    "df.head()"
   ]
  },
  {
   "cell_type": "code",
   "execution_count": null,
   "metadata": {},
   "outputs": [],
   "source": [
    "df[[\"query\", \"wordcount\"]].groupby(\"query\").mean().plot.bar()"
   ]
  },
  {
   "cell_type": "code",
   "execution_count": null,
   "metadata": {},
   "outputs": [],
   "source": [
    "import matplotlib.pyplot as plt\n",
    "\n",
    "df[[\"query\", \"wordcount\"]].groupby(\"query\").mean().plot.bar()\n",
    "plt.title(\"Average Wordcount of Tweets by Query\")\n",
    "plt.ylabel(\"Wordcount\")\n",
    "plt.xlabel(\"Query\")\n",
    "plt.show()"
   ]
  },
  {
   "cell_type": "code",
   "execution_count": null,
   "metadata": {},
   "outputs": [],
   "source": [
    "import matplotlib.pyplot as plt\n",
    "\n",
    "df[[\"query\", \"retweets\"]].groupby(\"query\").mean().plot.bar()\n",
    "plt.title(\"Average Retweets of Tweets by Query\")\n",
    "plt.ylabel(\"Wordcount\")\n",
    "plt.xlabel(\"Query\")\n",
    "plt.show()"
   ]
  }
 ],
 "metadata": {
  "kernelspec": {
   "display_name": "Python 3",
   "language": "python",
   "name": "python3"
  },
  "language_info": {
   "codemirror_mode": {
    "name": "ipython",
    "version": 3
   },
   "file_extension": ".py",
   "mimetype": "text/x-python",
   "name": "python",
   "nbconvert_exporter": "python",
   "pygments_lexer": "ipython3",
   "version": "3.8.3"
  }
 },
 "nbformat": 4,
 "nbformat_minor": 4
}
