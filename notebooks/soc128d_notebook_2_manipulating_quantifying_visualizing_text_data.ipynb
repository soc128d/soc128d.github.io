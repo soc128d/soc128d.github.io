{
 "cells": [
  {
   "cell_type": "markdown",
   "metadata": {},
   "source": [
    "#### Sociology 128D: Mining Culture Through Text Data: Introduction to Social Data Science"
   ]
  },
  {
   "cell_type": "markdown",
   "metadata": {},
   "source": [
    "# Notebook 2: Manipulating, Quantifying, and Visualizating Text Data\n",
    "\n",
    "#### A quick note about this notebook versus subsequent notebooks\n",
    "\n",
    "As a reminder, this class is meant to be a bit like a series of workshops, many of which could be self-contained. If you feel a bit lost amid all the code, that's okay--and if this all strikes you as incredibly basic, that's okay, too! Subsequent notebooks will use various methods to analyze a corpus in a way that can produce sociologically-interesting knowledge. These notebooks will be accessible even if you don't feel confident in your ability to follow the code because the focus won't be on the coding. The notebooks should also be interesting even if the code seems pretty basic to you because we'll be looking at applications to social research.\n",
    "\n",
    "#### A quick note about this notebook\n",
    "\n",
    "In this notebook, we'll begin to look at how to use libraries like `pandas` to manage and manipulate text. We'll also build toward different ways of quantifying information about documents and visualizing the results.\n",
    "\n",
    "This is only the second notebook, and this is all preliminary material. From here, we'll move on to measures like TF-IDF that can be used for information retrieval (e.g., search engines) and measuring document similarity, which has all sorts of applications in the social sciences. TF-IDF is also a jumping off point for other measures we'll consider, including dense vector representations.\n",
    "\n",
    "Let's have an initial go at using `pandas` with a dataset of tweets from January 6, 2021. You can download the dataset from Kaggle at [this link](https://www.kaggle.com/mrmorj/capitol-riot-tweets). Just unzip/extract the archive and place the CSV in the same directory as this notebook (or edit the `f = \"...\"` line in the following cell to include the file path)."
   ]
  },
  {
   "cell_type": "code",
   "execution_count": 1,
   "metadata": {},
   "outputs": [],
   "source": [
    "import pandas as pd\n",
    "\n",
    "f = \"tweets_2021-01-06.csv\"\n",
    "df = pd.read_csv(f)"
   ]
  },
  {
   "cell_type": "markdown",
   "metadata": {},
   "source": [
    "`.head()` shows the first few rows. You can supply a number to see more or fewer."
   ]
  },
  {
   "cell_type": "code",
   "execution_count": 2,
   "metadata": {},
   "outputs": [
    {
     "data": {
      "text/html": [
       "<div>\n",
       "<style scoped>\n",
       "    .dataframe tbody tr th:only-of-type {\n",
       "        vertical-align: middle;\n",
       "    }\n",
       "\n",
       "    .dataframe tbody tr th {\n",
       "        vertical-align: top;\n",
       "    }\n",
       "\n",
       "    .dataframe thead th {\n",
       "        text-align: right;\n",
       "    }\n",
       "</style>\n",
       "<table border=\"1\" class=\"dataframe\">\n",
       "  <thead>\n",
       "    <tr style=\"text-align: right;\">\n",
       "      <th></th>\n",
       "      <th>tweet_id</th>\n",
       "      <th>text</th>\n",
       "      <th>query</th>\n",
       "      <th>user_id</th>\n",
       "      <th>user_name</th>\n",
       "      <th>follower_count</th>\n",
       "      <th>user_tweet_count</th>\n",
       "      <th>likes</th>\n",
       "      <th>retweets</th>\n",
       "      <th>location_name</th>\n",
       "      <th>longitude</th>\n",
       "      <th>latitude</th>\n",
       "      <th>user_location</th>\n",
       "      <th>date</th>\n",
       "    </tr>\n",
       "  </thead>\n",
       "  <tbody>\n",
       "    <tr>\n",
       "      <th>0</th>\n",
       "      <td>1346863072435179520</td>\n",
       "      <td>we can adjust by population to get crude exces...</td>\n",
       "      <td>death rates</td>\n",
       "      <td>1101487206840057856</td>\n",
       "      <td>nick stripe</td>\n",
       "      <td>12936</td>\n",
       "      <td>1577</td>\n",
       "      <td>255</td>\n",
       "      <td>108</td>\n",
       "      <td>NaN</td>\n",
       "      <td>NaN</td>\n",
       "      <td>NaN</td>\n",
       "      <td>NaN</td>\n",
       "      <td>2021-01-06</td>\n",
       "    </tr>\n",
       "    <tr>\n",
       "      <th>1</th>\n",
       "      <td>1346817043232919555</td>\n",
       "      <td>turning to labour or remainers like what would...</td>\n",
       "      <td>death rates</td>\n",
       "      <td>234694571</td>\n",
       "      <td>femi</td>\n",
       "      <td>290982</td>\n",
       "      <td>75187</td>\n",
       "      <td>877</td>\n",
       "      <td>116</td>\n",
       "      <td>NaN</td>\n",
       "      <td>NaN</td>\n",
       "      <td>NaN</td>\n",
       "      <td>NaN</td>\n",
       "      <td>2021-01-06</td>\n",
       "    </tr>\n",
       "    <tr>\n",
       "      <th>2</th>\n",
       "      <td>1346862193451692034</td>\n",
       "      <td>numbers of deaths are affected by population s...</td>\n",
       "      <td>death rates</td>\n",
       "      <td>1101487206840057856</td>\n",
       "      <td>nick stripe</td>\n",
       "      <td>12936</td>\n",
       "      <td>1577</td>\n",
       "      <td>213</td>\n",
       "      <td>75</td>\n",
       "      <td>NaN</td>\n",
       "      <td>NaN</td>\n",
       "      <td>NaN</td>\n",
       "      <td>NaN</td>\n",
       "      <td>2021-01-06</td>\n",
       "    </tr>\n",
       "    <tr>\n",
       "      <th>3</th>\n",
       "      <td>1346969461190848516</td>\n",
       "      <td>here is a list of governors who preside over s...</td>\n",
       "      <td>death rates</td>\n",
       "      <td>1346952467003568129</td>\n",
       "      <td>NaN</td>\n",
       "      <td>2</td>\n",
       "      <td>120</td>\n",
       "      <td>0</td>\n",
       "      <td>7612</td>\n",
       "      <td>NaN</td>\n",
       "      <td>NaN</td>\n",
       "      <td>NaN</td>\n",
       "      <td>NaN</td>\n",
       "      <td>2021-01-06</td>\n",
       "    </tr>\n",
       "    <tr>\n",
       "      <th>4</th>\n",
       "      <td>1346969317569687554</td>\n",
       "      <td>convince me with facts on death rates and infe...</td>\n",
       "      <td>death rates</td>\n",
       "      <td>885891622919184384</td>\n",
       "      <td>NaN</td>\n",
       "      <td>11552</td>\n",
       "      <td>36252</td>\n",
       "      <td>2</td>\n",
       "      <td>0</td>\n",
       "      <td>NaN</td>\n",
       "      <td>NaN</td>\n",
       "      <td>NaN</td>\n",
       "      <td>NaN</td>\n",
       "      <td>2021-01-06</td>\n",
       "    </tr>\n",
       "  </tbody>\n",
       "</table>\n",
       "</div>"
      ],
      "text/plain": [
       "              tweet_id                                               text  \\\n",
       "0  1346863072435179520  we can adjust by population to get crude exces...   \n",
       "1  1346817043232919555  turning to labour or remainers like what would...   \n",
       "2  1346862193451692034  numbers of deaths are affected by population s...   \n",
       "3  1346969461190848516  here is a list of governors who preside over s...   \n",
       "4  1346969317569687554  convince me with facts on death rates and infe...   \n",
       "\n",
       "         query              user_id    user_name  follower_count  \\\n",
       "0  death rates  1101487206840057856  nick stripe           12936   \n",
       "1  death rates            234694571         femi          290982   \n",
       "2  death rates  1101487206840057856  nick stripe           12936   \n",
       "3  death rates  1346952467003568129          NaN               2   \n",
       "4  death rates   885891622919184384          NaN           11552   \n",
       "\n",
       "   user_tweet_count  likes  retweets location_name  longitude  latitude  \\\n",
       "0              1577    255       108           NaN        NaN       NaN   \n",
       "1             75187    877       116           NaN        NaN       NaN   \n",
       "2              1577    213        75           NaN        NaN       NaN   \n",
       "3               120      0      7612           NaN        NaN       NaN   \n",
       "4             36252      2         0           NaN        NaN       NaN   \n",
       "\n",
       "  user_location        date  \n",
       "0           NaN  2021-01-06  \n",
       "1           NaN  2021-01-06  \n",
       "2           NaN  2021-01-06  \n",
       "3           NaN  2021-01-06  \n",
       "4           NaN  2021-01-06  "
      ]
     },
     "execution_count": 2,
     "metadata": {},
     "output_type": "execute_result"
    }
   ],
   "source": [
    "df.head()"
   ]
  },
  {
   "cell_type": "markdown",
   "metadata": {},
   "source": [
    "`.columns` lists the column names."
   ]
  },
  {
   "cell_type": "code",
   "execution_count": 3,
   "metadata": {},
   "outputs": [
    {
     "data": {
      "text/plain": [
       "Index(['tweet_id', 'text', 'query', 'user_id', 'user_name', 'follower_count',\n",
       "       'user_tweet_count', 'likes', 'retweets', 'location_name', 'longitude',\n",
       "       'latitude', 'user_location', 'date'],\n",
       "      dtype='object')"
      ]
     },
     "execution_count": 3,
     "metadata": {},
     "output_type": "execute_result"
    }
   ],
   "source": [
    "df.columns"
   ]
  },
  {
   "cell_type": "markdown",
   "metadata": {},
   "source": [
    "`.shape` shows the \"shape\" of the dataframe, meaning the number of rows followed by the number of columns. The following line of code shows there are 82,309 tweets (rows) and 14 columns."
   ]
  },
  {
   "cell_type": "code",
   "execution_count": 4,
   "metadata": {},
   "outputs": [
    {
     "data": {
      "text/plain": [
       "(82309, 14)"
      ]
     },
     "execution_count": 4,
     "metadata": {},
     "output_type": "execute_result"
    }
   ],
   "source": [
    "df.shape"
   ]
  },
  {
   "cell_type": "markdown",
   "metadata": {},
   "source": [
    "We can subset the dataset by column by supplying a list of the columns we want."
   ]
  },
  {
   "cell_type": "code",
   "execution_count": 5,
   "metadata": {},
   "outputs": [],
   "source": [
    "cols_to_keep = [\"tweet_id\", \"text\", \"query\", \"follower_count\", \"likes\", \"retweets\"]"
   ]
  },
  {
   "cell_type": "code",
   "execution_count": 6,
   "metadata": {},
   "outputs": [],
   "source": [
    "df = df[cols_to_keep]"
   ]
  },
  {
   "cell_type": "code",
   "execution_count": 7,
   "metadata": {},
   "outputs": [
    {
     "data": {
      "text/html": [
       "<div>\n",
       "<style scoped>\n",
       "    .dataframe tbody tr th:only-of-type {\n",
       "        vertical-align: middle;\n",
       "    }\n",
       "\n",
       "    .dataframe tbody tr th {\n",
       "        vertical-align: top;\n",
       "    }\n",
       "\n",
       "    .dataframe thead th {\n",
       "        text-align: right;\n",
       "    }\n",
       "</style>\n",
       "<table border=\"1\" class=\"dataframe\">\n",
       "  <thead>\n",
       "    <tr style=\"text-align: right;\">\n",
       "      <th></th>\n",
       "      <th>tweet_id</th>\n",
       "      <th>text</th>\n",
       "      <th>query</th>\n",
       "      <th>follower_count</th>\n",
       "      <th>likes</th>\n",
       "      <th>retweets</th>\n",
       "    </tr>\n",
       "  </thead>\n",
       "  <tbody>\n",
       "    <tr>\n",
       "      <th>0</th>\n",
       "      <td>1346863072435179520</td>\n",
       "      <td>we can adjust by population to get crude exces...</td>\n",
       "      <td>death rates</td>\n",
       "      <td>12936</td>\n",
       "      <td>255</td>\n",
       "      <td>108</td>\n",
       "    </tr>\n",
       "    <tr>\n",
       "      <th>1</th>\n",
       "      <td>1346817043232919555</td>\n",
       "      <td>turning to labour or remainers like what would...</td>\n",
       "      <td>death rates</td>\n",
       "      <td>290982</td>\n",
       "      <td>877</td>\n",
       "      <td>116</td>\n",
       "    </tr>\n",
       "    <tr>\n",
       "      <th>2</th>\n",
       "      <td>1346862193451692034</td>\n",
       "      <td>numbers of deaths are affected by population s...</td>\n",
       "      <td>death rates</td>\n",
       "      <td>12936</td>\n",
       "      <td>213</td>\n",
       "      <td>75</td>\n",
       "    </tr>\n",
       "    <tr>\n",
       "      <th>3</th>\n",
       "      <td>1346969461190848516</td>\n",
       "      <td>here is a list of governors who preside over s...</td>\n",
       "      <td>death rates</td>\n",
       "      <td>2</td>\n",
       "      <td>0</td>\n",
       "      <td>7612</td>\n",
       "    </tr>\n",
       "    <tr>\n",
       "      <th>4</th>\n",
       "      <td>1346969317569687554</td>\n",
       "      <td>convince me with facts on death rates and infe...</td>\n",
       "      <td>death rates</td>\n",
       "      <td>11552</td>\n",
       "      <td>2</td>\n",
       "      <td>0</td>\n",
       "    </tr>\n",
       "  </tbody>\n",
       "</table>\n",
       "</div>"
      ],
      "text/plain": [
       "              tweet_id                                               text  \\\n",
       "0  1346863072435179520  we can adjust by population to get crude exces...   \n",
       "1  1346817043232919555  turning to labour or remainers like what would...   \n",
       "2  1346862193451692034  numbers of deaths are affected by population s...   \n",
       "3  1346969461190848516  here is a list of governors who preside over s...   \n",
       "4  1346969317569687554  convince me with facts on death rates and infe...   \n",
       "\n",
       "         query  follower_count  likes  retweets  \n",
       "0  death rates           12936    255       108  \n",
       "1  death rates          290982    877       116  \n",
       "2  death rates           12936    213        75  \n",
       "3  death rates               2      0      7612  \n",
       "4  death rates           11552      2         0  "
      ]
     },
     "execution_count": 7,
     "metadata": {},
     "output_type": "execute_result"
    }
   ],
   "source": [
    "df.head()"
   ]
  },
  {
   "cell_type": "markdown",
   "metadata": {},
   "source": [
    "We can also subset the **rows** using criteria like specific values for specific columns."
   ]
  },
  {
   "cell_type": "code",
   "execution_count": 8,
   "metadata": {},
   "outputs": [
    {
     "data": {
      "text/html": [
       "<div>\n",
       "<style scoped>\n",
       "    .dataframe tbody tr th:only-of-type {\n",
       "        vertical-align: middle;\n",
       "    }\n",
       "\n",
       "    .dataframe tbody tr th {\n",
       "        vertical-align: top;\n",
       "    }\n",
       "\n",
       "    .dataframe thead th {\n",
       "        text-align: right;\n",
       "    }\n",
       "</style>\n",
       "<table border=\"1\" class=\"dataframe\">\n",
       "  <thead>\n",
       "    <tr style=\"text-align: right;\">\n",
       "      <th></th>\n",
       "      <th>tweet_id</th>\n",
       "      <th>text</th>\n",
       "      <th>query</th>\n",
       "      <th>follower_count</th>\n",
       "      <th>likes</th>\n",
       "      <th>retweets</th>\n",
       "    </tr>\n",
       "  </thead>\n",
       "  <tbody>\n",
       "    <tr>\n",
       "      <th>0</th>\n",
       "      <td>1346863072435179520</td>\n",
       "      <td>we can adjust by population to get crude exces...</td>\n",
       "      <td>death rates</td>\n",
       "      <td>12936</td>\n",
       "      <td>255</td>\n",
       "      <td>108</td>\n",
       "    </tr>\n",
       "  </tbody>\n",
       "</table>\n",
       "</div>"
      ],
      "text/plain": [
       "              tweet_id                                               text  \\\n",
       "0  1346863072435179520  we can adjust by population to get crude exces...   \n",
       "\n",
       "         query  follower_count  likes  retweets  \n",
       "0  death rates           12936    255       108  "
      ]
     },
     "execution_count": 8,
     "metadata": {},
     "output_type": "execute_result"
    }
   ],
   "source": [
    "df[df[\"tweet_id\"]==1346863072435179520]"
   ]
  },
  {
   "cell_type": "code",
   "execution_count": 9,
   "metadata": {},
   "outputs": [
    {
     "data": {
      "text/html": [
       "<div>\n",
       "<style scoped>\n",
       "    .dataframe tbody tr th:only-of-type {\n",
       "        vertical-align: middle;\n",
       "    }\n",
       "\n",
       "    .dataframe tbody tr th {\n",
       "        vertical-align: top;\n",
       "    }\n",
       "\n",
       "    .dataframe thead th {\n",
       "        text-align: right;\n",
       "    }\n",
       "</style>\n",
       "<table border=\"1\" class=\"dataframe\">\n",
       "  <thead>\n",
       "    <tr style=\"text-align: right;\">\n",
       "      <th></th>\n",
       "      <th>tweet_id</th>\n",
       "      <th>text</th>\n",
       "      <th>query</th>\n",
       "      <th>follower_count</th>\n",
       "      <th>likes</th>\n",
       "      <th>retweets</th>\n",
       "    </tr>\n",
       "  </thead>\n",
       "  <tbody>\n",
       "    <tr>\n",
       "      <th>495</th>\n",
       "      <td>1346819123716780033</td>\n",
       "      <td>hello its a new day whos ready to push ready t...</td>\n",
       "      <td>covid</td>\n",
       "      <td>11520874</td>\n",
       "      <td>232983</td>\n",
       "      <td>19519</td>\n",
       "    </tr>\n",
       "    <tr>\n",
       "      <th>32525</th>\n",
       "      <td>1346879246682230791</td>\n",
       "      <td>please dont clap us just wear a mask wash your...</td>\n",
       "      <td>lockdown</td>\n",
       "      <td>169089</td>\n",
       "      <td>105341</td>\n",
       "      <td>24437</td>\n",
       "    </tr>\n",
       "    <tr>\n",
       "      <th>58954</th>\n",
       "      <td>1346929533774159876</td>\n",
       "      <td>i call on president trump to go on national te...</td>\n",
       "      <td>president</td>\n",
       "      <td>23874901</td>\n",
       "      <td>1070310</td>\n",
       "      <td>107895</td>\n",
       "    </tr>\n",
       "    <tr>\n",
       "      <th>58955</th>\n",
       "      <td>1346960922615685121</td>\n",
       "      <td>the man directly responsible for the chaos of ...</td>\n",
       "      <td>president</td>\n",
       "      <td>14386977</td>\n",
       "      <td>582501</td>\n",
       "      <td>114421</td>\n",
       "    </tr>\n",
       "    <tr>\n",
       "      <th>58956</th>\n",
       "      <td>1346916179584061440</td>\n",
       "      <td>if you dont impeach and remove a president for...</td>\n",
       "      <td>president</td>\n",
       "      <td>543473</td>\n",
       "      <td>546557</td>\n",
       "      <td>98705</td>\n",
       "    </tr>\n",
       "    <tr>\n",
       "      <th>76469</th>\n",
       "      <td>1346879246682230791</td>\n",
       "      <td>please dont clap us just wear a mask wash your...</td>\n",
       "      <td>mask</td>\n",
       "      <td>169565</td>\n",
       "      <td>105342</td>\n",
       "      <td>24440</td>\n",
       "    </tr>\n",
       "  </tbody>\n",
       "</table>\n",
       "</div>"
      ],
      "text/plain": [
       "                  tweet_id                                               text  \\\n",
       "495    1346819123716780033  hello its a new day whos ready to push ready t...   \n",
       "32525  1346879246682230791  please dont clap us just wear a mask wash your...   \n",
       "58954  1346929533774159876  i call on president trump to go on national te...   \n",
       "58955  1346960922615685121  the man directly responsible for the chaos of ...   \n",
       "58956  1346916179584061440  if you dont impeach and remove a president for...   \n",
       "76469  1346879246682230791  please dont clap us just wear a mask wash your...   \n",
       "\n",
       "           query  follower_count    likes  retweets  \n",
       "495        covid        11520874   232983     19519  \n",
       "32525   lockdown          169089   105341     24437  \n",
       "58954  president        23874901  1070310    107895  \n",
       "58955  president        14386977   582501    114421  \n",
       "58956  president          543473   546557     98705  \n",
       "76469       mask          169565   105342     24440  "
      ]
     },
     "execution_count": 9,
     "metadata": {},
     "output_type": "execute_result"
    }
   ],
   "source": [
    "df[df[\"likes\"] > 100000]"
   ]
  },
  {
   "cell_type": "code",
   "execution_count": 10,
   "metadata": {},
   "outputs": [
    {
     "data": {
      "text/html": [
       "<div>\n",
       "<style scoped>\n",
       "    .dataframe tbody tr th:only-of-type {\n",
       "        vertical-align: middle;\n",
       "    }\n",
       "\n",
       "    .dataframe tbody tr th {\n",
       "        vertical-align: top;\n",
       "    }\n",
       "\n",
       "    .dataframe thead th {\n",
       "        text-align: right;\n",
       "    }\n",
       "</style>\n",
       "<table border=\"1\" class=\"dataframe\">\n",
       "  <thead>\n",
       "    <tr style=\"text-align: right;\">\n",
       "      <th></th>\n",
       "      <th>tweet_id</th>\n",
       "      <th>text</th>\n",
       "      <th>query</th>\n",
       "      <th>follower_count</th>\n",
       "      <th>likes</th>\n",
       "      <th>retweets</th>\n",
       "    </tr>\n",
       "  </thead>\n",
       "  <tbody>\n",
       "    <tr>\n",
       "      <th>76469</th>\n",
       "      <td>1346879246682230791</td>\n",
       "      <td>please dont clap us just wear a mask wash your...</td>\n",
       "      <td>mask</td>\n",
       "      <td>169565</td>\n",
       "      <td>105342</td>\n",
       "      <td>24440</td>\n",
       "    </tr>\n",
       "    <tr>\n",
       "      <th>76470</th>\n",
       "      <td>1346825411125268480</td>\n",
       "      <td>it went from just wear the mask to this in a h...</td>\n",
       "      <td>mask</td>\n",
       "      <td>1129617</td>\n",
       "      <td>8335</td>\n",
       "      <td>2892</td>\n",
       "    </tr>\n",
       "    <tr>\n",
       "      <th>76471</th>\n",
       "      <td>1346913081109082113</td>\n",
       "      <td>there are moments when you can tell a lot abou...</td>\n",
       "      <td>mask</td>\n",
       "      <td>210885</td>\n",
       "      <td>19422</td>\n",
       "      <td>4673</td>\n",
       "    </tr>\n",
       "    <tr>\n",
       "      <th>76472</th>\n",
       "      <td>1346969797595189255</td>\n",
       "      <td>left protests alright remember wear a mask to ...</td>\n",
       "      <td>mask</td>\n",
       "      <td>299</td>\n",
       "      <td>0</td>\n",
       "      <td>491</td>\n",
       "    </tr>\n",
       "    <tr>\n",
       "      <th>76473</th>\n",
       "      <td>1346969796156547072</td>\n",
       "      <td>i thought maybe if you had your mask on the ma...</td>\n",
       "      <td>mask</td>\n",
       "      <td>7</td>\n",
       "      <td>1</td>\n",
       "      <td>0</td>\n",
       "    </tr>\n",
       "    <tr>\n",
       "      <th>...</th>\n",
       "      <td>...</td>\n",
       "      <td>...</td>\n",
       "      <td>...</td>\n",
       "      <td>...</td>\n",
       "      <td>...</td>\n",
       "      <td>...</td>\n",
       "    </tr>\n",
       "    <tr>\n",
       "      <th>82304</th>\n",
       "      <td>1346815324948086787</td>\n",
       "      <td>chocolate oda thaan suthuvvar polaby the way w...</td>\n",
       "      <td>mask</td>\n",
       "      <td>79</td>\n",
       "      <td>2</td>\n",
       "      <td>0</td>\n",
       "    </tr>\n",
       "    <tr>\n",
       "      <th>82305</th>\n",
       "      <td>1346815315309699072</td>\n",
       "      <td>this could be us but yall dont wanna go on loc...</td>\n",
       "      <td>mask</td>\n",
       "      <td>647</td>\n",
       "      <td>0</td>\n",
       "      <td>6589</td>\n",
       "    </tr>\n",
       "    <tr>\n",
       "      <th>82306</th>\n",
       "      <td>1346815315234185221</td>\n",
       "      <td>covid 19 grey black dust mask activated antipo...</td>\n",
       "      <td>mask</td>\n",
       "      <td>459</td>\n",
       "      <td>0</td>\n",
       "      <td>0</td>\n",
       "    </tr>\n",
       "    <tr>\n",
       "      <th>82307</th>\n",
       "      <td>1346815313204154368</td>\n",
       "      <td>imagine if the energy people put into complain...</td>\n",
       "      <td>mask</td>\n",
       "      <td>3272</td>\n",
       "      <td>20</td>\n",
       "      <td>4</td>\n",
       "    </tr>\n",
       "    <tr>\n",
       "      <th>82308</th>\n",
       "      <td>1346815309173424130</td>\n",
       "      <td>dear georgians tomorrow is the day that you ca...</td>\n",
       "      <td>mask</td>\n",
       "      <td>9217</td>\n",
       "      <td>0</td>\n",
       "      <td>45</td>\n",
       "    </tr>\n",
       "  </tbody>\n",
       "</table>\n",
       "<p>5840 rows × 6 columns</p>\n",
       "</div>"
      ],
      "text/plain": [
       "                  tweet_id                                               text  \\\n",
       "76469  1346879246682230791  please dont clap us just wear a mask wash your...   \n",
       "76470  1346825411125268480  it went from just wear the mask to this in a h...   \n",
       "76471  1346913081109082113  there are moments when you can tell a lot abou...   \n",
       "76472  1346969797595189255  left protests alright remember wear a mask to ...   \n",
       "76473  1346969796156547072  i thought maybe if you had your mask on the ma...   \n",
       "...                    ...                                                ...   \n",
       "82304  1346815324948086787  chocolate oda thaan suthuvvar polaby the way w...   \n",
       "82305  1346815315309699072  this could be us but yall dont wanna go on loc...   \n",
       "82306  1346815315234185221  covid 19 grey black dust mask activated antipo...   \n",
       "82307  1346815313204154368  imagine if the energy people put into complain...   \n",
       "82308  1346815309173424130  dear georgians tomorrow is the day that you ca...   \n",
       "\n",
       "      query  follower_count   likes  retweets  \n",
       "76469  mask          169565  105342     24440  \n",
       "76470  mask         1129617    8335      2892  \n",
       "76471  mask          210885   19422      4673  \n",
       "76472  mask             299       0       491  \n",
       "76473  mask               7       1         0  \n",
       "...     ...             ...     ...       ...  \n",
       "82304  mask              79       2         0  \n",
       "82305  mask             647       0      6589  \n",
       "82306  mask             459       0         0  \n",
       "82307  mask            3272      20         4  \n",
       "82308  mask            9217       0        45  \n",
       "\n",
       "[5840 rows x 6 columns]"
      ]
     },
     "execution_count": 10,
     "metadata": {},
     "output_type": "execute_result"
    }
   ],
   "source": [
    "df[df[\"query\"]==\"mask\"]"
   ]
  },
  {
   "cell_type": "markdown",
   "metadata": {},
   "source": [
    "We can also combine criteria to select rows."
   ]
  },
  {
   "cell_type": "code",
   "execution_count": 12,
   "metadata": {},
   "outputs": [
    {
     "data": {
      "text/html": [
       "<div>\n",
       "<style scoped>\n",
       "    .dataframe tbody tr th:only-of-type {\n",
       "        vertical-align: middle;\n",
       "    }\n",
       "\n",
       "    .dataframe tbody tr th {\n",
       "        vertical-align: top;\n",
       "    }\n",
       "\n",
       "    .dataframe thead th {\n",
       "        text-align: right;\n",
       "    }\n",
       "</style>\n",
       "<table border=\"1\" class=\"dataframe\">\n",
       "  <thead>\n",
       "    <tr style=\"text-align: right;\">\n",
       "      <th></th>\n",
       "      <th>tweet_id</th>\n",
       "      <th>text</th>\n",
       "      <th>query</th>\n",
       "      <th>follower_count</th>\n",
       "      <th>likes</th>\n",
       "      <th>retweets</th>\n",
       "    </tr>\n",
       "  </thead>\n",
       "  <tbody>\n",
       "    <tr>\n",
       "      <th>76473</th>\n",
       "      <td>1346969796156547072</td>\n",
       "      <td>i thought maybe if you had your mask on the ma...</td>\n",
       "      <td>mask</td>\n",
       "      <td>7</td>\n",
       "      <td>1</td>\n",
       "      <td>0</td>\n",
       "    </tr>\n",
       "    <tr>\n",
       "      <th>76474</th>\n",
       "      <td>1346969795011506177</td>\n",
       "      <td>not in a panera girl and not a mask for miles</td>\n",
       "      <td>mask</td>\n",
       "      <td>234</td>\n",
       "      <td>1</td>\n",
       "      <td>0</td>\n",
       "    </tr>\n",
       "    <tr>\n",
       "      <th>76475</th>\n",
       "      <td>1346969794684342274</td>\n",
       "      <td>imagine the cops reacting to election protests...</td>\n",
       "      <td>mask</td>\n",
       "      <td>50</td>\n",
       "      <td>1</td>\n",
       "      <td>0</td>\n",
       "    </tr>\n",
       "    <tr>\n",
       "      <th>76476</th>\n",
       "      <td>1346969789453848576</td>\n",
       "      <td>i hope her gas mask is one size too small</td>\n",
       "      <td>mask</td>\n",
       "      <td>848</td>\n",
       "      <td>0</td>\n",
       "      <td>0</td>\n",
       "    </tr>\n",
       "    <tr>\n",
       "      <th>76477</th>\n",
       "      <td>1346969787201703937</td>\n",
       "      <td>that god damn money can be spent helping canad...</td>\n",
       "      <td>mask</td>\n",
       "      <td>7</td>\n",
       "      <td>0</td>\n",
       "      <td>0</td>\n",
       "    </tr>\n",
       "    <tr>\n",
       "      <th>...</th>\n",
       "      <td>...</td>\n",
       "      <td>...</td>\n",
       "      <td>...</td>\n",
       "      <td>...</td>\n",
       "      <td>...</td>\n",
       "      <td>...</td>\n",
       "    </tr>\n",
       "    <tr>\n",
       "      <th>82295</th>\n",
       "      <td>1346815343323353088</td>\n",
       "      <td>ah i wanted to ask about that if its not too i...</td>\n",
       "      <td>mask</td>\n",
       "      <td>297</td>\n",
       "      <td>0</td>\n",
       "      <td>0</td>\n",
       "    </tr>\n",
       "    <tr>\n",
       "      <th>82296</th>\n",
       "      <td>1346815342891339777</td>\n",
       "      <td>hahahah my nenek cute or wat she say she so co...</td>\n",
       "      <td>mask</td>\n",
       "      <td>20</td>\n",
       "      <td>0</td>\n",
       "      <td>0</td>\n",
       "    </tr>\n",
       "    <tr>\n",
       "      <th>82299</th>\n",
       "      <td>1346815338319654913</td>\n",
       "      <td>im sitting here scrolling twitter getting my m...</td>\n",
       "      <td>mask</td>\n",
       "      <td>240</td>\n",
       "      <td>0</td>\n",
       "      <td>0</td>\n",
       "    </tr>\n",
       "    <tr>\n",
       "      <th>82304</th>\n",
       "      <td>1346815324948086787</td>\n",
       "      <td>chocolate oda thaan suthuvvar polaby the way w...</td>\n",
       "      <td>mask</td>\n",
       "      <td>79</td>\n",
       "      <td>2</td>\n",
       "      <td>0</td>\n",
       "    </tr>\n",
       "    <tr>\n",
       "      <th>82306</th>\n",
       "      <td>1346815315234185221</td>\n",
       "      <td>covid 19 grey black dust mask activated antipo...</td>\n",
       "      <td>mask</td>\n",
       "      <td>459</td>\n",
       "      <td>0</td>\n",
       "      <td>0</td>\n",
       "    </tr>\n",
       "  </tbody>\n",
       "</table>\n",
       "<p>2178 rows × 6 columns</p>\n",
       "</div>"
      ],
      "text/plain": [
       "                  tweet_id                                               text  \\\n",
       "76473  1346969796156547072  i thought maybe if you had your mask on the ma...   \n",
       "76474  1346969795011506177      not in a panera girl and not a mask for miles   \n",
       "76475  1346969794684342274  imagine the cops reacting to election protests...   \n",
       "76476  1346969789453848576          i hope her gas mask is one size too small   \n",
       "76477  1346969787201703937  that god damn money can be spent helping canad...   \n",
       "...                    ...                                                ...   \n",
       "82295  1346815343323353088  ah i wanted to ask about that if its not too i...   \n",
       "82296  1346815342891339777  hahahah my nenek cute or wat she say she so co...   \n",
       "82299  1346815338319654913  im sitting here scrolling twitter getting my m...   \n",
       "82304  1346815324948086787  chocolate oda thaan suthuvvar polaby the way w...   \n",
       "82306  1346815315234185221  covid 19 grey black dust mask activated antipo...   \n",
       "\n",
       "      query  follower_count  likes  retweets  \n",
       "76473  mask               7      1         0  \n",
       "76474  mask             234      1         0  \n",
       "76475  mask              50      1         0  \n",
       "76476  mask             848      0         0  \n",
       "76477  mask               7      0         0  \n",
       "...     ...             ...    ...       ...  \n",
       "82295  mask             297      0         0  \n",
       "82296  mask              20      0         0  \n",
       "82299  mask             240      0         0  \n",
       "82304  mask              79      2         0  \n",
       "82306  mask             459      0         0  \n",
       "\n",
       "[2178 rows x 6 columns]"
      ]
     },
     "execution_count": 12,
     "metadata": {},
     "output_type": "execute_result"
    }
   ],
   "source": [
    "df[(df[\"query\"]==\"mask\") & (df[\"retweets\"]==0)]"
   ]
  },
  {
   "cell_type": "markdown",
   "metadata": {},
   "source": [
    "`pandas` has a lot of built-in functionality for manipulating, summarizing, and plotting data. Let's look at how we can calculate and plot the counts and means of different variables."
   ]
  },
  {
   "cell_type": "code",
   "execution_count": 13,
   "metadata": {},
   "outputs": [
    {
     "data": {
      "text/html": [
       "<div>\n",
       "<style scoped>\n",
       "    .dataframe tbody tr th:only-of-type {\n",
       "        vertical-align: middle;\n",
       "    }\n",
       "\n",
       "    .dataframe tbody tr th {\n",
       "        vertical-align: top;\n",
       "    }\n",
       "\n",
       "    .dataframe thead th {\n",
       "        text-align: right;\n",
       "    }\n",
       "</style>\n",
       "<table border=\"1\" class=\"dataframe\">\n",
       "  <thead>\n",
       "    <tr style=\"text-align: right;\">\n",
       "      <th></th>\n",
       "      <th>tweet_id</th>\n",
       "    </tr>\n",
       "    <tr>\n",
       "      <th>query</th>\n",
       "      <th></th>\n",
       "    </tr>\n",
       "  </thead>\n",
       "  <tbody>\n",
       "    <tr>\n",
       "      <th>coronavirus</th>\n",
       "      <td>2822</td>\n",
       "    </tr>\n",
       "    <tr>\n",
       "      <th>covid</th>\n",
       "      <td>5843</td>\n",
       "    </tr>\n",
       "    <tr>\n",
       "      <th>death rates</th>\n",
       "      <td>495</td>\n",
       "    </tr>\n",
       "    <tr>\n",
       "      <th>economy</th>\n",
       "      <td>5836</td>\n",
       "    </tr>\n",
       "    <tr>\n",
       "      <th>jobs</th>\n",
       "      <td>5843</td>\n",
       "    </tr>\n",
       "    <tr>\n",
       "      <th>lockdown</th>\n",
       "      <td>5847</td>\n",
       "    </tr>\n",
       "    <tr>\n",
       "      <th>mask</th>\n",
       "      <td>5840</td>\n",
       "    </tr>\n",
       "    <tr>\n",
       "      <th>pandemic</th>\n",
       "      <td>5847</td>\n",
       "    </tr>\n",
       "    <tr>\n",
       "      <th>president</th>\n",
       "      <td>5842</td>\n",
       "    </tr>\n",
       "    <tr>\n",
       "      <th>quarantine</th>\n",
       "      <td>5836</td>\n",
       "    </tr>\n",
       "    <tr>\n",
       "      <th>spread</th>\n",
       "      <td>5837</td>\n",
       "    </tr>\n",
       "    <tr>\n",
       "      <th>stock market</th>\n",
       "      <td>5843</td>\n",
       "    </tr>\n",
       "    <tr>\n",
       "      <th>testing</th>\n",
       "      <td>5847</td>\n",
       "    </tr>\n",
       "    <tr>\n",
       "      <th>travel</th>\n",
       "      <td>5839</td>\n",
       "    </tr>\n",
       "    <tr>\n",
       "      <th>unemployment</th>\n",
       "      <td>3045</td>\n",
       "    </tr>\n",
       "    <tr>\n",
       "      <th>vaccine</th>\n",
       "      <td>5847</td>\n",
       "    </tr>\n",
       "  </tbody>\n",
       "</table>\n",
       "</div>"
      ],
      "text/plain": [
       "              tweet_id\n",
       "query                 \n",
       "coronavirus       2822\n",
       "covid             5843\n",
       "death rates        495\n",
       "economy           5836\n",
       "jobs              5843\n",
       "lockdown          5847\n",
       "mask              5840\n",
       "pandemic          5847\n",
       "president         5842\n",
       "quarantine        5836\n",
       "spread            5837\n",
       "stock market      5843\n",
       "testing           5847\n",
       "travel            5839\n",
       "unemployment      3045\n",
       "vaccine           5847"
      ]
     },
     "execution_count": 13,
     "metadata": {},
     "output_type": "execute_result"
    }
   ],
   "source": [
    "df[[\"query\", \"tweet_id\"]].groupby(\"query\").count()"
   ]
  },
  {
   "cell_type": "code",
   "execution_count": 14,
   "metadata": {},
   "outputs": [
    {
     "data": {
      "text/plain": [
       "<AxesSubplot:xlabel='query'>"
      ]
     },
     "execution_count": 14,
     "metadata": {},
     "output_type": "execute_result"
    },
    {
     "data": {
      "image/png": "[encoded data removed]",
      "text/plain": [
       "<Figure size 432x288 with 1 Axes>"
      ]
     },
     "metadata": {
      "needs_background": "light"
     },
     "output_type": "display_data"
    }
   ],
   "source": [
    "df[[\"query\", \"tweet_id\"]].groupby(\"query\").count().plot.bar()"
   ]
  },
  {
   "cell_type": "code",
   "execution_count": 15,
   "metadata": {},
   "outputs": [
    {
     "data": {
      "text/html": [
       "<div>\n",
       "<style scoped>\n",
       "    .dataframe tbody tr th:only-of-type {\n",
       "        vertical-align: middle;\n",
       "    }\n",
       "\n",
       "    .dataframe tbody tr th {\n",
       "        vertical-align: top;\n",
       "    }\n",
       "\n",
       "    .dataframe thead th {\n",
       "        text-align: right;\n",
       "    }\n",
       "</style>\n",
       "<table border=\"1\" class=\"dataframe\">\n",
       "  <thead>\n",
       "    <tr style=\"text-align: right;\">\n",
       "      <th></th>\n",
       "      <th>retweets</th>\n",
       "    </tr>\n",
       "    <tr>\n",
       "      <th>query</th>\n",
       "      <th></th>\n",
       "    </tr>\n",
       "  </thead>\n",
       "  <tbody>\n",
       "    <tr>\n",
       "      <th>coronavirus</th>\n",
       "      <td>275.980156</td>\n",
       "    </tr>\n",
       "    <tr>\n",
       "      <th>covid</th>\n",
       "      <td>1722.420503</td>\n",
       "    </tr>\n",
       "    <tr>\n",
       "      <th>death rates</th>\n",
       "      <td>1435.236364</td>\n",
       "    </tr>\n",
       "    <tr>\n",
       "      <th>economy</th>\n",
       "      <td>371.381254</td>\n",
       "    </tr>\n",
       "    <tr>\n",
       "      <th>jobs</th>\n",
       "      <td>7573.602773</td>\n",
       "    </tr>\n",
       "    <tr>\n",
       "      <th>lockdown</th>\n",
       "      <td>1165.315546</td>\n",
       "    </tr>\n",
       "    <tr>\n",
       "      <th>mask</th>\n",
       "      <td>2572.072774</td>\n",
       "    </tr>\n",
       "    <tr>\n",
       "      <th>pandemic</th>\n",
       "      <td>3899.579271</td>\n",
       "    </tr>\n",
       "    <tr>\n",
       "      <th>president</th>\n",
       "      <td>5039.815817</td>\n",
       "    </tr>\n",
       "    <tr>\n",
       "      <th>quarantine</th>\n",
       "      <td>3307.049692</td>\n",
       "    </tr>\n",
       "    <tr>\n",
       "      <th>spread</th>\n",
       "      <td>3950.219119</td>\n",
       "    </tr>\n",
       "    <tr>\n",
       "      <th>stock market</th>\n",
       "      <td>277.746534</td>\n",
       "    </tr>\n",
       "    <tr>\n",
       "      <th>testing</th>\n",
       "      <td>561.333504</td>\n",
       "    </tr>\n",
       "    <tr>\n",
       "      <th>travel</th>\n",
       "      <td>533.302620</td>\n",
       "    </tr>\n",
       "    <tr>\n",
       "      <th>unemployment</th>\n",
       "      <td>900.889327</td>\n",
       "    </tr>\n",
       "    <tr>\n",
       "      <th>vaccine</th>\n",
       "      <td>5558.093723</td>\n",
       "    </tr>\n",
       "  </tbody>\n",
       "</table>\n",
       "</div>"
      ],
      "text/plain": [
       "                 retweets\n",
       "query                    \n",
       "coronavirus    275.980156\n",
       "covid         1722.420503\n",
       "death rates   1435.236364\n",
       "economy        371.381254\n",
       "jobs          7573.602773\n",
       "lockdown      1165.315546\n",
       "mask          2572.072774\n",
       "pandemic      3899.579271\n",
       "president     5039.815817\n",
       "quarantine    3307.049692\n",
       "spread        3950.219119\n",
       "stock market   277.746534\n",
       "testing        561.333504\n",
       "travel         533.302620\n",
       "unemployment   900.889327\n",
       "vaccine       5558.093723"
      ]
     },
     "execution_count": 15,
     "metadata": {},
     "output_type": "execute_result"
    }
   ],
   "source": [
    "df[[\"query\", \"retweets\"]].groupby(\"query\").mean()"
   ]
  },
  {
   "cell_type": "code",
   "execution_count": 16,
   "metadata": {},
   "outputs": [
    {
     "data": {
      "text/plain": [
       "<AxesSubplot:xlabel='query'>"
      ]
     },
     "execution_count": 16,
     "metadata": {},
     "output_type": "execute_result"
    },
    {
     "data": {
      "image/png": "[encoded data removed]",
      "text/plain": [
       "<Figure size 432x288 with 1 Axes>"
      ]
     },
     "metadata": {
      "needs_background": "light"
     },
     "output_type": "display_data"
    }
   ],
   "source": [
    "df[[\"query\", \"retweets\"]].groupby(\"query\").mean().plot.bar()"
   ]
  },
  {
   "cell_type": "markdown",
   "metadata": {},
   "source": [
    "Although we can use methods like `str.contains()` or even `if` statements like `if \"str\" in string: ...` when we're operating on strings, like below, sometimes we need to find other ways to interact with strings in pandas dataframes.\n",
    "\n",
    "In the following cell, there should be a `TypeError` when the we check whether the string \"capitol\" is in the \"text\" column of a row that apparently has a float instead. This is actually a missing value."
   ]
  },
  {
   "cell_type": "code",
   "execution_count": 17,
   "metadata": {},
   "outputs": [
    {
     "ename": "TypeError",
     "evalue": "argument of type 'float' is not iterable",
     "output_type": "error",
     "traceback": [
      "\u001b[1;31m---------------------------------------------------------------------------\u001b[0m",
      "\u001b[1;31mTypeError\u001b[0m                                 Traceback (most recent call last)",
      "\u001b[1;32m<ipython-input-17-a709d73ed08c>\u001b[0m in \u001b[0;36m<module>\u001b[1;34m\u001b[0m\n\u001b[0;32m      2\u001b[0m \u001b[1;33m\u001b[0m\u001b[0m\n\u001b[0;32m      3\u001b[0m \u001b[1;32mfor\u001b[0m \u001b[0midx\u001b[0m\u001b[1;33m,\u001b[0m \u001b[0mrow\u001b[0m \u001b[1;32min\u001b[0m \u001b[0mdf\u001b[0m\u001b[1;33m.\u001b[0m\u001b[0miterrows\u001b[0m\u001b[1;33m(\u001b[0m\u001b[1;33m)\u001b[0m\u001b[1;33m:\u001b[0m\u001b[1;33m\u001b[0m\u001b[1;33m\u001b[0m\u001b[0m\n\u001b[1;32m----> 4\u001b[1;33m     \u001b[1;32mif\u001b[0m \u001b[1;34m\"capitol\"\u001b[0m \u001b[1;32min\u001b[0m \u001b[0mrow\u001b[0m\u001b[1;33m[\u001b[0m\u001b[1;34m\"text\"\u001b[0m\u001b[1;33m]\u001b[0m\u001b[1;33m:\u001b[0m\u001b[1;33m\u001b[0m\u001b[1;33m\u001b[0m\u001b[0m\n\u001b[0m\u001b[0;32m      5\u001b[0m         \u001b[0mCOUNT\u001b[0m \u001b[1;33m+=\u001b[0m \u001b[1;36m1\u001b[0m\u001b[1;33m\u001b[0m\u001b[1;33m\u001b[0m\u001b[0m\n\u001b[0;32m      6\u001b[0m \u001b[1;33m\u001b[0m\u001b[0m\n",
      "\u001b[1;31mTypeError\u001b[0m: argument of type 'float' is not iterable"
     ]
    }
   ],
   "source": [
    "COUNT = 0\n",
    "\n",
    "for idx, row in df.iterrows():\n",
    "    if \"capitol\" in row[\"text\"]:\n",
    "        COUNT += 1\n",
    "        \n",
    "print(COUNT)"
   ]
  },
  {
   "cell_type": "code",
   "execution_count": 18,
   "metadata": {},
   "outputs": [
    {
     "name": "stdout",
     "output_type": "stream",
     "text": [
      "Problematic type and value: <class 'float'>, nan\n",
      "1750\n"
     ]
    }
   ],
   "source": [
    "COUNT = 0\n",
    "\n",
    "for idx, row in df.iterrows():\n",
    "    try:\n",
    "        if \"capitol\" in row[\"text\"]:\n",
    "            COUNT += 1\n",
    "    except TypeError:\n",
    "        print(f\"Problematic type and value: {type(row['text'])}, {row['text']}\")\n",
    "        \n",
    "print(COUNT)"
   ]
  },
  {
   "cell_type": "markdown",
   "metadata": {},
   "source": [
    "We can drop the row with the missing value. The [`.dropna()` method](https://pandas.pydata.org/pandas-docs/stable/reference/api/pandas.DataFrame.dropna.html?highlight=dropna) can be applied to the entire row, but we may not care if data are missing for a variable that is not important to our analysis. We can use the `subset` argument to specify the columns we want `.dropna()` to look at. The following line means that we will drop any rows with missing data for the \"text\" column. We lose only one row this way."
   ]
  },
  {
   "cell_type": "code",
   "execution_count": 19,
   "metadata": {},
   "outputs": [],
   "source": [
    "df = df.dropna(subset = [\"text\"])"
   ]
  },
  {
   "cell_type": "code",
   "execution_count": 20,
   "metadata": {},
   "outputs": [
    {
     "data": {
      "text/plain": [
       "(82308, 6)"
      ]
     },
     "execution_count": 20,
     "metadata": {},
     "output_type": "execute_result"
    }
   ],
   "source": [
    "df.shape"
   ]
  },
  {
   "cell_type": "markdown",
   "metadata": {},
   "source": [
    "Now we can count the number of tweets containing the string \"capitol\" at least once. "
   ]
  },
  {
   "cell_type": "code",
   "execution_count": 21,
   "metadata": {},
   "outputs": [
    {
     "name": "stdout",
     "output_type": "stream",
     "text": [
      "1750\n"
     ]
    }
   ],
   "source": [
    "COUNT = 0\n",
    "\n",
    "for idx, row in df.iterrows():\n",
    "    if \"capitol\" in row[\"text\"]:\n",
    "        COUNT += 1\n",
    "        \n",
    "print(COUNT)"
   ]
  },
  {
   "cell_type": "markdown",
   "metadata": {},
   "source": [
    "We'll need to take a quick detour to think about [lambda functions](https://www.geeksforgeeks.org/python-lambda-anonymous-functions-filter-map-reduce/), which are functions that we define in just one line of code. As we'll see in a moment, these are useful for operating on columns in pandas dataframes. Let's also look at [list comprehensions](https://www.geeksforgeeks.org/python-list-comprehension/), which allow us to execute a loop in just one line of code.\n",
    "\n",
    "The for loop below appends the values 0-9 to a list called `integers`. In the next cell, we use a list comprehension to do the same thing, and both print statements match. List comprehensions can be faster and actually quite flexible, but they can also end up being difficult to read."
   ]
  },
  {
   "cell_type": "code",
   "execution_count": 22,
   "metadata": {},
   "outputs": [
    {
     "name": "stdout",
     "output_type": "stream",
     "text": [
      "[0, 1, 2, 3, 4, 5, 6, 7, 8, 9]\n"
     ]
    }
   ],
   "source": [
    "integers = []\n",
    "\n",
    "for i in range(10):\n",
    "    integers.append(i)\n",
    "    \n",
    "print(integers)"
   ]
  },
  {
   "cell_type": "code",
   "execution_count": 23,
   "metadata": {},
   "outputs": [
    {
     "name": "stdout",
     "output_type": "stream",
     "text": [
      "[0, 1, 2, 3, 4, 5, 6, 7, 8, 9]\n"
     ]
    }
   ],
   "source": [
    "integers = [i for i in range(10)]\n",
    "\n",
    "print(integers)"
   ]
  },
  {
   "cell_type": "markdown",
   "metadata": {},
   "source": [
    "In the next two cells, we see a function defined in a relatively conventional way. This function takes in the variable `x`, which should be an integer, and multiplies it by 10, returning another integer.\n",
    "\n",
    "The second cell defines an equivalent function in only one line. `lambda x:` means we're about to do something to `x`, for any value of `x` that is supplied. The part after the colon is what we do to `x`, which in this case is multiplying it by 10."
   ]
  },
  {
   "cell_type": "code",
   "execution_count": 24,
   "metadata": {},
   "outputs": [
    {
     "name": "stdout",
     "output_type": "stream",
     "text": [
      "[0, 10, 20, 30, 40, 50, 60, 70, 80, 90]\n"
     ]
    }
   ],
   "source": [
    "def multiply_by_ten(x: int) -> int:\n",
    "    return x * 10\n",
    "\n",
    "integers = [i for i in range(10)]\n",
    "integers = [multiply_by_ten(x) for x in integers]\n",
    "\n",
    "print(integers)"
   ]
  },
  {
   "cell_type": "code",
   "execution_count": 26,
   "metadata": {},
   "outputs": [
    {
     "name": "stdout",
     "output_type": "stream",
     "text": [
      "Original list: [0, 1, 2, 3, 4, 5, 6, 7, 8, 9]\n",
      "After applying lambda function: [0, 10, 20, 30, 40, 50, 60, 70, 80, 90]\n"
     ]
    }
   ],
   "source": [
    "integers = [i for i in range(10)]\n",
    "\n",
    "print(f\"Original list: {integers}\")\n",
    "\n",
    "multiply_by_ten = lambda x: x*10\n",
    "\n",
    "integers = [multiply_by_ten(x) for x in integers]\n",
    "\n",
    "print(f\"After applying lambda function: {integers}\")"
   ]
  },
  {
   "cell_type": "markdown",
   "metadata": {},
   "source": [
    "We'll use those in a moment. Next, let's look at how we can iterate through a pandas column. We'll look at the \"text\" column as a list, then use a for loop to calculate the wordcounts. Then we'll define a function in the traditional way and apply it to the \"text\" column in the pandas dataframe directly using the `.apply()` method. Then we'll do the same thing using a lambda function instead of a function we've defined the conventional way. Finally, we'll show that these provide the same results."
   ]
  },
  {
   "cell_type": "code",
   "execution_count": 27,
   "metadata": {},
   "outputs": [
    {
     "data": {
      "text/plain": [
       "['we can adjust by population to get crude excess death rates 2020 will also be the highest since 1940 even with measures taken to limit covid spread 2020 will still top 1951 the year of a major flu epidemic without all our efforts 2020 could have been much worse 911',\n",
       " 'turning to labour or remainers like what would you do different while sat on one of the worst economic recessions amp death rates in the g7 its like driving a car off a cliff amp while youre falling offering the wheel to the guy in the passenger seat go on you fix it',\n",
       " 'numbers of deaths are affected by population size we can also consider death rates as a proportion of the population crude death rates are shown below all improvements in the first decade of this century will be reversed this year spanish flu did the same in 1918 611',\n",
       " 'here is a list of governors who preside over states with higher deathpermillion rates than fls ron desantis whom the media have anointed public enemy 1 1 murphy d 2 cuomo d 3 baker r 4 raimondo d 5 lamont d 6 burgum r 7 noem r 8 reeves r',\n",
       " 'convince me with facts on death rates and infection rates',\n",
       " 'coronavirusupdate air pollution is a significant factor in intensifying major illnesses such as heart blood and lungs disorders this has a directindirect impact on covid19 death rates in iran said the dean of khuzestan medical sciences uni',\n",
       " 'i am not solely blaming boris johnson of course it was down to society as a whole but what i am saying is that he is supposed to be our leader he couldve acted earlier but he didnt and as such he is one of several who can be held accountable for our appalling death rates',\n",
       " 'speaking of the death rates and casedemic fueled by a kafkaesque pcr positive dr lee has cared to enlighten us',\n",
       " 'remember the lockdown rules 1 if death rates go down that means the lockdown is working 2 if death rates go up that means they would have gone up far more without the lockdown 3 whatever happens after the lockdown ends the answer is always going to be another lockdown',\n",
       " 'woah the states with the highest rates of death from covid in the past 7 days are kansas 171 per 100k residents rhode island 148 per 100k residents wyoming 146 and arizona 139 la countys rate 183 per 100k residents is higher than all of these places',\n",
       " 'its only a matter of time before death rates go up substantially caused by stress and isolation and despair also the vaccine covid is so low risk for most people that taking a vaccine for something they dont need will inevitably will add to their risk profile',\n",
       " 'surely the present death rate is on a par with last march or are you saying the relevant deaths are much lower than the 900day were seeing right now if the death rates are being inflated why would the government want to do that',\n",
       " 'states who shut down has worst hospitalisations n death rates florida is open n doing great',\n",
       " 'so why are there no flu cases of pneumonia any more why art the death rates sky high and why can we not get 20 photos taken at 10 am everyday to see these icu wards just to shut us up until then nothing different is happening',\n",
       " 'coronavirusupdate air pollution is a significant factor in intensifying major illnesses such as heart blood and lungs disorders this has a directindirect impact on covid19 death rates in iran said the dean of khuzestan medical sciences uni',\n",
       " 'here is a list of governors who preside over states with higher deathpermillion rates than fls ron desantis whom the media have anointed public enemy 1 1 murphy d 2 cuomo d 3 baker r 4 raimondo d 5 lamont d 6 burgum r 7 noem r 8 reeves r',\n",
       " 'remember the lockdown rules 1 if death rates go down that means the lockdown is working 2 if death rates go up that means they would have gone up far more without the lockdown 3 whatever happens after the lockdown ends the answer is always going to be another lockdown',\n",
       " 'so it should be really considering its size and population still has one of the highest death rates in europe',\n",
       " 'a thing i learned today graft political refers to an intentional misdirection of official funds when a public officer is directed to purchase goods or services from a specific private interest at a cost far above regular market rates source',\n",
       " 'here is a list of governors who preside over states with higher deathpermillion rates than fls ron desantis whom the media have anointed public enemy 1 1 murphy d 2 cuomo d 3 baker r 4 raimondo d 5 lamont d 6 burgum r 7 noem r 8 reeves r',\n",
       " 'if the vaccination drive is launched now and even if we have 50 efficacy 1 hospitalisation will reduce 2 icu admissions will fall 3 death rates will also fall we need to understand that vaccine may need 5 years to get 95 accuracy we need to stop deaths',\n",
       " 'here is a list of governors who preside over states with higher deathpermillion rates than fls ron desantis whom the media have anointed public enemy 1 1 murphy d 2 cuomo d 3 baker r 4 raimondo d 5 lamont d 6 burgum r 7 noem r 8 reeves r',\n",
       " 'childbirth is actually a scary thing maternal mortality rate in nigeria is almost same as covid19 death rates 085 14 amp if thats enough to have you scared of covid then such pregnancy fears amp reservations are very valid',\n",
       " 'here is a list of governors who preside over states with higher deathpermillion rates than fls ron desantis whom the media have anointed public enemy 1 1 murphy d 2 cuomo d 3 baker r 4 raimondo d 5 lamont d 6 burgum r 7 noem r 8 reeves r',\n",
       " 'here is a list of governors who preside over states with higher deathpermillion rates than fls ron desantis whom the media have anointed public enemy 1 1 murphy d 2 cuomo d 3 baker r 4 raimondo d 5 lamont d 6 burgum r 7 noem r 8 reeves r',\n",
       " 'rip me 2022 cause of death broken brain after two years of watching people talk about why interest rates are rising',\n",
       " 'this is atrocious the provision of selfcontained accommodation saved hundreds of lives during the first lockdown in countries where this didnt happen the infection rates have been extremely high not reinstating everybody in is a death sentence',\n",
       " 'i feel it doesnt make sense really yes infection rates gatwe they high but so is recovery i dont recall at one point renale 1500 active cases and the death rate is also low so what are we locking down for',\n",
       " 'if the vaccination drive is launched now and even if we have 50 efficacy 1 hospitalisation will reduce 2 icu admissions will fall 3 death rates will also fall we need to understand that vaccine may need 5 years to get 95 accuracy we need to stop deaths',\n",
       " 'here is a list of governors who preside over states with higher deathpermillion rates than fls ron desantis whom the media have anointed public enemy 1 1 murphy d 2 cuomo d 3 baker r 4 raimondo d 5 lamont d 6 burgum r 7 noem r 8 reeves r',\n",
       " 'in context she means more specifically every person who died of aids in neighborhoods where developers wanted to wipe out rent control but my larger grim point is all sorts of profitdriven processes are enabled by accelerated death rates such as those we are kickin it with',\n",
       " 'here is a list of governors who preside over states with higher deathpermillion rates than fls ron desantis whom the media have anointed public enemy 1 1 murphy d 2 cuomo d 3 baker r 4 raimondo d 5 lamont d 6 burgum r 7 noem r 8 reeves r',\n",
       " 'three dead every minute on americas deadliest day daily death toll hits another record high of 3775 fatalities as superstrain spreads to seven states covid19',\n",
       " 'weirdly it is on the lower end of lethality for a pandemic like this and scientists are arguing this isnt actually the big one that weve been fearing but its because its so labour intensive to treat that we have escalating death rates',\n",
       " 'a quick check of the ons stats for last week of december show excess death rates statistically insignificant ons description not mine ',\n",
       " 'jerichos conspiracy podcast isnt just him asking questions man goes on rants about how covid death rates are only 1 how lockdown is bad because hes a healthy adult and how lucky he is to be living in florida',\n",
       " 'here is a list of governors who preside over states with higher deathpermillion rates than fls ron desantis whom the media have anointed public enemy 1 1 murphy d 2 cuomo d 3 baker r 4 raimondo d 5 lamont d 6 burgum r 7 noem r 8 reeves r',\n",
       " 'daily death rates than when it was at its worst this spring during spring sweden had the lowest testing rates in the oecd thousands may have died and were left out of the stats as they had not been tested instead of investigating these deaths the tegnell',\n",
       " 'jerichos conspiracy podcast isnt just him asking questions man goes on rants about how covid death rates are only 1 how lockdown is bad because hes a healthy adult and how lucky he is to be living in florida',\n",
       " 'three dead every minute on americas deadliest day daily death toll hits another record high of 3775 fatalities as superstrain spreads to seven states covid19',\n",
       " 'remember the lockdown rules 1 if death rates go down that means the lockdown is working 2 if death rates go up that means they would have gone up far more without the lockdown 3 whatever happens after the lockdown ends the answer is always going to be another lockdown',\n",
       " 'three dead every minute on americas deadliest day daily death toll hits another record high of 3775 fatalities as superstrain spreads to seven states covid19',\n",
       " 'remember the lockdown rules 1 if death rates go down that means the lockdown is working 2 if death rates go up that means they would have gone up far more without the lockdown 3 whatever happens after the lockdown ends the answer is always going to be another lockdown',\n",
       " 'as you probably already guessed we have to cancel mountainbytes 2021 due to the current infection rates and still rapidly increasing death toll thanks to everyone who helped getting this new party prepared and ready to run from feb 1820 2022 instead we miss you',\n",
       " 'not knowing how to treat covid probably wasnt ventilation shown to be problematic an initial pandemic spike which this winter appears endemic so is much less how do you explain cases rising yet death rates not this winter i had it back in feb so dont think it isnt real',\n",
       " 'here is a list of governors who preside over states with higher deathpermillion rates than fls ron desantis whom the media have anointed public enemy 1 1 murphy d 2 cuomo d 3 baker r 4 raimondo d 5 lamont d 6 burgum r 7 noem r 8 reeves r',\n",
       " 'here is a list of governors who preside over states with higher deathpermillion rates than fls ron desantis whom the media have anointed public enemy 1 1 murphy d 2 cuomo d 3 baker r 4 raimondo d 5 lamont d 6 burgum r 7 noem r 8 reeves r',\n",
       " 'when people comment on slow vaccination rates someone always jumps in with its a marathon not a sprint maybe but when youre vaccinating the most atrisk first and the death aversion curve looks anything like the one below you should be sprinting out of the blocks',\n",
       " 'here is a list of governors who preside over states with higher deathpermillion rates than fls ron desantis whom the media have anointed public enemy 1 1 murphy d 2 cuomo d 3 baker r 4 raimondo d 5 lamont d 6 burgum r 7 noem r 8 reeves r',\n",
       " 'when i found what looked like a coverup of teacher covid death rates i wondered if it was my error i now believe theyre concealing date that should be public to hide their failures amp lies should be front page news lets do all we can to amplify',\n",
       " 'when i found what looked like a coverup of teacher covid death rates i wondered if it was my error i now believe theyre concealing date that should be public to hide their failures amp lies should be front page news lets do all we can to amplify',\n",
       " 'when people comment on slow vaccination rates someone always jumps in with its a marathon not a sprint maybe but when youre vaccinating the most atrisk first and the death aversion curve looks anything like the one below you should be sprinting out of the blocks',\n",
       " 'as you probably already guessed we have to cancel mountainbytes 2021 due to the current infection rates and still rapidly increasing death toll thanks to everyone who helped getting this new party prepared and ready to run from feb 1820 2022 instead we miss you',\n",
       " 'the only number that is out of control helen is the case number because of the increase in testing with a flawed test of healthy people healthy people arent infectious other than in aprilmay death rates are mainly consistent',\n",
       " 'this is true for a minority my partner works in infectious disease in a london hospital oncology clinical leads have been pleading with management to get patients into care its perfectly achievable covid is prioritised despite significantly lower death rates it stinks',\n",
       " 'experts argue that burdens of poverty discrimination and social disadvantage have led to disproportionate rates of infection and death but ethnicity while strongly correlated with those conditions cant be used alone to determine priority',\n",
       " 'as you probably already guessed we have to cancel mountainbytes 2021 due to the current infection rates and still rapidly increasing death toll thanks to everyone who helped getting this new party prepared and ready to run from feb 1820 2022 instead we miss you',\n",
       " 'as you probably already guessed we have to cancel mountainbytes 2021 due to the current infection rates and still rapidly increasing death toll thanks to everyone who helped getting this new party prepared and ready to run from feb 1820 2022 instead we miss you',\n",
       " 'you see the chinese beat the disease domestically and shared info with who i read a lot of it before the disease even arrived here theyd already established it causes long term lung damage and had given death rates etc it was all dismissed by blaise politicians and officials',\n",
       " 'when people comment on slow vaccination rates someone always jumps in with its a marathon not a sprint maybe but when youre vaccinating the most atrisk first and the death aversion curve looks anything like the one below you should be sprinting out of the blocks',\n",
       " 'trump legacy violence death sedition from npr news massive 1year rise in homicide rates collided with the pandemic in 2020',\n",
       " 'when i found what looked like a coverup of teacher covid death rates i wondered if it was my error i now believe theyre concealing date that should be public to hide their failures amp lies should be front page news lets do all we can to amplify',\n",
       " 'here is a list of governors who preside over states with higher deathpermillion rates than fls ron desantis whom the media have anointed public enemy 1 1 murphy d 2 cuomo d 3 baker r 4 raimondo d 5 lamont d 6 burgum r 7 noem r 8 reeves r',\n",
       " 'believing the covid19 pandemic is a hoax is the best way to help this virus spread undermining the various strategies aimed at reducing its impact thus covid stats rising fact lowest death rates strictest compliance with mandatory or voluntary public health measures',\n",
       " 'actually the death rates have been averging 500 per day and infection rates are rising badly but dont let a little thing like facts get above your agenda covid19 coronavirus coronaoutbreak',\n",
       " 'is this the same guy who said international comparisons are unhelpful when defending uks appalling infection and death rates',\n",
       " 'if we lockdown and furlough this narcissist led useless scottish parliamentand all get on with our livesguaranteed the death rates would not be very differentthey would improve drastically with no freemanand all uk funds would go where they are meant to',\n",
       " 'three dead every minute on americas deadliest day daily death toll hits another record high of 3775 fatalities',\n",
       " 'in context she means more specifically every person who died of aids in neighborhoods where developers wanted to wipe out rent control but my larger grim point is all sorts of profitdriven processes are enabled by accelerated death rates such as those we are kickin it with',\n",
       " 'i find it impossible to believe theres a perfect tangent of death rates all year round yellow line even in winter or am i misunderstanding this the apple thing btw many people have done similar with postal tests i personally witnessed orange juice coming back positive',\n",
       " 'heres a list of those countries with the lowest excess death rates over the last year theyre all about the same size as an independent scotland finland 29 estonia 26 iceland 14 denmark 11 slovakia 03 taiwan 02 norway 07 new zealand 08 latvia 09 croatia 14',\n",
       " 'if we lockdown and furlough this narcissist led useless scottish parliamentand all get on with our livesguaranteed the death rates would not be very differentthey would improve drastically with no freemanand all uk funds would go where they are meant to',\n",
       " 'three dead every minute on americas deadliest day daily death toll hits another record high of 3775 fatalities',\n",
       " 'three dead every minute on americas deadliest day daily death toll hits another record high of 3775 fatalities',\n",
       " 'rip me 2022 cause of death broken brain after two years of watching people talk about why interest rates are rising',\n",
       " 'here is a list of governors who preside over states with higher deathpermillion rates than fls ron desantis whom the media have anointed public enemy 1 1 murphy d 2 cuomo d 3 baker r 4 raimondo d 5 lamont d 6 burgum r 7 noem r 8 reeves r',\n",
       " 'three dead every minute on americas deadliest day daily death toll hits another record high of 3775 fatalities',\n",
       " 'here is a list of governors who preside over states with higher deathpermillion rates than fls ron desantis whom the media have anointed public enemy 1 1 murphy d 2 cuomo d 3 baker r 4 raimondo d 5 lamont d 6 burgum r 7 noem r 8 reeves r',\n",
       " 'i didnt realize andrew cuomo was a republican all the covid death rates are highest in democrat states',\n",
       " 'its a mantra from death rates for 2020 inline with previous years i cannot disbelieve doctors and nurses saying how busy hospitals are but why arent nhs data figures bearing this out its underfunding and mismanagement of is the issue',\n",
       " 'the buildbackfairer report explores inequalities in death rates from covid19 the effect of measures to contain the virus on inequalities amp wellbeing what needs to be done in the future read it now',\n",
       " 'three dead every minute on americas deadliest day daily death toll hits another record high of 3775 fatalities',\n",
       " 'three dead every minute on americas deadliest day daily death toll hits another record high of 3775 fatalities',\n",
       " 'three dead every minute on americas deadliest day daily death toll hits another record high of 3775 fatalities',\n",
       " '1 negative media coverage of c19 has fuelled hysteria and misinformation help combat the negative news trend share this positive information good news about covid19 the case fatality rate from the virus has dropped sharply since march',\n",
       " 'i feel it doesnt make sense really yes infection rates gatwe they high but so is recovery i dont recall at one point renale 1500 active cases and the death rate is also low so what are we locking down for',\n",
       " 'lets keep this civilised please were both intelligent adults i was talking about the current trend of death rates for this time of year i shouldve made that clear im not denying what happened last year just questioning whether were still under the same threat',\n",
       " 'buddy death rates have been dropping for a long time celebrating a disaster so bad as to rewind all that achievement over a decade is appalling what planet are you on no its not catch up wow death rates have fallen for decades were living longer my love',\n",
       " 'three dead every minute on americas deadliest day daily death toll hits another record high of 3775 fatalities',\n",
       " 'wait til lockdown fanatics see the cancer and heart attack death rates you cant hide away from those awful conditions however lockdown will certainly cause those illnesses to increase in numbers',\n",
       " 'uk has followed their govt neoliberalism of low spending state you see it immediately compared to europe when you enter it and it partly explains its worst position in covid death rates amp shocking shortage of medics in its hospitals',\n",
       " 'breaking news many americans left new york and new jersey during the covid19 pandemic states have different covid19 death rates see pinned tweet',\n",
       " 'in case you missed it a cheap and widespread drug has shown the potential for transformative changes in covid19 mortality rates according to an early analysis',\n",
       " 'can we all agree that the us is very unhealthy compared to other developed countries if so do you think that factors in to the higher death rates than other developed countries',\n",
       " 'remember the lockdown rules 1 if death rates go down that means the lockdown is working 2 if death rates go up that means they would have gone up far more without the lockdown 3 whatever happens after the lockdown ends the answer is always going to be another lockdown',\n",
       " 'if we lockdown and furlough this narcissist led useless scottish parliamentand all get on with our livesguaranteed the death rates would not be very differentthey would improve drastically with no freemanand all uk funds would go where they are meant to',\n",
       " 'blatant lies inflated death rates keeping the lockdown going depressing times',\n",
       " 'comparison with other countries isnt allowed when it comes to death and infection rates and what happened to last years promise of 30 million being vaccinated by now when will this shambolic charlatan admit he is out of his depth and go',\n",
       " 'i didnt say it played no part but its pointless to keep mentioning things we cant control where things have been done better in other places why cant you admit it our government has made big mistakes and now we have one of the worst death rates and bad economic situation',\n",
       " 'although why would you fly here with our world beating infection and death rates',\n",
       " 'benjamin you are demonstrating your ignorance mortality rates for under 70 year olds is 005 measured over a long period there were no excess deaths in 2020 reported deaths are deaths with not from the virus 95 of deaths had another contributing cause of death',\n",
       " 'rip me 2022 cause of death broken brain after two years of watching people talk about why interest rates are rising',\n",
       " 'is this the same guy who said international comparisons are unhelpful when defending uks appalling infection and death rates',\n",
       " 'when people comment on slow vaccination rates someone always jumps in with its a marathon not a sprint maybe but when youre vaccinating the most atrisk first and the death aversion curve looks anything like the one below you should be sprinting out of the blocks',\n",
       " 'remember the lockdown rules 1 if death rates go down that means the lockdown is working 2 if death rates go up that means they would have gone up far more without the lockdown 3 whatever happens after the lockdown ends the answer is always going to be another lockdown',\n",
       " 'when people comment on slow vaccination rates someone always jumps in with its a marathon not a sprint maybe but when youre vaccinating the most atrisk first and the death aversion curve looks anything like the one below you should be sprinting out of the blocks',\n",
       " 'here is a list of governors who preside over states with higher deathpermillion rates than fls ron desantis whom the media have anointed public enemy 1 1 murphy d 2 cuomo d 3 baker r 4 raimondo d 5 lamont d 6 burgum r 7 noem r 8 reeves r',\n",
       " 'this is why our death rates and infections are cataclysmic compared to basically the rest of the planet',\n",
       " 'its winter death rates are normal for this time of year',\n",
       " 'its based on a number of observational studies that link famotidine with improved clinical outcomes in patients with covid19 no one has posited a compelling mechanism of action but patients on famotidine appear to have lower death rates fewer intubations etc factsnotfear',\n",
       " 'its not whataboutism is it toughest and longest lock down fact one of the worst death rates fact its not as simple as just look at australia and nz',\n",
       " 'here is a list of governors who preside over states with higher deathpermillion rates than fls ron desantis whom the media have anointed public enemy 1 1 murphy d 2 cuomo d 3 baker r 4 raimondo d 5 lamont d 6 burgum r 7 noem r 8 reeves r',\n",
       " 'we currently have over 70000 deaths due to covid over and above the normal uk death rates if they happened to have another health issue too but covid killed them due to wrecking their lungs for example is that what you call a doubtful figure',\n",
       " 'when i found what looked like a coverup of teacher covid death rates i wondered if it was my error i now believe theyre concealing date that should be public to hide their failures amp lies should be front page news lets do all we can to amplify',\n",
       " 'i know it is taking into account all ages groups not so in ours the driver has to be death rates and hospitalisations we are currently 11 above the 5 year averageand this in a massively more sanitised environment god know what pressures there would be if we did nothing',\n",
       " 'remember the lockdown rules 1 if death rates go down that means the lockdown is working 2 if death rates go up that means they would have gone up far more without the lockdown 3 whatever happens after the lockdown ends the answer is always going to be another lockdown',\n",
       " 'here is a list of governors who preside over states with higher deathpermillion rates than fls ron desantis whom the media have anointed public enemy 1 1 murphy d 2 cuomo d 3 baker r 4 raimondo d 5 lamont d 6 burgum r 7 noem r 8 reeves r',\n",
       " 'yeah aus and nz nailed it but seems everyone else is flapping in some way or another eg sweden who were seen as visionaries for their lets pretend its not happening approach now have the highest death rates in northern europe and eat out to help out imitated their method',\n",
       " 'breaking news many americans left new york and new jersey during the covid19 pandemic states have different covid19 death rates see pinned tweet',\n",
       " 'andrea leadsom trying to defend her party on dealing with covid come on one of the worst death rates track amp trace not working border control ppe contracts worth millions worst economy hit dealing with schools politicslive',\n",
       " 'tell that to every country thats successfully suppressed it the virus to nearzero levels whose people are enjoying relative freedom and whose economies havent been crushed uk policy has led to one of the highest death rates in the world amp the worst economic damage in the g7',\n",
       " 'end the lockdown doug stand up and do the right thing while 9996 of people survive this so called armageddon of a virus death rates in canada are at par 1 over the last few yearslook it up dont take my word for it i cannot believe that people still follow the bs',\n",
       " 'and that means is willing to sacrifice thousands of lives to pursue issues she harbours secretly for the meritocracy or lack thereof of the nhs sounds far fetched and not related to the point raised which is do current death rates warrant a national lockdown',\n",
       " 'remember the lockdown rules 1 if death rates go down that means the lockdown is working 2 if death rates go up that means they would have gone up far more without the lockdown 3 whatever happens after the lockdown ends the answer is always going to be another lockdown',\n",
       " 'here is a list of governors who preside over states with higher deathpermillion rates than fls ron desantis whom the media have anointed public enemy 1 1 murphy d 2 cuomo d 3 baker r 4 raimondo d 5 lamont d 6 burgum r 7 noem r 8 reeves r',\n",
       " 'very good article mr hayward especially about how the welsh nhs struggles every winter this winter will be especially difficult like yourself i thought survival rates had improved however dave hepburn consultant said the death rate is probably worse now than march april',\n",
       " 'here is a list of governors who preside over states with higher deathpermillion rates than fls ron desantis whom the media have anointed public enemy 1 1 murphy d 2 cuomo d 3 baker r 4 raimondo d 5 lamont d 6 burgum r 7 noem r 8 reeves r',\n",
       " 'i know it is taking into account all ages groups not so in ours the driver has to be death rates and hospitalisations we are currently 11 above the 5 year averageand this in a massively more sanitised environment god know what pressures there would be if we did nothing',\n",
       " 'right because letting the pandemic run riot watching death rates mount as the nhs collapses to the point you are aware youre probably on your own should youfamily get sick that wouldnt be a downer at all because gyms',\n",
       " 'daily death rates than when it was at its worst this spring during spring sweden had the lowest testing rates in the oecd thousands may have died and were left out of the stats as they had not been tested instead of investigating these deaths the tegnell',\n",
       " 'the buildbackfairer report explores inequalities in death rates from covid19 the effect of measures to contain the virus on inequalities amp wellbeing what needs to be done in the future read it now',\n",
       " 'the buildbackfairer report explores inequalities in death rates from covid19 the effect of measures to contain the virus on inequalities amp wellbeing what needs to be done in the future read it now',\n",
       " 'when i found what looked like a coverup of teacher covid death rates i wondered if it was my error i now believe theyre concealing date that should be public to hide their failures amp lies should be front page news lets do all we can to amplify',\n",
       " 'the buildbackfairer report explores inequalities in death rates from covid19 the effect of measures to contain the virus on inequalities amp wellbeing what needs to be done in the future read it now',\n",
       " 'here is a list of governors who preside over states with higher deathpermillion rates than fls ron desantis whom the media have anointed public enemy 1 1 murphy d 2 cuomo d 3 baker r 4 raimondo d 5 lamont d 6 burgum r 7 noem r 8 reeves r',\n",
       " 'death rates were higher during the first wave which primarily hit the east costalmost all of the deaths in massachusetts baker were before july too bad the president didnt want to warn governors with scope of information he had',\n",
       " 'here is a list of governors who preside over states with higher deathpermillion rates than fls ron desantis whom the media have anointed public enemy 1 1 murphy d 2 cuomo d 3 baker r 4 raimondo d 5 lamont d 6 burgum r 7 noem r 8 reeves r',\n",
       " 'when people comment on slow vaccination rates someone always jumps in with its a marathon not a sprint maybe but when youre vaccinating the most atrisk first and the death aversion curve looks anything like the one below you should be sprinting out of the blocks',\n",
       " 'its far more urgent for the uk because you and the rest of this incompetent government have let our infection and death rates hit such an horrific trajectory',\n",
       " 'trump legacy violence death sedition from npr news massive 1year rise in homicide rates collided with the pandemic in 2020',\n",
       " 'here is a list of governors who preside over states with higher deathpermillion rates than fls ron desantis whom the media have anointed public enemy 1 1 murphy d 2 cuomo d 3 baker r 4 raimondo d 5 lamont d 6 burgum r 7 noem r 8 reeves r',\n",
       " 'you van have millions of genders since they are manmade gender is a social construct used by patriarchal societies to control women we are happy for you to collate stats on whether trans identified males have the same death rates as other men',\n",
       " 'the buildbackfairer report explores inequalities in death rates from covid19 the effect of measures to contain the virus on inequalities amp wellbeing what needs to be done in the future read it now',\n",
       " 'when people comment on slow vaccination rates someone always jumps in with its a marathon not a sprint maybe but when youre vaccinating the most atrisk first and the death aversion curve looks anything like the one below you should be sprinting out of the blocks',\n",
       " 'its far more urgent for the uk because you and the rest of this incompetent government have let our infection and death rates hit such an horrific trajectory',\n",
       " 'we currently have over 70000 deaths due to covid over and above the normal uk death rates if they happened to have another health issue too but covid killed them due to wrecking their lungs for example is that what you call a doubtful figure',\n",
       " 'when people comment on slow vaccination rates someone always jumps in with its a marathon not a sprint maybe but when youre vaccinating the most atrisk first and the death aversion curve looks anything like the one below you should be sprinting out of the blocks',\n",
       " 'these are the death rates if you catch the dreaded covid 99997 for 019 years 9998 for 2049 years 995 for 5069 years and 946 for 70 years',\n",
       " 'the buildbackfairer report explores inequalities in death rates from covid19 the effect of measures to contain the virus on inequalities amp wellbeing what needs to be done in the future read it now',\n",
       " 'if you study the curves carefully you see there is clearly no correlation between measures imposed and death rates you have been fooled',\n",
       " 'ask why we arent closing airports vietnam low death rates nz too',\n",
       " 'politicslive just denied that other countries have lower death rates from covid19 pathological liar',\n",
       " 'hes literally done better than 20 other governors when looking at death rates plus floridians are the freest population at the moment i dont see how that isnt some sort of win',\n",
       " 'thats a falacy smokers z drinkers and obese people dont have a highly infectious disease which spread rates around the globe are causing lockdowns social distancing and more importantly unacceptable high death rates you simply cant compare',\n",
       " 'the best way to compare 2020 to earlier years is to examine agestandardised death rates comparing death counts can be distorted slightly by ageing and growth of the population the cmi are reporting weekly using this method their mortality monitor is due out later today',\n",
       " 'i would like to know if 1 the situation is already outofcontrol in which case we should see it in hospitalization amp death rates compared to historical averages or 2 it is not yet but there is strong evidence if there is not a lock down imminently it will be',\n",
       " 'a shame testing does not flag up infections during incubation as happened with out of barbados for us we will not flycruise until vaccines are widely in use globally the global infectiondeath rates are similar to the annual flu wewillbeback',\n",
       " 'when i found what looked like a coverup of teacher covid death rates i wondered if it was my error i now believe theyre concealing date that should be public to hide their failures amp lies should be front page news lets do all we can to amplify',\n",
       " 'here is a list of governors who preside over states with higher deathpermillion rates than fls ron desantis whom the media have anointed public enemy 1 1 murphy d 2 cuomo d 3 baker r 4 raimondo d 5 lamont d 6 burgum r 7 noem r 8 reeves r',\n",
       " 'like most small independent countries of a similar population have a look at death rates through europe and you will see most of these independent countries at the bottom of the list p s thats opposite side to uk',\n",
       " 'the buildbackfairer report explores inequalities in death rates from covid19 the effect of measures to contain the virus on inequalities amp wellbeing what needs to be done in the future read it now',\n",
       " 'cubas education union and govt worked together to provide classes for children most schools reopened in september havana not until 1 nov but only in areas with low infection rates which is why the island has a covid death rate of just 13 per million',\n",
       " 'here is a list of governors who preside over states with higher deathpermillion rates than fls ron desantis whom the media have anointed public enemy 1 1 murphy d 2 cuomo d 3 baker r 4 raimondo d 5 lamont d 6 burgum r 7 noem r 8 reeves r',\n",
       " 'the buildbackfairer report explores inequalities in death rates from covid19 the effect of measures to contain the virus on inequalities amp wellbeing what needs to be done in the future read it now',\n",
       " 'death rates havent really changed which suggest that there is no pandemic look for yourselves look at on the ons website pfizer was bailed out by bill gates phe have been funded by bill gates imperial college london has been funded by bill gates',\n",
       " 'unfortunately i think the death rates will continue to rise as the 50k daily infections become seriously ill and then enter hospital',\n",
       " 'here is a list of governors who preside over states with higher deathpermillion rates than fls ron desantis whom the media have anointed public enemy 1 1 murphy d 2 cuomo d 3 baker r 4 raimondo d 5 lamont d 6 burgum r 7 noem r 8 reeves r',\n",
       " 'when i found what looked like a coverup of teacher covid death rates i wondered if it was my error i now believe theyre concealing date that should be public to hide their failures amp lies should be front page news lets do all we can to amplify',\n",
       " 'remember the lockdown rules 1 if death rates go down that means the lockdown is working 2 if death rates go up that means they would have gone up far more without the lockdown 3 whatever happens after the lockdown ends the answer is always going to be another lockdown',\n",
       " 'here is a list of governors who preside over states with higher deathpermillion rates than fls ron desantis whom the media have anointed public enemy 1 1 murphy d 2 cuomo d 3 baker r 4 raimondo d 5 lamont d 6 burgum r 7 noem r 8 reeves r',\n",
       " 'and healthcare underlying health etc the latter two are significant factors and they vary percountry i imagine theyre a big reason for usa doing much worse on death rates',\n",
       " 'id imagine its a combination of a how many in vulnerable groups vaxed b hospitalisationsinfections death rates c confidence in vax performance amp d any other relevant factors apparent at the time a decision is taken u could probably have worked that out 4 yourself',\n",
       " '1 of the worst infection amp death rates in the world as well as 1 of the worse economic impacts thats the consequence of boris johnsons amp the tory parties balanced approach to covid politicslive pmqs',\n",
       " 'the buildbackfairer report explores inequalities in death rates from covid19 the effect of measures to contain the virus on inequalities amp wellbeing what needs to be done in the future read it now',\n",
       " 'the buildbackfairer report explores inequalities in death rates from covid19 the effect of measures to contain the virus on inequalities amp wellbeing what needs to be done in the future read it now',\n",
       " 'the buildbackfairer report explores inequalities in death rates from covid19 the effect of measures to contain the virus on inequalities amp wellbeing what needs to be done in the future read it now',\n",
       " 'the buildbackfairer report explores inequalities in death rates from covid19 the effect of measures to contain the virus on inequalities amp wellbeing what needs to be done in the future read it now',\n",
       " 'here is a list of governors who preside over states with higher deathpermillion rates than fls ron desantis whom the media have anointed public enemy 1 1 murphy d 2 cuomo d 3 baker r 4 raimondo d 5 lamont d 6 burgum r 7 noem r 8 reeves r',\n",
       " 'look at the isle of man you are guaranteed in a hotel before you are allowed into the population same as new zealand and australia ect ect look at the death rates in these places its a nobrainer apart from if they closed borders in march it exposed another brexit lie',\n",
       " 'none of those places ignored it at all japan and belarus put in measures and controls immediately things these idiots claim dont work sweden failed utterly with 10x its neighbours death rates and 30x times japans the countries that ignored your bull did 1000x better',\n",
       " 'yes that will definitely be true but i think the figure that deniers are using is probably current life expectancy at birth and of course theres the fact that le is a composite measure based on current death rates that wont actually apply to anyone across their whole life',\n",
       " 'dr lees analysis fits with our own at principia scientific death rates for 2020 overall are unexceptional no lockdowns justified by the science',\n",
       " 'heres a list of those countries with the lowest excess death rates over the last year theyre all about the same size as an independent scotland finland 29 estonia 26 iceland 14 denmark 11 slovakia 03 taiwan 02 norway 07 new zealand 08 latvia 09 croatia 14',\n",
       " 'you forgot to mention the infection and death rates they are the largest as well you are not a clever man',\n",
       " 'when people comment on slow vaccination rates someone always jumps in with its a marathon not a sprint maybe but when youre vaccinating the most atrisk first and the death aversion curve looks anything like the one below you should be sprinting out of the blocks',\n",
       " 'no data supports this where is your source data if 10 times more are dying it makes a mockery of your earlier claim that the overall death rates are broadly the same as previous years these threads are causing as much damage as anything because some people will believe them',\n",
       " 'when i found what looked like a coverup of teacher covid death rates i wondered if it was my error i now believe theyre concealing date that should be public to hide their failures amp lies should be front page news lets do all we can to amplify',\n",
       " 'its based on a number of observational studies that link famotidine with improved clinical outcomes in patients with covid19 no one has posited a compelling mechanism of action but patients on famotidine appear to have lower death rates fewer intubations etc factsnotfear',\n",
       " 'here is a list of governors who preside over states with higher deathpermillion rates than fls ron desantis whom the media have anointed public enemy 1 1 murphy d 2 cuomo d 3 baker r 4 raimondo d 5 lamont d 6 burgum r 7 noem r 8 reeves r',\n",
       " 'here is a list of governors who preside over states with higher deathpermillion rates than fls ron desantis whom the media have anointed public enemy 1 1 murphy d 2 cuomo d 3 baker r 4 raimondo d 5 lamont d 6 burgum r 7 noem r 8 reeves r',\n",
       " 'now that malaysia is in covid mitigation phase we have been for months now our focus should be on preventing death so hospital beds must be reserved for the sick all asymptomatic and mild cases must be put on home quarantine moh should reveal daily the bed occupancy rates',\n",
       " 'uk worst infection rates worst death rates worst effect on economy talk about virtue signalling incentives should be given to actually travel to the uk',\n",
       " 'why not share both population growth makes a fairly trivial difference over such a short period the ageing population has a more noticeable effect but its still small enough that the headline messages dont really change as we go from raw death counts analysis to death rates',\n",
       " 'death rates will still increase because case numbers have skyrocketed and hospital admissions and then deaths will follow the point i was making is that treatment of covid in hospitals has improved since the spring but this does mean more people in hospital for longer',\n",
       " 'here is a list of governors who preside over states with higher deathpermillion rates than fls ron desantis whom the media have anointed public enemy 1 1 murphy d 2 cuomo d 3 baker r 4 raimondo d 5 lamont d 6 burgum r 7 noem r 8 reeves r',\n",
       " 'must read the link between human respiratory health amp air quality is wellproven studies have begun to examine the link between air quality amp increased covid19 death rates exclusive insight from infectioncontrol carehomes covid19',\n",
       " 'are people really still comparing death rates and the flu to covid fuck me how fucking stupid can people be how deluded can they be how can they just carry on not giving a shit',\n",
       " 'remember the lockdown rules 1 if death rates go down that means the lockdown is working 2 if death rates go up that means they would have gone up far more without the lockdown 3 whatever happens after the lockdown ends the answer is always going to be another lockdown',\n",
       " 'must read the link between human respiratory health amp air quality is wellproven studies have begun to examine the link between air quality amp increased covid19 death rates exclusive insight from infectioncontrol carehomes covid19',\n",
       " 'those countries have hurried the vaccine approval because of their horrific infection and death rates though we shouldnt take the same punt my understanding is that were hurrying our process a great deal as it is',\n",
       " 'now that malaysia is in covid mitigation phase we have been for months now our focus should be on preventing death so hospital beds must be reserved for the sick all asymptomatic and mild cases must be put on home quarantine moh should reveal daily the bed occupancy rates',\n",
       " 'when i found what looked like a coverup of teacher covid death rates i wondered if it was my error i now believe theyre concealing date that should be public to hide their failures amp lies should be front page news lets do all we can to amplify',\n",
       " 'its based on a number of observational studies that link famotidine with improved clinical outcomes in patients with covid19 no one has posited a compelling mechanism of action but patients on famotidine appear to have lower death rates fewer intubations etc factsnotfear',\n",
       " 'here is a list of governors who preside over states with higher deathpermillion rates than fls ron desantis whom the media have anointed public enemy 1 1 murphy d 2 cuomo d 3 baker r 4 raimondo d 5 lamont d 6 burgum r 7 noem r 8 reeves r',\n",
       " 'when i found what looked like a coverup of teacher covid death rates i wondered if it was my error i now believe theyre concealing date that should be public to hide their failures amp lies should be front page news lets do all we can to amplify',\n",
       " 'whats england position on pmillion death rates',\n",
       " 'no healthy people are no threat the nhs are there to protect the ill amp injured the ill amp injured should not to protect them that causes excess deaths look at year on year death rates nothing happening its all based on cases not illness donotcomply',\n",
       " 'can we stop the continuous international death rates as no one knows how theyre made up in each country ',\n",
       " 'these numbers are exaggerated when considering other issues testing rates dying with28 days being used in uk vs dying of being paid to list as covid19 patientdeath differences in methods between countries',\n",
       " 'thats a falacy smokers z drinkers and obese people dont have a highly infectious disease which spread rates around the globe are causing lockdowns social distancing and more importantly unacceptable high death rates you simply cant compare',\n",
       " 'here is a list of governors who preside over states with higher deathpermillion rates than fls ron desantis whom the media have anointed public enemy 1 1 murphy d 2 cuomo d 3 baker r 4 raimondo d 5 lamont d 6 burgum r 7 noem r 8 reeves r',\n",
       " 'here is a list of governors who preside over states with higher deathpermillion rates than fls ron desantis whom the media have anointed public enemy 1 1 murphy d 2 cuomo d 3 baker r 4 raimondo d 5 lamont d 6 burgum r 7 noem r 8 reeves r',\n",
       " 'its true these are both inevitably drivers for positive rates but looking specifically at hospital admissions with covid and the excess death rate seen last spring i find it hard to believe that the pcr test is not a strong indicator of covid stresses on the health system',\n",
       " 'australia and new zealand are in different positions to this country and had vastly smaller outbreaks your comment about the case and death rates makes no reference to other variables or demonstrates that lockdown measures change the trajectory of the epidemic',\n",
       " 'death rates are measured differently across the globe and it rather appears this virus doesnt kill fewer using institutional controls and rapidly applied lockdowns',\n",
       " 'we have more manufacturing jobs now than we had in 2016 clearly the pound was doing worse in 2009 than it is now in the middle of a pandemic where we have one of the worst death rates in the world this cannot square with the doomsday brexit that remainers swore would happen',\n",
       " 'sweden has one of the lowest covid19 death rates in europe this winter and no journalist is reporting on this nobody nobody is apparently allowed to say that swedens herd immunity approach has worked which caused the second wave to be less severe',\n",
       " 'here is a list of governors who preside over states with higher deathpermillion rates than fls ron desantis whom the media have anointed public enemy 1 1 murphy d 2 cuomo d 3 baker r 4 raimondo d 5 lamont d 6 burgum r 7 noem r 8 reeves r',\n",
       " 'the uk has consistently displayed one of the highest excess death rates since march 2020 per million people compared with historical averages qu how could this be covid19uk coviduk covid19',\n",
       " 'here is a list of governors who preside over states with higher deathpermillion rates than fls ron desantis whom the media have anointed public enemy 1 1 murphy d 2 cuomo d 3 baker r 4 raimondo d 5 lamont d 6 burgum r 7 noem r 8 reeves r',\n",
       " 'they acted when infection rates hit double digits and we did nothing when death rates were in triple digits',\n",
       " 'firstly lockdowns arent just about deaths longcovid for example is likely to be a bigger issue longterm but reducing transmission rates does reduce deaths if youre still struggling with the data look how transmission and death rates both fall following lockdowns',\n",
       " 'so strong that we have one of the worst death rates in europe higehest drug deaths in europe and a failing education system but yeahshes great',\n",
       " 'here is a list of governors who preside over states with higher deathpermillion rates than fls ron desantis whom the media have anointed public enemy 1 1 murphy d 2 cuomo d 3 baker r 4 raimondo d 5 lamont d 6 burgum r 7 noem r 8 reeves r',\n",
       " 'such a strange takeaway to say that hypertension killed more americans than covid in 2020 the article shared was from october 2020 the death certificates have not all come in i can find zero info regarding exact hypertension death rates for 2020 covid also exacerbates htn',\n",
       " 'so is being shot in the face with a gun so we put in controls to reduce the risk to life by banning hand guns we now have one of the lowest hand gun death rates on the planet',\n",
       " 'always sceptical of cherrypicked graphs out of context with poorly labelled axis but here is explanation below the experts trained to interpret pandemic death rates and other relevant data are epidemiologists not diy armchair types ',\n",
       " 'population is a bit of a red herring the 48 states in the world with higher population densities than the uk all have lower c19 death rates govt response and the willingness of their citizens to comply with the measures are the most important factors',\n",
       " 'all this talk of lockdown 2021 is making me feel nostalgic for the january lockdowns of 2017 and 2018 when we had similar death rates looking back now its so hard to remember all those rules constraining our lives isnt it official phe figures on govt website',\n",
       " 'ahhh i mean the daily cases are around 1k25k right now and lower death rates around 500 cases out of 100k so farhmmm i think were just lucky to have competent health ministry atp we did mass testing regularly how about indonesia i cant keep up with all the news',\n",
       " 'here is a list of governors who preside over states with higher deathpermillion rates than fls ron desantis whom the media have anointed public enemy 1 1 murphy d 2 cuomo d 3 baker r 4 raimondo d 5 lamont d 6 burgum r 7 noem r 8 reeves r',\n",
       " 'i bet sweden are glad they shut down their entire country because of covid just imagine what their death rates would look like otherwise',\n",
       " 'when people comment on slow vaccination rates someone always jumps in with its a marathon not a sprint maybe but when youre vaccinating the most atrisk first and the death aversion curve looks anything like the one below you should be sprinting out of the blocks',\n",
       " 'why would the 5 year average understate excess deaths medical treatments havent changed that much and death rates are increasing due to poorer metabolic health life span is currently though to be decreasing slightly',\n",
       " 'interesting to learn that 195152 flu outbreak in liverpool caused local death rates some 40 higher than those seen during the 1918 spanishflu pandemic questions asked in parliament but not sure the entire uk was closed down in response',\n",
       " 'the problem with vaccinating the elderly and vulnerable first which must be the right thing to do is that although it should reduce death rates it wont reduce transmission rates substantially covid cases will remain high until we start vaccinating the general population',\n",
       " 'when people comment on slow vaccination rates someone always jumps in with its a marathon not a sprint maybe but when youre vaccinating the most atrisk first and the death aversion curve looks anything like the one below you should be sprinting out of the blocks',\n",
       " 'here is a list of governors who preside over states with higher deathpermillion rates than fls ron desantis whom the media have anointed public enemy 1 1 murphy d 2 cuomo d 3 baker r 4 raimondo d 5 lamont d 6 burgum r 7 noem r 8 reeves r',\n",
       " 'if govts since 1960 hadnt initiated bcg vaccinations the death rates due to covid19 would have matched or surpassed usa by now',\n",
       " 'if its come to lockdown we should shield the vulnerable in line with the known virus death rates this should be a family by family choice since its their lives people can actually make informed decisions about their lives',\n",
       " 'in spite of covid19 overall death rates in 2020 in england and wales were lower than in all years before 2001 ons data further details on how this graph was created are here ',\n",
       " 'im excusing no one still there are many factors that contributed to this that must be of concern to us all income inequality death of the american dream declining health rates we need to start working on these things today',\n",
       " 'we need better analysis of all covid19 data cases data is merely propaganda hospitalisations excess deaths amp test rates matter deaths due to covid not death due to any cause within 28 days of a positive test recoveryagesexcomorbidity data matters',\n",
       " 'interesting to learn that 195152 flu outbreak in liverpool caused local death rates some 40 higher than those seen during the 1918 spanishflu pandemic questions asked in parliament but not sure the entire uk was closed down in response',\n",
       " 'china managed it maybe youre right richard or did china lie about death rates and delay telling the world not much criticism of china from you but youre an opportunist uk politician making a living from heckling the government as folk die and the economy crashes',\n",
       " 'here is a list of governors who preside over states with higher deathpermillion rates than fls ron desantis whom the media have anointed public enemy 1 1 murphy d 2 cuomo d 3 baker r 4 raimondo d 5 lamont d 6 burgum r 7 noem r 8 reeves r',\n",
       " 'heres a question why is nobody in the cabinet either questioning or validating what is obviously skewed data when it comes down to infection rates unreliable test results or death rates block tagging all deaths if people had tested for covid in the previous 28 days prior',\n",
       " 'here is a list of governors who preside over states with higher deathpermillion rates than fls ron desantis whom the media have anointed public enemy 1 1 murphy d 2 cuomo d 3 baker r 4 raimondo d 5 lamont d 6 burgum r 7 noem r 8 reeves r',\n",
       " 'all cause death rates have been normal since june youre getting your knickers in a twist for no reason calm down dear',\n",
       " 'also will you adjust your figures for massive improvements in medical treatments in the last 20 years and an overall downward trend in death rates',\n",
       " 'remember the lockdown rules 1 if death rates go down that means the lockdown is working 2 if death rates go up that means they would have gone up far more without the lockdown 3 whatever happens after the lockdown ends the answer is always going to be another lockdown',\n",
       " 'sweden has one of the lowest covid19 death rates in europe this winter and no journalist is reporting on this nobody nobody is apparently allowed to say that swedens herd immunity approach has worked which caused the second wave to be less severe',\n",
       " 'thank you ever so much for your reply its fantastic that these amazing scientists have come up with a vaccine to prevent serious illness and lower death rates but it does beg the question are the transmission rates being tested for as well fingers crossed',\n",
       " 'laba omuyayu do you even know or care to research the high death rates in these campaigns not only by police but covid19 combined',\n",
       " 'when i found what looked like a coverup of teacher covid death rates i wondered if it was my error i now believe theyre concealing date that should be public to hide their failures amp lies should be front page news lets do all we can to amplify',\n",
       " 'here is a list of governors who preside over states with higher deathpermillion rates than fls ron desantis whom the media have anointed public enemy 1 1 murphy d 2 cuomo d 3 baker r 4 raimondo d 5 lamont d 6 burgum r 7 noem r 8 reeves r',\n",
       " 'when we in the uk have one of the highest infection and death rates see live radar pic of flights today then we have here an example of a country looking after their population',\n",
       " 'when i found what looked like a coverup of teacher covid death rates i wondered if it was my error i now believe theyre concealing date that should be public to hide their failures amp lies should be front page news lets do all we can to amplify',\n",
       " 'not sure we can clap away the current death toll and infection rates',\n",
       " 'here is a list of governors who preside over states with higher deathpermillion rates than fls ron desantis whom the media have anointed public enemy 1 1 murphy d 2 cuomo d 3 baker r 4 raimondo d 5 lamont d 6 burgum r 7 noem r 8 reeves r',\n",
       " 'here is a list of governors who preside over states with higher deathpermillion rates than fls ron desantis whom the media have anointed public enemy 1 1 murphy d 2 cuomo d 3 baker r 4 raimondo d 5 lamont d 6 burgum r 7 noem r 8 reeves r',\n",
       " 'ons stats of the 70000 excess deaths year to date just shy of 50000 of those occurred in this 5week period in april december death rates circa 15 higher than 5year average 40000 january deaths will be higher than 5year average but wise 65000 in january 2018',\n",
       " 'stop testing for it we dont test for influenza similar death rates where has influenza gone ',\n",
       " 'if you have a look at the who covid explorer the pictures are very different the uk has completed 52mil tests verses 26 for france 21 for spain and 34 for germany the death rates per mil population vary widely its a global issue but outcomes are varying more amp more',\n",
       " 'check for yourself official govt figures for death rates since 1990 is it all worth it',\n",
       " 'but we dont mark asymptomatic carriers of flu as cases so how do you know how the rates compare we also dont mark anyone who tested for flu then died of anything else within 28bdays of that test as a flu death',\n",
       " 'i dont think this is quite right big problem for teachers is theyre given no choice but to put themselves at great risk 333 higher rates than nonteachers we might decide by feb that overall risk of death warrants school opening but fairness demands teachers vaccinated',\n",
       " 'here is a list of governors who preside over states with higher deathpermillion rates than fls ron desantis whom the media have anointed public enemy 1 1 murphy d 2 cuomo d 3 baker r 4 raimondo d 5 lamont d 6 burgum r 7 noem r 8 reeves r',\n",
       " 'guadalupe county provides covid19 update for first time in 2021 emergency officials talk cases hospitalizations death rates and vaccines check it out in todays 010621seguin daily news',\n",
       " 'remember the lockdown rules 1 if death rates go down that means the lockdown is working 2 if death rates go up that means they would have gone up far more without the lockdown 3 whatever happens after the lockdown ends the answer is always going to be another lockdown',\n",
       " 'our actions over the next couple of weeks are a matter of life and death for many community transmission rates are high and any activity outside your home is highrisk stay home if outside keep your face covering on washsanitize your hands and keep distance from others',\n",
       " 'if we lockdown and furlough this narcissist led useless scottish parliamentand all get on with our livesguaranteed the death rates would not be very differentthey would improve drastically with no freemanand all uk funds would go where they are meant to',\n",
       " 'interesting to learn that 195152 flu outbreak in liverpool caused local death rates some 40 higher than those seen during the 1918 spanishflu pandemic questions asked in parliament but not sure the entire uk was closed down in response',\n",
       " 'here is a list of governors who preside over states with higher deathpermillion rates than fls ron desantis whom the media have anointed public enemy 1 1 murphy d 2 cuomo d 3 baker r 4 raimondo d 5 lamont d 6 burgum r 7 noem r 8 reeves r',\n",
       " 'study shows that housing crisis is literally killing people it argued overcrowding may contribute to increased death rates in poorer areas during the pandemic citing the impact of withinhousehold transmission on the spread of the virus',\n",
       " 'here is a list of governors who preside over states with higher deathpermillion rates than fls ron desantis whom the media have anointed public enemy 1 1 murphy d 2 cuomo d 3 baker r 4 raimondo d 5 lamont d 6 burgum r 7 noem r 8 reeves r',\n",
       " 'here is a list of governors who preside over states with higher deathpermillion rates than fls ron desantis whom the media have anointed public enemy 1 1 murphy d 2 cuomo d 3 baker r 4 raimondo d 5 lamont d 6 burgum r 7 noem r 8 reeves r',\n",
       " 'interesting to learn that 195152 flu outbreak in liverpool caused local death rates some 40 higher than those seen during the 1918 spanishflu pandemic questions asked in parliament but not sure the entire uk was closed down in response',\n",
       " 'as if there is a plan cockup profiteers not conspiracy what percentage are you throwing around is that the cfr or ifr and for what period now or earlier because it matters fyi lockdown isnt about death rates its about stopping the swamping of the nhs',\n",
       " 'study shows that housing crisis is literally killing people it argued overcrowding may contribute to increased death rates in poorer areas during the pandemic citing the impact of withinhousehold transmission on the spread of the virus',\n",
       " 'here is a list of governors who preside over states with higher deathpermillion rates than fls ron desantis whom the media have anointed public enemy 1 1 murphy d 2 cuomo d 3 baker r 4 raimondo d 5 lamont d 6 burgum r 7 noem r 8 reeves r',\n",
       " 'when i found what looked like a coverup of teacher covid death rates i wondered if it was my error i now believe theyre concealing date that should be public to hide their failures amp lies should be front page news lets do all we can to amplify',\n",
       " 'so what youre saying is 1 case and death rates wouldve collapsed in uk in may and june anyway 2 australia and new zealands success has nothing to do with lockdowns and continued restrictions',\n",
       " 'i was not talking about survival rates i was talking about death rates of people who have been tested positive and died within 28 days',\n",
       " 'since covid cases in india are declining steeplyampwe are almost at herd immunity levels esp in cities covid hardly affects healthy people ampchildren death rates for covid are lt11000 vaccines were given hasty approvals wo proper testing i would not take either of the vaccines',\n",
       " 'when i found what looked like a coverup of teacher covid death rates i wondered if it was my error i now believe theyre concealing date that should be public to hide their failures amp lies should be front page news lets do all we can to amplify',\n",
       " 'when people comment on slow vaccination rates someone always jumps in with its a marathon not a sprint maybe but when youre vaccinating the most atrisk first and the death aversion curve looks anything like the one below you should be sprinting out of the blocks',\n",
       " 'dit resultaat vond ik heel interessant the graphics reveal no relationship in stringency level as it relates to the death rates but finds a clear relationship between stringency and unemployment maw lockdowns genereren wel werkloosheid maar bereiken niet t primaire doel',\n",
       " 'when i found what looked like a coverup of teacher covid death rates i wondered if it was my error i now believe theyre concealing date that should be public to hide their failures amp lies should be front page news lets do all we can to amplify',\n",
       " 'when i found what looked like a coverup of teacher covid death rates i wondered if it was my error i now believe theyre concealing date that should be public to hide their failures amp lies should be front page news lets do all we can to amplify',\n",
       " 'apart from approving the virus 1st what has the uk actually done well in this pandemic brutally high death rates economy is fucked borders open with nothing on arrival numerous embarrassingly predictable u turns and 0 progress since it started yes its a hard task but cmon',\n",
       " 'when i found what looked like a coverup of teacher covid death rates i wondered if it was my error i now believe theyre concealing date that should be public to hide their failures amp lies should be front page news lets do all we can to amplify',\n",
       " 'it does for deaths albeit with data quality issues those suffering long term heart problems long term lung problems and other long term health problems you obsess over death rates with no desire to seek out the wider impact deal with what we know',\n",
       " 'when people comment on slow vaccination rates someone always jumps in with its a marathon not a sprint maybe but when youre vaccinating the most atrisk first and the death aversion curve looks anything like the one below you should be sprinting out of the blocks',\n",
       " 'when i found what looked like a coverup of teacher covid death rates i wondered if it was my error i now believe theyre concealing date that should be public to hide their failures amp lies should be front page news lets do all we can to amplify',\n",
       " 'remember the lockdown rules 1 if death rates go down that means the lockdown is working 2 if death rates go up that means they would have gone up far more without the lockdown 3 whatever happens after the lockdown ends the answer is always going to be another lockdown',\n",
       " 'here is a list of governors who preside over states with higher deathpermillion rates than fls ron desantis whom the media have anointed public enemy 1 1 murphy d 2 cuomo d 3 baker r 4 raimondo d 5 lamont d 6 burgum r 7 noem r 8 reeves r',\n",
       " 'when people comment on slow vaccination rates someone always jumps in with its a marathon not a sprint maybe but when youre vaccinating the most atrisk first and the death aversion curve looks anything like the one below you should be sprinting out of the blocks',\n",
       " 'when i found what looked like a coverup of teacher covid death rates i wondered if it was my error i now believe theyre concealing date that should be public to hide their failures amp lies should be front page news lets do all we can to amplify',\n",
       " 'when i found what looked like a coverup of teacher covid death rates i wondered if it was my error i now believe theyre concealing date that should be public to hide their failures amp lies should be front page news lets do all we can to amplify',\n",
       " 'the intention of lockdowns stop acute services becoming overwhelmed in that regard they work dont affect death rates until capacity is hit',\n",
       " 'when i found what looked like a coverup of teacher covid death rates i wondered if it was my error i now believe theyre concealing date that should be public to hide their failures amp lies should be front page news lets do all we can to amplify',\n",
       " 'remember the lockdown rules 1 if death rates go down that means the lockdown is working 2 if death rates go up that means they would have gone up far more without the lockdown 3 whatever happens after the lockdown ends the answer is always going to be another lockdown',\n",
       " 'remember the lockdown rules 1 if death rates go down that means the lockdown is working 2 if death rates go up that means they would have gone up far more without the lockdown 3 whatever happens after the lockdown ends the answer is always going to be another lockdown',\n",
       " 'remember the lockdown rules 1 if death rates go down that means the lockdown is working 2 if death rates go up that means they would have gone up far more without the lockdown 3 whatever happens after the lockdown ends the answer is always going to be another lockdown',\n",
       " 'when i found what looked like a coverup of teacher covid death rates i wondered if it was my error i now believe theyre concealing date that should be public to hide their failures amp lies should be front page news lets do all we can to amplify',\n",
       " 'remember the lockdown rules 1 if death rates go down that means the lockdown is working 2 if death rates go up that means they would have gone up far more without the lockdown 3 whatever happens after the lockdown ends the answer is always going to be another lockdown',\n",
       " 'study shows that housing crisis is literally killing people it argued overcrowding may contribute to increased death rates in poorer areas during the pandemic citing the impact of withinhousehold transmission on the spread of the virus',\n",
       " 'when i found what looked like a coverup of teacher covid death rates i wondered if it was my error i now believe theyre concealing date that should be public to hide their failures amp lies should be front page news lets do all we can to amplify',\n",
       " 'all this talk of lockdown 2021 is making me feel nostalgic for the january lockdowns of 2017 and 2018 when we had similar death rates looking back now its so hard to remember all those rules constraining our lives isnt it official phe figures on govt website',\n",
       " 'a national lockdown has a moderate advantage in saving lives with tremendous costs and possible overwhelming economic effects moreover such policies can inadvertently result in not minimizing death rates incorporating externalities at all especially in the long run',\n",
       " 'you were also able to have one of the higher covid19 infection and death rates in the region congrats on that dont forget about all of your constituents that died from the lack of federal leadership under your tenure never forget those who needlessly lost their lives',\n",
       " 'really you dont see the problem with the data you are displaying really if this is to try and say nothing to see here you either dont understand or are wilfully wishing higher death rates',\n",
       " 'remember the lockdown rules 1 if death rates go down that means the lockdown is working 2 if death rates go up that means they would have gone up far more without the lockdown 3 whatever happens after the lockdown ends the answer is always going to be another lockdown',\n",
       " 'if we lockdown and furlough this narcissist led useless scottish parliamentand all get on with our livesguaranteed the death rates would not be very differentthey would improve drastically with no freemanand all uk funds would go where they are meant to',\n",
       " 'when i found what looked like a coverup of teacher covid death rates i wondered if it was my error i now believe theyre concealing date that should be public to hide their failures amp lies should be front page news lets do all we can to amplify',\n",
       " 'when i found what looked like a coverup of teacher covid death rates i wondered if it was my error i now believe theyre concealing date that should be public to hide their failures amp lies should be front page news lets do all we can to amplify',\n",
       " 'when i found what looked like a coverup of teacher covid death rates i wondered if it was my error i now believe theyre concealing date that should be public to hide their failures amp lies should be front page news lets do all we can to amplify',\n",
       " 'when i found what looked like a coverup of teacher covid death rates i wondered if it was my error i now believe theyre concealing date that should be public to hide their failures amp lies should be front page news lets do all we can to amplify',\n",
       " 'if we lockdown and furlough this narcissist led useless scottish parliamentand all get on with our livesguaranteed the death rates would not be very differentthey would improve drastically with no freemanand all uk funds would go where they are meant to',\n",
       " 'when people comment on slow vaccination rates someone always jumps in with its a marathon not a sprint maybe but when youre vaccinating the most atrisk first and the death aversion curve looks anything like the one below you should be sprinting out of the blocks',\n",
       " 'when i found what looked like a coverup of teacher covid death rates i wondered if it was my error i now believe theyre concealing date that should be public to hide their failures amp lies should be front page news lets do all we can to amplify',\n",
       " 'when i found what looked like a coverup of teacher covid death rates i wondered if it was my error i now believe theyre concealing date that should be public to hide their failures amp lies should be front page news lets do all we can to amplify',\n",
       " 'the whole comparison approach is insidious when he wont discuss uk death rates in comparison',\n",
       " 'when i found what looked like a coverup of teacher covid death rates i wondered if it was my error i now believe theyre concealing date that should be public to hide their failures amp lies should be front page news lets do all we can to amplify',\n",
       " 'when i found what looked like a coverup of teacher covid death rates i wondered if it was my error i now believe theyre concealing date that should be public to hide their failures amp lies should be front page news lets do all we can to amplify',\n",
       " 'when people comment on slow vaccination rates someone always jumps in with its a marathon not a sprint maybe but when youre vaccinating the most atrisk first and the death aversion curve looks anything like the one below you should be sprinting out of the blocks',\n",
       " 'when i found what looked like a coverup of teacher covid death rates i wondered if it was my error i now believe theyre concealing date that should be public to hide their failures amp lies should be front page news lets do all we can to amplify',\n",
       " 'when i found what looked like a coverup of teacher covid death rates i wondered if it was my error i now believe theyre concealing date that should be public to hide their failures amp lies should be front page news lets do all we can to amplify',\n",
       " 'when i found what looked like a coverup of teacher covid death rates i wondered if it was my error i now believe theyre concealing date that should be public to hide their failures amp lies should be front page news lets do all we can to amplify',\n",
       " 'watching a documentary about the spanish flu whilst working and im actually in shock at the similarities to covid and how people didnt take it seriously enough leading to 3 waves of the virus and high death rates why do humans never learn',\n",
       " 'when i found what looked like a coverup of teacher covid death rates i wondered if it was my error i now believe theyre concealing date that should be public to hide their failures amp lies should be front page news lets do all we can to amplify',\n",
       " 'now that malaysia is in covid mitigation phase we have been for months now our focus should be on preventing death so hospital beds must be reserved for the sick all asymptomatic and mild cases must be put on home quarantine moh should reveal daily the bed occupancy rates',\n",
       " 'when i found what looked like a coverup of teacher covid death rates i wondered if it was my error i now believe theyre concealing date that should be public to hide their failures amp lies should be front page news lets do all we can to amplify',\n",
       " 'here is a list of governors who preside over states with higher deathpermillion rates than fls ron desantis whom the media have anointed public enemy 1 1 murphy d 2 cuomo d 3 baker r 4 raimondo d 5 lamont d 6 burgum r 7 noem r 8 reeves r',\n",
       " 'why we have one of the highest death rates and covid19 positive numbers in the world',\n",
       " 'talking of facts does this look like anything is happening we need to know the false positive rates and the true causes of death',\n",
       " 'mi10i the perfect flagship phone 108mp camera latest hm2 sensor snapdragon750g 5g 120hz adaptive sync display 6 different refresh rates 33w fast charging 3 stunning colours killer price rt and hit to welcome theperfect10 i mi',\n",
       " 'facts on suicide rates seeing tweets utilising mental health in much the same way as childrens mental health ie to manipulate us against lockdown and accept mass death',\n",
       " 'destroy the economy and society for death rates like the annual flu are you insane how much is paying you to spew out this bs',\n",
       " 'trigger was howard talking about failed decentralisation using an eg of germany and problem with vaccines whilst ignoring uks centralised approach sidelining local public health eg 12bn track and trace has lead to one of worlds worst death rates what was the point of it',\n",
       " 'here is a list of governors who preside over states with higher deathpermillion rates than fls ron desantis whom the media have anointed public enemy 1 1 murphy d 2 cuomo d 3 baker r 4 raimondo d 5 lamont d 6 burgum r 7 noem r 8 reeves r',\n",
       " 'if we lockdown and furlough this narcissist led useless scottish parliamentand all get on with our livesguaranteed the death rates would not be very differentthey would improve drastically with no freemanand all uk funds would go where they are meant to',\n",
       " 'the best way to compare 2020 to earlier years is to examine agestandardised death rates comparing death counts can be distorted slightly by ageing and growth of the population the cmi are reporting weekly using this method their mortality monitor is due out later today',\n",
       " 'get diagnosed look up data for all available treatments for the condition pick treatment that has the best rates in reducing death confirm treatment is applicable to you have treatment',\n",
       " 'death isnt political it has always been part of virus science that viruses mutate and that close contact increases transmission rates a tory voter who died of the virus would agree that the only priority is to control the virus and not to deal with short term policies',\n",
       " 'self explanatory worth sharing as polls last year showed people believed 7 of pop had died withof covid19 at the time the number was 007 each year in uk 093 of pop normally die just for context lockdown not linked to reduced death rates says a paper of 180 nations',\n",
       " 'when people comment on slow vaccination rates someone always jumps in with its a marathon not a sprint maybe but when youre vaccinating the most atrisk first and the death aversion curve looks anything like the one below you should be sprinting out of the blocks',\n",
       " 'except its biologically different causes different symptoms and much higher death rates',\n",
       " 'the problem isnt the death rate its the infection rate 03 of 66million is still nearly 200000 people there could be future viruses coming with increased death rates even a slight increase would be catastrophic we should take this as a warning',\n",
       " 'in our countries our immune systems are strong enough to fight covid 19 it will do nothing to us why do you think our death rates are low',\n",
       " 'remember the lockdown rules 1 if death rates go down that means the lockdown is working 2 if death rates go up that means they would have gone up far more without the lockdown 3 whatever happens after the lockdown ends the answer is always going to be another lockdown',\n",
       " 'when people comment on slow vaccination rates someone always jumps in with its a marathon not a sprint maybe but when youre vaccinating the most atrisk first and the death aversion curve looks anything like the one below you should be sprinting out of the blocks',\n",
       " 'here is a list of governors who preside over states with higher deathpermillion rates than fls ron desantis whom the media have anointed public enemy 1 1 murphy d 2 cuomo d 3 baker r 4 raimondo d 5 lamont d 6 burgum r 7 noem r 8 reeves r',\n",
       " 'remember the lockdown rules 1 if death rates go down that means the lockdown is working 2 if death rates go up that means they would have gone up far more without the lockdown 3 whatever happens after the lockdown ends the answer is always going to be another lockdown',\n",
       " 'covid 1984 is a scam the death rates from years previous proves it beyond any doubt the police are prostitutes for the corrupt government and mockingbird media come on now use your brains and do some research',\n",
       " 'here is a list of governors who preside over states with higher deathpermillion rates than fls ron desantis whom the media have anointed public enemy 1 1 murphy d 2 cuomo d 3 baker r 4 raimondo d 5 lamont d 6 burgum r 7 noem r 8 reeves r',\n",
       " 'now that malaysia is in covid mitigation phase we have been for months now our focus should be on preventing death so hospital beds must be reserved for the sick all asymptomatic and mild cases must be put on home quarantine moh should reveal daily the bed occupancy rates',\n",
       " 'when people comment on slow vaccination rates someone always jumps in with its a marathon not a sprint maybe but when youre vaccinating the most atrisk first and the death aversion curve looks anything like the one below you should be sprinting out of the blocks',\n",
       " 'here is a list of governors who preside over states with higher deathpermillion rates than fls ron desantis whom the media have anointed public enemy 1 1 murphy d 2 cuomo d 3 baker r 4 raimondo d 5 lamont d 6 burgum r 7 noem r 8 reeves r',\n",
       " 'those statistics you are quoting are not correct and hospitalisation rates are not nearly as skewed as death rates more than half of hospitalisations are under 65',\n",
       " 'when people comment on slow vaccination rates someone always jumps in with its a marathon not a sprint maybe but when youre vaccinating the most atrisk first and the death aversion curve looks anything like the one below you should be sprinting out of the blocks',\n",
       " 'they showed johnsons public broadcast knowing fine well that it did not apply to their broadcast area yet they dont compare the covid infection and death rates of england and scotland',\n",
       " 'you keep calling me things like dopey yet you still arent able to source the official death rates showing scotland being much worse than london ne england is horrific btw',\n",
       " 'so explain who gains from this conspiracy and full lockdowns its not just about headline death rates i think you need to do more research',\n",
       " '2 crucial facts about sweden 1 only 18th highest death rate in europe 17 countries had higher death rates despite lockdowns 2 covid deaths peaked and fell naturally in sweden on the exact same day as they did in the uk april 8 proving no lockdown needed',\n",
       " 'here is a list of governors who preside over states with higher deathpermillion rates than fls ron desantis whom the media have anointed public enemy 1 1 murphy d 2 cuomo d 3 baker r 4 raimondo d 5 lamont d 6 burgum r 7 noem r 8 reeves r',\n",
       " 'tom where you been it doubled to 24 billion whilst we were distracted by something else oh could be staggering death rates amp total failure of test amp waste from amp serco',\n",
       " 'all this talk of lockdown 2021 is making me feel nostalgic for the january lockdowns of 2017 and 2018 when we had similar death rates looking back now its so hard to remember all those rules constraining our lives isnt it official phe figures on govt website',\n",
       " 'our actions over the next couple of weeks are a matter of life and death for many community transmission rates are high and any activity outside your home is highrisk stay home if outside keep your face covering on washsanitize your hands and keep distance from others',\n",
       " 'tom where you been it doubled to 24 billion whilst we were distracted by something else oh could be staggering death rates amp total failure of test amp waste from amp serco',\n",
       " 'you mean 500 million lol not a billion and thats not what we wanted we wanted healthcare georgia is at the bottom and the maternal death rate is worse than costa ricas police reform better wages covid relief black people are dying at higher rates in ga like herman cain',\n",
       " 'yet your lot dont give a damn for the worse preventable corvid19 death rates in the world by the criminally negligent trump 350k millions going hungry and loosing their jobs whilst the billionaires are getting richer under trump',\n",
       " 'tom where you been it doubled to 24 billion whilst we were distracted by something else oh could be staggering death rates amp total failure of test amp waste from amp serco',\n",
       " 'tom where you been it doubled to 24 billion whilst we were distracted by something else oh could be staggering death rates amp total failure of test amp waste from amp serco',\n",
       " 'for a gathering that could increase rates of infection and even death community service mayhap they are lucky they only got six months',\n",
       " 'when people comment on slow vaccination rates someone always jumps in with its a marathon not a sprint maybe but when youre vaccinating the most atrisk first and the death aversion curve looks anything like the one below you should be sprinting out of the blocks',\n",
       " 'i have asked this poster for their definition of what the worst covid record in europe is as by my reckoning both belgium amp italy are two countries that have higher death rates than ours unless i get a satisfactory response i will regard this as another fbpe smearlie ',\n",
       " 'all this talk of lockdown 2021 is making me feel nostalgic for the january lockdowns of 2017 and 2018 when we had similar death rates looking back now its so hard to remember all those rules constraining our lives isnt it official phe figures on govt website',\n",
       " 'here is a list of governors who preside over states with higher deathpermillion rates than fls ron desantis whom the media have anointed public enemy 1 1 murphy d 2 cuomo d 3 baker r 4 raimondo d 5 lamont d 6 burgum r 7 noem r 8 reeves r',\n",
       " 'when people comment on slow vaccination rates someone always jumps in with its a marathon not a sprint maybe but when youre vaccinating the most atrisk first and the death aversion curve looks anything like the one below you should be sprinting out of the blocks',\n",
       " 'here is a list of governors who preside over states with higher deathpermillion rates than fls ron desantis whom the media have anointed public enemy 1 1 murphy d 2 cuomo d 3 baker r 4 raimondo d 5 lamont d 6 burgum r 7 noem r 8 reeves r',\n",
       " 'here is a list of governors who preside over states with higher deathpermillion rates than fls ron desantis whom the media have anointed public enemy 1 1 murphy d 2 cuomo d 3 baker r 4 raimondo d 5 lamont d 6 burgum r 7 noem r 8 reeves r',\n",
       " 'if we lockdown and furlough this narcissist led useless scottish parliamentand all get on with our livesguaranteed the death rates would not be very differentthey would improve drastically with no freemanand all uk funds would go where they are meant to',\n",
       " 'whats the excess death rates for last year in the north east as compared to previous years',\n",
       " 'can you define what your definition of worst covid record in europe is please as by my reckoning both belgium amp italy are two countries that have higher death rates than ours or is this just another fbpe lie ',\n",
       " 'when people comment on slow vaccination rates someone always jumps in with its a marathon not a sprint maybe but when youre vaccinating the most atrisk first and the death aversion curve looks anything like the one below you should be sprinting out of the blocks',\n",
       " 'i love looking at one person ridiculing someone over something that hasnt done anything statistically in comparison to past 5 years other than be tragically similarnorth and south of borderdeath rates are not unique at all',\n",
       " 'the us is an interesting case study places like new york and california who had the harshest and longest lockdowns have the highest death rates florida has been free from restrictions for months and one of the oldest populations hasnt seen anywhere near the same level',\n",
       " 'in context she means more specifically every person who died of aids in neighborhoods where developers wanted to wipe out rent control but my larger grim point is all sorts of profitdriven processes are enabled by accelerated death rates such as those we are kickin it with',\n",
       " 'bloody hell i am actually agreeing with we flew in from goa 174 on a repatriation flight to a disgusting unsupervised heathrow t5 no wonder death rates are bad gmb viewers beg piers to stop interrupting vaccine minister',\n",
       " 'remember the lockdown rules 1 if death rates go down that means the lockdown is working 2 if death rates go up that means they would have gone up far more without the lockdown 3 whatever happens after the lockdown ends the answer is always going to be another lockdown',\n",
       " 'here is a list of governors who preside over states with higher deathpermillion rates than fls ron desantis whom the media have anointed public enemy 1 1 murphy d 2 cuomo d 3 baker r 4 raimondo d 5 lamont d 6 burgum r 7 noem r 8 reeves r',\n",
       " 'i wonder did cancer death rates fall in 2020',\n",
       " 'boris has achieved his world beating record numbers just a few days after brexit of highest death rates highest rates of covid infection highest hospitalisation numbers and the greatest hit on an economy truly record breaking numbers',\n",
       " 'i dont have to work from home and neither do they given the complete absence of established disease vectors or higher death rates among teachers on the frontline',\n",
       " 'not a mention of hospital admission rates though just death figures getting on with it only has 1 outcome bad',\n",
       " 'if its come to lockdown we should shield the vulnerable in line with the known virus death rates this should be a family by family choice since its their lives people can actually make informed decisions about their lives',\n",
       " 'thank you james right question but wrong person to ask this is a professor who uses a computer language developed in the 1950s to run his forecasts he forecast death rates at 4000 a day now his model has not been validated by comparing his predictions to reality why not',\n",
       " 'when you think german death rates over the last month from covid 19 are higher than englands and if you remember the media saying their track and trace was fantastic it makes one actually question whether track and trace helps if you think it does explain germany ',\n",
       " 'when you think german death rates over the last month from covid 19 are higher than englands and if you remember the media saying their track and trace was fantastic it makes one actually question whether track and trace helps if you think it does explain germany ',\n",
       " 'wrong this is all false positive pcr testing death rates from covid19 in uk are same as france italy and less than germany 100 more deaths however the uk are testing between 614 times the number those countries are testing the problem is obvious',\n",
       " 'when people comment on slow vaccination rates someone always jumps in with its a marathon not a sprint maybe but when youre vaccinating the most atrisk first and the death aversion curve looks anything like the one below you should be sprinting out of the blocks',\n",
       " 'when people comment on slow vaccination rates someone always jumps in with its a marathon not a sprint maybe but when youre vaccinating the most atrisk first and the death aversion curve looks anything like the one below you should be sprinting out of the blocks',\n",
       " 'in context she means more specifically every person who died of aids in neighborhoods where developers wanted to wipe out rent control but my larger grim point is all sorts of profitdriven processes are enabled by accelerated death rates such as those we are kickin it with',\n",
       " 'when people comment on slow vaccination rates someone always jumps in with its a marathon not a sprint maybe but when youre vaccinating the most atrisk first and the death aversion curve looks anything like the one below you should be sprinting out of the blocks',\n",
       " 'in context she means more specifically every person who died of aids in neighborhoods where developers wanted to wipe out rent control but my larger grim point is all sorts of profitdriven processes are enabled by accelerated death rates such as those we are kickin it with',\n",
       " 'when people comment on slow vaccination rates someone always jumps in with its a marathon not a sprint maybe but when youre vaccinating the most atrisk first and the death aversion curve looks anything like the one below you should be sprinting out of the blocks',\n",
       " 'what are the figures on teachers and their relatives death rates',\n",
       " 'i wont keep going on i dont disagree with you lockdowns are detrimental but so is the virus its a difficult position i dont believe one way is wholly correct i dont agree with death rates alone as there is more to it like long term illness that cant be treated',\n",
       " 'in context she means more specifically every person who died of aids in neighborhoods where developers wanted to wipe out rent control but my larger grim point is all sorts of profitdriven processes are enabled by accelerated death rates such as those we are kickin it with',\n",
       " 'remember the lockdown rules 1 if death rates go down that means the lockdown is working 2 if death rates go up that means they would have gone up far more without the lockdown 3 whatever happens after the lockdown ends the answer is always going to be another lockdown',\n",
       " 'remember the lockdown rules 1 if death rates go down that means the lockdown is working 2 if death rates go up that means they would have gone up far more without the lockdown 3 whatever happens after the lockdown ends the answer is always going to be another lockdown',\n",
       " 'africans dont need the vaccine they are immune to covid 19 see the death rates and compare with non africans then you may borrow our serum',\n",
       " 'if the death rates keep climbing it could be achieved much quicker',\n",
       " 'lockdowns do what they are meant to do stop capacity being breached they dont suddenly stop all infections or improve death rates this shows uk got hit very hard and very quickly in march and early april couldnt agree more',\n",
       " 'when people comment on slow vaccination rates someone always jumps in with its a marathon not a sprint maybe but when youre vaccinating the most atrisk first and the death aversion curve looks anything like the one below you should be sprinting out of the blocks',\n",
       " 'the best way to compare 2020 to earlier years is to examine agestandardised death rates comparing death counts can be distorted slightly by ageing and growth of the population the cmi are reporting weekly using this method their mortality monitor is due out later today',\n",
       " 'remember the lockdown rules 1 if death rates go down that means the lockdown is working 2 if death rates go up that means they would have gone up far more without the lockdown 3 whatever happens after the lockdown ends the answer is always going to be another lockdown',\n",
       " 'bloody hell i am actually agreeing with we flew in from goa 174 on a repatriation flight to a disgusting unsupervised heathrow t5 no wonder death rates are bad gmb viewers beg piers to stop interrupting vaccine minister',\n",
       " 'just stop it nobody is buying that line of crap anymore look at 2020 death rates comparatively youve been duped',\n",
       " 'when people comment on slow vaccination rates someone always jumps in with its a marathon not a sprint maybe but when youre vaccinating the most atrisk first and the death aversion curve looks anything like the one below you should be sprinting out of the blocks',\n",
       " 'when people comment on slow vaccination rates someone always jumps in with its a marathon not a sprint maybe but when youre vaccinating the most atrisk first and the death aversion curve looks anything like the one below you should be sprinting out of the blocks',\n",
       " 'here is a list of governors who preside over states with higher deathpermillion rates than fls ron desantis whom the media have anointed public enemy 1 1 murphy d 2 cuomo d 3 baker r 4 raimondo d 5 lamont d 6 burgum r 7 noem r 8 reeves r',\n",
       " 'when people comment on slow vaccination rates someone always jumps in with its a marathon not a sprint maybe but when youre vaccinating the most atrisk first and the death aversion curve looks anything like the one below you should be sprinting out of the blocks',\n",
       " 'yeah excess deaths is a good way to consider looking at it but listened to a podcast the other day and it described how lockdown has affected life so much that death rates will be hugely different eg increase suicide rate but huge drop in deaths by car accident etc',\n",
       " 'in context she means more specifically every person who died of aids in neighborhoods where developers wanted to wipe out rent control but my larger grim point is all sorts of profitdriven processes are enabled by accelerated death rates such as those we are kickin it with',\n",
       " 'in context she means more specifically every person who died of aids in neighborhoods where developers wanted to wipe out rent control but my larger grim point is all sorts of profitdriven processes are enabled by accelerated death rates such as those we are kickin it with',\n",
       " 'so death from infection rate 6 with the ridiculous caveat of the 28 day positive test rule no matter what you die from death to population 011 just over 110th of a percent for the worst case rates apparently',\n",
       " 'when people comment on slow vaccination rates someone always jumps in with its a marathon not a sprint maybe but when youre vaccinating the most atrisk first and the death aversion curve looks anything like the one below you should be sprinting out of the blocks',\n",
       " 'we literally have one of the worst infectiondeath rates in the world and literally have had the worst financial impact of any major nation it is a fact that the uk has handled the pandemic and the economy worse than any other nation we are bottom of the league',\n",
       " 'caseshospitalizations in mexico have surged as millions of tourists travel to the country mexico has the highest covid19 fatality ratio the of deaths divided by the of confirmed cases in the world and one of the highest death rates according to johns hopkins medicine',\n",
       " 'bloody hell i am actually agreeing with we flew in from goa 174 on a repatriation flight to a disgusting unsupervised heathrow t5 no wonder death rates are bad gmb viewers beg piers to stop interrupting vaccine minister',\n",
       " 'all this talk of lockdown 2021 is making me feel nostalgic for the january lockdowns of 2017 and 2018 when we had similar death rates looking back now its so hard to remember all those rules constraining our lives isnt it official phe figures on govt website',\n",
       " 'oh come on mutations are normalcommon amp variants are always less virulent no danger at all in fact this is a fake pandemic when death rates are just the same as the yearly average death rates',\n",
       " 'remember the lockdown rules 1 if death rates go down that means the lockdown is working 2 if death rates go up that means they would have gone up far more without the lockdown 3 whatever happens after the lockdown ends the answer is always going to be another lockdown',\n",
       " 'despite scotland having one of the highest death rates in the world these nutters actually believe this shite',\n",
       " 'here is a list of governors who preside over states with higher deathpermillion rates than fls ron desantis whom the media have anointed public enemy 1 1 murphy d 2 cuomo d 3 baker r 4 raimondo d 5 lamont d 6 burgum r 7 noem r 8 reeves r',\n",
       " 'here is a list of governors who preside over states with higher deathpermillion rates than fls ron desantis whom the media have anointed public enemy 1 1 murphy d 2 cuomo d 3 baker r 4 raimondo d 5 lamont d 6 burgum r 7 noem r 8 reeves r',\n",
       " 'here is a list of governors who preside over states with higher deathpermillion rates than fls ron desantis whom the media have anointed public enemy 1 1 murphy d 2 cuomo d 3 baker r 4 raimondo d 5 lamont d 6 burgum r 7 noem r 8 reeves r',\n",
       " 'how can we celebrate increasing recoveries when death rates are also rapidly increasing more and more people are dying than before we dont have this virus under control as soon as the death toll starts decreasing we can start celebrating recoveries',\n",
       " 'remember the lockdown rules 1 if death rates go down that means the lockdown is working 2 if death rates go up that means they would have gone up far more without the lockdown 3 whatever happens after the lockdown ends the answer is always going to be another lockdown',\n",
       " 'when people comment on slow vaccination rates someone always jumps in with its a marathon not a sprint maybe but when youre vaccinating the most atrisk first and the death aversion curve looks anything like the one below you should be sprinting out of the blocks',\n",
       " 'when people comment on slow vaccination rates someone always jumps in with its a marathon not a sprint maybe but when youre vaccinating the most atrisk first and the death aversion curve looks anything like the one below you should be sprinting out of the blocks',\n",
       " 'remember the lockdown rules 1 if death rates go down that means the lockdown is working 2 if death rates go up that means they would have gone up far more without the lockdown 3 whatever happens after the lockdown ends the answer is always going to be another lockdown',\n",
       " 'here is a list of governors who preside over states with higher deathpermillion rates than fls ron desantis whom the media have anointed public enemy 1 1 murphy d 2 cuomo d 3 baker r 4 raimondo d 5 lamont d 6 burgum r 7 noem r 8 reeves r',\n",
       " 'when people comment on slow vaccination rates someone always jumps in with its a marathon not a sprint maybe but when youre vaccinating the most atrisk first and the death aversion curve looks anything like the one below you should be sprinting out of the blocks',\n",
       " 'ten months in with one of the worst death rates in the world when other countries implemented these steps at the start this criminally negligent government is on the precipice of thinking about it everyone knows the ports airports have been open doors a disgrace',\n",
       " 'here is a list of governors who preside over states with higher deathpermillion rates than fls ron desantis whom the media have anointed public enemy 1 1 murphy d 2 cuomo d 3 baker r 4 raimondo d 5 lamont d 6 burgum r 7 noem r 8 reeves r',\n",
       " 'when people comment on slow vaccination rates someone always jumps in with its a marathon not a sprint maybe but when youre vaccinating the most atrisk first and the death aversion curve looks anything like the one below you should be sprinting out of the blocks',\n",
       " 'the best way to compare 2020 to earlier years is to examine agestandardised death rates comparing death counts can be distorted slightly by ageing and growth of the population the cmi are reporting weekly using this method their mortality monitor is due out later today',\n",
       " 'we expect this strategic partnership to bring us closer to our goal of lowering liver cancerrelated death rates in china said sizhen wang cofounder and ceo of genetron health china gth',\n",
       " 'in context she means more specifically every person who died of aids in neighborhoods where developers wanted to wipe out rent control but my larger grim point is all sorts of profitdriven processes are enabled by accelerated death rates such as those we are kickin it with',\n",
       " 'remember the lockdown rules 1 if death rates go down that means the lockdown is working 2 if death rates go up that means they would have gone up far more without the lockdown 3 whatever happens after the lockdown ends the answer is always going to be another lockdown',\n",
       " 'here is a list of governors who preside over states with higher deathpermillion rates than fls ron desantis whom the media have anointed public enemy 1 1 murphy d 2 cuomo d 3 baker r 4 raimondo d 5 lamont d 6 burgum r 7 noem r 8 reeves r',\n",
       " 'remember the lockdown rules 1 if death rates go down that means the lockdown is working 2 if death rates go up that means they would have gone up far more without the lockdown 3 whatever happens after the lockdown ends the answer is always going to be another lockdown',\n",
       " 'when people comment on slow vaccination rates someone always jumps in with its a marathon not a sprint maybe but when youre vaccinating the most atrisk first and the death aversion curve looks anything like the one below you should be sprinting out of the blocks',\n",
       " 'when people comment on slow vaccination rates someone always jumps in with its a marathon not a sprint maybe but when youre vaccinating the most atrisk first and the death aversion curve looks anything like the one below you should be sprinting out of the blocks',\n",
       " 'when people comment on slow vaccination rates someone always jumps in with its a marathon not a sprint maybe but when youre vaccinating the most atrisk first and the death aversion curve looks anything like the one below you should be sprinting out of the blocks',\n",
       " 'why has flu reduced then oh cos we are wearing masks amp socially distancing so why is covid so highcos people are not wearing masks or socially distancing no wonder we are all so confused surely the only way to tell if in a pandemic is to look at excess death rates',\n",
       " 'curious if they were so healthy resourceful and skilled at farming hunting and architecture etc why is their death rates so much worse than ours',\n",
       " 'when people comment on slow vaccination rates someone always jumps in with its a marathon not a sprint maybe but when youre vaccinating the most atrisk first and the death aversion curve looks anything like the one below you should be sprinting out of the blocks',\n",
       " 'when people comment on slow vaccination rates someone always jumps in with its a marathon not a sprint maybe but when youre vaccinating the most atrisk first and the death aversion curve looks anything like the one below you should be sprinting out of the blocks',\n",
       " 'when people comment on slow vaccination rates someone always jumps in with its a marathon not a sprint maybe but when youre vaccinating the most atrisk first and the death aversion curve looks anything like the one below you should be sprinting out of the blocks',\n",
       " 'here is a list of governors who preside over states with higher deathpermillion rates than fls ron desantis whom the media have anointed public enemy 1 1 murphy d 2 cuomo d 3 baker r 4 raimondo d 5 lamont d 6 burgum r 7 noem r 8 reeves r',\n",
       " 'other countries make people entering take a test 3 days before flying we dont because guess what were following the science other countries have far lower death rates they are still pursuing natural herd immunity this is about survival of the fittest for them',\n",
       " 'if youre really interested in understanding the the factors affecting covid death rates by country this is an excellent study concludes that political measures eg lockdowns have very little impact',\n",
       " 'when people comment on slow vaccination rates someone always jumps in with its a marathon not a sprint maybe but when youre vaccinating the most atrisk first and the death aversion curve looks anything like the one below you should be sprinting out of the blocks',\n",
       " 'when people comment on slow vaccination rates someone always jumps in with its a marathon not a sprint maybe but when youre vaccinating the most atrisk first and the death aversion curve looks anything like the one below you should be sprinting out of the blocks',\n",
       " 'here is a list of governors who preside over states with higher deathpermillion rates than fls ron desantis whom the media have anointed public enemy 1 1 murphy d 2 cuomo d 3 baker r 4 raimondo d 5 lamont d 6 burgum r 7 noem r 8 reeves r',\n",
       " 'here is a list of governors who preside over states with higher deathpermillion rates than fls ron desantis whom the media have anointed public enemy 1 1 murphy d 2 cuomo d 3 baker r 4 raimondo d 5 lamont d 6 burgum r 7 noem r 8 reeves r',\n",
       " 'remember the lockdown rules 1 if death rates go down that means the lockdown is working 2 if death rates go up that means they would have gone up far more without the lockdown 3 whatever happens after the lockdown ends the answer is always going to be another lockdown',\n",
       " '7 projected mutation of covid19 and or coinfection with a secondary virus referred to as covid21 leading to a third wave lockdown with a much higher death rates and a higher infection rates expected by february 2021',\n",
       " 'now that malaysia is in covid mitigation phase we have been for months now our focus should be on preventing death so hospital beds must be reserved for the sick all asymptomatic and mild cases must be put on home quarantine moh should reveal daily the bed occupancy rates',\n",
       " 'when people comment on slow vaccination rates someone always jumps in with its a marathon not a sprint maybe but when youre vaccinating the most atrisk first and the death aversion curve looks anything like the one below you should be sprinting out of the blocks',\n",
       " 'when people comment on slow vaccination rates someone always jumps in with its a marathon not a sprint maybe but when youre vaccinating the most atrisk first and the death aversion curve looks anything like the one below you should be sprinting out of the blocks',\n",
       " 'when people comment on slow vaccination rates someone always jumps in with its a marathon not a sprint maybe but when youre vaccinating the most atrisk first and the death aversion curve looks anything like the one below you should be sprinting out of the blocks',\n",
       " 'yes cars have all those things and also have speed weight and subsequent momentum to puts the danger involved orders of magnitude higher as evidenced by the death toll and injury rates in cars and around cars so given that its so easy to just clip on a helmet why dont',\n",
       " 'this is true all you have to do is compare the death rates from the last few years no change',\n",
       " 'when people comment on slow vaccination rates someone always jumps in with its a marathon not a sprint maybe but when youre vaccinating the most atrisk first and the death aversion curve looks anything like the one below you should be sprinting out of the blocks',\n",
       " 'when people comment on slow vaccination rates someone always jumps in with its a marathon not a sprint maybe but when youre vaccinating the most atrisk first and the death aversion curve looks anything like the one below you should be sprinting out of the blocks',\n",
       " 'who cares im more concerned about the propaganda coming from you and your government wee have one of the highest death rates in the world you have failed this country for the past 10 months wee worse of than ever as for lockdown more people out going to work its a joke',\n",
       " 'when people comment on slow vaccination rates someone always jumps in with its a marathon not a sprint maybe but when youre vaccinating the most atrisk first and the death aversion curve looks anything like the one below you should be sprinting out of the blocks',\n",
       " 'when people comment on slow vaccination rates someone always jumps in with its a marathon not a sprint maybe but when youre vaccinating the most atrisk first and the death aversion curve looks anything like the one below you should be sprinting out of the blocks',\n",
       " 'when people comment on slow vaccination rates someone always jumps in with its a marathon not a sprint maybe but when youre vaccinating the most atrisk first and the death aversion curve looks anything like the one below you should be sprinting out of the blocks',\n",
       " 'other countries make people entering take a test 3 days before flying we dont because guess what were following the science other countries have far lower death rates they are still pursuing natural herd immunity this is about survival of the fittest for them',\n",
       " 'if death rates were prorata across the uk englands 784 deaths would equate elsewhere to scotland 66 wales 44 ni 26 i have english relatives some elderly its terrifying to think how they can survive this in a country ran by certifiable lunatics',\n",
       " 'and that ladies and gentlemen is why we have the highest infection and death rates in europe what is wrong with these people we can see it why cant they its not rocket science all other countries have strict rules except us',\n",
       " 'here is a list of governors who preside over states with higher deathpermillion rates than fls ron desantis whom the media have anointed public enemy 1 1 murphy d 2 cuomo d 3 baker r 4 raimondo d 5 lamont d 6 burgum r 7 noem r 8 reeves r',\n",
       " 'here is a list of governors who preside over states with higher deathpermillion rates than fls ron desantis whom the media have anointed public enemy 1 1 murphy d 2 cuomo d 3 baker r 4 raimondo d 5 lamont d 6 burgum r 7 noem r 8 reeves r',\n",
       " 'when people comment on slow vaccination rates someone always jumps in with its a marathon not a sprint maybe but when youre vaccinating the most atrisk first and the death aversion curve looks anything like the one below you should be sprinting out of the blocks',\n",
       " 'when people comment on slow vaccination rates someone always jumps in with its a marathon not a sprint maybe but when youre vaccinating the most atrisk first and the death aversion curve looks anything like the one below you should be sprinting out of the blocks',\n",
       " 'when people comment on slow vaccination rates someone always jumps in with its a marathon not a sprint maybe but when youre vaccinating the most atrisk first and the death aversion curve looks anything like the one below you should be sprinting out of the blocks',\n",
       " 'if we lockdown and furlough this narcissist led useless scottish parliamentand all get on with our livesguaranteed the death rates would not be very differentthey would improve drastically with no freemanand all uk funds would go where they are meant to',\n",
       " 'when people comment on slow vaccination rates someone always jumps in with its a marathon not a sprint maybe but when youre vaccinating the most atrisk first and the death aversion curve looks anything like the one below you should be sprinting out of the blocks',\n",
       " 'hello its a new day whos ready to push ready to push for retroactive covid relief and to push for student loan cancellation for climate justice healthcare voting rights ending the death penalty what policies do you most want to push for',\n",
       " 'astonishing fact the uk has suffered more covid deaths in 24 hours 1041 than australia has since the start of the pandemic 909 what a monumental failure',\n",
       " 'everyone who worked in republican party politics the last four years helped make this happen this along with the hundreds of thousands of dead from covid was part of the cost of the 63 court and the corporate tax rate being cut from 35 to 21 you built this',\n",
       " 'left protests alright remember wear a mask to protect your identity and stop covid bring goggles a helmet and sharpie important numbers on your arm for when you get arrested and please turn off your phone because theyll track you right wing protests',\n",
       " 'coronavirus live news england sees record hospitalisations arizona is covid hot spot of the world',\n",
       " 'its gonna get called off shrews have lots of confirmed covid cases',\n",
       " 'canada is now requiring all international travellers over the age of five to present a negative covid19 test taken within 72 hours of scheduled departure read more about these changes to entry requirements and what it means for internationalstudents',\n",
       " 'track covid19 data for your state and county right here usafacts covid19',\n",
       " 'so my mum just told me a messed up thing that happened a girl threw a party at her mums house for her birthday despite the mum saying she didnt want no party there a couple days later they both tested positive for covid and the girl survived but her mum died',\n",
       " 'dc is an incredible and beautiful city today might be a dark day but if youd like to do something to help people in the district deal with food insecurity and covid19 please consider donating to',\n",
       " 'read the small print and think again covid isnt the only thing killing people bur its what they get on their death certificate its disgusting',\n",
       " 'pandemic tourism and settler colonial primitivism on full display indigenous oceanic peoples are dying from covid at disproportionate rates in occupied hawaii while these unmasked tourists drum and dance carefreesome without clothesat the beach in maui',\n",
       " 'you should be ashamed you are a disgrace to the united states of america democracy the constitution and all that is right and decent you carry responsibility for the death of the woman shot today and countless covid victims',\n",
       " 'the covid19 vaccine communication handbook a practical guide for improving vaccine communication amp fighting misinformation our new handbook pdfliving wiki which helps fighting the spread of misinformation about covid19 vaccines c19vaxwiki 1n',\n",
       " 'kentucky receives 215 in federal money for every dollar of taxes paid before the covid19 pandemic 35 of the states total revenues came from the federal government kentucky is one of the most federally dependent states in the nation',\n",
       " 'uk parliament 2nd covid vaccine should be 21 28 days not 12 weeks challenge the uk government sign the petition via',\n",
       " 'a 107year old north dakota woman who recovered from covid19 has received her first dose of vaccine ',\n",
       " 'what happened last night isnt about democrats or republicans its about our country we now have a real chance to beat covid fight climate change make work pay and pass a new civil rights act congratulations to raphael warnock and jon ossoff',\n",
       " 'customers who renew for a standard massachusetts drivers licenseid card online between 61220 amp the date when the state of emergency ends will be able to upgrade to a real id if they need it in 2021 at no additional charge pls visit for more info',\n",
       " 'abolish ice death camps disbanded admin flu amp covid vaccines to undocumented find missing separated parents reunite bear ears deliver public healthcare option prison reform',\n",
       " 'political trust is on its knees and it was before long covid19 hit why has the uks covid19 response been so unsuccessful',\n",
       " 'wear a mask social distance stay home when feeling sick get tested when showing symptoms download the covid alert pa app help us stopthespread learn more paagainstcovid',\n",
       " 'i hope so i come from the uk where we have singlepayer and i would not swap it for anything first in the world to vaccinate for covid19 first to approve the oxford vaccine as and i have discussed the concept of the nhs is like a warm blanket of security',\n",
       " 'my 81 year old grandma has beaten covid max pro',\n",
       " 'if youre shocked with how the american government has handled the distribution of covid19 vaccines just wait until you find out how they handle your tax dollars',\n",
       " 'absolutely brilliant from andrea leadsom finally someone is being allowed to say what the majority of the country are think this covid pandemic has been so one sided in its coverage and the hysteria created by msm has been awful',\n",
       " 'al hilal vs asante kotoko caf champions league called off 7 kotoko players and 4 officials tested positive for covid 19 but the kotoko officials suspected foul play after it emerged that kwame pokus results was typed in a form of a letter',\n",
       " 'so many emails from students paranoid about colleges holding physical exams in covid times whos responsible if they get infected young people are already going through alot its been such a difficult year why cant there be a rule against physical exams till pandemic ends',\n",
       " 'its been one of the worst shifts of my entire life the bbc has been given exclusive access to a london hospital to see how doctors and nurses are coping with covid',\n",
       " 'confirmed covid cases at mcmaster january 4',\n",
       " 'otherwise you will question vaccination numbers every covid test is recorded against adhaar but people still say testing numbers are fake',\n",
       " 'palmer osborne 73 of apache junction arizona died of covid on dec 29 he loved his family he loved to travel fish and dance he was married for 53 years to his love pat he visited 10 countries and 49 states he was wonderful',\n",
       " 'dont flip what i said you pos you said that cause your against masks and causing harm to everyone around you you dont deserve the hospital of you catch covid',\n",
       " 'what happened last night isnt about democrats or republicans its about our country we now have a real chance to beat covid fight climate change make work pay and pass a new civil rights act congratulations to raphael warnock and jon ossoff',\n",
       " 'your govt is walking into a disaster that will far outweigh that of covid itself destruction of childrens educationwelfare mass unemployment millions of businesses destroyed cultural life decimated widespread mental illness vast backlog of untreated sick',\n",
       " 'cases are expected to remain rare but are being reported worldwide for info and resources on first episode psychosis and early serious mental illness visit',\n",
       " 'there are no itu beds in the valleys so you might be 23 and invincible if you get covid but what if you crash your car or a friend takes an overdose or a parent needs emergency surgery guess what no beds for you either and thats how this affects everyone rant over',\n",
       " 'there is a need for covid vaccines there are trained staff available this includes all community pharmacies put the two together surely a successful proposal wholistic thinking',\n",
       " 'one in five kids live in live in low income in our region in some neighbourhoods its one in two kids and the impact of covid19 has made the situation worse for some families to find out how you can help visit',\n",
       " 'dear the newspapers i didnt battle covid i lay on my bed reading a book till it went away',\n",
       " 'thousands of medical students who were on rotations in teaching hospitals were affected by covid19 and many gave their lives further delay is unbearable and physical exams are a riskthe authorities have to have formulate a policy for medical students justiceforkyrgyzmedicos',\n",
       " 'teachers should be at the head of the vaccine queue after healthcare workers obvs we keep being told they are no more likely to get infected than anyone else not true up to 333 more likely',\n",
       " 'there are no excess deaths in uk and average annual death rate is same they are attributing other deaths to covid the greatest social experiment on humanity is being led by even bigger disinformation warfare',\n",
       " 'so given that its now 5 days since the covid scare suspension amp weve heard nothing about positive tests are we to assume there were none and that the have been gloriously scammed if so im assuming their investigation will award the points',\n",
       " 'gavin williamson also said testing is going to be the centre of our plans to return children back to school back to the classroom back to college as soon as possible',\n",
       " 'leinsters clash with northampton under threat due to covid outbreak via ',\n",
       " 'so if anyone is wondering if you can get a covid19 reinfection if you have longcovid the answer is yes',\n",
       " 'uk parliament 2nd covid vaccine should be 21 28 days not 12 weeks challenge the uk government via',\n",
       " 'us coronavirus states call in national guard and train volunteers to help boost vaccination pace as us hits a covid19 daily death toll record cnn',\n",
       " 'moh allowed the distribution of unsafe condoms and gloves to the public without validation on whether or not they were safe whatsoever the risks include exposure to covid19 for frontline workers stis for condom users unwanted pregnancies supplied by honeybee',\n",
       " 'and on top of the senate race news my cousinroommate is out getting her covid vaccine right now',\n",
       " 'if you live in knowle west amp need support during lockdown the knowle west covid support hub is here to help you can also keep up to date with the latest local news by following on social media amp visiting weareknowlewest',\n",
       " 'it was just said in parliament today by an mp that only 400 people between the ages of 16 and 60 have died from covid who didnt have underlying health conditions anyone find the clip',\n",
       " 'the doublethink involved in this piece is utterly breathtaking to achieve growth government must avoid putting barriers between businesses and customers and must remove regulatory barriers yet brexit will have no economic impact',\n",
       " 'yes same and it failed but there been lots of opportunities to think creatively about how to manage this disease eg creating a shield for the elderly and vulnerable avg death age from covid is same as the national death about 83 ivermectin drugs section off hospitals etc',\n",
       " 'do you still have concerns about the covid19 vaccine this document will provide you with a clear insight and guidance covid19vaccine',\n",
       " 'drivethrough covid vaccinations come to cobb the jim r miller park center will be turned from a testing center to a drivethrough vaccination center starting thursday for how you can get an appointment visit',\n",
       " 'another look forward and available to preorder now brandnew from coleman is the castle pines blackout collection coleman tents camping due to covid restrictions the store is closed until further notice our online store is open as normal',\n",
       " 'massachusetts hospitals are filling up with covid patients health care workers are exhausted',\n",
       " 'giant superspreader event made for survival of covid which needs human hosts in order to live',\n",
       " 'if a vaccine clinic in reach of you offered at 5pm every weekday we will offer leftover still in time doses of covid vaccine that was meant for clients who did not turn up to anybody walking in who wants it on a 1st come 1st served basis would you go',\n",
       " 'covid vaccination from the front line my group of practices was initially told we would get our first delivery on 28th december then 4th jan then 11th jan now we are 6th wave and it will be 13th 14th or 15th jan we are raring to go but have no vaccines why',\n",
       " 'the advent of the covid19 pandemic has disrupted businesses and impacted the culture of organisations at an unprecedented scale watch our corporate culture of integrity amp risk critical considerations in the new normal here',\n",
       " 'this is how many people are testing positive for covid19 everyday not everyone will survive some will have long term health impacts please stay at home where possible wear a mask when out and practice social distancing',\n",
       " 'i hear wait until youve had covid then youll change your tune i had sars1 in 03 my brother was told i had 34hrs at best the chaplain came to console my brother and mum crashing a country spiritually and financially for a virus with a 98 survival rate is unforgivable',\n",
       " 'covid is real guys yeah girl we been knew',\n",
       " 'nhs england reports a further 674 covid19 hospital deaths occurring over 30 dates 494 were reported last wednesday 416 two weeks ago amp 369 three weeks ago',\n",
       " 'up to 60 of us healthcare workers refusing experimental covid mrna vaccine dont want to be a guinea pig',\n",
       " 'asking us to pray for kim and kanye there are literally thousands of people dying everywhere everyday because of covid19 please pray for people infected and affected by the pandemic',\n",
       " 'palmer osborne 73 of apache junction arizona died of covid on dec 29 he loved his family he loved to travel fish and dance he was married for 53 years to his love pat he visited 10 countries and 49 states he was wonderful',\n",
       " 'government announces mandatory covid testing at uk airports to celebrate sixmonth anniversary of other countries doing it',\n",
       " 'what are they distracting us from 1 vaccine smuggling 2 pogo workers getting vaccine ahead of our healthcare workers 3 hk detected the new covid variant from a traveller from ph 4 duterte admin appears bent on extending term with chacha 5 continued pnp killings',\n",
       " 'this is absolutely outrageous for the judge to deny assange bail and to claim that belmarsh is doing a fine job of handling covid even while london is on lockdown judge proves yet again how captive she is to the uk agency interests which tend to show subservience to us govt',\n",
       " 'a 107year old north dakota woman who recovered from covid19 has received her first dose of vaccine ',\n",
       " 'angry mobcovid denier herders',\n",
       " 'what about all the poor sods dealing with longcovid they could have years of after effects to deal with its not just the death rates that we have to think about',\n",
       " 'the world health organization has criticized china for not authorizing a team of international experts to enter the country to investigate the origins of the coronavirus pandemic follow our updates',\n",
       " 'there you have it even poor countries have controled the covid wearing a mask why dont you do it',\n",
       " 'today is my birthday im still suffering illeffects from covid and my afib and cant yet return to work but it seems the senate is going to be effectively blue so happy birthday to me',\n",
       " 'covid19 vaccination scam alert',\n",
       " 'ceo of ontarios st josephs health system and niagara health has resigned from his advisory role on the covid19 science table after it was found he travelled to the dominican republic during the provincewide lockdown',\n",
       " 'billie eilish beastie boys finneas amp more customize yeti coolers for crew nation covid19 relief auction hi all follow me i follow back retweet ok thank you more see twitter button likes billboardnews feedly',\n",
       " 'dear canadian residents i invite you to answer this anonymous survey for the federal governments covid alert app it is for an ethicsapproved study that i am conducting please share along with your network thank you herv',\n",
       " 'inside the covid ward',\n",
       " 'palmer osborne 73 of apache junction arizona died of covid on dec 29 he loved his family he loved to travel fish and dance he was married for 53 years to his love pat he visited 10 countries and 49 states he was wonderful',\n",
       " 'many medical personnel who care for covid19 patients have struggled to get vaccinated particularly those who arent directly employed by hospitals or longterm care facilities it feels as though we have been forgotten one nursing assistant says',\n",
       " 'icymi mi covid alert is an app that will send you a notification when youve been near someone who tests positive covid19 contacttracing',\n",
       " 'today will be the first of 3 covid19 vaccine town halls organized by the and pa house amp senate members to provide more info about the vaccine amp answer your questions the town hall will be at 300 pm to register for the event visit',\n",
       " 'gov ricketts rne says undocumented workers at meatpacking plants will not be eligible to receive the covid vaccine thats at least 14 of nebraskas meatpacking workers according to ',\n",
       " 'medics dont just take results they also make diagnosis from clinical symptoms and examination they also repeat the covid test to rule out false ve and you want photos of ill and dying patients wow',\n",
       " 'home teams connive with covid19 officers to tamper results of opponents this is because the officers are from same countries of the home teams mafia',\n",
       " 'to succeed outside the eu we need to be fitter leaner and more globally engaged the only question is whether we make the necessary decision now or whether we wait to have our hand forced by economic reality',\n",
       " 'prolonged use of facemask does not play an effective role in protecting against covid19 but rather it causes severe diseases like lung cancer diarrhea hypoxemia and hypercapnia and ultimate to cause death',\n",
       " 'covid cases 2593 government chools are opening on the 20th of january',\n",
       " 'this is a fantastic fact led summary of our our governments actions on covid by crazy how little we did before march i forgot about that covid catastrophe how the government brought britain to its knees',\n",
       " 'what this wasis never about covid its about controll period',\n",
       " 'there are new information and advice sites now providing free covid19 testing for hgv van and light goods vehicle drivers find a location near you',\n",
       " 'good roundup of latest evidence on impacts of covid19 see blog from colleagues from ethiopia summarising experience of parents of preprimary half reported they had no childrens books at home earlyyears',\n",
       " 'asking us to pray for kim and kanye there are literally thousands of people dying everywhere everyday because of covid19 please pray for people infected and affected by the pandemic',\n",
       " 'if ossoff and warnock win georgia is my first vacation destination in a postcovid world just gotta thank every georgian personally ya know',\n",
       " 'breaking rdif and the government of serbia announce the agreement to supply 2 million doses of sputnik v to the country vaccination against covid19 with sputnik v started in serbia today the agreement will enable the vaccination of 1 million people',\n",
       " 'johnsons claim that the covid response was fine until a new variant came along is a denial of history which stops us learning from history and learning from past failures the failure to build a working test and trace system the failure to support people to selfisolate',\n",
       " 'why is a negative covid test not a requirement to enter this country these lock downs wont work if people can freely move in and out this is all too slow and indecisive this is not leadership',\n",
       " 'the covid19 vaccines are finally here and so are the scammers heres how to protect yourself and your family from con artists',\n",
       " 'most nigerian students would need auto correct to spell correctly when they go back to school after asuu wahala and covid19 ends asuu',\n",
       " 'shocking news gasen runoff voters make pocketbook decision gop control of senate 2k covid stimulus check dont happen democrat control of senate more money is on the way the undecided folks broke toward dems amp working families who lean gop lost motivation to vote',\n",
       " 'thats why when you heard about covid19 in march along with other assholes you moved around your investments to avoid personal losses',\n",
       " '1outrageous to deny undocumented workers including those in meatpacking access to vaccines this industry relies on foreignborn workers including undocumented workers according to cdc these foreignborn workers hold riskier jobs for getting covid than usborn counterparts',\n",
       " 'given they have been repeatedly wrong about covid in the past it seems unlikely they are the best people to listen to about it now and if you edit a newspaper tv or radio show why not think about giving more of a voice to those whove been proved right ends',\n",
       " 'government announces mandatory covid testing at uk airports to celebrate sixmonth anniversary of other countries doing it',\n",
       " 'i hope so i come from the uk where we have singlepayer and i would not swap it for anything first in the world to vaccinate for covid19 first to approve the oxford vaccine as and i have discussed the concept of the nhs is like a warm blanket of security',\n",
       " 'this article on drs getting covid longcovid is really interesting esp their neg experiences of cbtget treatments they once prescribed themselves to their mecfs patients note the survey 2017 quoted is actually a study i published shall link below',\n",
       " 'another week another covid test',\n",
       " 'in case u want to verify',\n",
       " 'master release in malaysia 99 sure gona miss fdfs covid cases increasing and today is the highest number of reported case ever gov is considering for lockdown again gona miss the fun',\n",
       " 'in 2018 cgl ssc has one year because of their issues in 2019 they conducted exam but for tier 3 result they took almost half year in 2020 they have an excuse covid 19 they can mess this year too ssccgl19t3resultdate ssccgl19t2quickresult',\n",
       " 'people are itching for a governance crisis like we dont already have covid to deal with and scandalous as is the modus',\n",
       " 'my question is what is mitt doing on a plane in the covid seat with a bunch of idiots not wearing masks',\n",
       " '23 youth from punjab take covid vaccine mistaking it for drug',\n",
       " 'todays covid19 in info and updates goc website on coronavirus disease canada covid19 situational awareness dashboard',\n",
       " 'info for those asking about covid briefings theyve not been daily over festive period but will be back to normal from tomorrow at 1215pm from next week between media updates and statementsfmqs well be back to 5 day a week schedule',\n",
       " 'more than 131000 people are currently hospitalized with covid in the us icu admissions for the virus are up 22 in california over the last 2 weeks spoke to one doctor who said the severity of illness in his patients is worse than hes ever seen',\n",
       " 'the signs are nigh good healthcare an actual covid plan vaccines in arms stimulus keeping a roof over peoples heads it all goes downhill from there',\n",
       " 'dr john lee former professor of pathology says there are no excess deaths caused by covid according to the latest mortality figures adding that they are within the envelope of what normally happens this time of year watch the show',\n",
       " 'senior postdoc oxford uk individual based models of hiv and covid with at more details',\n",
       " 'what are they distracting us from 1 vaccine smuggling 2 pogo workers getting vaccine ahead of our healthcare workers 3 hk detected the new covid variant from a traveller from ph 4 duterte admin appears bent on extending term with chacha 5 continued pnp killings',\n",
       " 'worcester bid have been successful in their tender to deliver peer to peer networks giving the business the tools and support to adapt and develop allowing business to transition during post the covid pandemic and to embrace new challenges with the evolution of the high st',\n",
       " 'pastors are waiting for covid19 to disappear so they can continue healing the sick',\n",
       " 'uk parliament 2nd covid vaccine should be 21 28 days not 12 weeks challenge the uk government sign the petition via',\n",
       " 'they took less time because in 2020 scientists have access to more technology than ever the scientific name for covid19 is sarscov2 derived from the 2003 sars pandemic a coronavirus that did not kill many people so scientists have been studying this for a long time now',\n",
       " 'shocking news gasen runoff voters make pocketbook decision gop control of senate 2k covid stimulus check dont happen democrat control of senate more money is on the way the undecided folks broke toward dems amp working families who lean gop lost motivation to vote',\n",
       " 'china is going to sulk rex patrick the independent senator for south australia said the obstruction of the who investigators reflected the chinese communist partys paranoia about international scrutiny',\n",
       " 'has anyone made the equivalent comparison between flu figures for the past and covid figures this winter',\n",
       " 'paying a price for being wealthy education colleges universities large endowments coronavirus covid19 relief package',\n",
       " 'covid vaccination from the front line my group of practices was initially told we would get our first delivery on 28th december then 4th jan then 11th jan now we are 6th wave and it will be 13th 14th or 15th jan we are raring to go but have no vaccines why',\n",
       " '2021 grammys postponed to march due to covid19 concerns',\n",
       " 'as the death toll from covid19 climbs windsor regional hospital has been forced to use its temporary morgue at the met campus',\n",
       " 'stage 1 losing my dad at 3 stage 2 losing my mom at 16 stage 3 got laid off from my job bcos of covid 19 stage 4 the final boss myasthenia gravis hello friends please help me extend my life as ayaw ko naman iwanan magisa ang kapatid ko together we can defeat this',\n",
       " 'undocumented grief is something citizens will never understand not being able to travel home to say your last goodbyes even before covid while citizens go just to get away from the pandemic and bring it to pueblos that dont have the same resources to manage an outbreak',\n",
       " ' like many high tory wannabes with a feigned mastery of economic affairs daniel hannan talks nonsense in this article and must be ignored he little understands debt vs credit costs vs prices or that debt is deferred future taxation ',\n",
       " 'i will treat all covid deniers with the contempt they quite rightly deserve your timeline says enough goodbye',\n",
       " 'republican gov doug ducey has urged constituents to wear masks and stay home to curb the spread of covid19',\n",
       " 'erin otoole is publicly demanding what the trudeau liberals have been practising quietly for almost a year negligence of federal prisoners regarding covid19',\n",
       " 'even the stasi had limits it seems the covid cops do not',\n",
       " 'not covid but still cant smell',\n",
       " '271 people test positive for covid19 from 5830 samples tested in the last 24 hours health cs kagwe says number rises to 97398 changamkanawestfm changamkanawestfm changamkanawestfm changamkanawestfm',\n",
       " 'many medical personnel who care for covid19 patients have struggled to get vaccinated particularly those who arent directly employed by hospitals or longterm care facilities it feels as though we have been forgotten one nursing assistant says',\n",
       " 'overwhelming evidence that there is no relationship between lockdowns and covid deaths',\n",
       " 'through our global health crisis reporting forum we heard from international health experts leading factcheckers veteran journalists about how covid19 has transformed the industry reporters coveringcovid in global hotspots see our recap',\n",
       " 'is it any wonder people feel its one rule for them and another for the rest of us',\n",
       " 'the risk covid19 poses to pregnant and breastfeeding women is higher than the risk of taking a vaccine against the virus that causes it onhealth ontariovaccine covid19ontario',\n",
       " 'no law can order us greek christians defy covid ban on epiphany services',\n",
       " 'zoomliondisinfects once we disinfect not only wipe you be free from covid but we will also be free from insects',\n",
       " 'stage 1 losing my dad at 3 stage 2 losing my mom at 16 stage 3 got laid off from my job bcos of covid 19 stage 4 the final boss myasthenia gravis hello friends please help me extend my life as ayaw ko naman iwanan magisa ang kapatid ko together we can defeat this',\n",
       " 'if ossoff and warnock win georgia is my first vacation destination in a postcovid world just gotta thank every georgian personally ya know',\n",
       " 'just listened to andrea leadsome on this programme so misses chris whittys point re next winter and possible precautions still required against covid precaution may not mean lockdown as she supposes she misunderstood entirely she should thinksimples',\n",
       " 'the comment section gave me covid',\n",
       " 'organizers showed up and the voters decided we know that our community is ready for change we are ready to fight covid19 and to be represented in the halls of power by real leadership',\n",
       " 'dr tom stewart ceo of st josephs health system and niagara health spent weeks in the dominican republic amid covid19 pandemic',\n",
       " 'interest in gardening surged during the first wave of the covid19 pandemic continued through autumn and even now in the dead of winter canadians continue to embrace plants as a way to commune with nature and bring the outdoors',\n",
       " 'once again disappointed but not surprised how long will we let them uphold these double standards communism marxism leninism anticapitalism jacobreesmogg toryscum marxismleninism marx lenin cpb ycl communistpartyofbritain',\n",
       " 'not all covid tests are created equal some of have a much higher limit of detection than others that is they can detect much lower amounts of virus than other tests learn how the limit of detection and other factors shape covid19 testing strategies',\n",
       " 'even as many remain transfixed by the election in georgia thousands of americans have died today from covid and thousands more will tomorrow thousands died yesterday i pause close my eyes and say a prayer for them and all those in pain suffering and mourning',\n",
       " 'my son lost his dad to covid in april and his walks give him a chance to talk about his grief which is not easy to express when autistic we will safely go out when needed',\n",
       " 'please beware of this fake text message purporting to be from the nhs offering the covid19 vaccine the link takes you to a fake nhs website which requests personal and financial details you will not be asked for financial details for the vaccination nhs covid19 scam',\n",
       " 'people who dont follow covid guidelines should be denied medical treatment i hope yall have that same energy for smokers drinkers obese people oh wait fake compassion everywhere the mask always slips',\n",
       " 'please stay at home as covid19 is running amok in london and it really is getting desperately bad no long eloquent and well referenced tweet im afraid just the reflections of a busy and tired icu consultant worst that ive seen it in my 20 odd years by a cataclysmic margin',\n",
       " 'thats fine but if you dont take the vaccine and get covid please refuse any nhs medical help',\n",
       " 'what to know about becoming an expat during the covid19 pandemic',\n",
       " 'sir plz remove criteria of 75 for all students we are dropper and our boards were cancelled bcoz of covid remove it for all nits iits and gftis plz',\n",
       " 'this thought just hit me covid has only been in the human environment for a year it has adapted and become more contagious if a strain of covid overcomes a vaccinated immune system we are in some serious undeniable trouble think mrsa wear a mask please',\n",
       " 'looks like african americans have saved us from ourselves yet again god bless i am so glad the country can be back to normal after we are out of the covid nightmare itll really be time to dance thank you',\n",
       " 'there are no itu beds in the valleys so you might be 23 and invincible if you get covid but what if you crash your car or a friend takes an overdose or a parent needs emergency surgery guess what no beds for you either and thats how this affects everyone rant over',\n",
       " 'just been for my 1st covid vaccination thankyou to everyone down in the vaccination hub making this work for us a model example of a swift streamlined service amazing work guys you all should be so proud see you for round 2 soon',\n",
       " 'conservative mp andrea leadsom says some constituents on their knees from lockdown restrictions are telling her id rather get covid than carry on like this politicslive',\n",
       " 'you cant see covid but the covid superspreader event is going to be extremely damaging good thing the majority of those impacted will be those that attended but i wont miss a single one of them',\n",
       " 'covid is real guys yeah girl we been knew',\n",
       " 'if they stopped talking about covid 247 no one would know it existed what kind of pandemic needs professional marketing',\n",
       " 'and there was me thinking it was a scottish parliament election that is happening in may a referendum would be post covid if westminster tory gov could ever stop fucking it up for everyone closetheborders',\n",
       " 'listening to the first christmas review of and the subject of covid testing at the racing sounds like something would say no testing means no positive resultsget everyone tested when possible and save lives should be paramount',\n",
       " 'the landscape for offices and malls hold the promise of a strong bounce back once the vaccine is widely distributed yet it still appears that some changes may be here to stay learn more about how the american economy is evolving here cre realestate',\n",
       " 'its a huge slap in the face to families when death is listed as covid latest death in guelph contracted it while in hospital for another surgery numerous medical conditions for years i bet the news never told you that though yes these are facts',\n",
       " 'covid who team investigating virus origins denied entry to china',\n",
       " 'hydroxychloroquine use has no correlation with covid19 mortality rate and may cause severe side effects see',\n",
       " 'me too but safely and sadly our schools were just not built to handle covid safety guidelines quite the opposite they were designed to cram as many bodies into a small unventilated area as possible plus 5 more',\n",
       " 'tweens dont want an online university education thats been obvious for a very long time amp their response to having to do their degree from the parental home under covid restrictions fully reinforces that the joyful rediscovery of bricks amp mortar unis in autumn will be huge',\n",
       " 'yall do know the covid vaccine doesnt prevent covid right ',\n",
       " 'what are they distracting us from 1 vaccine smuggling 2 pogo workers getting vaccine ahead of our healthcare workers 3 hk detected the new covid variant from a traveller from ph 4 duterte admin appears bent on extending term with chacha 5 continued pnp killings',\n",
       " 'where are the others present from are they london mps not really travelling out of areas sammy has a history of bad conduct during this pandemic frankly next election if you or yours have had covid and you vote for him you are a clown',\n",
       " 'there are no itu beds in the valleys so you might be 23 and invincible if you get covid but what if you crash your car or a friend takes an overdose or a parent needs emergency surgery guess what no beds for you either and thats how this affects everyone rant over',\n",
       " 'uk government failure on quarantine and testing has left us exposed to worrying new covid strains the pm casually talked about border testing yesterday but is failing to follow up with urgent action they need to get a grip on the situation fast',\n",
       " 'dr john lee former professor of pathology says there are no excess deaths caused by covid according to the latest mortality figures adding that they are within the envelope of what normally happens this time of year watch the show',\n",
       " 'covid vaccination from the front line my group of practices was initially told we would get our first delivery on 28th december then 4th jan then 11th jan now we are 6th wave and it will be 13th 14th or 15th jan we are raring to go but have no vaccines why',\n",
       " 'republican gov doug ducey has urged constituents to wear masks and stay home to curb the spread of covid19',\n",
       " 'uk parliament 2nd covid vaccine should be 21 28 days not 12 weeks challenge the uk government sign the petition via',\n",
       " 'progressive covid19 cases 1954553 discharged 1852759 active 50808 deaths 49825 on january 6 in maharashtra',\n",
       " 'it was originally reported that there was an agreement in place and he was supposed to sign in july the signing day got moved to january because of covid now i am told everything will be official on january 15',\n",
       " 'china denies entry to a team of who experts who were to investigate the origins of covid19',\n",
       " 'twitter allowed the russian collusion hoax plus the brett kavanaugh gangrapist hoax to circulate they censored the true hunter biden story and will now censor anything that goes against the multibillion dollar evil covid19 ring i will not be touching the vaccine',\n",
       " 'i agree with covid recovery group chair once the most vulnerable have been vaccinated draconian restrictions must be substantially removed',\n",
       " 'stop hting on rich kids and focus on how to be a rich parent so your kids can come from a wealthy home for them not to inherit the bad attitude of how u dislike rich kids due to your poor life jealousy is a disease worst than covid cruisewitherica',\n",
       " 'valuable insights and ideas for taking good care of ourselves to build and maintain our resilience and manage our stress during the year ahead resilience stressmanagement mindbodysoul 2021goals covid19leadership habits gratitude mentalhealth',\n",
       " 'kenya to procure 24 million doses of covid19 vaccine by february changamkanawestfm changamkanawestfm changamkanawestfm changamkanawestfm',\n",
       " 'lets see 59k us deaths in vietnam out of 500k troops which covid demographic has a fatality rate over 12 dont ever let people tell you this is comparable to a war',\n",
       " 'this is where the hugely misleading data comes from youre covidrelated if you have a positive test result but arent in hospital for covid match that with a hugely inaccurate test and boom you can say hospitalisations have risen by 40',\n",
       " 'i made a ribbon heart for those that lost loved ones to covid this link is for button pins that are about the size of a quarter',\n",
       " 'gcse and alevel exams to be replaced by teacher assessments this summer',\n",
       " '1 j can act i played shrek in shrek the musical before covid i have the experience',\n",
       " 'why well still be wearing masks for a while covid19 vaccine pandemic',\n",
       " 'they must apply for covid19 relief fund to pay their rental and electricity bill ya rand stadium',\n",
       " 'in todays paper governor baker says highly infectious covid19 variant is likely already in massachusetts doctors are divided over changing vaccine dosages to reach more people as covid19 cases surge and more',\n",
       " 'rmt slams company for failing to take new variant of covid seriously on and accuses bosses of playing fast and loose with staff lives',\n",
       " 'cabell county free covid19 testing jan 6 10 am2 pm in huntington at unlimited future inc 1650 8th avenue this site is a partnership between and for additional sites in cabell county visit',\n",
       " 'sasks daily bump in new covid19 cases stuck in long plateau experts say',\n",
       " 'i miss life without covid',\n",
       " 'i know yall are diaordered but sometimes keep shit to yourself this is so rude and insensitive imo there are people here who have had covid and people who have lost people from covid weird ass',\n",
       " 'has anyone made the equivalent comparison between flu figures for the past and covid figures this winter',\n",
       " 'i think about covid robbing me of a year of college all the time',\n",
       " 'caf needs to overhaul its covid protocols completely establish regional hubs identify multiple test centres etc if they cant perhaps the infrastructure isnt there to allow continental competitions uefa dont face the geographic challenges europe is comparatively tiny',\n",
       " 'breakthrough test kit identifies 39 virus strains including covid19mutations',\n",
       " 'what happened last night isnt about democrats or republicans its about our country we now have a real chance to beat covid fight climate change make work pay and pass a new civil rights act congratulations to raphael warnock and jon ossoff',\n",
       " 'it was just said in parliament today by an mp that only 400 people between the ages of 16 and 60 have died from covid who didnt have underlying health conditions anyone find the clip',\n",
       " 'i wonder how a potential covid curfew affects the homeless hard to be inside by nine when you live under a goddamn overpass',\n",
       " 'as covid soars to daily records its time for us to follow some basic rules if you cant stay home wear your mask stay six feet or more away from others',\n",
       " 'the handful who have chosen literally to ignore our morals ignore our customs ignore our laws and guidelines then you must equally be held accountable spot on yet the uks got celebs campaigning against deportations of rapistspaedosmurderers',\n",
       " 'agree 100 with weve been counting the days since health workers in villagereachs core countries have worked without a covid19 vaccine compared to first health workers in us its been 23 days',\n",
       " 'there are no itu beds in the valleys so you might be 23 and invincible if you get covid but what if you crash your car or a friend takes an overdose or a parent needs emergency surgery guess what no beds for you either and thats how this affects everyone rant over',\n",
       " 'definitely covid just being a nuisance',\n",
       " 'no choice but to accept and be patient those of us with diabetes and other complications can look forward to the vaccinations which hopefully gives us a return to most of the freedoms before covid struck',\n",
       " '6 ukrainian police and health officials are investigating reports that some citizens have been illegally getting inoculated against covid19 with vaccines that have not been officially approved prime minister denys shmyhal said',\n",
       " 'lmbt lagi hopefully covid da takde',\n",
       " 'documents minister approved orders for 1920000 failed covid19 test kits without first finding out if they worked contract total value 149048550 cdnpoli',\n",
       " 'my mom is in her 60s and a proud fangirl my aunt is a successful doctor in her 50s and still goes to concerts for singersgroups she likes well before covid she did life doesnt stop when you reach a certain age lol',\n",
       " 'reminder new appointments for the covid19 vaccination will be added through the duval county health department online system this and every thursday at 5pm the link will change each week and will be posted on the alerts page on their website',\n",
       " 'conflict climate change and covid19 are devastating families in cabo delgado our representative in mozambique talks through what unicef is doing to help',\n",
       " 'it is indeed important that tries to help with getting access to the covid19 vaccine',\n",
       " 'ceo of ontarios st josephs health system and niagara health has resigned from his advisory role on the covid19 science table after it was found he travelled to the dominican republic during the provincewide lockdown',\n",
       " 'scottish woman on the news saying she is worried about whether shell get tae lanzarote in a few weeks havin tae pay for covid tests hen im worried if its safe tae even go tae aldis',\n",
       " 'al hilal vrs asante kotoko game called off as we await caf decision asante kotoko has officially petitioned caf on the overwhelming anomalies association with our covid 19 results details soon',\n",
       " 'gcse and alevel exams to be replaced by teacher assessments this summer',\n",
       " '40yrs of researchno vaccine for hiv 100yrs of research no vaccine for cancer1yr research they produced vaccine for covid 19 the same man who feels the world population be reduced now want to save the world with a vaccine how hmmmnnnnn',\n",
       " 'the it wont affect me attitude boils my piss too you might think your safe but covid doesnt care who you are hope to god your wife doesnt contract it',\n",
       " 'launched delhi education conference 2021 a forum to brainstorm on reimagining school education in postcovid era many national amp international education experts will join us register now delhieducationconference buildingthefoundation',\n",
       " 'thomas reynolds register of probate for androscoggin county said he wishes the information about workers testing positive had gotten out to other departments quicker than it did so that people can take appropriate measures',\n",
       " 'hunger is killing nigerians faster than covid19',\n",
       " 'honey bee distributed not fit for use medical supplies we have disappeared covid donations into private pockets now we have a real covid crisis what will we do',\n",
       " 'dolly parton killing covid colourised',\n",
       " 'do you still have concerns about the covid19 vaccine this document will provide you with a clear insight and guidance covid19vaccine',\n",
       " 'podover all passengers travelling from kent ports to france including children aged 11 need a negative covid test result carried out less than 72 hours before departure please check',\n",
       " 'india assures sri lanka that it will give the country priority when it supplies covid vaccines now being produced by india sri lankan president office statement',\n",
       " 'ema has recommended granting a conditional marketing authorisation for covid19 vaccine moderna to prevent covid19 in people from 18 years of age',\n",
       " 'good morning and congratulations to victory in gasen with on track to win we are one step closer to flipping the senate and progress on key issues like covid relief clean energy jobs voting rights student debt amp more',\n",
       " 'you can take part in our 2021 focus group keeping children active during the school day is challenging enough without the disruption weve all experienced in 2020 research 2021',\n",
       " 'hoping that everything will be back to normal already then there will be a seonho fan meeting or 2d1n members fan meet here in the ph plus i can meet all my moots aaaaaahhhh covid alis ka na panira ka ih huhuhu',\n",
       " 'you should go to the hospital and hold some covid 19 patients hands as you want to help',\n",
       " 'julians life will be on hold now for possibly another couple of years and his health will remain at higher risk from covid than the general community though his health is already compromised this is very tough for him and for his family but lets not forget no extradition',\n",
       " 'stay educated on how to stay safe during this lockdown stay home stay safe protect the nhs nhs covid school teamboulton',\n",
       " 'coronavirus in bristol the current guidance is to stay at home and away from others read the latest updates here',\n",
       " 'the first was sending covid patients from hospitals back to nursing homes in wave one',\n",
       " 'government announces mandatory covid testing at uk airports to celebrate sixmonth anniversary of other countries doing it',\n",
       " 'what happened last night isnt about democrats or republicans its about our country we now have a real chance to beat covid fight climate change make work pay and pass a new civil rights act congratulations to raphael warnock and jon ossoff',\n",
       " 'gottlieb coronavirus variant in south africa may evade antibody drugs business insider ',\n",
       " 'more than 1000 people have died of covid19 in los angeles county over the past week as california grapples with surging cases and overwhelmed hospitals',\n",
       " 'conflict climate change and covid19 are devastating families in cabo delgado our representative in mozambique talks through what unicef is doing to help',\n",
       " 'nick sabans daughter kristen thinks ohio state is attempting to give justin fields time to heal by calling bs on the covid cases in a sincedeleted tweet',\n",
       " 'palmer osborne 73 of apache junction arizona died of covid on dec 29 he loved his family he loved to travel fish and dance he was married for 53 years to his love pat he visited 10 countries and 49 states he was wonderful',\n",
       " 'developing a safe effective vaccine is a crucial step forward in ending the pandemic but vaccines are only as good as their distribution and so far the distribution of covid19 vaccines hasnt passed muster',\n",
       " 'government announces mandatory covid testing at uk airports to celebrate sixmonth anniversary of other countries doing it',\n",
       " 'as the ncaa heads to indiana a slew of covid19 protocols will follow the ncaa will provide covid19 testing to players coaches administrators and officials during the tournament and all teams will practice at the indiana convention center',\n",
       " 'coronavirus 2067 new cases from additional 156553 tests reported in the uae 2199 recoveries 4 deaths 195520 total recoveries 218766 total cases 689 total deaths follow the latest covid19 developments here',\n",
       " 'literally took 15 minutes for my covid results to come out somebody needs to develop a similar system in malawi because itll save us loads of time and money',\n",
       " 'emergency outbreak control engagement board this afternoon to discuss the current covid position the lockdown amp our local response partnership working has been crucial to getting us through this',\n",
       " 'shocking news gasen runoff voters make pocketbook decision gop control of senate 2k covid stimulus check dont happen democrat control of senate more money is on the way the undecided folks broke toward dems amp working families who lean gop lost motivation to vote',\n",
       " 'canada is basically the only g7 country with two distinct covid strategies ones working ones not the nearzero covid strategy aggressively dealing with outbreaks and restricting travel used in atlantic and northern canada works they say',\n",
       " 'if you know you cant afford a covid test theres a much cheaper alternative that doesnt cost you anything wear a mask and follow all other protocols',\n",
       " 'i dreamed that ded of covid i feel so bad that i even dreamed of it i feel like crying since early morning what the fuck was even that dream',\n",
       " 'al hilal vrs asante kotoko game called off as we await caf decision asante kotoko has officially petitioned caf on the overwhelming anomalies association with our covid 19 results details soon',\n",
       " 'precautions during covid19 are an absolute must your professional car service from chicago and surrounding suburbs 7087700805',\n",
       " 'what happened last night isnt about democrats or republicans its about our country we now have a real chance to beat covid fight climate change make work pay and pass a new civil rights act congratulations to raphael warnock and jon ossoff',\n",
       " 'icymitwo lawyers talk covid19 vaccine concerns new dol bulletins and looking toward 2021 theemployerhandbook',\n",
       " 'a simplified layout of covid vaccination session site sketched during during training session by me',\n",
       " '05012021 covid 19 deaths northern ireland 18 scotland 11 wales 17 england 784 reported as uk 830',\n",
       " 'a world health organization team of experts due to arrive in china to investigate the origins of the covid19 pandemic has been prevented from entering the country at the last minute',\n",
       " 'a buffalony couple talk about how monclonal antibodies kept them out of the hospital after covid19 wny buffalony',\n",
       " 'some ohio k12 students returned to inperson schooling this week with loosened requirements for covid19 quarantining but public health experts are mixed',\n",
       " 'deaths have increased over the past two months accounting for about 41 of all deaths in the state from covid19',\n",
       " 'pitkin county covid19 vaccine registration for 70plus age group exceeds census estimates 1600 to 1000',\n",
       " 'covid19 hospitalizations reach new high in north texas this is critical',\n",
       " 'our ceo melanie bridgeforth sat down virtually with to take a deeper look at how the covid19 pandemic and related economic crisis are impacting women and their families in alabama',\n",
       " 'the says the new covid19 variant can be up to 70 more infectious heres what you need to know about this mutant strain',\n",
       " 'us decline in 2020 worst covid19 response in the world deep economic crisis quasi civil war during the protests erupted after the assassination of george floyd landmark chinaeu investment deal nord stream 2 goes ahead failures in venezuela hong kong and belarus',\n",
       " 'during covid guidelines and restrictions can change fast use our business travel tools to make informed and timely decisions based on factors including trip origin destination travel dates traveler nationality and current restrictions travelsafe',\n",
       " 'hii guys pls go through this thread msg of sir its not about politics any more its about human life if u value ur life thn pls go through this thread tweets covid vaccine is need of a time but it doesnt mean modi govt get license to play with our life',\n",
       " 'weve caught bbc scotland editing a statement from prof jason leitch in order to hide the fact scotlands covid rates are the lowest in the uk please share this folks its important as many people as possible find out what bbc scotland is up to',\n",
       " 'if youve recovered from covid19 is in dire need of your plasma donation heres how to donate',\n",
       " 'students now just dont have that opportunity when you add in the pressure of covid amp constant deadlines i dont know how i wouldve coped student life is not normal right now its not so if youre struggling be kind to yourself my dms amp email are open to anyone',\n",
       " 'no no no no no no no lockdowns restrictions or covid vaccines should be supported',\n",
       " 'if i am travelling to berlin this weekend from dublin do i need to have taken a test for covid before i leave ireland thank you',\n",
       " 'nancy pelosi admitted that she held up covid aid for months to try to hurt president yet the people she hurt the most are american workers and small businesses',\n",
       " 'petition ensure student nurses and midwives are paid for working during covid19',\n",
       " 'overwhelming evidence that there is no relationship between lockdowns and covid deaths',\n",
       " 'the way she acted she thought she was so woke my friend wanted to tell her oh no mam these arent for us theyre to protect you we have covid which we dont but we just kinda rolled our eyes and moved on the us is never getting out of this hell i swear',\n",
       " 'organizers showed up and the voters decided we know that our community is ready for change we are ready to fight covid19 and to be represented in the halls of power by real leadership',\n",
       " 'the vaccines approved for use in the uk have been developed by pfizerbiontech and oxfordastrazeneca they have met strict standards of safety quality and effectiveness find out more by visiting',\n",
       " 'well the fact that theres a decent number of people who dont believe lockdowns work is in effect are form of dissent and if you dont believe in something youre less likely to follow the rules hell lots of people still dont even believe covid is a thing ',\n",
       " 'to build back from covid19 dont overlook informal workers covid19 work',\n",
       " 'are you stupid the hospitals are rammed my friend is a covid nurse and shes in tears every day grow up',\n",
       " 'question still which you havent answered is would there be enough hospital capacity for your plan with increased covid you allow the uk environment to be flooded with covid you tell over50s that its up to them remove themselves from society or gamble on their health',\n",
       " 'we wont get everything on our wish list but omg theres so much good we can do with 50 covid relief including state amp local aid to start tax fairness and revenue judges',\n",
       " 'on balance i think this might be the right move however if its happening its crucial that the decision is taken quickly election prep costs time and money to all involved including councils starting and stopping would be a huge waste of resources',\n",
       " '31 international 15 domestic flights with covid19 landed in toronto since dec 21',\n",
       " 'its been estimated there will be an additional 14 million tuberculosis deaths from the disruptions caused by lockdowns 500k additional deaths related to hiv 335k from malaria so from these 3 diseases alone thats 32 million lockdown deaths covid is at 19 million',\n",
       " 'what are the economic costs of a pandemic and do closures and quarantines worsen the bite a look at the us experience of the 1918 flu pandemic to get insights',\n",
       " 'the phrase covidrelated refers to any patient who is in hospital with a risk of respiratory failure',\n",
       " 'to help combat covid19 we created this kit to make sure you return home safely gt now free shipping',\n",
       " 'dear starting at 1pm on the 20th rs will blame you and ds for all harm covid economy national security everything you must combat their disinformation with truth telling how all our problems are from trump and gop bore all with repetition daily',\n",
       " 'returning to canada as announced on december 31 everyone 5 and older will be required to show a negative covid19 test before boarding their flight to canada read the full statement here',\n",
       " 'in january loeffler attended a private covid briefing diminished the threat in public and quietly bought stock in teleworking software in march my dad contracted covid and died alone in an icu in georgia never forget how they spit on us and our dead',\n",
       " 'covid takes even more time off in the week than norma foley',\n",
       " 'dude broke the protocol i am fine with nfl holding the coaches as responsible as the players i couldnt give a shit about covid but if this is the way it works then he needs to do exactly what ever other team had to do',\n",
       " 'she had to fight even to get a psychiatric therapist but shes pushing through that all with bravery and our support she just recently recovered from covid19 as well which she caught in the icu right after the december surgery',\n",
       " 'covid19 and islamic lawroundup',\n",
       " ' administered initial covid19 vaccine doses to more than 14000 veterans at high risk of getting covid19 infection and more than 132000 health care employees as of jan 4 read more at ',\n",
       " 'a public health research group warned that if the new covid19 variant enters the philippines it may result in much higher number of cases and deaths more details here',\n",
       " 'scottish woman on the news saying she is worried about whether shell get tae lanzarote in a few weeks havin tae pay for covid tests hen im worried if its safe tae even go tae aldis',\n",
       " 'nhs england reports a further 674 covid19 hospital deaths occurring over 30 dates 494 were reported last wednesday 416 two weeks ago amp 369 three weeks ago',\n",
       " 'fabulous article but not surprising of trumps and wh attitude the indifference toward citizens during this horrific covid is indefensible by all gop such unnecessary suffering for our people due to trumpgop incompetence yes trump is accountable',\n",
       " 'in january loeffler attended a private covid briefing diminished the threat in public and quietly bought stock in teleworking software in march my dad contracted covid and died alone in an icu in georgia never forget how they spit on us and our dead',\n",
       " 'government announces mandatory covid testing at uk airports to celebrate sixmonth anniversary of other countries doing it',\n",
       " 'whos tedros very disappointed china hasnt granted entry to covid19 experts',\n",
       " 'public health experts and journalists are among those raising concerns about covid19 after the tamil nadu government allowed theatres to work at full capacity',\n",
       " 'this is why we will never get past covid yes masks were required for entry but after that see for yourself where they ended up',\n",
       " 'if you are struggling with the national lockdown remember that help is available please get in touch',\n",
       " 'need pricise answerrate is going down good but gathering mean more risk of covid or not jazzyb joined farmer andolan without home quartine was it correct thing to do',\n",
       " 'currently the point of covid vaccination is to protect those who have it from developing severe covid disease thats what the evidence shows it would be an added bonus if it also prevents transmission that we still dont know its important to distinguish why see below',\n",
       " 'the uk has the no1 festival scene globally the government need to step in with covid insurance or indemnity like germany austria and switzerland to secure jobs income for freelancers and the whole supply chain',\n",
       " 'its 2021 and covid still exists',\n",
       " 'the next phase of the pandemic discussing medical freedom goes mainstream covid19 coronavirus pandemic',\n",
       " 'young healthy senator who spoke at rallies packed wthousands wo masks who supports trump whos downplayed covid amp mocked those who wear masks is 1st to get vaccine while most medical workers elderly amp infirm americans wait congratulations on ur privilege ',\n",
       " 'i take it daily and yes still got covid',\n",
       " 'who chief lauds indias decisive action resolve to end covid19 via namo app',\n",
       " 'owner of lakeville bar that reopened in defiance of covid19 restrictions charged in september with attempted murder of cops minnesota reformer',\n",
       " 'they broke covid related rules at the hotel',\n",
       " 'this is the moment this is our chance real covid stimulus 1 tax the rich 2 green new deal 3 anticitizens united legislation 4 this is it joe do not surrender do not take no for an answer we need you to stay headstrong for the people',\n",
       " 'data and analysis on small businesses covid19 impacts the importance of fintech loans and a new index to measure msme development check out our new msme monitor series here',\n",
       " 'nongovernmental 457b deferred compensation plans and the covid19 economy',\n",
       " 'a million people in the uk have covid fuck off and fuck off with your 8pm clap bollocks as well',\n",
       " 'live university of kansas health system officials are giving their daily covid19 update gtgtgt',\n",
       " 'lakeside in the wild sighting transporting vials of hope in vail behind the scenes on how vail health hospital is moving the covid19 vaccine to where its needed most covid19 covidvaccine vaccine',\n",
       " 'your covid19 vaccine questions answered do i need to be a florida resident sunpoint covid',\n",
       " 'stage 1 losing my dad at 3 stage 2 losing my mom at 16 stage 3 got laid off from my job bcos of covid 19 stage 4 the final boss myasthenia gravis hello friends please help me extend my life as ayaw ko naman iwanan magisa ang kapatid ko together we can defeat this',\n",
       " '12 the early standing leaders are all in action tonight battling to see who can stay atop naiad1mbb reminder be sure to check covid attendance policy before trying to attend a gameyou can catch all the games online',\n",
       " 'arrivals in uk may soon need a negative covid testpriti patel weve always been ahead of the curvewhat a poor joke of a home secretarylong overdue you got your priorities right instead of making name a for yourself for wrong reasons hardly bully for you is it ',\n",
       " 'there are no itu beds in the valleys so you might be 23 and invincible if you get covid but what if you crash your car or a friend takes an overdose or a parent needs emergency surgery guess what no beds for you either and thats how this affects everyone rant over',\n",
       " 'new positive energy survey analysis how are canadians views of the tradeoffs between economic recovery and addressing climate change shifting in response to covid19 positiveenergy uottawa isspscience',\n",
       " 'as pawnbrokers are classed as an essentialservice cash shop is still open for business throughout this lockdown all our branches will be operating fully but with reduced opening hours which are monday to saturday 1000 am til 400 pm',\n",
       " 'thousands of children sent to unregulated care homes amid covid this is the elephant in the room as previously highlighted by and',\n",
       " 'theres a huge scandal that we need to talk about effective covid treatments have been suppressed many whove tried to raise awareness have been censored how many lives lost as a result please share vit d ivermectin',\n",
       " 'an epidemic grid model to address the spread of covid19 a comparison between spain italy and uk mathcomputerpreprints preprintsorg',\n",
       " 'ok must have missed that i guess hes wary of making any guarantee whilst the situation remains fluid',\n",
       " 'thanks super cool covid attacks the endothelial tissues which line your vascular system and arginine helps narrowed blood vessels it follows that it improves blood flow the aspirin is for clotting prevention',\n",
       " 'employga covid community outreach worker lake park ga lake parkga requires no minimum education and min experience of 0 months gadol wed jan 06 090055 est 2021',\n",
       " 'please stay at home as covid19 is running amok in london and it really is getting desperately bad no long eloquent and well referenced tweet im afraid just the reflections of a busy and tired icu consultant worst that ive seen it in my 20 odd years by a cataclysmic margin',\n",
       " 'you really dont have to catch covid to confirm its real',\n",
       " 'from deepening the port of savannah to rebuilding the military to delivering covid relief ive been focused on getting results for all georgians',\n",
       " 'hey mick i went through your timeliness and didnt see a single post about the 50000 families that have died of covid as a matter of fact i went through mine yours and at least 100 other peoples and none of us have plenty of legit things to critique trump on but this aint 1',\n",
       " 'been dealing with covid the past few days have to say its not been fun super strange set of symptoms that seem to change morningafternoon and dayday feeling a little better this am though just a reminder its not something you want to get',\n",
       " 'we will continue to keep all our arrangements relating to the covid19 pandemic under close review we absolutely understand that possible changes are matter of concern for many of you and we will keep you updated thank you 33',\n",
       " 'covid19 resources schooling today cognia via',\n",
       " 'ontario covid19 advisory member travelled to dominican rep over holidays true north',\n",
       " 'intensified news about covidmaking people worry more we need positive news not doom and gloom',\n",
       " 'source in worst covid situationzee can opt for the hybrid release for radhe by bringing it on ott within 2 to 3 wks after the theatrical release basically rights of radhe in the same umbrella has opened up various avenues of revenue for zee as well as salmankhan',\n",
       " 'stage 1 losing my dad at 3 stage 2 losing my mom at 16 stage 3 got laid off from my job bcos of covid 19 stage 4 the final boss myasthenia gravis hello friends please help me extend my life as ayaw ko naman iwanan magisa ang kapatid ko together we can defeat this',\n",
       " 'did you lose a loved one to covid19 we want to share their story you can submit their name and tell us what made them special through this online form ',\n",
       " 'jan feb march gettin groovy april may june july aug sep omg what if i get covid oct nov dec back i say back',\n",
       " 'that said it is time for everyone to jump ship and join parler it will be only place that people can discuss all of madness and government lies surrounding covid19 openly my handle there is ',\n",
       " 'despite the positive covid19 cases at man city the semi final is still expected to go ahead tonight mufc',\n",
       " 'the right to free speech does not mean a right to appear on tv lecturing on something you know nothing about if you want to know about covid go to doctors and scientists if you want to know how to talk bollox go to toby young',\n",
       " 'have questions about the covid19vaccine learn about it on s covid19 info hub also be aware of vaccine scams you cannot pay to get early access to the vaccine covidvaccine hacenj elizabethnj',\n",
       " '4 fc platinum players captain test positive for covid19 hours before the game against simbafc',\n",
       " 'many clinicians in private practice those who work for staffing agencies and others who are not directly employed by hospitals or longterm care facilities say they have been overlooked in the vaccine rollout even though they work with covid19 patients',\n",
       " 'nicola on course for a landslide says covid and thousands of deaths no reason to delay scots election draft indy bill will also proceed god help scotland',\n",
       " 'read more covid19 and islamic law roundup arshadmadani china',\n",
       " 'i know i have received many fraudulent calls from scammers that commit fraud at rates higher than ever before these are 3 common scams to be aware of',\n",
       " 'postdoc london uk economistepidemiologist to use both economic and epidemiological models to understand the equity impacts of covid19 with at more details',\n",
       " 'breaking major lawsuits filed in oh and nm against the entire covid fraud',\n",
       " 'travel is too although slightlyguess theyre thinking covid will be over now',\n",
       " 'reyes a certified nursing assistant at nursing homes in central ma who cares for covid19 patients assumed he would be among the first to receive the vaccine but when he asked his nursing homes he was told no',\n",
       " 'prioritise covid19 vaccines for first responders police fire ambulance vaccine covid19 dotherightthing police fire ambulance firstresponders',\n",
       " 'its great to see indias leadership in scientific innovation and vaccine manufacturing capability as the world works to end the covid19 pandemic',\n",
       " 'there are no itu beds in the valleys so you might be 23 and invincible if you get covid but what if you crash your car or a friend takes an overdose or a parent needs emergency surgery guess what no beds for you either and thats how this affects everyone rant over',\n",
       " 'ceo of ontarios st josephs health system and niagara health has resigned from his advisory role on the covid19 science table after it was found he travelled to the dominican republic during the provincewide lockdown',\n",
       " 'were back we are delighted to announce that our offices are open to resuming business for the 2021 calendar year your wellbeing still remains our top priority therefore visitors will be subjected to the relevant safety measures as prescribed by the covid19 regulations',\n",
       " 'pass covid relief and then pass the john fing lewis voting rights act end qualified immunity end the filibuster end the electoral college require tax returns for candidates running for public office prohibit presidential selfpardons legislate dem norms get on it',\n",
       " 'pharmacist arrested for tampering with covid19 vaccines believed vaccine would change peoples dna',\n",
       " 'we know that congregate settings are the most dangerous for covid spread and just like ltc homes there are dangerous outbreaks in many federal prisons controlling prison spread controls community spread',\n",
       " 'outlines a few trends we can expect as we continue to work remotely in 2021',\n",
       " 'editorial essential workers need more essential protection from covid',\n",
       " 'trumps covid stimulus bill how it affects food andnutrition',\n",
       " 'portugal europe covidvaccine portugal among top5 countries in europe with highest covid vaccination rates most european countries have already started vaccinating their populations against the virus',\n",
       " 'where can i get a get a free covid test',\n",
       " 'how many have actually died of covid not with covid michael gove couldnt give the answer yesterday but you may research all you like to find the answer',\n",
       " 'as we kick off the newyear icd is at the forefront of ensuring that people with disabilities are included in the reshaping of the economy in her commentary for disability covid19 jobtraining accessibility forward',\n",
       " 'what happened last night isnt about democrats or republicans its about our country we now have a real chance to beat covid fight climate change make work pay and pass a new civil rights act congratulations to raphael warnock and jon ossoff',\n",
       " 'people in wuhan were welded into their homes held against their will journalists disappeared the true number of deaths amp cases is still unknown amp the ccp are frustrating the whos efforts to get into wuhan amp see what actually happened stop singing the ccps praises on covid',\n",
       " 'tb to the time i was pregnant af getting covid tested waited 8 hours just to get tested just for them to tell me no',\n",
       " 'i dont think sewer rats and bed bugs can catch covid19 but let us hope that new strand will do the job id really hate to be them knowing that many citizens hate me that much',\n",
       " 'seniors lunch will be back on thursday january 1421 1130am at the cornwall civic centre admission 5 per person includes meal and dessertsweet treat coffee amp tea please note covid precautions as per public health guidelines will be followed',\n",
       " 'what do our top security experts here at ivanti predict for 2021 were covering everything from everywhereenterprise cloud environments automation personalization read the full blog with predictions',\n",
       " 'yall better stop eating out soo much too cause these servers be having covid',\n",
       " 'bbc scotland caught again prof jason leitchs statement on covid rates was edited by reporting scotland to remove mention of england wales amp ni and prevent viewers seeing how much better scotland was doing watch and see what was cut by colonialquay',\n",
       " 'misunderstanding says china on whos rebuke for delaying covid team breakingnews news latestnews newsupdate newsdesk trendingnews newspaper instanews headlines',\n",
       " 'from fast amp furious 9 to every single avatar sequel so many movies have been delayed by the coronavirus heres when you can watch them',\n",
       " 'my livestream this evening covid control and communism and the similarities the queens multiculti christmas speech catherine austin fitts and much more thanks to everyone for joining me',\n",
       " 'ive been fighting covid for 8 months the only rough days i have are seeing how divided the media has made our country im sorry your child tested heshe will most likely be ok you should take precautions rona can be a wicked bitch to adults',\n",
       " 'i agree school is the best place for kids unfortunately they may have little reaction to covid but the teachers and support staff that look after them do guess what no staff no one to teach the kids lets get rid of the virus first we can figure out ways for kids to catch up',\n",
       " 'gov ricketts rne says undocumented workers at meatpacking plants will not be eligible to receive the covid vaccine thats at least 14 of nebraskas meatpacking workers according to ',\n",
       " 'what happened last night isnt about democrats or republicans its about our country we now have a real chance to beat covid fight climate change make work pay and pass a new civil rights act congratulations to raphael warnock and jon ossoff',\n",
       " 'fortinet offers free security training courses fortinet extended its free security training indefinitely after receiving more than 800000 registrations since the early days of the covid19 pandemic',\n",
       " 'if it werent for covid id have a seditious republicans viewing party with all resisters',\n",
       " 'government announces mandatory covid testing at uk airports to celebrate sixmonth anniversary of other countries doing it',\n",
       " 'greene county health department was one of seven that began registering individuals over 75 years of age to receive a covid19 vaccine ballad health is proud to support local health departments to provide vaccinations for community members',\n",
       " 'china steps up covid19 curbs near beijing as infections rise world news us news 6 jan 21',\n",
       " 'so if anyone is wondering if you can get a covid19 reinfection if you have longcovid the answer is yes',\n",
       " 'germany has identified three top priority groups that are vaccinated first it might take at least a year for the german population of 84 million to be vaccinated can vaccinations be a sign of solidarity',\n",
       " 'covid has a higher survival rate than knowing the clintons',\n",
       " 'new national lockdown across uk with schools and universities closed as covid surges bbc news rblog',\n",
       " 'if you are required to attend campus book a free covid19 test and receive a negative result before you resume any oncampus activity tests are available to book 15 days in advance book your test today to keep your friends and colleagues safe',\n",
       " 'government announces mandatory covid testing at uk airports to celebrate sixmonth anniversary of other countries doing it',\n",
       " 'a dangerous fake nhs text has been circulating telling people theyre eligible to apply for the covid19 vaccine have some helpful advice to avoid being caught out find out more at covidvaccine',\n",
       " 'ghana senegal sierra leone and more have shown the world that this region should no longer be counted out rather it has the potential to innovate and serve as a model to resolve humanitarian crises across the world',\n",
       " 'since this covid19 pandemic began last year the govt of ghana has been subsidizing electricity and water for ghanaians making it free for some the nigerian govt on the other hand has used the same period to increase electricity tariff twice during a pandemic',\n",
       " 'first covid19 vaccinations administered on board nsa bahrain',\n",
       " 'ema has recommended granting a conditional marketing authorisation for covid19 vaccine moderna to prevent covid19 in people from 18 years of age',\n",
       " 'sorry unattributed covid deaths',\n",
       " 'who team cant get in china the who team investigating the origins of the covid19 virus has been temporarily prevented from entering china because of visa issues according to directorgeneral tedros adhanom ghebreyesus',\n",
       " 'enjoy covid and pulmonary failure',\n",
       " 'jan 5th on icu covid19 update 374 covid patients in icu 21 of all on icu patients 251 on ventilators 34 of all vented patients 25 new admissions past 24 h 94 admitted in past 3 days 1456 admitted since sept 1 source ccso daily reports covid19ontario onpoli',\n",
       " 'there are no itu beds in the valleys so you might be 23 and invincible if you get covid but what if you crash your car or a friend takes an overdose or a parent needs emergency surgery guess what no beds for you either and thats how this affects everyone rant over',\n",
       " 'watch s victory speech while waiting to get my covid vaccine at the health department in my extremely conservative georgia county is lifelong memory territory and peak byeeeeeeeeeeeeeee 2020',\n",
       " 'behind the scenes we have been working incredibly hard to ensure your next visit is covid safe and comfortable whilst the cast and crew have been ensuring the same from a backstage perspective 24',\n",
       " 'scam for covid vaccine has started in india senior citizens are getting a call from the so called drug authority of india and telling them that their vaccine allocation is ready then they confirm the adhaar and ask for your otp based on that they access your bank accounts',\n",
       " 'government announces mandatory covid testing at uk airports to celebrate sixmonth anniversary of other countries doing it',\n",
       " 'there are no itu beds in the valleys so you might be 23 and invincible if you get covid but what if you crash your car or a friend takes an overdose or a parent needs emergency surgery guess what no beds for you either and thats how this affects everyone rant over',\n",
       " 'scamalert fraudsters claiming to be affiliated with the oeb are calling ontarians about green energy assessments and covid19 relief programs if you believe you are a victim of fraud contact the canadian antifraud centre at 18884958501',\n",
       " 'it is so tragically funny to me that all the people who think covid is a hoax believe in god',\n",
       " 'scottish woman on the news saying she is worried about whether shell get tae lanzarote in a few weeks havin tae pay for covid tests hen im worried if its safe tae even go tae aldis',\n",
       " 'trans have you met any fc before covid19 crisis ive met a lot but i cant meet them now i miss fans a lot and thanks to lazada that i can do live with fc today me ig live pls kdppe perthtanapon telltheworldwemissperth',\n",
       " 'to help them keep safe during this covid19 period and help our girls stay in school i wish to call upon other wellwishers to support our children in every little way they can from wherever they are with whatever they have',\n",
       " 'there are no itu beds in the valleys so you might be 23 and invincible if you get covid but what if you crash your car or a friend takes an overdose or a parent needs emergency surgery guess what no beds for you either and thats how this affects everyone rant over',\n",
       " 'how many us citizens died of covid today',\n",
       " 'and according to the european centre for disease preventions and control the number of new covid cases in uk on 3720 was 29726 which means that in fact the uk had exaggerated the number of cases occurring before then by about 30000',\n",
       " 'not done with us yet just like covid we must remain alert but firm in our resolve to change the status quo for the majority of americans',\n",
       " 'wealthy donors received vaccines through florida nursing home last moments of trumps party of breathtaking corruption and evil',\n",
       " 'scam alert new scam is out where a person receives a text saying they need to book a covid19 vaccination appointment and it takes them to a fake nhs form which then asks for their bank details to prove their identity nhs will never ask for a persons banking information',\n",
       " 'secondary health impacts caused by covid19 are putting at risk many years of hardfought gains in womens and childrens health we must respond quickly amp decisively to save lives amp protect essential services wbgbiggerpicture',\n",
       " 'if ossoff and warnock win georgia is my first vacation destination in a postcovid world just gotta thank every georgian personally ya know',\n",
       " 'covid hitting us with the diddy remixes',\n",
       " 'covid is real guys yeah girl we been knew',\n",
       " 'what are the economic costs of a pandemic and do closures and quarantines worsen the bite a look at the us experience of the 1918 flu pandemic to get insights',\n",
       " 'todays covid19 in info and updates goc website on coronavirus disease canada covid19 situational awareness dashboard',\n",
       " 'you should be able to get the covid vaccine at claires',\n",
       " 'excl significant number of positive covid19 cases at shrewsbury town as many as 10 within firstteam squad i understand leave facup third round tie at southampton in major doubt squad now isolating salop',\n",
       " 'youve managed to infect the republican party with your everything i touch turns to shit loser disease even more efficiently than covid19 at one of your jagoff superspreader campaign events',\n",
       " 'romney probably got vaccinated but they likely murdered some innocent person by yelling droplets out in a plane maskless during covid',\n",
       " 'with one of the worlds most vaccinesceptical populations france had by the weekend only managed to inoculate 516 people compared with the uks 1 million huge differences between close neighbours sometimes lie in unexpected places',\n",
       " 'an ontario hospital ceo who serves on the provinces covid19 science table has been booted from his advisory role after it was revealed that he vacationed in the dominican republic as ontario went into a provincewide lockdown over the holidays',\n",
       " 'whos tedros very disappointed china hasnt granted entry to covid19 experts',\n",
       " 'the demand for private adjudication is growing during covid19 if you a family lawyer or mediator wanting to offer arbitration or pc services join us at our family arbitration law and skills course on january 2122 2527 2021 onlinetraining2021',\n",
       " 'british travellers must show negative covid test to enter ireland',\n",
       " 'gives a real insight as to what the effects are of bending or ignoring the rules surrounding covid',\n",
       " 'the 45000 extra homeless people will each have a reduced life expectancy of 175 years on average that is 787500 years of life lost thanks to that one aspect of collateral damage',\n",
       " 'i truly hope the dems understand the mandate theyre being given if georgia does indeed go blue statehood for dc and pr universal healthcare criminal justice reform an actual response to covid 19 and stimulus for those actually in need there is so much to be done',\n",
       " 'for the full answer visit our covid19 vaccine qampa on canvax canvaxres covid19',\n",
       " 'my dad lost the battle to covid om shanthi',\n",
       " 'indiafightscorona wherever you are make sure you take the necessary precautions to stay safe from covid19 dogajkidoorimaskhaizaruri unite2fightcorona',\n",
       " 'we may be weary of the ongoing struggle of covid19 tired of remaining isolated longing for what we have lost for now look to the source of stability that will carry us through be in touch with god daily',\n",
       " 'public health experts and journalists are among those raising concerns about covid19 after the tamil nadu government allowed theatres to work at full capacity',\n",
       " 'update covid 19 20210106',\n",
       " 'boris johnson quietly extends draconian new covid laws until the end of march',\n",
       " 'also how is it possible that a member of ontarios covid18 science advisory table could be on a weeks long international vacation at the absolute peak of the pandemic in this province was the table not sitting why ever not',\n",
       " '3rdattemptjeeadvanced for 2019 pass students only hope is you sir please due to covid our chance is spoiled please sir',\n",
       " 'ok is this allergies because same and i dont know whats happening because every cough to me is covid',\n",
       " 'source in worst covid situationzee can opt for the hybrid release for radhe by bringing it on ott within 2 to 3 wks after the theatrical release basically rights of radhe in the same umbrella has opened up various avenues of revenue for zee as well as salmankhan',\n",
       " 'a public health research group warned that if the new covid19 variant enters the philippines it may result in much higher number of cases and deaths more details here',\n",
       " 'postdoc recent phd graduate oxford uk individual based models of hiv and covid with at more details',\n",
       " 'covid19 affects us all no one is free from risk although most people recover without treatment some people can experience long covid for weeks or even months if you are suffering from longterm symptoms speak to your gp or visit',\n",
       " 'update youtube reverses ban of talkradios account',\n",
       " 'stage 1 losing my dad at 3 stage 2 losing my mom at 16 stage 3 got laid off from my job bcos of covid 19 stage 4 the final boss myasthenia gravis hello friends please help me extend my life as ayaw ko naman iwanan magisa ang kapatid ko together we can defeat this',\n",
       " 'sounding like southamptons fa cup match with shrewsbury this weekend is very unlikely to go ahead following a number of covid cases for the league one side',\n",
       " 'more than half of americans turned to video games during lockdown',\n",
       " 'i remember seeing a video about his tattoo shop being shut down to covid',\n",
       " 'all six experts emphasized the vital importance of addressing accessible childcare and paid family leave',\n",
       " 'i guess when this digital covid passport come we fuck',\n",
       " 'though the automotive industry is expected to report its lowest yearly sales in nearly a decade for 2020 there is optimism for a 2021 recovery after seeing a sharp bounce back',\n",
       " 'there are no itu beds in the valleys so you might be 23 and invincible if you get covid but what if you crash your car or a friend takes an overdose or a parent needs emergency surgery guess what no beds for you either and thats how this affects everyone rant over',\n",
       " 'covid19 has posed challenges for every industry but each industry has its own priorities and needs this article examines the challenges for hospitals in 2021 and how you can expect new and emerging technologies to be used to manage those challenges',\n",
       " 'im proud to announce my government is now introducing covid testing at all british airports when dealing with a global pandemic its extremely important we take all necessary steps 10 months too late',\n",
       " 'bbc scotland is being taken for a ride over sturgeons covid briefings sturgeon isnt a health professional but a skilled manipulator of information who has been given an extraordinary platform to dictate the agenda on her own terms',\n",
       " 'sri lankan presidents office statement on gotabayajaishankar meet indias assurance on covid vaccine top focus',\n",
       " 'i suppose covid has at least stopped all other types of flu from causing pain suffering and even death this year weird but apparently true',\n",
       " 'i am not sure about being virusfree but i am still impressed with what they have done new zealand lifts all covid restrictions declaring the nation virusfree bbc news',\n",
       " 'beijing is continuing to bar un investigators seeking to study the origins of the coronavirus outbreak world health organization officials said via',\n",
       " 'madness and a covid 19 super spreader event which is trumps specialty',\n",
       " 'more than half of americans turned to video games during lockdown',\n",
       " ...]"
      ]
     },
     "execution_count": 27,
     "metadata": {},
     "output_type": "execute_result"
    }
   ],
   "source": [
    "df[\"text\"].tolist()"
   ]
  },
  {
   "cell_type": "code",
   "execution_count": 28,
   "metadata": {},
   "outputs": [
    {
     "name": "stdout",
     "output_type": "stream",
     "text": [
      "we can adjust by population to get crude excess death rates 2020 will also be the highest since 1940 even with measures taken to limit covid spread 2020 will still top 1951 the year of a major flu epidemic without all our efforts 2020 could have been much worse 911\n",
      "turning to labour or remainers like what would you do different while sat on one of the worst economic recessions amp death rates in the g7 its like driving a car off a cliff amp while youre falling offering the wheel to the guy in the passenger seat go on you fix it\n",
      "numbers of deaths are affected by population size we can also consider death rates as a proportion of the population crude death rates are shown below all improvements in the first decade of this century will be reversed this year spanish flu did the same in 1918 611\n",
      "here is a list of governors who preside over states with higher deathpermillion rates than fls ron desantis whom the media have anointed public enemy 1 1 murphy d 2 cuomo d 3 baker r 4 raimondo d 5 lamont d 6 burgum r 7 noem r 8 reeves r\n",
      "convince me with facts on death rates and infection rates\n"
     ]
    }
   ],
   "source": [
    "tweets = []\n",
    "\n",
    "for tweet in df[\"text\"].tolist():\n",
    "    tweets.append(tweet)\n",
    "    \n",
    "for i in range(5):\n",
    "    print(tweets[i])"
   ]
  },
  {
   "cell_type": "code",
   "execution_count": 29,
   "metadata": {},
   "outputs": [
    {
     "name": "stdout",
     "output_type": "stream",
     "text": [
      "['we', 'can', 'adjust', 'by', 'population', 'to', 'get', 'crude', 'excess', 'death', 'rates', '2020', 'will', 'also', 'be', 'the', 'highest', 'since', '1940', 'even', 'with', 'measures', 'taken', 'to', 'limit', 'covid', 'spread', '2020', 'will', 'still', 'top', '1951', 'the', 'year', 'of', 'a', 'major', 'flu', 'epidemic', 'without', 'all', 'our', 'efforts', '2020', 'could', 'have', 'been', 'much', 'worse', '911']\n",
      "['turning', 'to', 'labour', 'or', 'remainers', 'like', 'what', 'would', 'you', 'do', 'different', 'while', 'sat', 'on', 'one', 'of', 'the', 'worst', 'economic', 'recessions', 'amp', 'death', 'rates', 'in', 'the', 'g7', 'its', 'like', 'driving', 'a', 'car', 'off', 'a', 'cliff', 'amp', 'while', 'youre', 'falling', 'offering', 'the', 'wheel', 'to', 'the', 'guy', 'in', 'the', 'passenger', 'seat', 'go', 'on', 'you', 'fix', 'it']\n",
      "['numbers', 'of', 'deaths', 'are', 'affected', 'by', 'population', 'size', 'we', 'can', 'also', 'consider', 'death', 'rates', 'as', 'a', 'proportion', 'of', 'the', 'population', 'crude', 'death', 'rates', 'are', 'shown', 'below', 'all', 'improvements', 'in', 'the', 'first', 'decade', 'of', 'this', 'century', 'will', 'be', 'reversed', 'this', 'year', 'spanish', 'flu', 'did', 'the', 'same', 'in', '1918', '611']\n",
      "['here', 'is', 'a', 'list', 'of', 'governors', 'who', 'preside', 'over', 'states', 'with', 'higher', 'deathpermillion', 'rates', 'than', 'fls', 'ron', 'desantis', 'whom', 'the', 'media', 'have', 'anointed', 'public', 'enemy', '1', '1', 'murphy', 'd', '2', 'cuomo', 'd', '3', 'baker', 'r', '4', 'raimondo', 'd', '5', 'lamont', 'd', '6', 'burgum', 'r', '7', 'noem', 'r', '8', 'reeves', 'r']\n",
      "['convince', 'me', 'with', 'facts', 'on', 'death', 'rates', 'and', 'infection', 'rates']\n"
     ]
    }
   ],
   "source": [
    "for i in range(5):\n",
    "    print(tweets[i].split())"
   ]
  },
  {
   "cell_type": "code",
   "execution_count": 30,
   "metadata": {},
   "outputs": [],
   "source": [
    "wordcounts = []\n",
    "\n",
    "for tweet in df[\"text\"].tolist():\n",
    "    wordcount = len(tweet.split())\n",
    "    wordcounts.append(wordcount)"
   ]
  },
  {
   "cell_type": "markdown",
   "metadata": {},
   "source": [
    "[pyplot](https://matplotlib.org/stable/tutorials/introductory/pyplot.html) and [seaborn](https://seaborn.pydata.org/) will be staples of data visualization in the course."
   ]
  },
  {
   "cell_type": "code",
   "execution_count": 31,
   "metadata": {},
   "outputs": [
    {
     "data": {
      "image/png": "[encoded data removed]",
      "text/plain": [
       "<Figure size 432x288 with 1 Axes>"
      ]
     },
     "metadata": {
      "needs_background": "light"
     },
     "output_type": "display_data"
    }
   ],
   "source": [
    "import matplotlib.pyplot as plt\n",
    "import seaborn as sns\n",
    "\n",
    "sns.set_palette(\"flare\")\n",
    "\n",
    "sns.kdeplot(wordcounts)\n",
    "plt.show()"
   ]
  },
  {
   "cell_type": "code",
   "execution_count": 32,
   "metadata": {},
   "outputs": [
    {
     "data": {
      "image/png": "[encoded data removed]",
      "text/plain": [
       "<Figure size 432x288 with 1 Axes>"
      ]
     },
     "metadata": {
      "needs_background": "light"
     },
     "output_type": "display_data"
    }
   ],
   "source": [
    "def wordcount(word: str) -> int:\n",
    "    return len(word.split())\n",
    "\n",
    "\n",
    "df[\"wordcount\"] = df[\"text\"].apply(wordcount)\n",
    "\n",
    "sns.kdeplot(\"wordcount\", data = df)\n",
    "plt.show()"
   ]
  },
  {
   "cell_type": "code",
   "execution_count": 33,
   "metadata": {},
   "outputs": [
    {
     "data": {
      "image/png": "[encoded data removed]",
      "text/plain": [
       "<Figure size 432x288 with 1 Axes>"
      ]
     },
     "metadata": {
      "needs_background": "light"
     },
     "output_type": "display_data"
    }
   ],
   "source": [
    "df[\"wordcount2\"] = df[\"text\"].apply(lambda x: len(x.split()))\n",
    "\n",
    "sns.kdeplot(\"wordcount2\", data = df)\n",
    "plt.show()"
   ]
  },
  {
   "cell_type": "markdown",
   "metadata": {},
   "source": [
    "Finally, we can superimpose these distributions to show that they are the same (though we can do this other ways). We should just see one distribution in this case because they are being plotted over one another. If these were different variables, we would see multiple distributions in this plot, as we'll see below."
   ]
  },
  {
   "cell_type": "code",
   "execution_count": 34,
   "metadata": {},
   "outputs": [
    {
     "data": {
      "image/png": "[encoded data removed]",
      "text/plain": [
       "<Figure size 432x288 with 1 Axes>"
      ]
     },
     "metadata": {
      "needs_background": "light"
     },
     "output_type": "display_data"
    }
   ],
   "source": [
    "sns.kdeplot(\"wordcount\", data = df)\n",
    "sns.kdeplot(\"wordcount2\", data = df)\n",
    "sns.kdeplot(wordcounts)\n",
    "plt.show()"
   ]
  },
  {
   "cell_type": "markdown",
   "metadata": {},
   "source": [
    "The [`collections` module](https://docs.python.org/3/library/collections.html) provides a lot useful methods for manipulating data. We will use `defaultdict()` a lot later on, for example. Right now, let's take a look at `Counter()` . Counter provides an object like a dictionary with the elements of an iterable (like a list) as keys and the frequencies as values. In the example below, we get a mapping of values from the \"query\" column (keys) to their frequencies in the dataframe (values), or the number of rows with those values."
   ]
  },
  {
   "cell_type": "code",
   "execution_count": 35,
   "metadata": {},
   "outputs": [
    {
     "name": "stdout",
     "output_type": "stream",
     "text": [
      "<class 'collections.Counter'>\n",
      "dict_keys(['death rates', 'covid', 'travel', 'coronavirus', 'stock market', 'pandemic', 'economy', 'lockdown', 'jobs', 'testing', 'unemployment', 'vaccine', 'president', 'spread', 'quarantine', 'mask'])\n"
     ]
    }
   ],
   "source": [
    "from collections import Counter\n",
    "\n",
    "c = Counter(df[\"query\"])\n",
    "print(type(c))\n",
    "print(c.keys())"
   ]
  },
  {
   "cell_type": "code",
   "execution_count": 36,
   "metadata": {},
   "outputs": [
    {
     "data": {
      "text/plain": [
       "Counter({'death rates': 495,\n",
       "         'covid': 5843,\n",
       "         'travel': 5839,\n",
       "         'coronavirus': 2822,\n",
       "         'stock market': 5843,\n",
       "         'pandemic': 5847,\n",
       "         'economy': 5836,\n",
       "         'lockdown': 5847,\n",
       "         'jobs': 5843,\n",
       "         'testing': 5847,\n",
       "         'unemployment': 3045,\n",
       "         'vaccine': 5847,\n",
       "         'president': 5842,\n",
       "         'spread': 5837,\n",
       "         'quarantine': 5836,\n",
       "         'mask': 5839})"
      ]
     },
     "execution_count": 36,
     "metadata": {},
     "output_type": "execute_result"
    }
   ],
   "source": [
    "c"
   ]
  },
  {
   "cell_type": "markdown",
   "metadata": {},
   "source": [
    "Let's take a look at tweets from a subset of these queries. We'll subset the dataframe a bit like we did above, this time using the `.isin()` method.\n",
    "\n",
    "The code in the second cell, `df[df[\"query\"].isin(query_subset)]`, will return a dataframe matching that criterion. What's going on with this way of subsetting the data, though?\n",
    "\n",
    "As we can see in the third cell, if we execute just the code used to subset the data, `df[\"query\"].isin(query_subset)`, we get a pandas Series (like a list) of `True` and `False` of the same length as the number of rows in the dataframe. When we apply that condition to the dataframe to subset it in the second cell (`df[df[\"query\"].isin(query_subset)]`), we are return the rows where that condition is `True`."
   ]
  },
  {
   "cell_type": "code",
   "execution_count": 37,
   "metadata": {},
   "outputs": [],
   "source": [
    "query_subset = [\"lockdown\", \"mask\", \"quarantine\", \"travel\"]"
   ]
  },
  {
   "cell_type": "code",
   "execution_count": 39,
   "metadata": {},
   "outputs": [
    {
     "data": {
      "text/html": [
       "<div>\n",
       "<style scoped>\n",
       "    .dataframe tbody tr th:only-of-type {\n",
       "        vertical-align: middle;\n",
       "    }\n",
       "\n",
       "    .dataframe tbody tr th {\n",
       "        vertical-align: top;\n",
       "    }\n",
       "\n",
       "    .dataframe thead th {\n",
       "        text-align: right;\n",
       "    }\n",
       "</style>\n",
       "<table border=\"1\" class=\"dataframe\">\n",
       "  <thead>\n",
       "    <tr style=\"text-align: right;\">\n",
       "      <th></th>\n",
       "      <th>tweet_id</th>\n",
       "      <th>text</th>\n",
       "      <th>query</th>\n",
       "      <th>follower_count</th>\n",
       "      <th>likes</th>\n",
       "      <th>retweets</th>\n",
       "      <th>wordcount</th>\n",
       "      <th>wordcount2</th>\n",
       "    </tr>\n",
       "  </thead>\n",
       "  <tbody>\n",
       "    <tr>\n",
       "      <th>6338</th>\n",
       "      <td>1346919848727638017</td>\n",
       "      <td>if time travel isnt possible then explain how ...</td>\n",
       "      <td>travel</td>\n",
       "      <td>235998</td>\n",
       "      <td>4731</td>\n",
       "      <td>697</td>\n",
       "      <td>22</td>\n",
       "      <td>22</td>\n",
       "    </tr>\n",
       "    <tr>\n",
       "      <th>6339</th>\n",
       "      <td>1346912068939743236</td>\n",
       "      <td>disappointed to hear of delays in arrival to c...</td>\n",
       "      <td>travel</td>\n",
       "      <td>282666</td>\n",
       "      <td>3801</td>\n",
       "      <td>1433</td>\n",
       "      <td>44</td>\n",
       "      <td>44</td>\n",
       "    </tr>\n",
       "    <tr>\n",
       "      <th>6340</th>\n",
       "      <td>1346919263680958470</td>\n",
       "      <td>soooo is every other country in the world goin...</td>\n",
       "      <td>travel</td>\n",
       "      <td>3454856</td>\n",
       "      <td>3139</td>\n",
       "      <td>326</td>\n",
       "      <td>23</td>\n",
       "      <td>23</td>\n",
       "    </tr>\n",
       "    <tr>\n",
       "      <th>6341</th>\n",
       "      <td>1346969796605337606</td>\n",
       "      <td>travel leisure magazine acquired by wyndham de...</td>\n",
       "      <td>travel</td>\n",
       "      <td>86158</td>\n",
       "      <td>2</td>\n",
       "      <td>3</td>\n",
       "      <td>10</td>\n",
       "      <td>10</td>\n",
       "    </tr>\n",
       "    <tr>\n",
       "      <th>6342</th>\n",
       "      <td>1346969792910131200</td>\n",
       "      <td>87 of canadians support greater restrictions o...</td>\n",
       "      <td>travel</td>\n",
       "      <td>39</td>\n",
       "      <td>0</td>\n",
       "      <td>411</td>\n",
       "      <td>32</td>\n",
       "      <td>32</td>\n",
       "    </tr>\n",
       "    <tr>\n",
       "      <th>...</th>\n",
       "      <td>...</td>\n",
       "      <td>...</td>\n",
       "      <td>...</td>\n",
       "      <td>...</td>\n",
       "      <td>...</td>\n",
       "      <td>...</td>\n",
       "      <td>...</td>\n",
       "      <td>...</td>\n",
       "    </tr>\n",
       "    <tr>\n",
       "      <th>82304</th>\n",
       "      <td>1346815324948086787</td>\n",
       "      <td>chocolate oda thaan suthuvvar polaby the way w...</td>\n",
       "      <td>mask</td>\n",
       "      <td>79</td>\n",
       "      <td>2</td>\n",
       "      <td>0</td>\n",
       "      <td>11</td>\n",
       "      <td>11</td>\n",
       "    </tr>\n",
       "    <tr>\n",
       "      <th>82305</th>\n",
       "      <td>1346815315309699072</td>\n",
       "      <td>this could be us but yall dont wanna go on loc...</td>\n",
       "      <td>mask</td>\n",
       "      <td>647</td>\n",
       "      <td>0</td>\n",
       "      <td>6589</td>\n",
       "      <td>23</td>\n",
       "      <td>23</td>\n",
       "    </tr>\n",
       "    <tr>\n",
       "      <th>82306</th>\n",
       "      <td>1346815315234185221</td>\n",
       "      <td>covid 19 grey black dust mask activated antipo...</td>\n",
       "      <td>mask</td>\n",
       "      <td>459</td>\n",
       "      <td>0</td>\n",
       "      <td>0</td>\n",
       "      <td>16</td>\n",
       "      <td>16</td>\n",
       "    </tr>\n",
       "    <tr>\n",
       "      <th>82307</th>\n",
       "      <td>1346815313204154368</td>\n",
       "      <td>imagine if the energy people put into complain...</td>\n",
       "      <td>mask</td>\n",
       "      <td>3272</td>\n",
       "      <td>20</td>\n",
       "      <td>4</td>\n",
       "      <td>46</td>\n",
       "      <td>46</td>\n",
       "    </tr>\n",
       "    <tr>\n",
       "      <th>82308</th>\n",
       "      <td>1346815309173424130</td>\n",
       "      <td>dear georgians tomorrow is the day that you ca...</td>\n",
       "      <td>mask</td>\n",
       "      <td>9217</td>\n",
       "      <td>0</td>\n",
       "      <td>45</td>\n",
       "      <td>36</td>\n",
       "      <td>36</td>\n",
       "    </tr>\n",
       "  </tbody>\n",
       "</table>\n",
       "<p>23361 rows × 8 columns</p>\n",
       "</div>"
      ],
      "text/plain": [
       "                  tweet_id                                               text  \\\n",
       "6338   1346919848727638017  if time travel isnt possible then explain how ...   \n",
       "6339   1346912068939743236  disappointed to hear of delays in arrival to c...   \n",
       "6340   1346919263680958470  soooo is every other country in the world goin...   \n",
       "6341   1346969796605337606  travel leisure magazine acquired by wyndham de...   \n",
       "6342   1346969792910131200  87 of canadians support greater restrictions o...   \n",
       "...                    ...                                                ...   \n",
       "82304  1346815324948086787  chocolate oda thaan suthuvvar polaby the way w...   \n",
       "82305  1346815315309699072  this could be us but yall dont wanna go on loc...   \n",
       "82306  1346815315234185221  covid 19 grey black dust mask activated antipo...   \n",
       "82307  1346815313204154368  imagine if the energy people put into complain...   \n",
       "82308  1346815309173424130  dear georgians tomorrow is the day that you ca...   \n",
       "\n",
       "        query  follower_count  likes  retweets  wordcount  wordcount2  \n",
       "6338   travel          235998   4731       697         22          22  \n",
       "6339   travel          282666   3801      1433         44          44  \n",
       "6340   travel         3454856   3139       326         23          23  \n",
       "6341   travel           86158      2         3         10          10  \n",
       "6342   travel              39      0       411         32          32  \n",
       "...       ...             ...    ...       ...        ...         ...  \n",
       "82304    mask              79      2         0         11          11  \n",
       "82305    mask             647      0      6589         23          23  \n",
       "82306    mask             459      0         0         16          16  \n",
       "82307    mask            3272     20         4         46          46  \n",
       "82308    mask            9217      0        45         36          36  \n",
       "\n",
       "[23361 rows x 8 columns]"
      ]
     },
     "execution_count": 39,
     "metadata": {},
     "output_type": "execute_result"
    }
   ],
   "source": [
    "df[df[\"query\"].isin(query_subset)]"
   ]
  },
  {
   "cell_type": "code",
   "execution_count": 40,
   "metadata": {},
   "outputs": [
    {
     "data": {
      "text/plain": [
       "0        False\n",
       "1        False\n",
       "2        False\n",
       "3        False\n",
       "4        False\n",
       "         ...  \n",
       "82304     True\n",
       "82305     True\n",
       "82306     True\n",
       "82307     True\n",
       "82308     True\n",
       "Name: query, Length: 82308, dtype: bool"
      ]
     },
     "execution_count": 40,
     "metadata": {},
     "output_type": "execute_result"
    }
   ],
   "source": [
    "df[\"query\"].isin(query_subset)"
   ]
  },
  {
   "cell_type": "code",
   "execution_count": 41,
   "metadata": {},
   "outputs": [
    {
     "data": {
      "text/plain": [
       "pandas.core.series.Series"
      ]
     },
     "execution_count": 41,
     "metadata": {},
     "output_type": "execute_result"
    }
   ],
   "source": [
    "type(df[\"query\"].isin(query_subset))"
   ]
  },
  {
   "cell_type": "code",
   "execution_count": 42,
   "metadata": {},
   "outputs": [
    {
     "data": {
      "image/png": "[encoded data removed]",
      "text/plain": [
       "<Figure size 432x288 with 1 Axes>"
      ]
     },
     "metadata": {
      "needs_background": "light"
     },
     "output_type": "display_data"
    }
   ],
   "source": [
    "sns.kdeplot(\"wordcount\", data = df[df[\"query\"].isin(query_subset)], hue = \"query\")\n",
    "plt.xlabel(\"Wordcount\")\n",
    "plt.title(\"Distribution of Wordcounts in Tweets by Query\")\n",
    "plt.show()"
   ]
  },
  {
   "cell_type": "code",
   "execution_count": 43,
   "metadata": {},
   "outputs": [
    {
     "data": {
      "image/png": "[encoded data removed]",
      "text/plain": [
       "<Figure size 432x288 with 1 Axes>"
      ]
     },
     "metadata": {
      "needs_background": "light"
     },
     "output_type": "display_data"
    }
   ],
   "source": [
    "sns.set_palette(\"Set2\")\n",
    "\n",
    "sns.kdeplot(\"wordcount\", data = df[df[\"query\"].isin(query_subset)], hue = \"query\")\n",
    "plt.xlabel(\"Wordcount\")\n",
    "plt.title(\"Distribution of Wordcounts in Tweets by Query\")\n",
    "plt.show()"
   ]
  },
  {
   "cell_type": "code",
   "execution_count": 44,
   "metadata": {},
   "outputs": [
    {
     "data": {
      "image/png": "[encoded data removed]",
      "text/plain": [
       "<Figure size 432x288 with 1 Axes>"
      ]
     },
     "metadata": {
      "needs_background": "light"
     },
     "output_type": "display_data"
    }
   ],
   "source": [
    "sns.scatterplot(x = \"wordcount\", y = \"retweets\", data = df)\n",
    "plt.show()"
   ]
  },
  {
   "cell_type": "markdown",
   "metadata": {},
   "source": [
    "Now let's subset the data so we can look at tweets containing the string \"capitol\" at least once. We'll define a function, `contains_capitol`, that takes in a string and returns `True` if the string contains \"capitol\" and `False` if it doesn't."
   ]
  },
  {
   "cell_type": "code",
   "execution_count": 48,
   "metadata": {},
   "outputs": [
    {
     "name": "stdout",
     "output_type": "stream",
     "text": [
      "True\n",
      "False\n"
     ]
    }
   ],
   "source": [
    "def contains_capitol(text: str) -> bool:\n",
    "    if \"capitol\" in text:\n",
    "        return True\n",
    "    return False\n",
    "\n",
    "test_string1 = \"this string contains capitol\"\n",
    "test_string2 = \"this string does not\"\n",
    "\n",
    "print(contains_capitol(test_string1))\n",
    "print(contains_capitol(test_string2))"
   ]
  },
  {
   "cell_type": "markdown",
   "metadata": {},
   "source": [
    "Now we'll create a variable using this function."
   ]
  },
  {
   "cell_type": "code",
   "execution_count": 49,
   "metadata": {},
   "outputs": [],
   "source": [
    "df[\"contains_capitol\"] = df[\"text\"].apply(contains_capitol)"
   ]
  },
  {
   "cell_type": "code",
   "execution_count": 50,
   "metadata": {},
   "outputs": [
    {
     "data": {
      "text/html": [
       "<div>\n",
       "<style scoped>\n",
       "    .dataframe tbody tr th:only-of-type {\n",
       "        vertical-align: middle;\n",
       "    }\n",
       "\n",
       "    .dataframe tbody tr th {\n",
       "        vertical-align: top;\n",
       "    }\n",
       "\n",
       "    .dataframe thead th {\n",
       "        text-align: right;\n",
       "    }\n",
       "</style>\n",
       "<table border=\"1\" class=\"dataframe\">\n",
       "  <thead>\n",
       "    <tr style=\"text-align: right;\">\n",
       "      <th></th>\n",
       "      <th>tweet_id</th>\n",
       "      <th>text</th>\n",
       "      <th>query</th>\n",
       "      <th>follower_count</th>\n",
       "      <th>likes</th>\n",
       "      <th>retweets</th>\n",
       "      <th>wordcount</th>\n",
       "      <th>wordcount2</th>\n",
       "      <th>contains_capitol</th>\n",
       "    </tr>\n",
       "  </thead>\n",
       "  <tbody>\n",
       "    <tr>\n",
       "      <th>0</th>\n",
       "      <td>1346863072435179520</td>\n",
       "      <td>we can adjust by population to get crude exces...</td>\n",
       "      <td>death rates</td>\n",
       "      <td>12936</td>\n",
       "      <td>255</td>\n",
       "      <td>108</td>\n",
       "      <td>50</td>\n",
       "      <td>50</td>\n",
       "      <td>False</td>\n",
       "    </tr>\n",
       "    <tr>\n",
       "      <th>1</th>\n",
       "      <td>1346817043232919555</td>\n",
       "      <td>turning to labour or remainers like what would...</td>\n",
       "      <td>death rates</td>\n",
       "      <td>290982</td>\n",
       "      <td>877</td>\n",
       "      <td>116</td>\n",
       "      <td>53</td>\n",
       "      <td>53</td>\n",
       "      <td>False</td>\n",
       "    </tr>\n",
       "    <tr>\n",
       "      <th>2</th>\n",
       "      <td>1346862193451692034</td>\n",
       "      <td>numbers of deaths are affected by population s...</td>\n",
       "      <td>death rates</td>\n",
       "      <td>12936</td>\n",
       "      <td>213</td>\n",
       "      <td>75</td>\n",
       "      <td>48</td>\n",
       "      <td>48</td>\n",
       "      <td>False</td>\n",
       "    </tr>\n",
       "    <tr>\n",
       "      <th>3</th>\n",
       "      <td>1346969461190848516</td>\n",
       "      <td>here is a list of governors who preside over s...</td>\n",
       "      <td>death rates</td>\n",
       "      <td>2</td>\n",
       "      <td>0</td>\n",
       "      <td>7612</td>\n",
       "      <td>50</td>\n",
       "      <td>50</td>\n",
       "      <td>False</td>\n",
       "    </tr>\n",
       "    <tr>\n",
       "      <th>4</th>\n",
       "      <td>1346969317569687554</td>\n",
       "      <td>convince me with facts on death rates and infe...</td>\n",
       "      <td>death rates</td>\n",
       "      <td>11552</td>\n",
       "      <td>2</td>\n",
       "      <td>0</td>\n",
       "      <td>10</td>\n",
       "      <td>10</td>\n",
       "      <td>False</td>\n",
       "    </tr>\n",
       "    <tr>\n",
       "      <th>...</th>\n",
       "      <td>...</td>\n",
       "      <td>...</td>\n",
       "      <td>...</td>\n",
       "      <td>...</td>\n",
       "      <td>...</td>\n",
       "      <td>...</td>\n",
       "      <td>...</td>\n",
       "      <td>...</td>\n",
       "      <td>...</td>\n",
       "    </tr>\n",
       "    <tr>\n",
       "      <th>82304</th>\n",
       "      <td>1346815324948086787</td>\n",
       "      <td>chocolate oda thaan suthuvvar polaby the way w...</td>\n",
       "      <td>mask</td>\n",
       "      <td>79</td>\n",
       "      <td>2</td>\n",
       "      <td>0</td>\n",
       "      <td>11</td>\n",
       "      <td>11</td>\n",
       "      <td>False</td>\n",
       "    </tr>\n",
       "    <tr>\n",
       "      <th>82305</th>\n",
       "      <td>1346815315309699072</td>\n",
       "      <td>this could be us but yall dont wanna go on loc...</td>\n",
       "      <td>mask</td>\n",
       "      <td>647</td>\n",
       "      <td>0</td>\n",
       "      <td>6589</td>\n",
       "      <td>23</td>\n",
       "      <td>23</td>\n",
       "      <td>False</td>\n",
       "    </tr>\n",
       "    <tr>\n",
       "      <th>82306</th>\n",
       "      <td>1346815315234185221</td>\n",
       "      <td>covid 19 grey black dust mask activated antipo...</td>\n",
       "      <td>mask</td>\n",
       "      <td>459</td>\n",
       "      <td>0</td>\n",
       "      <td>0</td>\n",
       "      <td>16</td>\n",
       "      <td>16</td>\n",
       "      <td>False</td>\n",
       "    </tr>\n",
       "    <tr>\n",
       "      <th>82307</th>\n",
       "      <td>1346815313204154368</td>\n",
       "      <td>imagine if the energy people put into complain...</td>\n",
       "      <td>mask</td>\n",
       "      <td>3272</td>\n",
       "      <td>20</td>\n",
       "      <td>4</td>\n",
       "      <td>46</td>\n",
       "      <td>46</td>\n",
       "      <td>False</td>\n",
       "    </tr>\n",
       "    <tr>\n",
       "      <th>82308</th>\n",
       "      <td>1346815309173424130</td>\n",
       "      <td>dear georgians tomorrow is the day that you ca...</td>\n",
       "      <td>mask</td>\n",
       "      <td>9217</td>\n",
       "      <td>0</td>\n",
       "      <td>45</td>\n",
       "      <td>36</td>\n",
       "      <td>36</td>\n",
       "      <td>False</td>\n",
       "    </tr>\n",
       "  </tbody>\n",
       "</table>\n",
       "<p>82308 rows × 9 columns</p>\n",
       "</div>"
      ],
      "text/plain": [
       "                  tweet_id                                               text  \\\n",
       "0      1346863072435179520  we can adjust by population to get crude exces...   \n",
       "1      1346817043232919555  turning to labour or remainers like what would...   \n",
       "2      1346862193451692034  numbers of deaths are affected by population s...   \n",
       "3      1346969461190848516  here is a list of governors who preside over s...   \n",
       "4      1346969317569687554  convince me with facts on death rates and infe...   \n",
       "...                    ...                                                ...   \n",
       "82304  1346815324948086787  chocolate oda thaan suthuvvar polaby the way w...   \n",
       "82305  1346815315309699072  this could be us but yall dont wanna go on loc...   \n",
       "82306  1346815315234185221  covid 19 grey black dust mask activated antipo...   \n",
       "82307  1346815313204154368  imagine if the energy people put into complain...   \n",
       "82308  1346815309173424130  dear georgians tomorrow is the day that you ca...   \n",
       "\n",
       "             query  follower_count  likes  retweets  wordcount  wordcount2  \\\n",
       "0      death rates           12936    255       108         50          50   \n",
       "1      death rates          290982    877       116         53          53   \n",
       "2      death rates           12936    213        75         48          48   \n",
       "3      death rates               2      0      7612         50          50   \n",
       "4      death rates           11552      2         0         10          10   \n",
       "...            ...             ...    ...       ...        ...         ...   \n",
       "82304         mask              79      2         0         11          11   \n",
       "82305         mask             647      0      6589         23          23   \n",
       "82306         mask             459      0         0         16          16   \n",
       "82307         mask            3272     20         4         46          46   \n",
       "82308         mask            9217      0        45         36          36   \n",
       "\n",
       "       contains_capitol  \n",
       "0                 False  \n",
       "1                 False  \n",
       "2                 False  \n",
       "3                 False  \n",
       "4                 False  \n",
       "...                 ...  \n",
       "82304             False  \n",
       "82305             False  \n",
       "82306             False  \n",
       "82307             False  \n",
       "82308             False  \n",
       "\n",
       "[82308 rows x 9 columns]"
      ]
     },
     "execution_count": 50,
     "metadata": {},
     "output_type": "execute_result"
    }
   ],
   "source": [
    "df"
   ]
  },
  {
   "cell_type": "code",
   "execution_count": 51,
   "metadata": {},
   "outputs": [
    {
     "data": {
      "text/plain": [
       "Counter({False: 80558, True: 1750})"
      ]
     },
     "execution_count": 51,
     "metadata": {},
     "output_type": "execute_result"
    }
   ],
   "source": [
    "Counter(df[\"contains_capitol\"])"
   ]
  },
  {
   "cell_type": "markdown",
   "metadata": {},
   "source": [
    "Finally, let's subset the rows to keep only the tweets containing \"capitol\" (in the next cell) and then drop our new column and the duplicate wordcount column."
   ]
  },
  {
   "cell_type": "code",
   "execution_count": 53,
   "metadata": {},
   "outputs": [],
   "source": [
    "df = df[df[\"contains_capitol\"]] # we don't need to specify \"== True\" because Python assumes this"
   ]
  },
  {
   "cell_type": "code",
   "execution_count": 54,
   "metadata": {},
   "outputs": [],
   "source": [
    "df = df.drop([\"wordcount2\", \"contains_capitol\"], axis = 1)"
   ]
  },
  {
   "cell_type": "code",
   "execution_count": 55,
   "metadata": {},
   "outputs": [
    {
     "data": {
      "text/html": [
       "<div>\n",
       "<style scoped>\n",
       "    .dataframe tbody tr th:only-of-type {\n",
       "        vertical-align: middle;\n",
       "    }\n",
       "\n",
       "    .dataframe tbody tr th {\n",
       "        vertical-align: top;\n",
       "    }\n",
       "\n",
       "    .dataframe thead th {\n",
       "        text-align: right;\n",
       "    }\n",
       "</style>\n",
       "<table border=\"1\" class=\"dataframe\">\n",
       "  <thead>\n",
       "    <tr style=\"text-align: right;\">\n",
       "      <th></th>\n",
       "      <th>tweet_id</th>\n",
       "      <th>text</th>\n",
       "      <th>query</th>\n",
       "      <th>follower_count</th>\n",
       "      <th>likes</th>\n",
       "      <th>retweets</th>\n",
       "      <th>wordcount</th>\n",
       "    </tr>\n",
       "  </thead>\n",
       "  <tbody>\n",
       "    <tr>\n",
       "      <th>6338</th>\n",
       "      <td>1346919848727638017</td>\n",
       "      <td>if time travel isnt possible then explain how ...</td>\n",
       "      <td>travel</td>\n",
       "      <td>235998</td>\n",
       "      <td>4731</td>\n",
       "      <td>697</td>\n",
       "      <td>22</td>\n",
       "    </tr>\n",
       "    <tr>\n",
       "      <th>6347</th>\n",
       "      <td>1346969766695641088</td>\n",
       "      <td>breaking via wh press pool press pool reporter...</td>\n",
       "      <td>travel</td>\n",
       "      <td>826</td>\n",
       "      <td>0</td>\n",
       "      <td>0</td>\n",
       "      <td>46</td>\n",
       "    </tr>\n",
       "    <tr>\n",
       "      <th>6454</th>\n",
       "      <td>1346911768971456512</td>\n",
       "      <td>look blm has nothing to do with the hate displ...</td>\n",
       "      <td>travel</td>\n",
       "      <td>68</td>\n",
       "      <td>0</td>\n",
       "      <td>0</td>\n",
       "      <td>49</td>\n",
       "    </tr>\n",
       "    <tr>\n",
       "      <th>6588</th>\n",
       "      <td>1346911314656993290</td>\n",
       "      <td>only a true patriot would travel to washington...</td>\n",
       "      <td>travel</td>\n",
       "      <td>883</td>\n",
       "      <td>1</td>\n",
       "      <td>0</td>\n",
       "      <td>15</td>\n",
       "    </tr>\n",
       "    <tr>\n",
       "      <th>6609</th>\n",
       "      <td>1346911212676681733</td>\n",
       "      <td>amazing that refuses to answer these basic que...</td>\n",
       "      <td>travel</td>\n",
       "      <td>188</td>\n",
       "      <td>0</td>\n",
       "      <td>1426</td>\n",
       "      <td>46</td>\n",
       "    </tr>\n",
       "    <tr>\n",
       "      <th>...</th>\n",
       "      <td>...</td>\n",
       "      <td>...</td>\n",
       "      <td>...</td>\n",
       "      <td>...</td>\n",
       "      <td>...</td>\n",
       "      <td>...</td>\n",
       "      <td>...</td>\n",
       "    </tr>\n",
       "    <tr>\n",
       "      <th>64795</th>\n",
       "      <td>1346915988038627338</td>\n",
       "      <td>call me oldfashioned but when armed insurgents...</td>\n",
       "      <td>president</td>\n",
       "      <td>17</td>\n",
       "      <td>0</td>\n",
       "      <td>30050</td>\n",
       "      <td>23</td>\n",
       "    </tr>\n",
       "    <tr>\n",
       "      <th>73549</th>\n",
       "      <td>1346836015202381828</td>\n",
       "      <td>the virus told me last night that he plans to ...</td>\n",
       "      <td>quarantine</td>\n",
       "      <td>1342</td>\n",
       "      <td>0</td>\n",
       "      <td>2</td>\n",
       "      <td>40</td>\n",
       "    </tr>\n",
       "    <tr>\n",
       "      <th>75926</th>\n",
       "      <td>1346819139466354688</td>\n",
       "      <td>the virus told me last night that he plans to ...</td>\n",
       "      <td>quarantine</td>\n",
       "      <td>1601</td>\n",
       "      <td>42</td>\n",
       "      <td>2</td>\n",
       "      <td>40</td>\n",
       "    </tr>\n",
       "    <tr>\n",
       "      <th>77182</th>\n",
       "      <td>1346824238246801408</td>\n",
       "      <td>three protests seem to be converging at the st...</td>\n",
       "      <td>mask</td>\n",
       "      <td>5041</td>\n",
       "      <td>1</td>\n",
       "      <td>0</td>\n",
       "      <td>17</td>\n",
       "    </tr>\n",
       "    <tr>\n",
       "      <th>77639</th>\n",
       "      <td>1346823452368506883</td>\n",
       "      <td>youre going to be so mad when we make you wear...</td>\n",
       "      <td>mask</td>\n",
       "      <td>0</td>\n",
       "      <td>1</td>\n",
       "      <td>0</td>\n",
       "      <td>16</td>\n",
       "    </tr>\n",
       "  </tbody>\n",
       "</table>\n",
       "<p>1750 rows × 7 columns</p>\n",
       "</div>"
      ],
      "text/plain": [
       "                  tweet_id                                               text  \\\n",
       "6338   1346919848727638017  if time travel isnt possible then explain how ...   \n",
       "6347   1346969766695641088  breaking via wh press pool press pool reporter...   \n",
       "6454   1346911768971456512  look blm has nothing to do with the hate displ...   \n",
       "6588   1346911314656993290  only a true patriot would travel to washington...   \n",
       "6609   1346911212676681733  amazing that refuses to answer these basic que...   \n",
       "...                    ...                                                ...   \n",
       "64795  1346915988038627338  call me oldfashioned but when armed insurgents...   \n",
       "73549  1346836015202381828  the virus told me last night that he plans to ...   \n",
       "75926  1346819139466354688  the virus told me last night that he plans to ...   \n",
       "77182  1346824238246801408  three protests seem to be converging at the st...   \n",
       "77639  1346823452368506883  youre going to be so mad when we make you wear...   \n",
       "\n",
       "            query  follower_count  likes  retweets  wordcount  \n",
       "6338       travel          235998   4731       697         22  \n",
       "6347       travel             826      0         0         46  \n",
       "6454       travel              68      0         0         49  \n",
       "6588       travel             883      1         0         15  \n",
       "6609       travel             188      0      1426         46  \n",
       "...           ...             ...    ...       ...        ...  \n",
       "64795   president              17      0     30050         23  \n",
       "73549  quarantine            1342      0         2         40  \n",
       "75926  quarantine            1601     42         2         40  \n",
       "77182        mask            5041      1         0         17  \n",
       "77639        mask               0      1         0         16  \n",
       "\n",
       "[1750 rows x 7 columns]"
      ]
     },
     "execution_count": 55,
     "metadata": {},
     "output_type": "execute_result"
    }
   ],
   "source": [
    "df"
   ]
  },
  {
   "cell_type": "markdown",
   "metadata": {},
   "source": [
    "Now let's take a quick look at some properties of the wordcounts of this subset of tweets. We can control the precision when we print floats, including when we use [f-strings](https://www.geeksforgeeks.org/formatted-string-literals-f-strings-python/), like below. `.2f` restricts to the output to two digits after the decimal."
   ]
  },
  {
   "cell_type": "code",
   "execution_count": 56,
   "metadata": {},
   "outputs": [
    {
     "name": "stdout",
     "output_type": "stream",
     "text": [
      "Average wordcount: 32.31657142857143\n"
     ]
    }
   ],
   "source": [
    "print(f\"Average wordcount: {df['wordcount'].mean()}\")"
   ]
  },
  {
   "cell_type": "code",
   "execution_count": 57,
   "metadata": {},
   "outputs": [
    {
     "name": "stdout",
     "output_type": "stream",
     "text": [
      "Average wordcount: 32.32\n",
      "Minimum wordcount: 8\n",
      "Maximum wordcount: 55\n",
      "Standard deviation: 10.537705433737242\n"
     ]
    }
   ],
   "source": [
    "print(f\"Average wordcount: {df['wordcount'].mean():.2f}\")\n",
    "print(f\"Minimum wordcount: {df['wordcount'].min()}\")\n",
    "print(f\"Maximum wordcount: {df['wordcount'].max()}\")\n",
    "print(f\"Standard deviation: {df['wordcount'].std()}\")"
   ]
  },
  {
   "cell_type": "markdown",
   "metadata": {},
   "source": [
    "A quick note on calculating variances and standard deviations in Python and other languages:\n",
    "\n",
    "[The `std()` method from pandas](https://pandas.pydata.org/pandas-docs/stable/reference/api/pandas.DataFrame.std.html) divides by N - 1. This is similar to the default for R and Stata.\n",
    "\n",
    "[The `std()` method from numpy](https://numpy.org/doc/stable/reference/generated/numpy.std.html) divides by N. You can change this by using the `ddof` argument in either method (setting it to 0 or 1).\n",
    "\n",
    "If you're curious, see [here](https://en.wikipedia.org/wiki/Bessel%27s_correction) and [here](https://math.stackexchange.com/questions/2060400/why-do-you-use-n-1-in-standard-error-of-the-mean-but-n-in-hypothesis-testing) for more on why we often divide by N - 1 for the sample variance (and thus standard deviation), rather than by N (as we do for the population)."
   ]
  },
  {
   "cell_type": "code",
   "execution_count": 58,
   "metadata": {},
   "outputs": [
    {
     "name": "stdout",
     "output_type": "stream",
     "text": [
      "As a list: ['0', '1', '2', '3', '4', '5', '6', '7', '8', '9']\n",
      "As a single string: 0 1 2 3 4 5 6 7 8 9\n"
     ]
    }
   ],
   "source": [
    "integers_as_strings = [str(i) for i in range(10)]\n",
    "print(f\"As a list: {integers_as_strings}\")\n",
    "\n",
    "integers_as_strings = \" \".join(integers_as_strings)\n",
    "print(f\"As a single string: {integers_as_strings}\")"
   ]
  },
  {
   "cell_type": "markdown",
   "metadata": {},
   "source": [
    "Now let's take a look at term frequency and document frequency. We'll use these to build up to powerful ways to compare documents. One application is finding similar documents (e.g., in search engines). We'll see later in the quarter how these can also be used to compare things like online communities like subreddits.\n",
    "\n",
    "To get the frequencies of all the words in the corpus, we can quickly combine all of the tweets (the \"text\" column) using the `.join()` method, implicitly treating the column as a list of tweets. If we look at a slice of the document (by characters), we can see that we've just merged all of the tweets together, joining them with a space."
   ]
  },
  {
   "cell_type": "code",
   "execution_count": 59,
   "metadata": {},
   "outputs": [],
   "source": [
    "all_text = \" \".join(df[\"text\"])"
   ]
  },
  {
   "cell_type": "code",
   "execution_count": 60,
   "metadata": {},
   "outputs": [
    {
     "data": {
      "text/plain": [
       "'if time travel isnt possible then explain how i just woke up to people storming the capitol while waiving the confederate flag breaking via wh press pool press pool reporter says nothing new at the white house and no word on when we will have a lid wrt uscapitol protest a travel photo lid would end the day in terms of journalists potential interaction with trump capitol capitolhill look blm has nothing to do with the hate displayed at the capitol blm is for equality for minorities we cant stand trump and his racism what makes you think we would travel and chance being locked up for a racist person you sound ignorant we are celebrating georgia only a true patriot would travel to washington dc to urinate on the us capitol amazing that refuses to answer these basic questions about how it is that 6 days after announcing she was positive for covid with symptoms she was somehow able to travel to wisconsin to dc to enter the capitol and deliver pelosi a needed vote for speaker enough is enoug'"
      ]
     },
     "execution_count": 60,
     "metadata": {},
     "output_type": "execute_result"
    }
   ],
   "source": [
    "all_text[:1000]"
   ]
  },
  {
   "cell_type": "markdown",
   "metadata": {},
   "source": [
    "If we `split` all of this on whitespace, we get the individual *tokens*, or instances of words. If we use `Counter`, this returns the number of times each `type` (*unique* token) occurs. See [here](https://en.wikipedia.org/wiki/Type%E2%80%93token_distinction) for the type-token distinction. Each word is a token, but it is also an instance of a unique type."
   ]
  },
  {
   "cell_type": "code",
   "execution_count": 61,
   "metadata": {},
   "outputs": [
    {
     "name": "stdout",
     "output_type": "stream",
     "text": [
      "[('the', 5153), ('of', 2167), ('capitol', 2107), ('president', 1550), ('to', 1503), ('a', 1274), ('and', 1210), ('is', 835), ('in', 832), ('on', 611), ('states', 582), ('united', 580), ('us', 559), ('at', 542), ('are', 530), ('this', 526), ('an', 476), ('i', 455), ('has', 449), ('be', 449), ('trump', 427), ('he', 403), ('not', 347), ('supporters', 343), ('there', 336), ('building', 325), ('by', 324), ('now', 310), ('that', 297), ('as', 293), ('for', 290), ('incited', 285), ('it', 284), ('with', 274), ('coup', 274), ('my', 266), ('im', 256), ('our', 251), ('police', 250), ('election', 243), ('have', 241), ('protest', 241), ('you', 234), ('me', 234), ('call', 234), ('people', 225), ('dont', 222), ('his', 217), ('today', 214), ('them', 202), ('violence', 201), ('will', 200), ('breach', 188), ('riot', 185), ('dc', 180), ('wild', 180), ('been', 172), ('stormed', 171), ('what', 167), ('but', 164), ('protestors', 164), ('right', 162), ('january', 154), ('certification', 154), ('flags', 153), ('attempted', 151), ('when', 150), ('mob', 149), ('storm', 148), ('tweeted', 147), ('can', 145), ('was', 139), ('country', 139), ('responsible', 139), ('appalling', 139), ('storming', 138), ('big', 138), ('6th', 138), ('white', 137), ('december', 137), ('19', 137), ('him', 135), ('tell', 135), ('safe', 130), ('if', 127), ('own', 127), ('its', 125), ('armed', 124), ('were', 124), ('house', 122), ('place', 121), ('words', 115), ('sheltering', 115), ('into', 114), ('where', 112), ('congress', 112), ('attempt', 110), ('saw', 109), ('violent', 108), ('id', 106)]\n"
     ]
    }
   ],
   "source": [
    "word_frequencies = dict(Counter(all_text.split()))\n",
    "\n",
    "types_and_counts = sorted(list(word_frequencies.items()), reverse = True, key = lambda x: x[1])\n",
    "print(types_and_counts[:100])"
   ]
  },
  {
   "cell_type": "markdown",
   "metadata": {},
   "source": [
    "Now let's examine the distribution of word frequencies. The code below \"unzips\" the types and frequencies into lists that stay in the same order. `types_` will be a list of the types in the original order, and `token_counts` will be a list of the frequencies in the same order. The first element in `types_` will be the most frequent, while the last will be the least frequent."
   ]
  },
  {
   "cell_type": "code",
   "execution_count": 62,
   "metadata": {},
   "outputs": [],
   "source": [
    "types_, token_counts = zip(*types_and_counts)"
   ]
  },
  {
   "cell_type": "code",
   "execution_count": 63,
   "metadata": {},
   "outputs": [
    {
     "data": {
      "image/png": "[encoded data removed]",
      "text/plain": [
       "<Figure size 432x288 with 1 Axes>"
      ]
     },
     "metadata": {
      "needs_background": "light"
     },
     "output_type": "display_data"
    }
   ],
   "source": [
    "plt.bar(x = range(100), height = token_counts[:100])\n",
    "plt.show()"
   ]
  },
  {
   "cell_type": "code",
   "execution_count": 64,
   "metadata": {},
   "outputs": [
    {
     "data": {
      "image/png": "[encoded data removed]",
      "text/plain": [
       "<Figure size 432x288 with 1 Axes>"
      ]
     },
     "metadata": {
      "needs_background": "light"
     },
     "output_type": "display_data"
    }
   ],
   "source": [
    "plt.bar(x = types_[:20], height = token_counts[:20])\n",
    "plt.xticks(rotation = 90)\n",
    "plt.show()"
   ]
  },
  {
   "cell_type": "markdown",
   "metadata": {},
   "source": [
    "Linguists will sometimes refer to [Zipf's law](https://en.wikipedia.org/wiki/Zipf%27s_law) when discussing the distribution of words. You'll typically see that a few words are extremely common and most are extremely rare. Put one way, there is a negative correlation between the rank of a word (where 1 = most frequent) and its frequency.\n",
    "\n",
    "We'll talk about \"stop words\" more soon; these are extremely frequent words which are generally seen to have little semantic information (e.g., \"the\" or \"to\"). Looking at the distribution of words will also be relevant later when we start to look at tools like topic modeling, where some algorithms make assumptions about how words are distributed."
   ]
  },
  {
   "cell_type": "code",
   "execution_count": 65,
   "metadata": {},
   "outputs": [
    {
     "data": {
      "image/png": "[encoded data removed]",
      "text/plain": [
       "<Figure size 432x288 with 1 Axes>"
      ]
     },
     "metadata": {
      "needs_background": "light"
     },
     "output_type": "display_data"
    }
   ],
   "source": [
    "import numpy as np\n",
    "\n",
    "log_rank = np.log(range(1, len(token_counts)+1))\n",
    "log_frequencies = np.log(token_counts)\n",
    "\n",
    "plt.plot(log_rank, log_frequencies)\n",
    "plt.ylabel(\"ln(word frequency)\")\n",
    "plt.xlabel(\"ln(word rank)\")\n",
    "plt.title(\"Word Rank versus Frequency (log-log)\")\n",
    "plt.show()"
   ]
  },
  {
   "cell_type": "code",
   "execution_count": 66,
   "metadata": {},
   "outputs": [
    {
     "name": "stdout",
     "output_type": "stream",
     "text": [
      "('the', 'of', 'capitol', 'president', 'to', 'a', 'and', 'is', 'in', 'on', 'states', 'united', 'us', 'at', 'are', 'this', 'an', 'i', 'has', 'be', 'trump', 'he', 'not', 'supporters', 'there', 'building', 'by', 'now', 'that', 'as', 'for', 'incited', 'it', 'with', 'coup', 'my', 'im', 'our', 'police', 'election', 'have', 'protest', 'you', 'me', 'call', 'people', 'dont', 'his', 'today', 'them', 'violence', 'will', 'breach', 'riot', 'dc', 'wild', 'been', 'stormed', 'what', 'but', 'protestors', 'right', 'january', 'certification', 'flags', 'attempted', 'when', 'mob', 'storm', 'tweeted', 'can', 'was', 'country', 'responsible', 'appalling', 'storming', 'big', '6th', 'white', 'december', '19', 'him', 'tell', 'safe', 'if', 'own', 'its', 'armed', 'were', 'house', 'place', 'words', 'sheltering', 'into', 'where', 'congress', 'attempt', 'saw', 'violent', 'id')\n"
     ]
    }
   ],
   "source": [
    "print(types_[:100])"
   ]
  },
  {
   "cell_type": "code",
   "execution_count": 67,
   "metadata": {},
   "outputs": [
    {
     "name": "stdout",
     "output_type": "stream",
     "text": [
      "('shame', 'disabling', 'walking', 'assaulted', 'constitutionally', 'mandated', 'proceeding', 'shut', 'intern', 'procedure', 'dais', 'yelled', 'won', 'dismissed', 'kabuki', 'dance', 'positioning', 'meaning', 'cost', 'figuratively', 'governors', 'intentionally', 'fames', 'bs', 'fecklessly', 'quiet', 'nonstop', 'year', '13', 'direction', 'conservative', 'bombs', 'magaiscancelled', 'complacency', 'meant', 'fail', 'surprise', 'escalate', 'breaching', 'securities', 'partyfor', 'gonna', 'foresee', 'reins', 'everybody', 'likes', 'enemies', 'disrupts', 'fundamental', 'system', 'does', 'dispatch', 'resources', 'mass', 'arrests', 'processes', 'aiding', 'founding', 'fathers', 'motorcade', 'trumty', 'dumbty', 'failing', 'job', 'pry', 'trumptards', 'smashing', 'finally', 'jake', 'tapper', 'helped', 'ok', 'argue', 'peace', 'hoped', 'lifetime', 'vets', 'gets', 'larger', 'plan', 'comes', 'huge', 'economic', 'corruption', 'unfair', 'treatments', 'minoritiesbut', 'blank', 'dhs', 'justroam', 'thingstheyre', 'mrpresident', 'totally', 'gotten', 'charisma', 'unite', 'beloved', 'converging', 'antimasklockdown', 'antivaxx')\n"
     ]
    }
   ],
   "source": [
    "print(types_[-100:])"
   ]
  },
  {
   "cell_type": "code",
   "execution_count": 68,
   "metadata": {},
   "outputs": [
    {
     "name": "stdout",
     "output_type": "stream",
     "text": [
      "2207\n"
     ]
    }
   ],
   "source": [
    "print(len(types_))"
   ]
  },
  {
   "cell_type": "code",
   "execution_count": 69,
   "metadata": {},
   "outputs": [
    {
     "name": "stdout",
     "output_type": "stream",
     "text": [
      "56554\n"
     ]
    }
   ],
   "source": [
    "print(sum(token_counts))"
   ]
  },
  {
   "cell_type": "markdown",
   "metadata": {},
   "source": [
    "Now we have a dictionary, `word_frequencies`, that maps each type (unique word) to its frequency in the corpus. Let's make a dictionary mapping types to their *document frequency*, or the number of documents in which they occur."
   ]
  },
  {
   "cell_type": "code",
   "execution_count": 70,
   "metadata": {},
   "outputs": [],
   "source": [
    "def set_of_types(document: str) -> str:\n",
    "    return \" \".join(list(set(document.split())))"
   ]
  },
  {
   "cell_type": "code",
   "execution_count": 71,
   "metadata": {},
   "outputs": [
    {
     "data": {
      "text/plain": [
       "Counter({'this': 1,\n",
       "         'is': 1,\n",
       "         'a': 1,\n",
       "         'string': 2,\n",
       "         'that': 1,\n",
       "         'repeats': 1,\n",
       "         'some': 2,\n",
       "         'words,': 1,\n",
       "         'like': 1,\n",
       "         'and': 2,\n",
       "         'words': 1})"
      ]
     },
     "execution_count": 71,
     "metadata": {},
     "output_type": "execute_result"
    }
   ],
   "source": [
    "s = \"this is a string that repeats some words, like string and words and some\"\n",
    "\n",
    "Counter(s.split()) # three types occur twice"
   ]
  },
  {
   "cell_type": "code",
   "execution_count": 72,
   "metadata": {},
   "outputs": [
    {
     "data": {
      "text/plain": [
       "Counter({'repeats': 1,\n",
       "         'some': 1,\n",
       "         'string': 1,\n",
       "         'is': 1,\n",
       "         'that': 1,\n",
       "         'a': 1,\n",
       "         'and': 1,\n",
       "         'words,': 1,\n",
       "         'words': 1,\n",
       "         'like': 1,\n",
       "         'this': 1})"
      ]
     },
     "execution_count": 72,
     "metadata": {},
     "output_type": "execute_result"
    }
   ],
   "source": [
    "s2 = set_of_types(s)\n",
    "\n",
    "Counter(s2.split()) # each type occurs only once"
   ]
  },
  {
   "cell_type": "markdown",
   "metadata": {},
   "source": [
    "If we applly this function to each document, each row will have a string containing the types in the original tweet, but each will appear only once. If we count up the occurrences of each word in this column, it's the same as going through each row and checking whether the type occurs at least once. In other words, this helps us count the number of documents in which each word occurs. There are other ways to do this, of course, and later we'll see that we can use libraries like `scikit-learn` to do this more quickly."
   ]
  },
  {
   "cell_type": "code",
   "execution_count": 74,
   "metadata": {},
   "outputs": [],
   "source": [
    "df[\"types\"] = df[\"text\"].apply(set_of_types)"
   ]
  },
  {
   "cell_type": "code",
   "execution_count": 75,
   "metadata": {},
   "outputs": [
    {
     "data": {
      "text/html": [
       "<div>\n",
       "<style scoped>\n",
       "    .dataframe tbody tr th:only-of-type {\n",
       "        vertical-align: middle;\n",
       "    }\n",
       "\n",
       "    .dataframe tbody tr th {\n",
       "        vertical-align: top;\n",
       "    }\n",
       "\n",
       "    .dataframe thead th {\n",
       "        text-align: right;\n",
       "    }\n",
       "</style>\n",
       "<table border=\"1\" class=\"dataframe\">\n",
       "  <thead>\n",
       "    <tr style=\"text-align: right;\">\n",
       "      <th></th>\n",
       "      <th>tweet_id</th>\n",
       "      <th>text</th>\n",
       "      <th>query</th>\n",
       "      <th>follower_count</th>\n",
       "      <th>likes</th>\n",
       "      <th>retweets</th>\n",
       "      <th>wordcount</th>\n",
       "      <th>types</th>\n",
       "    </tr>\n",
       "  </thead>\n",
       "  <tbody>\n",
       "    <tr>\n",
       "      <th>6338</th>\n",
       "      <td>1346919848727638017</td>\n",
       "      <td>if time travel isnt possible then explain how ...</td>\n",
       "      <td>travel</td>\n",
       "      <td>235998</td>\n",
       "      <td>4731</td>\n",
       "      <td>697</td>\n",
       "      <td>22</td>\n",
       "      <td>just if waiving to up travel how the capitol i...</td>\n",
       "    </tr>\n",
       "    <tr>\n",
       "      <th>6347</th>\n",
       "      <td>1346969766695641088</td>\n",
       "      <td>breaking via wh press pool press pool reporter...</td>\n",
       "      <td>travel</td>\n",
       "      <td>826</td>\n",
       "      <td>0</td>\n",
       "      <td>0</td>\n",
       "      <td>46</td>\n",
       "      <td>house new day potential interaction lid protes...</td>\n",
       "    </tr>\n",
       "    <tr>\n",
       "      <th>6454</th>\n",
       "      <td>1346911768971456512</td>\n",
       "      <td>look blm has nothing to do with the hate displ...</td>\n",
       "      <td>travel</td>\n",
       "      <td>68</td>\n",
       "      <td>0</td>\n",
       "      <td>0</td>\n",
       "      <td>49</td>\n",
       "      <td>look what cant makes racism to travel up stand...</td>\n",
       "    </tr>\n",
       "    <tr>\n",
       "      <th>6588</th>\n",
       "      <td>1346911314656993290</td>\n",
       "      <td>only a true patriot would travel to washington...</td>\n",
       "      <td>travel</td>\n",
       "      <td>883</td>\n",
       "      <td>1</td>\n",
       "      <td>0</td>\n",
       "      <td>15</td>\n",
       "      <td>us patriot dc urinate the a to true washington...</td>\n",
       "    </tr>\n",
       "    <tr>\n",
       "      <th>6609</th>\n",
       "      <td>1346911212676681733</td>\n",
       "      <td>amazing that refuses to answer these basic que...</td>\n",
       "      <td>travel</td>\n",
       "      <td>188</td>\n",
       "      <td>0</td>\n",
       "      <td>1426</td>\n",
       "      <td>46</td>\n",
       "      <td>days covid to about pelosi travel answer how w...</td>\n",
       "    </tr>\n",
       "    <tr>\n",
       "      <th>...</th>\n",
       "      <td>...</td>\n",
       "      <td>...</td>\n",
       "      <td>...</td>\n",
       "      <td>...</td>\n",
       "      <td>...</td>\n",
       "      <td>...</td>\n",
       "      <td>...</td>\n",
       "      <td>...</td>\n",
       "    </tr>\n",
       "    <tr>\n",
       "      <th>64795</th>\n",
       "      <td>1346915988038627338</td>\n",
       "      <td>call me oldfashioned but when armed insurgents...</td>\n",
       "      <td>president</td>\n",
       "      <td>17</td>\n",
       "      <td>0</td>\n",
       "      <td>30050</td>\n",
       "      <td>23</td>\n",
       "      <td>me armed an breach building oldfashioned when ...</td>\n",
       "    </tr>\n",
       "    <tr>\n",
       "      <th>73549</th>\n",
       "      <td>1346836015202381828</td>\n",
       "      <td>the virus told me last night that he plans to ...</td>\n",
       "      <td>quarantine</td>\n",
       "      <td>1342</td>\n",
       "      <td>0</td>\n",
       "      <td>2</td>\n",
       "      <td>40</td>\n",
       "      <td>quarantine days be upon me checkin plans every...</td>\n",
       "    </tr>\n",
       "    <tr>\n",
       "      <th>75926</th>\n",
       "      <td>1346819139466354688</td>\n",
       "      <td>the virus told me last night that he plans to ...</td>\n",
       "      <td>quarantine</td>\n",
       "      <td>1601</td>\n",
       "      <td>42</td>\n",
       "      <td>2</td>\n",
       "      <td>40</td>\n",
       "      <td>quarantine days be upon me checkin plans every...</td>\n",
       "    </tr>\n",
       "    <tr>\n",
       "      <th>77182</th>\n",
       "      <td>1346824238246801408</td>\n",
       "      <td>three protests seem to be converging at the st...</td>\n",
       "      <td>mask</td>\n",
       "      <td>5041</td>\n",
       "      <td>1</td>\n",
       "      <td>0</td>\n",
       "      <td>17</td>\n",
       "      <td>1 be seem protests at three the and to state a...</td>\n",
       "    </tr>\n",
       "    <tr>\n",
       "      <th>77639</th>\n",
       "      <td>1346823452368506883</td>\n",
       "      <td>youre going to be so mad when we make you wear...</td>\n",
       "      <td>mask</td>\n",
       "      <td>0</td>\n",
       "      <td>1</td>\n",
       "      <td>0</td>\n",
       "      <td>16</td>\n",
       "      <td>going mask you be make so when the mad we a to...</td>\n",
       "    </tr>\n",
       "  </tbody>\n",
       "</table>\n",
       "<p>1750 rows × 8 columns</p>\n",
       "</div>"
      ],
      "text/plain": [
       "                  tweet_id                                               text  \\\n",
       "6338   1346919848727638017  if time travel isnt possible then explain how ...   \n",
       "6347   1346969766695641088  breaking via wh press pool press pool reporter...   \n",
       "6454   1346911768971456512  look blm has nothing to do with the hate displ...   \n",
       "6588   1346911314656993290  only a true patriot would travel to washington...   \n",
       "6609   1346911212676681733  amazing that refuses to answer these basic que...   \n",
       "...                    ...                                                ...   \n",
       "64795  1346915988038627338  call me oldfashioned but when armed insurgents...   \n",
       "73549  1346836015202381828  the virus told me last night that he plans to ...   \n",
       "75926  1346819139466354688  the virus told me last night that he plans to ...   \n",
       "77182  1346824238246801408  three protests seem to be converging at the st...   \n",
       "77639  1346823452368506883  youre going to be so mad when we make you wear...   \n",
       "\n",
       "            query  follower_count  likes  retweets  wordcount  \\\n",
       "6338       travel          235998   4731       697         22   \n",
       "6347       travel             826      0         0         46   \n",
       "6454       travel              68      0         0         49   \n",
       "6588       travel             883      1         0         15   \n",
       "6609       travel             188      0      1426         46   \n",
       "...           ...             ...    ...       ...        ...   \n",
       "64795   president              17      0     30050         23   \n",
       "73549  quarantine            1342      0         2         40   \n",
       "75926  quarantine            1601     42         2         40   \n",
       "77182        mask            5041      1         0         17   \n",
       "77639        mask               0      1         0         16   \n",
       "\n",
       "                                                   types  \n",
       "6338   just if waiving to up travel how the capitol i...  \n",
       "6347   house new day potential interaction lid protes...  \n",
       "6454   look what cant makes racism to travel up stand...  \n",
       "6588   us patriot dc urinate the a to true washington...  \n",
       "6609   days covid to about pelosi travel answer how w...  \n",
       "...                                                  ...  \n",
       "64795  me armed an breach building oldfashioned when ...  \n",
       "73549  quarantine days be upon me checkin plans every...  \n",
       "75926  quarantine days be upon me checkin plans every...  \n",
       "77182  1 be seem protests at three the and to state a...  \n",
       "77639  going mask you be make so when the mad we a to...  \n",
       "\n",
       "[1750 rows x 8 columns]"
      ]
     },
     "execution_count": 75,
     "metadata": {},
     "output_type": "execute_result"
    }
   ],
   "source": [
    "df"
   ]
  },
  {
   "cell_type": "code",
   "execution_count": 76,
   "metadata": {},
   "outputs": [],
   "source": [
    "document_frequencies = dict(Counter(\" \".join(df[\"types\"]).split()))"
   ]
  },
  {
   "cell_type": "code",
   "execution_count": 77,
   "metadata": {},
   "outputs": [
    {
     "data": {
      "text/plain": [
       "1736"
      ]
     },
     "execution_count": 77,
     "metadata": {},
     "output_type": "execute_result"
    }
   ],
   "source": [
    "document_frequencies[\"capitol\"]"
   ]
  },
  {
   "cell_type": "markdown",
   "metadata": {},
   "source": [
    "Why does the type \"capitol\" occur in only 1,736 documents, even though there are 1,750 documents we subset based on whether they contained \"capitol\" as part of the overall string? The answer is that we didn't look for the *type* \"capitol\" but instead for whether the string \"capitol\" occurred in the overall tweet. If we iterate through the words in each tweet, we can find out which strings *contain* \"capitol\" but aren't themselves instances of the *type* \"capitol.\""
   ]
  },
  {
   "cell_type": "code",
   "execution_count": 78,
   "metadata": {},
   "outputs": [
    {
     "name": "stdout",
     "output_type": "stream",
     "text": [
      "{'capitolbuilding', 'capitolhill', 'capitolwe', 'capitolbreach', 'uscapitol', 'capitol', 'capitols'}\n"
     ]
    }
   ],
   "source": [
    "s = set()\n",
    "\n",
    "for tweet in df[\"types\"].tolist():\n",
    "    for word in tweet.split():\n",
    "        if \"capitol\" in word:\n",
    "            s.add(word)\n",
    "            \n",
    "print(s)"
   ]
  },
  {
   "cell_type": "code",
   "execution_count": 79,
   "metadata": {},
   "outputs": [],
   "source": [
    "document_frequencies_list = sorted(list(document_frequencies.items()), reverse = True, key = lambda x: x[1])"
   ]
  },
  {
   "cell_type": "code",
   "execution_count": 80,
   "metadata": {},
   "outputs": [
    {
     "name": "stdout",
     "output_type": "stream",
     "text": [
      "[('capitol', 1736), ('the', 1690), ('president', 1515), ('of', 1261), ('a', 1014), ('to', 958), ('and', 915), ('is', 701), ('in', 637), ('states', 545), ('united', 543), ('at', 511), ('us', 501), ('on', 434), ('are', 406), ('this', 405), ('he', 373), ('an', 353), ('trump', 349), ('there', 336), ('supporters', 335), ('building', 320), ('now', 307), ('be', 303), ('by', 301), ('i', 291), ('as', 287), ('incited', 285), ('for', 277), ('it', 275), ('has', 273), ('coup', 272), ('with', 270), ('that', 257), ('police', 242), ('protest', 241), ('election', 238), ('have', 232), ('our', 226), ('not', 216), ('today', 213), ('violence', 201), ('them', 194), ('will', 193), ('breach', 188), ('riot', 184), ('his', 183), ('wild', 180), ('dc', 179), ('me', 173), ('stormed', 171), ('my', 166), ('what', 165), ('but', 162), ('right', 162), ('dont', 159), ('im', 157), ('january', 154), ('certification', 154), ('attempted', 151), ('storm', 148), ('mob', 147), ('tweeted', 147), ('can', 145), ('people', 139), ('responsible', 139), ('appalling', 139), ('storming', 138), ('6th', 138), ('big', 138), ('white', 137), ('december', 137), ('19', 137), ('when', 135), ('country', 134), ('you', 130), ('safe', 129), ('call', 127), ('own', 127), ('was', 125), ('house', 122), ('armed', 122), ('place', 121), ('if', 119), ('words', 115), ('sheltering', 115), ('into', 114), ('congress', 111), ('attempt', 110), ('been', 109), ('where', 108), ('id', 106), ('violent', 106), ('request', 106), ('saw', 105), ('insurgents', 105), ('were', 104), ('oldfashioned', 104), ('how', 103), ('so', 102)]\n"
     ]
    }
   ],
   "source": [
    "print(document_frequencies_list[:100])"
   ]
  },
  {
   "cell_type": "code",
   "execution_count": 81,
   "metadata": {},
   "outputs": [
    {
     "name": "stdout",
     "output_type": "stream",
     "text": [
      "[('mandated', 1), ('assaulted', 1), ('constitutionally', 1), ('walking', 1), ('shut', 1), ('proceeding', 1), ('buildin', 1), ('procedure', 1), ('intern', 1), ('won', 1), ('dais', 1), ('yelled', 1), ('dance', 1), ('meaning', 1), ('cost', 1), ('dismissed', 1), ('positioning', 1), ('kabuki', 1), ('figuratively', 1), ('bs', 1), ('fames', 1), ('governors', 1), ('intentionally', 1), ('fecklessly', 1), ('quiet', 1), ('year', 1), ('13', 1), ('nonstop', 1), ('direction', 1), ('conservative', 1), ('magaiscancelled', 1), ('bombs', 1), ('complacency', 1), ('meant', 1), ('fail', 1), ('escalate', 1), ('surprise', 1), ('breaching', 1), ('securities', 1), ('partyfor', 1), ('gonna', 1), ('foresee', 1), ('reins', 1), ('enemies', 1), ('likes', 1), ('everybody', 1), ('dispatch', 1), ('does', 1), ('disrupts', 1), ('resources', 1), ('arrests', 1), ('mass', 1), ('processes', 1), ('system', 1), ('fundamental', 1), ('fathers', 1), ('founding', 1), ('aiding', 1), ('motorcade', 1), ('trumty', 1), ('trumptards', 1), ('job', 1), ('pry', 1), ('dumbty', 1), ('failing', 1), ('tapper', 1), ('finally', 1), ('smashing', 1), ('helped', 1), ('jake', 1), ('argue', 1), ('ok', 1), ('peace', 1), ('hoped', 1), ('lifetime', 1), ('bigger', 1), ('vets', 1), ('plan', 1), ('comes', 1), ('gets', 1), ('larger', 1), ('huge', 1), ('corruption', 1), ('treatments', 1), ('minoritiesbut', 1), ('economic', 1), ('unfair', 1), ('justroam', 1), ('blank', 1), ('thingstheyre', 1), ('dhs', 1), ('unite', 1), ('totally', 1), ('charisma', 1), ('beloved', 1), ('gotten', 1), ('mrpresident', 1), ('antimasklockdown', 1), ('converging', 1), ('antivaxx', 1)]\n"
     ]
    }
   ],
   "source": [
    "print(document_frequencies_list[-100:])"
   ]
  },
  {
   "cell_type": "markdown",
   "metadata": {},
   "source": [
    "At the corpus level, word frequency and document frequency are highly correlated. However, we will also look at the frequency of words *within* a document, which can help us identify similar documents. Documents that use the same words at approximately the same rates are similar in that important way. However, not all words are equally informative. As we saw above, some words are extremely common.\n",
    "\n",
    "If two sentence uses the word \"the\" many times, that doesn't tell us a lot. If the two documents use the word \"insurgents\" many times, relative to the typical document, then they likely share information we are interested in. This is a step toward saying the documents are \"about\" the same thing--if not quite saying that they \"mean\" something similar. In practice, if we are comparing documents based on the frequencies of the words they use, we will normalize the word counts in some way by the document frequency (i.e., how many documents a type appears in)."
   ]
  },
  {
   "cell_type": "code",
   "execution_count": 82,
   "metadata": {},
   "outputs": [
    {
     "name": "stdout",
     "output_type": "stream",
     "text": [
      "Correlation between each word's frequency in the overall corpus and its document frequency:\n",
      "Pearson's correlation coefficient: 0.91\n",
      "Spearman's rank-order correlation: 1.00\n"
     ]
    }
   ],
   "source": [
    "from scipy.stats import pearsonr, spearmanr\n",
    "\n",
    "vocabulary = sorted(list(word_frequencies.keys()))\n",
    "\n",
    "x = [word_frequencies[word] for word in vocabulary]\n",
    "y = [document_frequencies[word] for word in vocabulary]\n",
    "\n",
    "print(\"Correlation between each word's frequency in the overall corpus and its document frequency:\")\n",
    "print(f\"Pearson's correlation coefficient: {pearsonr(x, y)[0]:.2f}\")\n",
    "print(f\"Spearman's rank-order correlation: {spearmanr(x, y)[0]:.2f}\")"
   ]
  },
  {
   "cell_type": "code",
   "execution_count": 83,
   "metadata": {},
   "outputs": [
    {
     "data": {
      "text/plain": [
       "2207"
      ]
     },
     "execution_count": 83,
     "metadata": {},
     "output_type": "execute_result"
    }
   ],
   "source": [
    "len(vocabulary)"
   ]
  },
  {
   "cell_type": "markdown",
   "metadata": {},
   "source": [
    "If we are interested in analyzing meaning from a corpus, in practice we will often remove words that appear only once or in only one document (which aren't the same thing!). We sometimes call these [hapaxes](https://en.wikipedia.org/wiki/Hapax_legomenon). We can't say that two documents have a word in common if only one document in the entire corpus has the word!"
   ]
  },
  {
   "cell_type": "code",
   "execution_count": 84,
   "metadata": {},
   "outputs": [
    {
     "name": "stdout",
     "output_type": "stream",
     "text": [
      "1316\n"
     ]
    }
   ],
   "source": [
    "words_to_keep = [word for word in vocabulary if document_frequencies[word] > 1]\n",
    "print(len(words_to_keep))"
   ]
  },
  {
   "cell_type": "markdown",
   "metadata": {},
   "source": [
    "We may often exclude words that appear in *every* document for similar reasons.\n",
    "\n",
    "Let's remove hapaxes from our dictionaries of word and document frequencies."
   ]
  },
  {
   "cell_type": "code",
   "execution_count": 85,
   "metadata": {},
   "outputs": [],
   "source": [
    "word_frequencies = {key:value for key, value in word_frequencies.items() if key in words_to_keep}\n",
    "document_frequencies = {key:value for key, value in document_frequencies.items() if key in words_to_keep}\n",
    "\n",
    "vocabulary = words_to_keep"
   ]
  },
  {
   "cell_type": "code",
   "execution_count": 86,
   "metadata": {},
   "outputs": [
    {
     "data": {
      "text/plain": [
       "True"
      ]
     },
     "execution_count": 86,
     "metadata": {},
     "output_type": "execute_result"
    }
   ],
   "source": [
    "len(word_frequencies.keys()) == len(document_frequencies.keys()) == len(vocabulary)"
   ]
  },
  {
   "cell_type": "code",
   "execution_count": 87,
   "metadata": {},
   "outputs": [
    {
     "name": "stdout",
     "output_type": "stream",
     "text": [
      "1316\n"
     ]
    }
   ],
   "source": [
    "print(len(vocabulary))"
   ]
  },
  {
   "cell_type": "markdown",
   "metadata": {},
   "source": [
    "That's it for Notebook 2! Now we're ready to talk about TF-IDF and other ways of comparing documents, which will set us up for a shift to tasks like comparing (or unmasking!) authors, comparing the meaning of words, identifying latent themes in documents, and using these kinds of features--information we have mined by quantifying properites of the text--to answer all manners of social research questions. These tools and skills will also transfer to other areas, so don't worry if studying culture isn't 100% your bag!"
   ]
  }
 ],
 "metadata": {
  "kernelspec": {
   "display_name": "Python 3",
   "language": "python",
   "name": "python3"
  },
  "language_info": {
   "codemirror_mode": {
    "name": "ipython",
    "version": 3
   },
   "file_extension": ".py",
   "mimetype": "text/x-python",
   "name": "python",
   "nbconvert_exporter": "python",
   "pygments_lexer": "ipython3",
   "version": "3.8.3"
  }
 },
 "nbformat": 4,
 "nbformat_minor": 4
}
