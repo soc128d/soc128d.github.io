{
 "cells": [
  {
   "cell_type": "markdown",
   "id": "2ce3ad7c",
   "metadata": {},
   "source": [
    "#### Sociology 128D: Mining Culture Through Text Data: Introduction to Social Data Science"
   ]
  },
  {
   "cell_type": "markdown",
   "id": "72fbfe19",
   "metadata": {},
   "source": [
    "# Notebook 8: Modeling Ratings and Sentiment using Python\n",
    "\n",
    "In this notebook, we are going to explore a range of tools for statistical analysis in Python. To do this, we are going to use the text of Yelp reviews as well as various metadata. We will conclude with regression tables that can be displayed in the notebook, copied to a word processor, or rendered in HTML or LaTeX. In the optional exercises, you will adapt the code provided in the notebook to answer your own research question."
   ]
  },
  {
   "cell_type": "markdown",
   "id": "e0dde7c4",
   "metadata": {},
   "source": [
    "## Setup\n",
    "\n",
    "You will likely need to install `contractions`,  `num2words`, `pingouin`, `stargazer`, `statsmodels`, `unidecode`, and `vaderSentiment`. You can install most of these using `conda` (if using Anaconda), but you will need to install `contractions` and `stargazer` using `pip` (see below).\n",
    "\n",
    "`conda install -c conda-forge pingouin num2words statsmodels unidecode vadersentiment`\n",
    "\n",
    "\n",
    "`pip install contractions` <br>\n",
    "`pip install stargazer`\n"
   ]
  },
  {
   "cell_type": "code",
   "execution_count": 95,
   "id": "01fc2d0d",
   "metadata": {},
   "outputs": [],
   "source": [
    "import contractions\n",
    "import json\n",
    "import matplotlib.pyplot as plt\n",
    "import numpy as np\n",
    "import os\n",
    "import pandas as pd\n",
    "import pingouin\n",
    "import re\n",
    "import seaborn as sns\n",
    "import spacy\n",
    "import statsmodels.formula.api as smf\n",
    "\n",
    "from collections import defaultdict, Counter\n",
    "from num2words import num2words\n",
    "from pingouin import cronbach_alpha\n",
    "from scipy.stats import pearsonr, spearmanr\n",
    "from sklearn.feature_extraction.text import CountVectorizer\n",
    "from sklearn.linear_model import LinearRegression, LogisticRegression\n",
    "from sklearn.metrics import classification_report, mean_squared_error\n",
    "from sklearn.model_selection import train_test_split\n",
    "from spacy.lang.en.stop_words import STOP_WORDS as spacy_stopwords\n",
    "from stargazer.stargazer import Stargazer\n",
    "from statsmodels.stats.weightstats import ttest_ind\n",
    "from unidecode import unidecode\n",
    "from vaderSentiment.vaderSentiment import SentimentIntensityAnalyzer"
   ]
  },
  {
   "cell_type": "code",
   "execution_count": 2,
   "id": "82fb491f",
   "metadata": {},
   "outputs": [],
   "source": [
    "np.random.seed(2423)"
   ]
  },
  {
   "cell_type": "markdown",
   "id": "e2b995b7",
   "metadata": {},
   "source": [
    "## I. Data\n",
    "\n",
    "For this notebook, we are going to use the Yelp Open Dataset, which you can find [here](https://www.yelp.com/dataset). You'll have to click 'Download Dataset', agree to the terms, and click 'Download JSON'. It's a large download: ~5GB compressed and ~11GB once you've uncompressed it. The dataset has 8,635,403 reviews of businesses including text, a rating out of five stars, and various other information. The main file, <tt>yelp_academic_dataset_review.json</tt>, is quite large, and we are going to take a random sample of it."
   ]
  },
  {
   "cell_type": "code",
   "execution_count": 3,
   "id": "a841c668",
   "metadata": {},
   "outputs": [
    {
     "data": {
      "text/plain": [
       "['Dataset_User_Agreement.pdf',\n",
       " 'yelp_academic_dataset_business.json',\n",
       " 'yelp_academic_dataset_checkin.json',\n",
       " 'yelp_academic_dataset_review.json',\n",
       " 'yelp_academic_dataset_tip.json',\n",
       " 'yelp_academic_dataset_user.json']"
      ]
     },
     "execution_count": 3,
     "metadata": {},
     "output_type": "execute_result"
    }
   ],
   "source": [
    "os.listdir(\"data/yelp_dataset/\")"
   ]
  },
  {
   "cell_type": "markdown",
   "id": "5165218e",
   "metadata": {},
   "source": [
    "First, let's confirm the number of reviews. We'll iterate through the file line by line, counting the lines by incrementing <tt>num_reviews</tt>. Then we'll use `np.random.choice` to identify the *indices* of random elements from an array of the same length. Then we'll loop back through the lines of the main file and keep the lines whose index is a match for our sample. This approach allows us to avoid loading the full dataset into memory."
   ]
  },
  {
   "cell_type": "code",
   "execution_count": 4,
   "id": "bd769e4f",
   "metadata": {},
   "outputs": [
    {
     "name": "stdout",
     "output_type": "stream",
     "text": [
      "CPU times: total: 9.5 s\n",
      "Wall time: 9.66 s\n"
     ]
    }
   ],
   "source": [
    "%%time\n",
    "\n",
    "num_reviews = 0\n",
    "\n",
    "with open(\"data/yelp_dataset/yelp_academic_dataset_review.json\", \"r\", encoding=\"utf-8\") as reader:\n",
    "    for line in reader:\n",
    "        num_reviews += 1"
   ]
  },
  {
   "cell_type": "code",
   "execution_count": 5,
   "id": "cdfea4d9",
   "metadata": {},
   "outputs": [
    {
     "data": {
      "text/plain": [
       "6990280"
      ]
     },
     "execution_count": 5,
     "metadata": {},
     "output_type": "execute_result"
    }
   ],
   "source": [
    "num_reviews"
   ]
  },
  {
   "cell_type": "markdown",
   "id": "b848e0ef",
   "metadata": {},
   "source": [
    "Using `np.arange` with <tt>num_reviews</tt> gives us an array of the same length as <tt>num_reviews</tt> from 0 to <tt>num_reviews</tt>-1. This is more or less doing the same thing as the more familiar `range` function, but it returns a NumPy array. You can use either, but `np.arange` is a good tool to have if you start working with NumPy more.\n",
    "\n",
    "`np.random.choice` will take a sample of the values from the array of size <tt>size</tt> without replacement."
   ]
  },
  {
   "cell_type": "code",
   "execution_count": 6,
   "id": "7f243f2c",
   "metadata": {},
   "outputs": [
    {
     "data": {
      "text/plain": [
       "10000"
      ]
     },
     "execution_count": 6,
     "metadata": {},
     "output_type": "execute_result"
    }
   ],
   "source": [
    "sample_indices = np.random.choice(np.arange(num_reviews), size=10000, replace=False)\n",
    "len(sample_indices)"
   ]
  },
  {
   "cell_type": "markdown",
   "id": "3d79d6eb",
   "metadata": {},
   "source": [
    "Now, we will loop through the lines of the main file using `enumerate` to count as we go. For the first line, <tt>i</tt> will be 0. For the last line, <tt>i</tt> will be 8635402. For each line, if the corresponding value of <tt>i</tt> is in <tt>sample_indices</tt>, we will append the line to the list we've called <tt>sample</tt>."
   ]
  },
  {
   "cell_type": "code",
   "execution_count": 7,
   "id": "48fbbed8",
   "metadata": {
    "scrolled": true
   },
   "outputs": [
    {
     "name": "stdout",
     "output_type": "stream",
     "text": [
      "CPU times: total: 1min 28s\n",
      "Wall time: 1min 28s\n"
     ]
    }
   ],
   "source": [
    "%%time\n",
    "\n",
    "sample = []\n",
    "\n",
    "with open(\"data/yelp_dataset/yelp_academic_dataset_review.json\", \"r\", encoding=\"utf-8\") as reader:\n",
    "    for i, line in enumerate(reader):\n",
    "        if i in sample_indices:\n",
    "            sample.append(line.strip())"
   ]
  },
  {
   "cell_type": "markdown",
   "id": "68021842",
   "metadata": {},
   "source": [
    "JSON is a bit like a dictionary. If we use `json.loads`, we can turn each line (a string) into a dictionary."
   ]
  },
  {
   "cell_type": "code",
   "execution_count": 8,
   "id": "f2ad7751",
   "metadata": {},
   "outputs": [],
   "source": [
    "sample = [json.loads(s) for s in sample]"
   ]
  },
  {
   "cell_type": "code",
   "execution_count": 9,
   "id": "0c8fe626",
   "metadata": {},
   "outputs": [
    {
     "data": {
      "text/plain": [
       "{'review_id': 'Bh1cIMh_mZArniNQoCwZaA',\n",
       " 'user_id': '0MeivhX0kZCfV3zMtHtk9Q',\n",
       " 'business_id': 'W4ZEKkva9HpAdZG88juwyQ',\n",
       " 'stars': 4.0,\n",
       " 'useful': 0,\n",
       " 'funny': 0,\n",
       " 'cool': 0,\n",
       " 'text': 'Excellent food, good service, great location. \\n\\nMy wife had shrimp and grits, I had the barbecued shrimp -- both were outstanding. The appetizers were good. The bread pudding was a tad dry in the city that is supposed to be the mother lode of bread pudding. \\n\\nMr. B came close to snagging the fifth star but the service could have been more attentive and the place is freezing - - in July in New Orleans. Wear long sleeves or bring a jacket.',\n",
       " 'date': '2009-08-03 23:14:57'}"
      ]
     },
     "execution_count": 9,
     "metadata": {},
     "output_type": "execute_result"
    }
   ],
   "source": [
    "sample[0]"
   ]
  },
  {
   "cell_type": "code",
   "execution_count": 10,
   "id": "2b643153",
   "metadata": {},
   "outputs": [
    {
     "data": {
      "text/plain": [
       "4.0"
      ]
     },
     "execution_count": 10,
     "metadata": {},
     "output_type": "execute_result"
    }
   ],
   "source": [
    "sample[0][\"stars\"]"
   ]
  },
  {
   "cell_type": "code",
   "execution_count": 11,
   "id": "3caa4ed8",
   "metadata": {},
   "outputs": [
    {
     "data": {
      "text/plain": [
       "'Excellent food, good service, great location. \\n\\nMy wife had shrimp and grits, I had the barbecued shrimp -- both were outstanding. The appetizers were good. The bread pudding was a tad dry in the city that is supposed to be the mother lode of bread pudding. \\n\\nMr. B came close to snagging the fifth star but the service could have been more attentive and the place is freezing - - in July in New Orleans. Wear long sleeves or bring a jacket.'"
      ]
     },
     "execution_count": 11,
     "metadata": {},
     "output_type": "execute_result"
    }
   ],
   "source": [
    "sample[0][\"text\"]"
   ]
  },
  {
   "cell_type": "markdown",
   "id": "ed96c4f7",
   "metadata": {},
   "source": [
    "<tt>sample</tt> is a list of 10,000 dictionaries, each corresponding to one review. However, each fo these dictionaries has the same keys. We can use `pd.Dataframe` directly on this list to create a dataframe, and it will use the keys of the dictionaries as the columns."
   ]
  },
  {
   "cell_type": "code",
   "execution_count": 12,
   "id": "5df5c242",
   "metadata": {},
   "outputs": [],
   "source": [
    "df = pd.DataFrame(sample)"
   ]
  },
  {
   "cell_type": "code",
   "execution_count": 13,
   "id": "47d6b9f8",
   "metadata": {},
   "outputs": [
    {
     "data": {
      "text/html": [
       "<div>\n",
       "<style scoped>\n",
       "    .dataframe tbody tr th:only-of-type {\n",
       "        vertical-align: middle;\n",
       "    }\n",
       "\n",
       "    .dataframe tbody tr th {\n",
       "        vertical-align: top;\n",
       "    }\n",
       "\n",
       "    .dataframe thead th {\n",
       "        text-align: right;\n",
       "    }\n",
       "</style>\n",
       "<table border=\"1\" class=\"dataframe\">\n",
       "  <thead>\n",
       "    <tr style=\"text-align: right;\">\n",
       "      <th></th>\n",
       "      <th>review_id</th>\n",
       "      <th>user_id</th>\n",
       "      <th>business_id</th>\n",
       "      <th>stars</th>\n",
       "      <th>useful</th>\n",
       "      <th>funny</th>\n",
       "      <th>cool</th>\n",
       "      <th>text</th>\n",
       "      <th>date</th>\n",
       "    </tr>\n",
       "  </thead>\n",
       "  <tbody>\n",
       "    <tr>\n",
       "      <th>0</th>\n",
       "      <td>Bh1cIMh_mZArniNQoCwZaA</td>\n",
       "      <td>0MeivhX0kZCfV3zMtHtk9Q</td>\n",
       "      <td>W4ZEKkva9HpAdZG88juwyQ</td>\n",
       "      <td>4.0</td>\n",
       "      <td>0</td>\n",
       "      <td>0</td>\n",
       "      <td>0</td>\n",
       "      <td>Excellent food, good service, great location. ...</td>\n",
       "      <td>2009-08-03 23:14:57</td>\n",
       "    </tr>\n",
       "    <tr>\n",
       "      <th>1</th>\n",
       "      <td>EyKE4PxF1DocfP2cCCD8qQ</td>\n",
       "      <td>v8aeoMqdrClqfZxNB4lWCA</td>\n",
       "      <td>SZU9c8V2GuREDN5KgyHFJw</td>\n",
       "      <td>3.0</td>\n",
       "      <td>1</td>\n",
       "      <td>0</td>\n",
       "      <td>0</td>\n",
       "      <td>For a seafood restaurant at the edge of pear e...</td>\n",
       "      <td>2016-07-14 20:15:05</td>\n",
       "    </tr>\n",
       "    <tr>\n",
       "      <th>2</th>\n",
       "      <td>ljlip5S2hqb76p_pIlLPSg</td>\n",
       "      <td>vQs7uSrq04otWXLALYVcsQ</td>\n",
       "      <td>Zx7n8mdt8OzLRXVzolXNhQ</td>\n",
       "      <td>4.0</td>\n",
       "      <td>0</td>\n",
       "      <td>0</td>\n",
       "      <td>0</td>\n",
       "      <td>Beautiful atmosphere with locally sourced kitc...</td>\n",
       "      <td>2018-04-15 17:43:23</td>\n",
       "    </tr>\n",
       "    <tr>\n",
       "      <th>3</th>\n",
       "      <td>VvQBH-arNBcgROFyN6AVoA</td>\n",
       "      <td>kY6zjBIW5gGIUZLm2udfwg</td>\n",
       "      <td>ivRROeEdcTpH6U424-Pjew</td>\n",
       "      <td>5.0</td>\n",
       "      <td>0</td>\n",
       "      <td>0</td>\n",
       "      <td>0</td>\n",
       "      <td>Michael and Chris were great! It was easy to b...</td>\n",
       "      <td>2018-04-15 17:17:50</td>\n",
       "    </tr>\n",
       "    <tr>\n",
       "      <th>4</th>\n",
       "      <td>MdCSVa2EIivPbhrruYagQw</td>\n",
       "      <td>2bxIEpaa89Jss_TPOXttTQ</td>\n",
       "      <td>NJt2qvQ9NvB7uCxYUnW-dQ</td>\n",
       "      <td>4.0</td>\n",
       "      <td>0</td>\n",
       "      <td>0</td>\n",
       "      <td>0</td>\n",
       "      <td>I frequent the HOB in Oldsmar about once/month...</td>\n",
       "      <td>2012-05-29 02:48:02</td>\n",
       "    </tr>\n",
       "  </tbody>\n",
       "</table>\n",
       "</div>"
      ],
      "text/plain": [
       "                review_id                 user_id             business_id  \\\n",
       "0  Bh1cIMh_mZArniNQoCwZaA  0MeivhX0kZCfV3zMtHtk9Q  W4ZEKkva9HpAdZG88juwyQ   \n",
       "1  EyKE4PxF1DocfP2cCCD8qQ  v8aeoMqdrClqfZxNB4lWCA  SZU9c8V2GuREDN5KgyHFJw   \n",
       "2  ljlip5S2hqb76p_pIlLPSg  vQs7uSrq04otWXLALYVcsQ  Zx7n8mdt8OzLRXVzolXNhQ   \n",
       "3  VvQBH-arNBcgROFyN6AVoA  kY6zjBIW5gGIUZLm2udfwg  ivRROeEdcTpH6U424-Pjew   \n",
       "4  MdCSVa2EIivPbhrruYagQw  2bxIEpaa89Jss_TPOXttTQ  NJt2qvQ9NvB7uCxYUnW-dQ   \n",
       "\n",
       "   stars  useful  funny  cool  \\\n",
       "0    4.0       0      0     0   \n",
       "1    3.0       1      0     0   \n",
       "2    4.0       0      0     0   \n",
       "3    5.0       0      0     0   \n",
       "4    4.0       0      0     0   \n",
       "\n",
       "                                                text                 date  \n",
       "0  Excellent food, good service, great location. ...  2009-08-03 23:14:57  \n",
       "1  For a seafood restaurant at the edge of pear e...  2016-07-14 20:15:05  \n",
       "2  Beautiful atmosphere with locally sourced kitc...  2018-04-15 17:43:23  \n",
       "3  Michael and Chris were great! It was easy to b...  2018-04-15 17:17:50  \n",
       "4  I frequent the HOB in Oldsmar about once/month...  2012-05-29 02:48:02  "
      ]
     },
     "execution_count": 13,
     "metadata": {},
     "output_type": "execute_result"
    }
   ],
   "source": [
    "df.head()"
   ]
  },
  {
   "cell_type": "code",
   "execution_count": 14,
   "id": "925c412e",
   "metadata": {},
   "outputs": [
    {
     "data": {
      "text/plain": [
       "'2006-04-26 06:45:31'"
      ]
     },
     "execution_count": 14,
     "metadata": {},
     "output_type": "execute_result"
    }
   ],
   "source": [
    "df.date.min()"
   ]
  },
  {
   "cell_type": "code",
   "execution_count": 15,
   "id": "af34e7cf",
   "metadata": {},
   "outputs": [
    {
     "data": {
      "text/plain": [
       "'2022-01-19 16:53:51'"
      ]
     },
     "execution_count": 15,
     "metadata": {},
     "output_type": "execute_result"
    }
   ],
   "source": [
    "df.date.max()"
   ]
  },
  {
   "cell_type": "markdown",
   "id": "6a2acb6f",
   "metadata": {},
   "source": [
    "Some quick preprocessing..."
   ]
  },
  {
   "cell_type": "code",
   "execution_count": 16,
   "id": "f509ef2c",
   "metadata": {},
   "outputs": [],
   "source": [
    "def fix_ordinal_nums(word: str) -> str:\n",
    "    ord_num_reg = r\"\\d+[(st)(nd)(rd)(th)]\"\n",
    "    try:\n",
    "        if any(re.findall(ord_num_reg, word)):\n",
    "            word = re.sub(\"[(st)(nd)(rd)(th)]\", \"\", word)\n",
    "            word = num2words(word, lang=\"en\", to=\"ordinal\")\n",
    "            \n",
    "        return word\n",
    "    \n",
    "    except:\n",
    "        \n",
    "        return word\n",
    "\n",
    "\n",
    "def preprocess_post(post: str) -> str:\n",
    "    \"\"\"\n",
    "    Tokenize, lemmatize, remove stop words, \n",
    "    remove non-alphabetic characters.\n",
    "    \"\"\"\n",
    "    post = unidecode(str(post))\n",
    "    post = contractions.fix(post)\n",
    "    post = [word.lemma_ for word in nlp(post) if (word.text not in spacy_stopwords) & (len(word.text) > 1)]\n",
    "    post = \" \".join([fix_ordinal_nums(word) for word in post])\n",
    "    post = re.sub(\"[^a-z]\", \" \", post.lower())\n",
    "    \n",
    "    return re.sub(\"\\s+\", \" \", post).strip()\n",
    "    \n",
    "\n",
    "nlp = spacy.load(\"en_core_web_sm\", disable=[\"ner\", \"parser\"])"
   ]
  },
  {
   "cell_type": "code",
   "execution_count": 17,
   "id": "7fad2887",
   "metadata": {},
   "outputs": [
    {
     "name": "stdout",
     "output_type": "stream",
     "text": [
      "CPU times: total: 1min 32s\n",
      "Wall time: 1min 32s\n"
     ]
    }
   ],
   "source": [
    "%time df[\"preprocessed\"] = df.text.apply(preprocess_post)"
   ]
  },
  {
   "cell_type": "markdown",
   "id": "16721b90",
   "metadata": {},
   "source": [
    "We aren't going to use the <tt>user_id</tt> column, and <tt>review_id</tt> is also an eyesore when we try to display the dataframe. Let's drop those columns and save our work."
   ]
  },
  {
   "cell_type": "code",
   "execution_count": 18,
   "id": "fcfd39c7",
   "metadata": {},
   "outputs": [],
   "source": [
    "df.drop(labels=[\"review_id\", \"user_id\"], axis=1, inplace=True)\n",
    "df.to_json(\"yelp_sample.json\")"
   ]
  },
  {
   "cell_type": "code",
   "execution_count": 19,
   "id": "36a2396a",
   "metadata": {},
   "outputs": [],
   "source": [
    "df = pd.read_json(\"yelp_sample.json\")"
   ]
  },
  {
   "cell_type": "code",
   "execution_count": 20,
   "id": "2b6d8b65",
   "metadata": {},
   "outputs": [
    {
     "data": {
      "text/html": [
       "<div>\n",
       "<style scoped>\n",
       "    .dataframe tbody tr th:only-of-type {\n",
       "        vertical-align: middle;\n",
       "    }\n",
       "\n",
       "    .dataframe tbody tr th {\n",
       "        vertical-align: top;\n",
       "    }\n",
       "\n",
       "    .dataframe thead th {\n",
       "        text-align: right;\n",
       "    }\n",
       "</style>\n",
       "<table border=\"1\" class=\"dataframe\">\n",
       "  <thead>\n",
       "    <tr style=\"text-align: right;\">\n",
       "      <th></th>\n",
       "      <th>business_id</th>\n",
       "      <th>stars</th>\n",
       "      <th>useful</th>\n",
       "      <th>funny</th>\n",
       "      <th>cool</th>\n",
       "      <th>text</th>\n",
       "      <th>date</th>\n",
       "      <th>preprocessed</th>\n",
       "    </tr>\n",
       "  </thead>\n",
       "  <tbody>\n",
       "    <tr>\n",
       "      <th>0</th>\n",
       "      <td>W4ZEKkva9HpAdZG88juwyQ</td>\n",
       "      <td>4</td>\n",
       "      <td>0</td>\n",
       "      <td>0</td>\n",
       "      <td>0</td>\n",
       "      <td>Excellent food, good service, great location. ...</td>\n",
       "      <td>2009-08-03 23:14:57</td>\n",
       "      <td>excellent food good service great location my ...</td>\n",
       "    </tr>\n",
       "    <tr>\n",
       "      <th>1</th>\n",
       "      <td>SZU9c8V2GuREDN5KgyHFJw</td>\n",
       "      <td>3</td>\n",
       "      <td>1</td>\n",
       "      <td>0</td>\n",
       "      <td>0</td>\n",
       "      <td>For a seafood restaurant at the edge of pear e...</td>\n",
       "      <td>2016-07-14 20:15:05</td>\n",
       "      <td>for seafood restaurant edge pear expectation s...</td>\n",
       "    </tr>\n",
       "    <tr>\n",
       "      <th>2</th>\n",
       "      <td>Zx7n8mdt8OzLRXVzolXNhQ</td>\n",
       "      <td>4</td>\n",
       "      <td>0</td>\n",
       "      <td>0</td>\n",
       "      <td>0</td>\n",
       "      <td>Beautiful atmosphere with locally sourced kitc...</td>\n",
       "      <td>2018-04-15 17:43:23</td>\n",
       "      <td>beautiful atmosphere locally source kitchen lo...</td>\n",
       "    </tr>\n",
       "    <tr>\n",
       "      <th>3</th>\n",
       "      <td>ivRROeEdcTpH6U424-Pjew</td>\n",
       "      <td>5</td>\n",
       "      <td>0</td>\n",
       "      <td>0</td>\n",
       "      <td>0</td>\n",
       "      <td>Michael and Chris were great! It was easy to b...</td>\n",
       "      <td>2018-04-15 17:17:50</td>\n",
       "      <td>michael chris great it easy book tour michael ...</td>\n",
       "    </tr>\n",
       "    <tr>\n",
       "      <th>4</th>\n",
       "      <td>NJt2qvQ9NvB7uCxYUnW-dQ</td>\n",
       "      <td>4</td>\n",
       "      <td>0</td>\n",
       "      <td>0</td>\n",
       "      <td>0</td>\n",
       "      <td>I frequent the HOB in Oldsmar about once/month...</td>\n",
       "      <td>2012-05-29 02:48:02</td>\n",
       "      <td>frequent hob oldsmar month drink eat caesar sa...</td>\n",
       "    </tr>\n",
       "  </tbody>\n",
       "</table>\n",
       "</div>"
      ],
      "text/plain": [
       "              business_id  stars  useful  funny  cool  \\\n",
       "0  W4ZEKkva9HpAdZG88juwyQ      4       0      0     0   \n",
       "1  SZU9c8V2GuREDN5KgyHFJw      3       1      0     0   \n",
       "2  Zx7n8mdt8OzLRXVzolXNhQ      4       0      0     0   \n",
       "3  ivRROeEdcTpH6U424-Pjew      5       0      0     0   \n",
       "4  NJt2qvQ9NvB7uCxYUnW-dQ      4       0      0     0   \n",
       "\n",
       "                                                text                date  \\\n",
       "0  Excellent food, good service, great location. ... 2009-08-03 23:14:57   \n",
       "1  For a seafood restaurant at the edge of pear e... 2016-07-14 20:15:05   \n",
       "2  Beautiful atmosphere with locally sourced kitc... 2018-04-15 17:43:23   \n",
       "3  Michael and Chris were great! It was easy to b... 2018-04-15 17:17:50   \n",
       "4  I frequent the HOB in Oldsmar about once/month... 2012-05-29 02:48:02   \n",
       "\n",
       "                                        preprocessed  \n",
       "0  excellent food good service great location my ...  \n",
       "1  for seafood restaurant edge pear expectation s...  \n",
       "2  beautiful atmosphere locally source kitchen lo...  \n",
       "3  michael chris great it easy book tour michael ...  \n",
       "4  frequent hob oldsmar month drink eat caesar sa...  "
      ]
     },
     "execution_count": 20,
     "metadata": {},
     "output_type": "execute_result"
    }
   ],
   "source": [
    "df.head()"
   ]
  },
  {
   "cell_type": "markdown",
   "id": "a9a460d1",
   "metadata": {},
   "source": [
    "#### Business Metadata\n",
    "\n",
    "Now we're going to fetch some info about the businesses themselves. First, we'll create a variable storing all of the unique business IDs in our sample. Next, we'll loop through the <tt>yelp_academic_dataset_business.json</tt> file and get info about the businesses whose IDs are in our sample.\n",
    "\n",
    "The <tt>categories</tt> and <tt>attributes</tt> fields could be useful. They provide a lot of information about different properties of the businesses, from accessibility to ambience to type of business. <tt>categories</tt> is provided as a single string, so we're going to split that into individual categories. <tt>attributes</tt> has fewer total values, but the results are dictionaries. Some are True/False (e.g., 'Outdoor Seating') and some are more varied values (e.g., 'hours'). One of the attribute dictionaries, 'Ambience', has key/value pairs indicating whether a business is touristy, 'hipster', romantic, divey, intimate, trendy, upscale, classy, and/or casual (each True/False). We'll treat each of those as a separate attribute because we're going to use them in our analyses below. If you are interested in some of the other attributes, you may need to modify the code below to handle them how 'Ambience' is handled."
   ]
  },
  {
   "cell_type": "code",
   "execution_count": 21,
   "id": "df1afa71",
   "metadata": {},
   "outputs": [],
   "source": [
    "businesses_in_sample = df.business_id.unique()"
   ]
  },
  {
   "cell_type": "code",
   "execution_count": 22,
   "id": "48f99e48",
   "metadata": {},
   "outputs": [
    {
     "data": {
      "text/plain": [
       "8379"
      ]
     },
     "execution_count": 22,
     "metadata": {},
     "output_type": "execute_result"
    }
   ],
   "source": [
    "len(businesses_in_sample)"
   ]
  },
  {
   "cell_type": "markdown",
   "id": "e13c960a",
   "metadata": {},
   "source": [
    "Let's take a look at the <tt>categories</tt> and <tt>attributes</tt> fields. The code below prints the results for the first review."
   ]
  },
  {
   "cell_type": "code",
   "execution_count": 23,
   "id": "b8d6ddf3",
   "metadata": {},
   "outputs": [
    {
     "name": "stdout",
     "output_type": "stream",
     "text": [
      "Doctors, Traditional Chinese Medicine, Naturopathic/Holistic, Acupuncture, Health & Medical, Nutritionists\n",
      "\n",
      "{'ByAppointmentOnly': 'True'}\n"
     ]
    }
   ],
   "source": [
    "with open(\"data/yelp_dataset/yelp_academic_dataset_business.json\", \"r\", encoding=\"utf-8\") as reader:\n",
    "    for line in reader:\n",
    "        line = json.loads(line.strip())\n",
    "        print(line[\"categories\"])\n",
    "        print()\n",
    "        print(line[\"attributes\"])\n",
    "        break"
   ]
  },
  {
   "cell_type": "code",
   "execution_count": 24,
   "id": "fb66841d",
   "metadata": {},
   "outputs": [
    {
     "name": "stdout",
     "output_type": "stream",
     "text": [
      "CPU times: total: 30.3 s\n",
      "Wall time: 30.3 s\n"
     ]
    }
   ],
   "source": [
    "%%time\n",
    "\n",
    "biz_categories_dict = defaultdict(lambda: {})\n",
    "biz_attributes_dict = defaultdict(lambda: {})\n",
    "\n",
    "with open(\"data/yelp_dataset/yelp_academic_dataset_business.json\", \"r\", encoding=\"utf-8\") as reader:\n",
    "    for line in reader:\n",
    "        line = json.loads(line.strip())\n",
    "        biz_id = line[\"business_id\"]\n",
    "        if biz_id in businesses_in_sample:\n",
    "            categories = line[\"categories\"]\n",
    "            attributes = line[\"attributes\"]\n",
    "            \n",
    "            # check if \"categories\" is empty/None\n",
    "            if categories:\n",
    "                categories = categories.lower().split(\",\")\n",
    "                categories = [cat.strip() for cat in categories]\n",
    "                biz_categories_dict[biz_id] = set(categories)\n",
    "            \n",
    "            # check if \"attributes\" is empty/None\n",
    "            if attributes:\n",
    "                for key, value in attributes.items():\n",
    "                    if key == \"Ambience\":\n",
    "                        amb_categories = eval(value)\n",
    "                        if type(amb_categories) == dict:\n",
    "                            for cat, cat_val in amb_categories.items():\n",
    "                                biz_attributes_dict[cat][biz_id] = cat_val\n",
    "                    else:\n",
    "                        biz_attributes_dict[key][biz_id] = value"
   ]
  },
  {
   "cell_type": "markdown",
   "id": "97bf289a",
   "metadata": {},
   "source": [
    "Let's put all of the categories from <tt>categories</tt> together, count their frequencies (using `Counter`), and take a look at the most frequent."
   ]
  },
  {
   "cell_type": "code",
   "execution_count": 25,
   "id": "acf62096",
   "metadata": {},
   "outputs": [],
   "source": [
    "all_categories = []\n",
    "for cats in biz_categories_dict.values():\n",
    "    all_categories += cats"
   ]
  },
  {
   "cell_type": "code",
   "execution_count": 26,
   "id": "b40f84ed",
   "metadata": {},
   "outputs": [
    {
     "data": {
      "text/plain": [
       "935"
      ]
     },
     "execution_count": 26,
     "metadata": {},
     "output_type": "execute_result"
    }
   ],
   "source": [
    "len(set(all_categories))"
   ]
  },
  {
   "cell_type": "code",
   "execution_count": 27,
   "id": "849437e4",
   "metadata": {},
   "outputs": [],
   "source": [
    "c = Counter(all_categories)\n",
    "c = sorted(list(c.items()), key=lambda x: x[1], reverse=True)"
   ]
  },
  {
   "cell_type": "code",
   "execution_count": 28,
   "id": "dfb74f29",
   "metadata": {},
   "outputs": [
    {
     "data": {
      "text/plain": [
       "[('restaurants', 5277),\n",
       " ('food', 2124),\n",
       " ('nightlife', 1709),\n",
       " ('bars', 1614),\n",
       " ('american (traditional)', 1083),\n",
       " ('american (new)', 1014),\n",
       " ('breakfast & brunch', 845),\n",
       " ('sandwiches', 763),\n",
       " ('event planning & services', 731),\n",
       " ('shopping', 660),\n",
       " ('seafood', 568),\n",
       " ('pizza', 561),\n",
       " ('italian', 518),\n",
       " ('beauty & spas', 510),\n",
       " ('mexican', 506),\n",
       " ('coffee & tea', 492),\n",
       " ('burgers', 470),\n",
       " ('hotels & travel', 392),\n",
       " ('salad', 386),\n",
       " ('arts & entertainment', 383),\n",
       " ('home services', 355),\n",
       " ('cocktail bars', 346),\n",
       " ('desserts', 329),\n",
       " ('automotive', 319),\n",
       " ('cafes', 309),\n",
       " ('fast food', 297),\n",
       " ('specialty food', 293),\n",
       " ('local services', 288),\n",
       " ('active life', 288),\n",
       " ('health & medical', 275),\n",
       " ('sushi bars', 262),\n",
       " ('chinese', 259),\n",
       " ('beer', 258),\n",
       " ('wine & spirits', 258),\n",
       " ('japanese', 256),\n",
       " ('sports bars', 252),\n",
       " ('caterers', 251),\n",
       " ('bakeries', 251),\n",
       " ('pubs', 246),\n",
       " ('steakhouses', 245),\n",
       " ('venues & event spaces', 239),\n",
       " ('hotels', 224),\n",
       " ('wine bars', 224),\n",
       " ('asian fusion', 223),\n",
       " ('nail salons', 222),\n",
       " ('vegetarian', 205),\n",
       " ('cajun/creole', 201),\n",
       " ('southern', 200),\n",
       " ('barbeque', 194),\n",
       " ('chicken wings', 194),\n",
       " ('grocery', 180),\n",
       " ('diners', 173),\n",
       " ('hair salons', 172),\n",
       " ('delis', 172),\n",
       " ('ice cream & frozen yogurt', 169),\n",
       " ('mediterranean', 163),\n",
       " ('auto repair', 159),\n",
       " ('home & garden', 158),\n",
       " ('local flavor', 157),\n",
       " ('hair removal', 153),\n",
       " ('beer bar', 150),\n",
       " ('juice bars & smoothies', 147),\n",
       " ('thai', 147),\n",
       " ('lounges', 140),\n",
       " ('gluten-free', 135),\n",
       " ('soup', 134),\n",
       " ('waxing', 129),\n",
       " ('fashion', 128),\n",
       " ('comfort food', 126),\n",
       " ('music venues', 125),\n",
       " ('vegan', 122),\n",
       " ('breweries', 118),\n",
       " ('gastropubs', 115),\n",
       " ('pets', 108),\n",
       " ('vietnamese', 108),\n",
       " ('skin care', 107),\n",
       " ('fitness & instruction', 104),\n",
       " ('tacos', 104),\n",
       " ('day spas', 101),\n",
       " ('latin american', 101),\n",
       " ('tex-mex', 101),\n",
       " ('tapas/small plates', 89),\n",
       " ('french', 89),\n",
       " ('massage', 88),\n",
       " ('indian', 86),\n",
       " ('greek', 85),\n",
       " ('car dealers', 85),\n",
       " ('professional services', 82),\n",
       " ('real estate', 82),\n",
       " ('pet services', 78),\n",
       " ('noodles', 78),\n",
       " ('tires', 78),\n",
       " ('doctors', 77),\n",
       " ('food delivery services', 77),\n",
       " ('middle eastern', 75),\n",
       " ('gyms', 72),\n",
       " ('donuts', 72),\n",
       " ('food trucks', 71),\n",
       " ('auto parts & supplies', 71),\n",
       " ('tours', 67),\n",
       " ('oil change stations', 67),\n",
       " ('buffets', 65),\n",
       " ('hot dogs', 64),\n",
       " ('flowers & gifts', 63),\n",
       " ('korean', 62),\n",
       " ('bagels', 62),\n",
       " ('chicken shop', 61),\n",
       " ('soul food', 60),\n",
       " ('cheesesteaks', 58),\n",
       " ('eyelash service', 58),\n",
       " ('drugstores', 58),\n",
       " ('electronics', 57),\n",
       " ('caribbean', 56),\n",
       " ('trainers', 55),\n",
       " ('bubble tea', 55),\n",
       " ('party & event planning', 54),\n",
       " ('dentists', 53),\n",
       " ('education', 52),\n",
       " ('contractors', 52),\n",
       " ('tapas bars', 52),\n",
       " ('ethnic food', 51),\n",
       " ('dive bars', 51),\n",
       " ('parks', 51),\n",
       " ('veterinarians', 50),\n",
       " ('museums', 49),\n",
       " ('convenience stores', 48),\n",
       " ('apartments', 48),\n",
       " ('pet groomers', 47),\n",
       " ('barbers', 47),\n",
       " ('general dentistry', 46),\n",
       " ('sporting goods', 46),\n",
       " ('furniture stores', 45),\n",
       " ('public services & government', 44),\n",
       " ('appliances', 43),\n",
       " ('transportation', 43),\n",
       " (\"women's clothing\", 43),\n",
       " ('pet sitting', 43),\n",
       " ('department stores', 42),\n",
       " ('hair stylists', 42),\n",
       " ('body shops', 42),\n",
       " ('cinema', 41),\n",
       " ('cosmetic dentists', 41),\n",
       " ('home decor', 41),\n",
       " ('arts & crafts', 40),\n",
       " ('cosmetics & beauty supply', 40),\n",
       " ('ramen', 39),\n",
       " ('heating & air conditioning/hvac', 39),\n",
       " ('massage therapy', 38),\n",
       " ('jewelry', 37),\n",
       " ('health markets', 37),\n",
       " ('dance clubs', 37),\n",
       " ('halal', 36),\n",
       " ('makeup artists', 36),\n",
       " ('spanish', 36),\n",
       " ('irish', 36),\n",
       " ('beer gardens', 35),\n",
       " ('it services & computer repair', 35),\n",
       " ('florists', 35),\n",
       " ('plumbing', 35),\n",
       " ('movers', 34),\n",
       " ('auto detailing', 34),\n",
       " ('books', 34),\n",
       " ('music & video', 34),\n",
       " ('mags', 34),\n",
       " ('meat shops', 33),\n",
       " ('medical centers', 32),\n",
       " ('car rental', 32),\n",
       " ('specialty schools', 31),\n",
       " ('yoga', 31),\n",
       " ('car wash', 31),\n",
       " ('coffee roasteries', 31),\n",
       " ('nurseries & gardening', 30),\n",
       " ('farmers market', 30),\n",
       " ('food stands', 30),\n",
       " ('financial services', 29),\n",
       " ('hair extensions', 29),\n",
       " ('cuban', 29),\n",
       " ('appliances & repair', 28),\n",
       " ('gelato', 28),\n",
       " ('art galleries', 28),\n",
       " (\"men's clothing\", 28),\n",
       " ('wedding planning', 27),\n",
       " ('tanning', 27),\n",
       " ('jazz & blues', 27),\n",
       " ('accessories', 27),\n",
       " ('kitchen & bath', 26),\n",
       " ('home cleaning', 26),\n",
       " ('wineries', 26),\n",
       " ('performing arts', 25),\n",
       " ('wraps', 25),\n",
       " ('brewpubs', 25),\n",
       " ('mattresses', 24),\n",
       " ('seafood markets', 24),\n",
       " ('modern european', 24),\n",
       " ('medical spas', 24),\n",
       " ('property management', 24),\n",
       " ('auto glass services', 24),\n",
       " ('water heater installation/repair', 24),\n",
       " ('pet stores', 23),\n",
       " ('german', 23)]"
      ]
     },
     "execution_count": 28,
     "metadata": {},
     "output_type": "execute_result"
    }
   ],
   "source": [
    "c[:200]"
   ]
  },
  {
   "cell_type": "markdown",
   "id": "bde5697e",
   "metadata": {},
   "source": [
    "We can use <tt>biz_categories_dict</tt> and each review's <tt>business_id</tt> field to check whether each category was used to describe the business.\n",
    "\n",
    "We can do the same for <tt>attributes</tt>."
   ]
  },
  {
   "cell_type": "code",
   "execution_count": 29,
   "id": "8e41c3d6",
   "metadata": {},
   "outputs": [
    {
     "name": "stdout",
     "output_type": "stream",
     "text": [
      "NoiseLevel 4983\n",
      "GoodForMeal 4361\n",
      "RestaurantsGoodForGroups 5066\n",
      "RestaurantsTableService 3168\n",
      "WiFi 5836\n",
      "GoodForKids 5479\n",
      "Alcohol 5117\n",
      "RestaurantsPriceRange2 6677\n",
      "RestaurantsAttire 4769\n",
      "BikeParking 6205\n",
      "BusinessParking 6843\n",
      "Caters 5015\n",
      "RestaurantsReservations 5133\n",
      "HasTV 5154\n",
      "BusinessAcceptsCreditCards 7644\n",
      "OutdoorSeating 5361\n",
      "touristy 5118\n",
      "hipster 5117\n",
      "romantic 5118\n",
      "divey 5062\n",
      "intimate 5118\n",
      "trendy 5118\n",
      "upscale 5108\n",
      "classy 5118\n",
      "casual 5118\n",
      "RestaurantsDelivery 5583\n",
      "RestaurantsTakeOut 5742\n",
      "HappyHour 2772\n",
      "DogsAllowed 2945\n",
      "BusinessAcceptsBitcoin 1623\n",
      "WheelchairAccessible 2846\n",
      "DriveThru 802\n",
      "ByAppointmentOnly 2192\n",
      "AcceptsInsurance 154\n",
      "Music 1303\n",
      "CoatCheck 1003\n",
      "BestNights 1179\n",
      "Corkage 718\n",
      "BYOBCorkage 390\n",
      "Smoking 823\n",
      "BYOB 805\n",
      "GoodForDancing 1000\n",
      "HairSpecializesIn 49\n",
      "RestaurantsCounterService 10\n",
      "Open24Hours 8\n",
      "AgesAllowed 18\n",
      "DietaryRestrictions 7\n"
     ]
    }
   ],
   "source": [
    "for attribute in biz_attributes_dict.keys():\n",
    "    print(attribute, len(biz_attributes_dict[attribute]))"
   ]
  },
  {
   "cell_type": "markdown",
   "id": "978f539e",
   "metadata": {},
   "source": [
    "Let's add a few variables (columns) to our dataframe reflecting different properties of the businesses. Note that with <tt>RestaurantsPriceRange2</tt>, we have to change the datatype from `str` to `float`."
   ]
  },
  {
   "cell_type": "code",
   "execution_count": 30,
   "id": "eaa192e8",
   "metadata": {},
   "outputs": [],
   "source": [
    "df[\"RestaurantsPriceRange2\"] = df.business_id.apply(lambda x: biz_attributes_dict[\"RestaurantsPriceRange2\"].get(x, np.nan))\n",
    "df.loc[df[\"RestaurantsPriceRange2\"] == \"None\", \"RestaurantsPriceRange2\"] = np.nan\n",
    "df = df.astype({\"RestaurantsPriceRange2\": \"float\"})"
   ]
  },
  {
   "cell_type": "code",
   "execution_count": 31,
   "id": "37b6ac1f",
   "metadata": {},
   "outputs": [
    {
     "data": {
      "text/plain": [
       "array([ 3.,  2., nan,  1.,  4.])"
      ]
     },
     "execution_count": 31,
     "metadata": {},
     "output_type": "execute_result"
    }
   ],
   "source": [
    "df.RestaurantsPriceRange2.unique()"
   ]
  },
  {
   "cell_type": "code",
   "execution_count": 32,
   "id": "23de8918",
   "metadata": {},
   "outputs": [
    {
     "data": {
      "text/plain": [
       "array([nan, \"'yes_free'\", \"'yes_corkage'\", \"'no'\", \"u'yes_corkage'\",\n",
       "       \"u'no'\", \"u'yes_free'\"], dtype=object)"
      ]
     },
     "execution_count": 32,
     "metadata": {},
     "output_type": "execute_result"
    }
   ],
   "source": [
    "df[\"BYOBCorkage\"] = df.business_id.apply(lambda x: biz_attributes_dict[\"BYOBCorkage\"].get(x, np.nan))\n",
    "df.BYOBCorkage.unique()"
   ]
  },
  {
   "cell_type": "code",
   "execution_count": 33,
   "id": "daff416f",
   "metadata": {},
   "outputs": [],
   "source": [
    "d = {\"'no'\": 0, \"'yes_free'\": 1, \"'yes_corkage'\": 1, 'None': np.nan, \"u'no'\": 0}\n",
    "df.BYOBCorkage = df.BYOBCorkage.apply(lambda x: d.get(x, np.nan))"
   ]
  },
  {
   "cell_type": "code",
   "execution_count": 34,
   "id": "9cc52b04",
   "metadata": {},
   "outputs": [
    {
     "data": {
      "text/plain": [
       "Counter({1.0: 298, 0.0: 324})"
      ]
     },
     "execution_count": 34,
     "metadata": {},
     "output_type": "execute_result"
    }
   ],
   "source": [
    "Counter(df.BYOBCorkage.dropna())"
   ]
  },
  {
   "cell_type": "code",
   "execution_count": 35,
   "id": "829e4d7c",
   "metadata": {},
   "outputs": [],
   "source": [
    "# From 'Ambience' in the raw data\n",
    "df[\"classy\"] = df.business_id.apply(lambda x: biz_attributes_dict[\"classy\"].get(x, np.nan))"
   ]
  },
  {
   "cell_type": "code",
   "execution_count": 36,
   "id": "afac848a",
   "metadata": {},
   "outputs": [
    {
     "data": {
      "text/html": [
       "<div>\n",
       "<style scoped>\n",
       "    .dataframe tbody tr th:only-of-type {\n",
       "        vertical-align: middle;\n",
       "    }\n",
       "\n",
       "    .dataframe tbody tr th {\n",
       "        vertical-align: top;\n",
       "    }\n",
       "\n",
       "    .dataframe thead th {\n",
       "        text-align: right;\n",
       "    }\n",
       "</style>\n",
       "<table border=\"1\" class=\"dataframe\">\n",
       "  <thead>\n",
       "    <tr style=\"text-align: right;\">\n",
       "      <th></th>\n",
       "      <th>business_id</th>\n",
       "      <th>stars</th>\n",
       "      <th>useful</th>\n",
       "      <th>funny</th>\n",
       "      <th>cool</th>\n",
       "      <th>text</th>\n",
       "      <th>date</th>\n",
       "      <th>preprocessed</th>\n",
       "      <th>RestaurantsPriceRange2</th>\n",
       "      <th>BYOBCorkage</th>\n",
       "      <th>classy</th>\n",
       "    </tr>\n",
       "  </thead>\n",
       "  <tbody>\n",
       "    <tr>\n",
       "      <th>0</th>\n",
       "      <td>W4ZEKkva9HpAdZG88juwyQ</td>\n",
       "      <td>4</td>\n",
       "      <td>0</td>\n",
       "      <td>0</td>\n",
       "      <td>0</td>\n",
       "      <td>Excellent food, good service, great location. ...</td>\n",
       "      <td>2009-08-03 23:14:57</td>\n",
       "      <td>excellent food good service great location my ...</td>\n",
       "      <td>3.0</td>\n",
       "      <td>NaN</td>\n",
       "      <td>True</td>\n",
       "    </tr>\n",
       "    <tr>\n",
       "      <th>1</th>\n",
       "      <td>SZU9c8V2GuREDN5KgyHFJw</td>\n",
       "      <td>3</td>\n",
       "      <td>1</td>\n",
       "      <td>0</td>\n",
       "      <td>0</td>\n",
       "      <td>For a seafood restaurant at the edge of pear e...</td>\n",
       "      <td>2016-07-14 20:15:05</td>\n",
       "      <td>for seafood restaurant edge pear expectation s...</td>\n",
       "      <td>2.0</td>\n",
       "      <td>NaN</td>\n",
       "      <td>True</td>\n",
       "    </tr>\n",
       "    <tr>\n",
       "      <th>2</th>\n",
       "      <td>Zx7n8mdt8OzLRXVzolXNhQ</td>\n",
       "      <td>4</td>\n",
       "      <td>0</td>\n",
       "      <td>0</td>\n",
       "      <td>0</td>\n",
       "      <td>Beautiful atmosphere with locally sourced kitc...</td>\n",
       "      <td>2018-04-15 17:43:23</td>\n",
       "      <td>beautiful atmosphere locally source kitchen lo...</td>\n",
       "      <td>2.0</td>\n",
       "      <td>NaN</td>\n",
       "      <td>True</td>\n",
       "    </tr>\n",
       "    <tr>\n",
       "      <th>3</th>\n",
       "      <td>ivRROeEdcTpH6U424-Pjew</td>\n",
       "      <td>5</td>\n",
       "      <td>0</td>\n",
       "      <td>0</td>\n",
       "      <td>0</td>\n",
       "      <td>Michael and Chris were great! It was easy to b...</td>\n",
       "      <td>2018-04-15 17:17:50</td>\n",
       "      <td>michael chris great it easy book tour michael ...</td>\n",
       "      <td>NaN</td>\n",
       "      <td>NaN</td>\n",
       "      <td>NaN</td>\n",
       "    </tr>\n",
       "    <tr>\n",
       "      <th>4</th>\n",
       "      <td>NJt2qvQ9NvB7uCxYUnW-dQ</td>\n",
       "      <td>4</td>\n",
       "      <td>0</td>\n",
       "      <td>0</td>\n",
       "      <td>0</td>\n",
       "      <td>I frequent the HOB in Oldsmar about once/month...</td>\n",
       "      <td>2012-05-29 02:48:02</td>\n",
       "      <td>frequent hob oldsmar month drink eat caesar sa...</td>\n",
       "      <td>1.0</td>\n",
       "      <td>NaN</td>\n",
       "      <td>False</td>\n",
       "    </tr>\n",
       "  </tbody>\n",
       "</table>\n",
       "</div>"
      ],
      "text/plain": [
       "              business_id  stars  useful  funny  cool  \\\n",
       "0  W4ZEKkva9HpAdZG88juwyQ      4       0      0     0   \n",
       "1  SZU9c8V2GuREDN5KgyHFJw      3       1      0     0   \n",
       "2  Zx7n8mdt8OzLRXVzolXNhQ      4       0      0     0   \n",
       "3  ivRROeEdcTpH6U424-Pjew      5       0      0     0   \n",
       "4  NJt2qvQ9NvB7uCxYUnW-dQ      4       0      0     0   \n",
       "\n",
       "                                                text                date  \\\n",
       "0  Excellent food, good service, great location. ... 2009-08-03 23:14:57   \n",
       "1  For a seafood restaurant at the edge of pear e... 2016-07-14 20:15:05   \n",
       "2  Beautiful atmosphere with locally sourced kitc... 2018-04-15 17:43:23   \n",
       "3  Michael and Chris were great! It was easy to b... 2018-04-15 17:17:50   \n",
       "4  I frequent the HOB in Oldsmar about once/month... 2012-05-29 02:48:02   \n",
       "\n",
       "                                        preprocessed  RestaurantsPriceRange2  \\\n",
       "0  excellent food good service great location my ...                     3.0   \n",
       "1  for seafood restaurant edge pear expectation s...                     2.0   \n",
       "2  beautiful atmosphere locally source kitchen lo...                     2.0   \n",
       "3  michael chris great it easy book tour michael ...                     NaN   \n",
       "4  frequent hob oldsmar month drink eat caesar sa...                     1.0   \n",
       "\n",
       "   BYOBCorkage classy  \n",
       "0          NaN   True  \n",
       "1          NaN   True  \n",
       "2          NaN   True  \n",
       "3          NaN    NaN  \n",
       "4          NaN  False  "
      ]
     },
     "execution_count": 36,
     "metadata": {},
     "output_type": "execute_result"
    }
   ],
   "source": [
    "df.head()"
   ]
  },
  {
   "cell_type": "code",
   "execution_count": 37,
   "id": "824b99d3",
   "metadata": {},
   "outputs": [],
   "source": [
    "df = df[df.business_id.isin(biz_categories_dict)]"
   ]
  },
  {
   "cell_type": "code",
   "execution_count": 38,
   "id": "cb72e6fc",
   "metadata": {},
   "outputs": [
    {
     "data": {
      "text/plain": [
       "(9999, 11)"
      ]
     },
     "execution_count": 38,
     "metadata": {},
     "output_type": "execute_result"
    }
   ],
   "source": [
    "df.shape"
   ]
  },
  {
   "cell_type": "code",
   "execution_count": 39,
   "id": "31d01101",
   "metadata": {},
   "outputs": [],
   "source": [
    "df[\"karaoke\"] = df.business_id.apply(lambda x: \"karaoke\" in biz_categories_dict[x])\n",
    "df[\"breweries\"] = df.business_id.apply(lambda x: \"breweries\" in biz_categories_dict[x])\n",
    "df[\"restaurant\"] = df.business_id.apply(lambda x: \"restaurant\" in biz_categories_dict[x])\n",
    "df[\"coffee\"] = df.business_id.apply(lambda x: \"coffee\" in biz_categories_dict[x])\n",
    "df[\"breakfast\"] = df.business_id.apply(lambda x: \"breakfast & brunch\" in biz_categories_dict[x])"
   ]
  },
  {
   "cell_type": "markdown",
   "id": "85ab5290",
   "metadata": {},
   "source": [
    "## II. Sentiment with VADER\n",
    "\n",
    "To expand our toolkit a bit more in general and increase the range of variables we can explore in this notebook in particular, we are going to use VADER to analyze sentiment. You can check out the original paper here: [VADER: A Parsimonious Rule-based Model for  Sentiment Analysis of Social Media Text](http://comp.social.gatech.edu/papers/icwsm14.vader.hutto.pdf). You can read more about it on the GitHub page [here](https://github.com/cjhutto/vaderSentiment).\n",
    "\n",
    "VADER provides positive, neutral, and negative sentiment scores as well as a 'compound' score. According to the [GitHub page](https://github.com/cjhutto/vaderSentiment):\n",
    "> The compound score is computed by summing the valence scores of each word in the lexicon, adjusted according to the rules, and then normalized to be between -1 (most extreme negative) and +1 (most extreme positive). This is the most useful metric if you want a single unidimensional measure of sentiment for a given sentence. Calling it a 'normalized, weighted composite score' is accurate.\n",
    "\n",
    "We'll focus on the compound score in our analyses. Let's print a couple of example reviews, the scores from VADER, and the number of stars the reviewer assigned."
   ]
  },
  {
   "cell_type": "code",
   "execution_count": 40,
   "id": "e8f9bdc4",
   "metadata": {},
   "outputs": [],
   "source": [
    "analyzer = SentimentIntensityAnalyzer()"
   ]
  },
  {
   "cell_type": "code",
   "execution_count": 41,
   "id": "fca3eb28",
   "metadata": {},
   "outputs": [
    {
     "name": "stdout",
     "output_type": "stream",
     "text": [
      "Review 9735\n",
      "--\n",
      "We came here for NYE & it was a prix fix menu and it was absolutely incredible. Each dish was 10/10 delicious, my boyfriend and I split everything and agreed that there wasn't one thing we liked more than another because it was all so good! \n",
      "\n",
      "What we had: \n",
      "-oysters and angel hair pasta: it was perfectly cooked and seasoned and was a great dish \n",
      "-Mississippi style bbq pork belly: this dish was incredible, the meat was so tender and the flavor was great. My boyfriend said this was the best dish he's ever eaten \n",
      "-gumbo: the presentation of the gumbo was unique and it was really good\n",
      "-fish of the day: it was a mahi mahi and it was perfectly cooked and came with fresh veggies and gnocchi. I loved the gnocchi! \n",
      "-6 oz filet: the filet was delicious and came with potato's and crawfish. It was cooked to perfection \n",
      "-chocolate lava cake: was so rich and delicious and warm \n",
      "-bread pudding: delicious and beautiful. My boyfriend loved it\n",
      "\n",
      "Overall, incredible restaurant. The service was also fantastic, if you haven't been you need to change that ASAP!\n",
      "{'neg': 0.0, 'neu': 0.686, 'pos': 0.314, 'compound': 0.9976}\n",
      "Stars: 5\n",
      "\n",
      "Review 236\n",
      "--\n",
      "Ted Drewes makes the the belly smile...\n",
      "\n",
      "One night I commented about craving something sweet for dessert. My boss driving us back from dinner, hit his breaks and turned his car around and drove me to Ted's for the first time. He said he had the place for my sweet tooth. I said drive on. Now I know we all have well intention people in our life trying to get us to try a shot at the bar or fried something or some other next \"Great\" food. The road to hell is paved with good intentions. My belly has been fooled many times. However it wasn't  this time. Ted won a delicious sweet custard spot in my belly. It is so good that every time I visit St. Louis now I have to make a stop here. The only question I had since is how did I ever miss this place! Plus don't be intimidated by the long lines the service is lickety split.\n",
      "{'neg': 0.057, 'neu': 0.766, 'pos': 0.177, 'compound': 0.9734}\n",
      "Stars: 5\n",
      "\n"
     ]
    }
   ],
   "source": [
    "for idx, row in df.sample(2).iterrows():\n",
    "    print(f\"Review {idx}\\n--\")\n",
    "    print(row.text)\n",
    "    vs = analyzer.polarity_scores(row.text)\n",
    "    print(vs)\n",
    "    print(f\"Stars: {row.stars}\")\n",
    "    print()"
   ]
  },
  {
   "cell_type": "markdown",
   "id": "044fe0cd",
   "metadata": {},
   "source": [
    "...and let's go ahead and compute the scores for each review in our sample."
   ]
  },
  {
   "cell_type": "code",
   "execution_count": 42,
   "id": "c7827e9d",
   "metadata": {},
   "outputs": [
    {
     "name": "stdout",
     "output_type": "stream",
     "text": [
      "CPU times: total: 9.97 s\n",
      "Wall time: 10 s\n"
     ]
    }
   ],
   "source": [
    "%time df[[\"neg\", \"neu\", \"pos\", \"compound\"]] = df.preprocessed.apply(lambda x: pd.Series(analyzer.polarity_scores(x)))"
   ]
  },
  {
   "cell_type": "markdown",
   "id": "50dac2a4",
   "metadata": {},
   "source": [
    "We'll also a variable for the day of the week that could be useful for focusing on reviews of particular types of events (e.g., dinner on Friday vs. Sunday brunch)."
   ]
  },
  {
   "cell_type": "code",
   "execution_count": 43,
   "id": "e0db3032",
   "metadata": {},
   "outputs": [],
   "source": [
    "df[\"date\"] = pd.to_datetime(df[\"date\"])\n",
    "df[\"day_name\"] = df[\"date\"].dt.day_name()"
   ]
  },
  {
   "cell_type": "code",
   "execution_count": 44,
   "id": "741dd593",
   "metadata": {},
   "outputs": [
    {
     "data": {
      "text/html": [
       "<div>\n",
       "<style scoped>\n",
       "    .dataframe tbody tr th:only-of-type {\n",
       "        vertical-align: middle;\n",
       "    }\n",
       "\n",
       "    .dataframe tbody tr th {\n",
       "        vertical-align: top;\n",
       "    }\n",
       "\n",
       "    .dataframe thead th {\n",
       "        text-align: right;\n",
       "    }\n",
       "</style>\n",
       "<table border=\"1\" class=\"dataframe\">\n",
       "  <thead>\n",
       "    <tr style=\"text-align: right;\">\n",
       "      <th></th>\n",
       "      <th>business_id</th>\n",
       "      <th>stars</th>\n",
       "      <th>useful</th>\n",
       "      <th>funny</th>\n",
       "      <th>cool</th>\n",
       "      <th>text</th>\n",
       "      <th>date</th>\n",
       "      <th>preprocessed</th>\n",
       "      <th>RestaurantsPriceRange2</th>\n",
       "      <th>BYOBCorkage</th>\n",
       "      <th>...</th>\n",
       "      <th>karaoke</th>\n",
       "      <th>breweries</th>\n",
       "      <th>restaurant</th>\n",
       "      <th>coffee</th>\n",
       "      <th>breakfast</th>\n",
       "      <th>neg</th>\n",
       "      <th>neu</th>\n",
       "      <th>pos</th>\n",
       "      <th>compound</th>\n",
       "      <th>day_name</th>\n",
       "    </tr>\n",
       "  </thead>\n",
       "  <tbody>\n",
       "    <tr>\n",
       "      <th>0</th>\n",
       "      <td>W4ZEKkva9HpAdZG88juwyQ</td>\n",
       "      <td>4</td>\n",
       "      <td>0</td>\n",
       "      <td>0</td>\n",
       "      <td>0</td>\n",
       "      <td>Excellent food, good service, great location. ...</td>\n",
       "      <td>2009-08-03 23:14:57</td>\n",
       "      <td>excellent food good service great location my ...</td>\n",
       "      <td>3.0</td>\n",
       "      <td>NaN</td>\n",
       "      <td>...</td>\n",
       "      <td>False</td>\n",
       "      <td>False</td>\n",
       "      <td>False</td>\n",
       "      <td>False</td>\n",
       "      <td>True</td>\n",
       "      <td>0.000</td>\n",
       "      <td>0.675</td>\n",
       "      <td>0.325</td>\n",
       "      <td>0.9571</td>\n",
       "      <td>Monday</td>\n",
       "    </tr>\n",
       "    <tr>\n",
       "      <th>1</th>\n",
       "      <td>SZU9c8V2GuREDN5KgyHFJw</td>\n",
       "      <td>3</td>\n",
       "      <td>1</td>\n",
       "      <td>0</td>\n",
       "      <td>0</td>\n",
       "      <td>For a seafood restaurant at the edge of pear e...</td>\n",
       "      <td>2016-07-14 20:15:05</td>\n",
       "      <td>for seafood restaurant edge pear expectation s...</td>\n",
       "      <td>2.0</td>\n",
       "      <td>NaN</td>\n",
       "      <td>...</td>\n",
       "      <td>False</td>\n",
       "      <td>False</td>\n",
       "      <td>False</td>\n",
       "      <td>False</td>\n",
       "      <td>False</td>\n",
       "      <td>0.089</td>\n",
       "      <td>0.705</td>\n",
       "      <td>0.206</td>\n",
       "      <td>0.8877</td>\n",
       "      <td>Thursday</td>\n",
       "    </tr>\n",
       "    <tr>\n",
       "      <th>2</th>\n",
       "      <td>Zx7n8mdt8OzLRXVzolXNhQ</td>\n",
       "      <td>4</td>\n",
       "      <td>0</td>\n",
       "      <td>0</td>\n",
       "      <td>0</td>\n",
       "      <td>Beautiful atmosphere with locally sourced kitc...</td>\n",
       "      <td>2018-04-15 17:43:23</td>\n",
       "      <td>beautiful atmosphere locally source kitchen lo...</td>\n",
       "      <td>2.0</td>\n",
       "      <td>NaN</td>\n",
       "      <td>...</td>\n",
       "      <td>False</td>\n",
       "      <td>False</td>\n",
       "      <td>False</td>\n",
       "      <td>False</td>\n",
       "      <td>True</td>\n",
       "      <td>0.000</td>\n",
       "      <td>0.630</td>\n",
       "      <td>0.370</td>\n",
       "      <td>0.9607</td>\n",
       "      <td>Sunday</td>\n",
       "    </tr>\n",
       "    <tr>\n",
       "      <th>3</th>\n",
       "      <td>ivRROeEdcTpH6U424-Pjew</td>\n",
       "      <td>5</td>\n",
       "      <td>0</td>\n",
       "      <td>0</td>\n",
       "      <td>0</td>\n",
       "      <td>Michael and Chris were great! It was easy to b...</td>\n",
       "      <td>2018-04-15 17:17:50</td>\n",
       "      <td>michael chris great it easy book tour michael ...</td>\n",
       "      <td>NaN</td>\n",
       "      <td>NaN</td>\n",
       "      <td>...</td>\n",
       "      <td>False</td>\n",
       "      <td>False</td>\n",
       "      <td>False</td>\n",
       "      <td>False</td>\n",
       "      <td>False</td>\n",
       "      <td>0.000</td>\n",
       "      <td>0.755</td>\n",
       "      <td>0.245</td>\n",
       "      <td>0.8555</td>\n",
       "      <td>Sunday</td>\n",
       "    </tr>\n",
       "    <tr>\n",
       "      <th>4</th>\n",
       "      <td>NJt2qvQ9NvB7uCxYUnW-dQ</td>\n",
       "      <td>4</td>\n",
       "      <td>0</td>\n",
       "      <td>0</td>\n",
       "      <td>0</td>\n",
       "      <td>I frequent the HOB in Oldsmar about once/month...</td>\n",
       "      <td>2012-05-29 02:48:02</td>\n",
       "      <td>frequent hob oldsmar month drink eat caesar sa...</td>\n",
       "      <td>1.0</td>\n",
       "      <td>NaN</td>\n",
       "      <td>...</td>\n",
       "      <td>False</td>\n",
       "      <td>False</td>\n",
       "      <td>False</td>\n",
       "      <td>False</td>\n",
       "      <td>False</td>\n",
       "      <td>0.000</td>\n",
       "      <td>0.706</td>\n",
       "      <td>0.294</td>\n",
       "      <td>0.9657</td>\n",
       "      <td>Tuesday</td>\n",
       "    </tr>\n",
       "  </tbody>\n",
       "</table>\n",
       "<p>5 rows × 21 columns</p>\n",
       "</div>"
      ],
      "text/plain": [
       "              business_id  stars  useful  funny  cool  \\\n",
       "0  W4ZEKkva9HpAdZG88juwyQ      4       0      0     0   \n",
       "1  SZU9c8V2GuREDN5KgyHFJw      3       1      0     0   \n",
       "2  Zx7n8mdt8OzLRXVzolXNhQ      4       0      0     0   \n",
       "3  ivRROeEdcTpH6U424-Pjew      5       0      0     0   \n",
       "4  NJt2qvQ9NvB7uCxYUnW-dQ      4       0      0     0   \n",
       "\n",
       "                                                text                date  \\\n",
       "0  Excellent food, good service, great location. ... 2009-08-03 23:14:57   \n",
       "1  For a seafood restaurant at the edge of pear e... 2016-07-14 20:15:05   \n",
       "2  Beautiful atmosphere with locally sourced kitc... 2018-04-15 17:43:23   \n",
       "3  Michael and Chris were great! It was easy to b... 2018-04-15 17:17:50   \n",
       "4  I frequent the HOB in Oldsmar about once/month... 2012-05-29 02:48:02   \n",
       "\n",
       "                                        preprocessed  RestaurantsPriceRange2  \\\n",
       "0  excellent food good service great location my ...                     3.0   \n",
       "1  for seafood restaurant edge pear expectation s...                     2.0   \n",
       "2  beautiful atmosphere locally source kitchen lo...                     2.0   \n",
       "3  michael chris great it easy book tour michael ...                     NaN   \n",
       "4  frequent hob oldsmar month drink eat caesar sa...                     1.0   \n",
       "\n",
       "   BYOBCorkage  ... karaoke  breweries  restaurant  coffee  breakfast    neg  \\\n",
       "0          NaN  ...   False      False       False   False       True  0.000   \n",
       "1          NaN  ...   False      False       False   False      False  0.089   \n",
       "2          NaN  ...   False      False       False   False       True  0.000   \n",
       "3          NaN  ...   False      False       False   False      False  0.000   \n",
       "4          NaN  ...   False      False       False   False      False  0.000   \n",
       "\n",
       "     neu    pos  compound  day_name  \n",
       "0  0.675  0.325    0.9571    Monday  \n",
       "1  0.705  0.206    0.8877  Thursday  \n",
       "2  0.630  0.370    0.9607    Sunday  \n",
       "3  0.755  0.245    0.8555    Sunday  \n",
       "4  0.706  0.294    0.9657   Tuesday  \n",
       "\n",
       "[5 rows x 21 columns]"
      ]
     },
     "execution_count": 44,
     "metadata": {},
     "output_type": "execute_result"
    }
   ],
   "source": [
    "df.head()"
   ]
  },
  {
   "cell_type": "code",
   "execution_count": 45,
   "id": "c2e469db",
   "metadata": {},
   "outputs": [],
   "source": [
    "df.to_json(\"yelp_sample.json\")"
   ]
  },
  {
   "cell_type": "markdown",
   "id": "550be32c",
   "metadata": {},
   "source": [
    "## III. Descriptive Statistics"
   ]
  },
  {
   "cell_type": "markdown",
   "id": "398169ab",
   "metadata": {},
   "source": [
    "Pandas dataframes have a `describe` method that provides basic [descriptive statistics](https://en.wikipedia.org/wiki/Descriptive_statistics). You can also compute them directly (e.g., by calling `.mean()` or `.median()`) or by using a library like NumPy directly."
   ]
  },
  {
   "cell_type": "code",
   "execution_count": 46,
   "id": "9cf51880",
   "metadata": {},
   "outputs": [
    {
     "data": {
      "text/html": [
       "<div>\n",
       "<style scoped>\n",
       "    .dataframe tbody tr th:only-of-type {\n",
       "        vertical-align: middle;\n",
       "    }\n",
       "\n",
       "    .dataframe tbody tr th {\n",
       "        vertical-align: top;\n",
       "    }\n",
       "\n",
       "    .dataframe thead th {\n",
       "        text-align: right;\n",
       "    }\n",
       "</style>\n",
       "<table border=\"1\" class=\"dataframe\">\n",
       "  <thead>\n",
       "    <tr style=\"text-align: right;\">\n",
       "      <th></th>\n",
       "      <th>stars</th>\n",
       "      <th>neg</th>\n",
       "      <th>neu</th>\n",
       "      <th>pos</th>\n",
       "      <th>compound</th>\n",
       "    </tr>\n",
       "  </thead>\n",
       "  <tbody>\n",
       "    <tr>\n",
       "      <th>count</th>\n",
       "      <td>9999.000000</td>\n",
       "      <td>9999.000000</td>\n",
       "      <td>9999.000000</td>\n",
       "      <td>9999.000000</td>\n",
       "      <td>9999.000000</td>\n",
       "    </tr>\n",
       "    <tr>\n",
       "      <th>mean</th>\n",
       "      <td>3.731673</td>\n",
       "      <td>0.070456</td>\n",
       "      <td>0.601555</td>\n",
       "      <td>0.327993</td>\n",
       "      <td>0.675643</td>\n",
       "    </tr>\n",
       "    <tr>\n",
       "      <th>std</th>\n",
       "      <td>1.491091</td>\n",
       "      <td>0.084570</td>\n",
       "      <td>0.132313</td>\n",
       "      <td>0.157500</td>\n",
       "      <td>0.511678</td>\n",
       "    </tr>\n",
       "    <tr>\n",
       "      <th>min</th>\n",
       "      <td>1.000000</td>\n",
       "      <td>0.000000</td>\n",
       "      <td>0.152000</td>\n",
       "      <td>0.000000</td>\n",
       "      <td>-0.994200</td>\n",
       "    </tr>\n",
       "    <tr>\n",
       "      <th>25%</th>\n",
       "      <td>3.000000</td>\n",
       "      <td>0.000000</td>\n",
       "      <td>0.516000</td>\n",
       "      <td>0.218000</td>\n",
       "      <td>0.690800</td>\n",
       "    </tr>\n",
       "    <tr>\n",
       "      <th>50%</th>\n",
       "      <td>4.000000</td>\n",
       "      <td>0.046000</td>\n",
       "      <td>0.606000</td>\n",
       "      <td>0.324000</td>\n",
       "      <td>0.914500</td>\n",
       "    </tr>\n",
       "    <tr>\n",
       "      <th>75%</th>\n",
       "      <td>5.000000</td>\n",
       "      <td>0.108000</td>\n",
       "      <td>0.691000</td>\n",
       "      <td>0.435500</td>\n",
       "      <td>0.967400</td>\n",
       "    </tr>\n",
       "    <tr>\n",
       "      <th>max</th>\n",
       "      <td>5.000000</td>\n",
       "      <td>0.730000</td>\n",
       "      <td>1.000000</td>\n",
       "      <td>0.838000</td>\n",
       "      <td>0.998900</td>\n",
       "    </tr>\n",
       "  </tbody>\n",
       "</table>\n",
       "</div>"
      ],
      "text/plain": [
       "             stars          neg          neu          pos     compound\n",
       "count  9999.000000  9999.000000  9999.000000  9999.000000  9999.000000\n",
       "mean      3.731673     0.070456     0.601555     0.327993     0.675643\n",
       "std       1.491091     0.084570     0.132313     0.157500     0.511678\n",
       "min       1.000000     0.000000     0.152000     0.000000    -0.994200\n",
       "25%       3.000000     0.000000     0.516000     0.218000     0.690800\n",
       "50%       4.000000     0.046000     0.606000     0.324000     0.914500\n",
       "75%       5.000000     0.108000     0.691000     0.435500     0.967400\n",
       "max       5.000000     0.730000     1.000000     0.838000     0.998900"
      ]
     },
     "execution_count": 46,
     "metadata": {},
     "output_type": "execute_result"
    }
   ],
   "source": [
    "df[[\"stars\", \"neg\", \"neu\", \"pos\", \"compound\"]].describe()"
   ]
  },
  {
   "cell_type": "code",
   "execution_count": 48,
   "id": "c5dc163f",
   "metadata": {},
   "outputs": [
    {
     "name": "stdout",
     "output_type": "stream",
     "text": [
      "Mean: 3.73\n",
      "Mean: 4.00\n",
      "Min: 1.00\n",
      "Max: 5.00\n",
      "Standard deviation (using n): 1.49102\n",
      "Standard deviation (using n-1): 1.49109\n"
     ]
    }
   ],
   "source": [
    "print(f\"Mean: {np.mean(df.stars):.2f}\")\n",
    "print(f\"Mean: {np.median(df.stars):.2f}\")\n",
    "print(f\"Min: {np.min(df.stars):.2f}\")\n",
    "print(f\"Max: {np.max(df.stars):.2f}\")\n",
    "print(f\"Standard deviation (using n): {np.std(df.stars):.5f}\") # default: formula for population standard deviation\n",
    "print(f\"Standard deviation (using n-1): {np.std(df.stars, ddof=1):.5f}\") # use n-1 for sample standard deviation"
   ]
  },
  {
   "cell_type": "markdown",
   "id": "8540f0b2",
   "metadata": {},
   "source": [
    "## IV. Inferential Statistics\n",
    "\n",
    "Inferential statistics is all about using what we know about a sample—including variability in the data, which is a source of uncertainty—to make inferences about the population from which a sample was drawn.\n",
    "\n",
    "[Benjamin et al. (2018)](https://www.nature.com/articles/s41562-017-0189-z?source=post_page---------------------------) describe the typical approach to inferential statistics:\n",
    "\n",
    "> In testing a point null hypothesis H<sub>0</sub> against an alternative hypothesis H<sub>1</sub> based on data x<sub>obs</sub>, the P value is defined as the probability, calculated under the null hypothesis, that a test statistic is as extreme or more extreme than its observed value. The null hypothesis is typically rejected — and the finding is declared statistically significant — if the P value falls below the (current) [type I error](https://en.wikipedia.org/wiki/Type_I_and_type_II_errors) threshold α = 0.05.\n",
    "\n",
    "Put differently, a p-value is our attempt to quantify the likelihood that we would observe the data we actually observe (including the test statistic derived from the data) if the null hypothesis were true. A low p-value suggests the likelihood of observing the data should be low *if the null hypothesis is correct*. We typically use a threshold like 0.05 as the cutoff for declaring statistical significance. If the p-value is >= 0.05, we *retain* the null hypothesis; if the p-value is < 0.05, we *reject* the null hypothesis.\n",
    "\n",
    "We also refer to the 95% confience level (1 - 0.05) when α = 0.05. This is the conventional threshold, but Benjamin et al. (2018) argue against this for various reasons. [Consider this XKCD comic](https://xkcd.com/882/), for example.\n",
    "\n",
    "The null hypothesis (H<sub>0</sub>) and the alternative hypothesis (usually referred to as H<sub>1</sub> or H<sub>A</sub>) will depend on the specific test.\n",
    "\n",
    "#### Correlation\n",
    "\n",
    "Correlation refers to the strength and direction of the (potential) relationship between two variables. Usually, we assume this relationship is pretty much linear. A positive correlation coefficient indicates that when one variable increases, the other does, too. A negative correlation implies that as one variable increases, the other instead decreases.\n",
    "\n",
    "Correlation is sometimes considered to be part of descriptive statistics because correlation coefficients *describe* the strength of a relationship between two variabies. However, when we calculate a correlation coefficient, we also typically performance a hypothesis test, which is part of inferential statistics.\n",
    "\n",
    "If we calculate the correlation coefficient between two continuous variables, our null hypothesis is that the correlation is 0 (i.e., that the variables are uncorrelated). A significant correlation coefficient suggests the variables are correlated at some confidence level (determined by the p-value)."
   ]
  },
  {
   "cell_type": "markdown",
   "id": "bd7fd3f6",
   "metadata": {},
   "source": [
    "You can calculate correlation coefficients directly using the [`.corr()` method](https://pandas.pydata.org/docs/reference/api/pandas.DataFrame.corr.html) with your dataframe. By default, this will produce a correlation matrix using Pearson's *r*. You can add the \"spearman\" argument for Spearman's rho or \"kendall\" for the Kendall rank correlation coefficient."
   ]
  },
  {
   "cell_type": "code",
   "execution_count": 49,
   "id": "71dadd6d",
   "metadata": {},
   "outputs": [
    {
     "data": {
      "text/html": [
       "<div>\n",
       "<style scoped>\n",
       "    .dataframe tbody tr th:only-of-type {\n",
       "        vertical-align: middle;\n",
       "    }\n",
       "\n",
       "    .dataframe tbody tr th {\n",
       "        vertical-align: top;\n",
       "    }\n",
       "\n",
       "    .dataframe thead th {\n",
       "        text-align: right;\n",
       "    }\n",
       "</style>\n",
       "<table border=\"1\" class=\"dataframe\">\n",
       "  <thead>\n",
       "    <tr style=\"text-align: right;\">\n",
       "      <th></th>\n",
       "      <th>stars</th>\n",
       "      <th>neg</th>\n",
       "      <th>neu</th>\n",
       "      <th>pos</th>\n",
       "      <th>compound</th>\n",
       "      <th>RestaurantsPriceRange2</th>\n",
       "    </tr>\n",
       "  </thead>\n",
       "  <tbody>\n",
       "    <tr>\n",
       "      <th>stars</th>\n",
       "      <td>1.000000</td>\n",
       "      <td>-0.564180</td>\n",
       "      <td>-0.351418</td>\n",
       "      <td>0.598112</td>\n",
       "      <td>0.618601</td>\n",
       "      <td>0.026787</td>\n",
       "    </tr>\n",
       "    <tr>\n",
       "      <th>neg</th>\n",
       "      <td>-0.564180</td>\n",
       "      <td>1.000000</td>\n",
       "      <td>0.006584</td>\n",
       "      <td>-0.542440</td>\n",
       "      <td>-0.748831</td>\n",
       "      <td>-0.039850</td>\n",
       "    </tr>\n",
       "    <tr>\n",
       "      <th>neu</th>\n",
       "      <td>-0.351418</td>\n",
       "      <td>0.006584</td>\n",
       "      <td>1.000000</td>\n",
       "      <td>-0.843644</td>\n",
       "      <td>-0.304461</td>\n",
       "      <td>-0.021236</td>\n",
       "    </tr>\n",
       "    <tr>\n",
       "      <th>pos</th>\n",
       "      <td>0.598112</td>\n",
       "      <td>-0.542440</td>\n",
       "      <td>-0.843644</td>\n",
       "      <td>1.000000</td>\n",
       "      <td>0.657833</td>\n",
       "      <td>0.039151</td>\n",
       "    </tr>\n",
       "    <tr>\n",
       "      <th>compound</th>\n",
       "      <td>0.618601</td>\n",
       "      <td>-0.748831</td>\n",
       "      <td>-0.304461</td>\n",
       "      <td>0.657833</td>\n",
       "      <td>1.000000</td>\n",
       "      <td>0.066896</td>\n",
       "    </tr>\n",
       "    <tr>\n",
       "      <th>RestaurantsPriceRange2</th>\n",
       "      <td>0.026787</td>\n",
       "      <td>-0.039850</td>\n",
       "      <td>-0.021236</td>\n",
       "      <td>0.039151</td>\n",
       "      <td>0.066896</td>\n",
       "      <td>1.000000</td>\n",
       "    </tr>\n",
       "  </tbody>\n",
       "</table>\n",
       "</div>"
      ],
      "text/plain": [
       "                           stars       neg       neu       pos  compound  \\\n",
       "stars                   1.000000 -0.564180 -0.351418  0.598112  0.618601   \n",
       "neg                    -0.564180  1.000000  0.006584 -0.542440 -0.748831   \n",
       "neu                    -0.351418  0.006584  1.000000 -0.843644 -0.304461   \n",
       "pos                     0.598112 -0.542440 -0.843644  1.000000  0.657833   \n",
       "compound                0.618601 -0.748831 -0.304461  0.657833  1.000000   \n",
       "RestaurantsPriceRange2  0.026787 -0.039850 -0.021236  0.039151  0.066896   \n",
       "\n",
       "                        RestaurantsPriceRange2  \n",
       "stars                                 0.026787  \n",
       "neg                                  -0.039850  \n",
       "neu                                  -0.021236  \n",
       "pos                                   0.039151  \n",
       "compound                              0.066896  \n",
       "RestaurantsPriceRange2                1.000000  "
      ]
     },
     "execution_count": 49,
     "metadata": {},
     "output_type": "execute_result"
    }
   ],
   "source": [
    "df[[\"stars\", \"neg\", \"neu\", \"pos\", \"compound\", \"RestaurantsPriceRange2\"]].corr()"
   ]
  },
  {
   "cell_type": "code",
   "execution_count": 50,
   "id": "50728b02",
   "metadata": {},
   "outputs": [
    {
     "data": {
      "text/html": [
       "<div>\n",
       "<style scoped>\n",
       "    .dataframe tbody tr th:only-of-type {\n",
       "        vertical-align: middle;\n",
       "    }\n",
       "\n",
       "    .dataframe tbody tr th {\n",
       "        vertical-align: top;\n",
       "    }\n",
       "\n",
       "    .dataframe thead th {\n",
       "        text-align: right;\n",
       "    }\n",
       "</style>\n",
       "<table border=\"1\" class=\"dataframe\">\n",
       "  <thead>\n",
       "    <tr style=\"text-align: right;\">\n",
       "      <th></th>\n",
       "      <th>stars</th>\n",
       "      <th>neg</th>\n",
       "      <th>neu</th>\n",
       "      <th>pos</th>\n",
       "      <th>compound</th>\n",
       "      <th>RestaurantsPriceRange2</th>\n",
       "    </tr>\n",
       "  </thead>\n",
       "  <tbody>\n",
       "    <tr>\n",
       "      <th>stars</th>\n",
       "      <td>1.000000</td>\n",
       "      <td>-0.497712</td>\n",
       "      <td>-0.359205</td>\n",
       "      <td>0.584221</td>\n",
       "      <td>0.471910</td>\n",
       "      <td>0.025430</td>\n",
       "    </tr>\n",
       "    <tr>\n",
       "      <th>neg</th>\n",
       "      <td>-0.497712</td>\n",
       "      <td>1.000000</td>\n",
       "      <td>0.102358</td>\n",
       "      <td>-0.562320</td>\n",
       "      <td>-0.470871</td>\n",
       "      <td>-0.024779</td>\n",
       "    </tr>\n",
       "    <tr>\n",
       "      <th>neu</th>\n",
       "      <td>-0.359205</td>\n",
       "      <td>0.102358</td>\n",
       "      <td>1.000000</td>\n",
       "      <td>-0.833949</td>\n",
       "      <td>-0.341587</td>\n",
       "      <td>-0.020790</td>\n",
       "    </tr>\n",
       "    <tr>\n",
       "      <th>pos</th>\n",
       "      <td>0.584221</td>\n",
       "      <td>-0.562320</td>\n",
       "      <td>-0.833949</td>\n",
       "      <td>1.000000</td>\n",
       "      <td>0.607715</td>\n",
       "      <td>0.044515</td>\n",
       "    </tr>\n",
       "    <tr>\n",
       "      <th>compound</th>\n",
       "      <td>0.471910</td>\n",
       "      <td>-0.470871</td>\n",
       "      <td>-0.341587</td>\n",
       "      <td>0.607715</td>\n",
       "      <td>1.000000</td>\n",
       "      <td>0.100387</td>\n",
       "    </tr>\n",
       "    <tr>\n",
       "      <th>RestaurantsPriceRange2</th>\n",
       "      <td>0.025430</td>\n",
       "      <td>-0.024779</td>\n",
       "      <td>-0.020790</td>\n",
       "      <td>0.044515</td>\n",
       "      <td>0.100387</td>\n",
       "      <td>1.000000</td>\n",
       "    </tr>\n",
       "  </tbody>\n",
       "</table>\n",
       "</div>"
      ],
      "text/plain": [
       "                           stars       neg       neu       pos  compound  \\\n",
       "stars                   1.000000 -0.497712 -0.359205  0.584221  0.471910   \n",
       "neg                    -0.497712  1.000000  0.102358 -0.562320 -0.470871   \n",
       "neu                    -0.359205  0.102358  1.000000 -0.833949 -0.341587   \n",
       "pos                     0.584221 -0.562320 -0.833949  1.000000  0.607715   \n",
       "compound                0.471910 -0.470871 -0.341587  0.607715  1.000000   \n",
       "RestaurantsPriceRange2  0.025430 -0.024779 -0.020790  0.044515  0.100387   \n",
       "\n",
       "                        RestaurantsPriceRange2  \n",
       "stars                                 0.025430  \n",
       "neg                                  -0.024779  \n",
       "neu                                  -0.020790  \n",
       "pos                                   0.044515  \n",
       "compound                              0.100387  \n",
       "RestaurantsPriceRange2                1.000000  "
      ]
     },
     "execution_count": 50,
     "metadata": {},
     "output_type": "execute_result"
    }
   ],
   "source": [
    "df[[\"stars\", \"neg\", \"neu\", \"pos\", \"compound\", \"RestaurantsPriceRange2\"]].corr(\"spearman\")"
   ]
  },
  {
   "cell_type": "markdown",
   "id": "59fe4b78",
   "metadata": {},
   "source": [
    "We can also save the whole correlation matrix as a variable (here, <tt>correlation_matrix</tt>) and plot it using Seaborn's `heatmap` function."
   ]
  },
  {
   "cell_type": "code",
   "execution_count": 51,
   "id": "b9dd8977",
   "metadata": {},
   "outputs": [
    {
     "data": {
      "image/png": "[encoded data removed]",
      "text/plain": [
       "<Figure size 432x288 with 2 Axes>"
      ]
     },
     "metadata": {
      "needs_background": "light"
     },
     "output_type": "display_data"
    }
   ],
   "source": [
    "correlation_matrix = df[[\"stars\", \"neg\", \"neu\", \"pos\", \"compound\"]].corr()\n",
    "sns.heatmap(correlation_matrix, cmap=\"coolwarm_r\", annot=True, square=True)\n",
    "plt.show()"
   ]
  },
  {
   "cell_type": "markdown",
   "id": "b558ed78",
   "metadata": {},
   "source": [
    "The `pingouin` library adds features like the [`rcorr` method](https://pingouin-stats.org/generated/pingouin.rcorr.html), which display correlation coefficients in the lower triangle and significance levels (represented by asterisks) in the upper triangle."
   ]
  },
  {
   "cell_type": "code",
   "execution_count": 52,
   "id": "a28f6c52",
   "metadata": {},
   "outputs": [
    {
     "data": {
      "text/html": [
       "<div>\n",
       "<style scoped>\n",
       "    .dataframe tbody tr th:only-of-type {\n",
       "        vertical-align: middle;\n",
       "    }\n",
       "\n",
       "    .dataframe tbody tr th {\n",
       "        vertical-align: top;\n",
       "    }\n",
       "\n",
       "    .dataframe thead th {\n",
       "        text-align: right;\n",
       "    }\n",
       "</style>\n",
       "<table border=\"1\" class=\"dataframe\">\n",
       "  <thead>\n",
       "    <tr style=\"text-align: right;\">\n",
       "      <th></th>\n",
       "      <th>stars</th>\n",
       "      <th>compound</th>\n",
       "      <th>RestaurantsPriceRange2</th>\n",
       "    </tr>\n",
       "  </thead>\n",
       "  <tbody>\n",
       "    <tr>\n",
       "      <th>stars</th>\n",
       "      <td>-</td>\n",
       "      <td>***</td>\n",
       "      <td>*</td>\n",
       "    </tr>\n",
       "    <tr>\n",
       "      <th>compound</th>\n",
       "      <td>0.472</td>\n",
       "      <td>-</td>\n",
       "      <td>***</td>\n",
       "    </tr>\n",
       "    <tr>\n",
       "      <th>RestaurantsPriceRange2</th>\n",
       "      <td>0.025</td>\n",
       "      <td>0.1</td>\n",
       "      <td>-</td>\n",
       "    </tr>\n",
       "  </tbody>\n",
       "</table>\n",
       "</div>"
      ],
      "text/plain": [
       "                        stars compound RestaurantsPriceRange2\n",
       "stars                       -      ***                      *\n",
       "compound                0.472        -                    ***\n",
       "RestaurantsPriceRange2  0.025      0.1                      -"
      ]
     },
     "execution_count": 52,
     "metadata": {},
     "output_type": "execute_result"
    }
   ],
   "source": [
    "df[[\"stars\", \"compound\", \"RestaurantsPriceRange2\"]].rcorr(\"spearman\")"
   ]
  },
  {
   "cell_type": "markdown",
   "id": "8997530e",
   "metadata": {},
   "source": [
    "`scipy.stats` makes it easy to access the correlation coefficient and p-value for specific pairs of variables."
   ]
  },
  {
   "cell_type": "code",
   "execution_count": 53,
   "id": "1ac838f5",
   "metadata": {},
   "outputs": [
    {
     "data": {
      "text/plain": [
       "(0.6186008051993412, 0.0)"
      ]
     },
     "execution_count": 53,
     "metadata": {},
     "output_type": "execute_result"
    }
   ],
   "source": [
    "pearsonr(df.stars, df.compound)"
   ]
  },
  {
   "cell_type": "code",
   "execution_count": 54,
   "id": "d49cc51f",
   "metadata": {},
   "outputs": [
    {
     "data": {
      "text/plain": [
       "SpearmanrResult(correlation=0.4719102400942906, pvalue=0.0)"
      ]
     },
     "execution_count": 54,
     "metadata": {},
     "output_type": "execute_result"
    }
   ],
   "source": [
    "spearmanr(df.stars, df.compound)"
   ]
  },
  {
   "cell_type": "markdown",
   "id": "53da70d0",
   "metadata": {},
   "source": [
    "We can access the individual pieces of information (the correlation coefficient *r* and the p-value) by assigning the results to two variables (<tt>r</tt> and <tt>pvalue</tt>) separated by a comma."
   ]
  },
  {
   "cell_type": "code",
   "execution_count": 66,
   "id": "da2e0f1b",
   "metadata": {},
   "outputs": [],
   "source": [
    "r, pvalue = pearsonr(df.stars, df.compound)"
   ]
  },
  {
   "cell_type": "code",
   "execution_count": 67,
   "id": "1c078cfd",
   "metadata": {},
   "outputs": [
    {
     "data": {
      "text/plain": [
       "0.6186008051993412"
      ]
     },
     "execution_count": 67,
     "metadata": {},
     "output_type": "execute_result"
    }
   ],
   "source": [
    "r"
   ]
  },
  {
   "cell_type": "markdown",
   "id": "084e28c8",
   "metadata": {},
   "source": [
    "**Note: The p-value is being rounded down to zero. It's not precisely zero. We will never be that certain if we are only looking at a sample.**"
   ]
  },
  {
   "cell_type": "code",
   "execution_count": 68,
   "id": "22a06df0",
   "metadata": {},
   "outputs": [
    {
     "data": {
      "text/plain": [
       "0.0"
      ]
     },
     "execution_count": 68,
     "metadata": {},
     "output_type": "execute_result"
    }
   ],
   "source": [
    "pvalue"
   ]
  },
  {
   "cell_type": "markdown",
   "id": "b3bcb608",
   "metadata": {},
   "source": [
    "#### Comparing group means with *t*-tests"
   ]
  },
  {
   "cell_type": "markdown",
   "id": "b2f9fab6",
   "metadata": {},
   "source": [
    "To test for differences in the means between two groups, we'll use the `statsmodels` implementation of independent samples *t*-tests, `ttest_ind`. Specifically, we are going to test whether restaurants categorized as breweries and restaurants categorized as having karaoke have different ratings on average.\n",
    "\n",
    "First, we want to make sure that our groups do not overlap (i.e., that no restaurant in our sample is a brewery that does karaoke). The code below checks whether there are any reviews for businesses that are describes as breweries and as having karaoke. There should be none in the sample.\n",
    "\n",
    "Next we'll compare the mean star-rating for each of these groups and then conduct a *t*-test. `ttest_ind` returns the *t*-statistic, the *p*-value, and another piece of information we won't get into called the degrees of freedom. In this sample, there is not a significant difference in the mean star-rating of breweries and businesses offering karaoke."
   ]
  },
  {
   "cell_type": "code",
   "execution_count": 58,
   "id": "e3278a69",
   "metadata": {},
   "outputs": [
    {
     "data": {
      "text/plain": [
       "(0, 21)"
      ]
     },
     "execution_count": 58,
     "metadata": {},
     "output_type": "execute_result"
    }
   ],
   "source": [
    "df[(df.karaoke==True) & (df.breweries==True)].shape"
   ]
  },
  {
   "cell_type": "code",
   "execution_count": 59,
   "id": "c57192b2",
   "metadata": {},
   "outputs": [
    {
     "name": "stdout",
     "output_type": "stream",
     "text": [
      "3.8\n",
      "4.053333333333334\n"
     ]
    }
   ],
   "source": [
    "print(df[df.karaoke==True].stars.mean())\n",
    "print(df[df.breweries==True].stars.mean())"
   ]
  },
  {
   "cell_type": "markdown",
   "id": "921e3e7b",
   "metadata": {},
   "source": [
    "On average, breweries get an extra 0.25 stars, but the p-value is greater than 0.05, so we *retain* (or *fail to reject*) the null hypothesis. In other words, we would conclude there is no evidence of a difference between these groups."
   ]
  },
  {
   "cell_type": "code",
   "execution_count": 61,
   "id": "8c71f784",
   "metadata": {},
   "outputs": [
    {
     "name": "stdout",
     "output_type": "stream",
     "text": [
      "0.25333333333333385\n"
     ]
    }
   ],
   "source": [
    "print(df[df.breweries==True].stars.mean()-df[df.karaoke==True].stars.mean())"
   ]
  },
  {
   "cell_type": "code",
   "execution_count": 72,
   "id": "2410be9d",
   "metadata": {},
   "outputs": [
    {
     "name": "stdout",
     "output_type": "stream",
     "text": [
      "t = -0.75, p = 0.47\n"
     ]
    }
   ],
   "source": [
    "t, pvalue, _ = ttest_ind(df[df.karaoke==True].stars, df[df.breweries==True].stars, usevar=\"unequal\")\n",
    "print(f\"t = {t:.2f}, p = {pvalue:.2f}\")"
   ]
  },
  {
   "cell_type": "markdown",
   "id": "bd5e0aca",
   "metadata": {},
   "source": [
    "How about restaurants that are described as classy or not?"
   ]
  },
  {
   "cell_type": "code",
   "execution_count": 69,
   "id": "1081cca6",
   "metadata": {},
   "outputs": [
    {
     "name": "stdout",
     "output_type": "stream",
     "text": [
      "3.94756711409396\n",
      "3.6802405028696366\n"
     ]
    }
   ],
   "source": [
    "print(df[df.classy==True].stars.mean())\n",
    "print(df[df.classy==False].stars.mean())"
   ]
  },
  {
   "cell_type": "code",
   "execution_count": 70,
   "id": "0a716523",
   "metadata": {},
   "outputs": [
    {
     "name": "stdout",
     "output_type": "stream",
     "text": [
      "0.26732661122432333\n"
     ]
    }
   ],
   "source": [
    "print(df[df.classy==True].stars.mean()-df[df.classy==False].stars.mean())"
   ]
  },
  {
   "cell_type": "code",
   "execution_count": 71,
   "id": "8bbba238",
   "metadata": {},
   "outputs": [
    {
     "name": "stdout",
     "output_type": "stream",
     "text": [
      "t = 7.51, p = 0.00\n"
     ]
    }
   ],
   "source": [
    "t, pvalue, _ = ttest_ind(df[df.classy==True].stars, df[df.classy==False].stars, usevar=\"unequal\")\n",
    "print(f\"t = {t:.2f}, p = {pvalue:.2f}\")"
   ]
  },
  {
   "cell_type": "markdown",
   "id": "5b47f8a8",
   "metadata": {},
   "source": [
    "On average, restaurants described as classy receive an extra 0.27 stars. The p-value has been rounded down to zero, and isn't actually zero; but we can conclude that the group means are significantly different at the p < 0.01 level (or 99% confidence level)."
   ]
  },
  {
   "cell_type": "markdown",
   "id": "f21afe5c",
   "metadata": {},
   "source": [
    "#### Linear Regression with OLS"
   ]
  },
  {
   "cell_type": "markdown",
   "id": "bb2de869",
   "metadata": {},
   "source": [
    "Now we will turn to linear regression using ordinary least squares (OLS). OLS tests the strength and significance of the relationship between the dependent variable ('outcome' or 'response' variable) and each independent variable ('predictor' or 'explanatory variable') in a way that can seem more flexible and interpretable than the previous tests. Whereas correlation coefficients are 'unit-free', a regression coefficient is interpreted as the unit change in the y variable for a unit change in the x variable. The intercept (or 'constant') in the model is the conditional mean of the dependent variable.\n",
    "\n",
    "We are going to use the [`statsmodels` library](https://www.statsmodels.org/stable/index.html) to train our regression models and the [`stargazer` library](https://github.com/mwburke/stargazer) to format regression tables. <tt>compound</tt> is a continuous variable ranging between -1 and 1. <tt>RestaurantsPriceRange2</tt> is an ordinal variable ranging from 1 to 4, though we can treat it as a continuous variable. <tt>breakfast</tt> and <tt>classy</tt> are stored as `bools` (True/False), and `statsmodels` will implicitly treat them as categorical variables where `False` == 0 and `True` == 1. This means that they will be treated as dummy variables (another name for binary or dichotomous variables), and the coefficient for each variable indicates the change in the outcome when the variable is `True` (or 1), as opposed to `False` (or 0).\n",
    "\n",
    "More specifically, we are going to use `statsmodels.formula.api`, which allows us to write our regression equations using R-like syntax: e.g., `y ~ x1 + x2`. See [here](https://www.statsmodels.org/devel/example_formulas.html)."
   ]
  },
  {
   "cell_type": "code",
   "execution_count": 73,
   "id": "b9769dc7",
   "metadata": {},
   "outputs": [],
   "source": [
    "# We are going to create a subset of the dataframe without missing data for the variables in our models\n",
    "tmp = df[[\"compound\", \"RestaurantsPriceRange2\", \"breakfast\", \"classy\"]].dropna()\n",
    "\n",
    "formula = \"compound ~ RestaurantsPriceRange2 + breakfast\"\n",
    "ols1 = smf.ols(formula, data=tmp).fit()\n",
    "\n",
    "formula = \"compound ~ RestaurantsPriceRange2 + breakfast + classy\"\n",
    "ols2 = smf.ols(formula, data=tmp).fit()"
   ]
  },
  {
   "cell_type": "code",
   "execution_count": 74,
   "id": "82a1721a",
   "metadata": {},
   "outputs": [
    {
     "data": {
      "text/html": [
       "<table style=\"text-align:center\"><tr><td colspan=\"3\" style=\"border-bottom: 1px solid black\"></td></tr><tr><td style=\"text-align:left\"></td><td colspan=\"2\"><em>Dependent variable:compound</em></td></tr><tr><td style=\"text-align:left\"></td><tr><td style=\"text-align:left\"></td><td>(1)</td><td>(2)</td></tr><tr><td colspan=\"3\" style=\"border-bottom: 1px solid black\"></td></tr><tr><td style=\"text-align:left\">Intercept</td><td>0.548<sup>***</sup></td><td>0.570<sup>***</sup></td></tr><tr><td style=\"text-align:left\"></td><td>(0.021)</td><td>(0.022)</td></tr><tr><td style=\"text-align:left\">RestaurantsPriceRange2</td><td>0.088<sup>***</sup></td><td>0.062<sup>***</sup></td></tr><tr><td style=\"text-align:left\"></td><td>(0.011)</td><td>(0.012)</td></tr><tr><td style=\"text-align:left\">breakfast[T.True]</td><td>0.039<sup>**</sup></td><td>0.031<sup>**</sup></td></tr><tr><td style=\"text-align:left\"></td><td>(0.016)</td><td>(0.016)</td></tr><tr><td style=\"text-align:left\">classy[T.True]</td><td></td><td>0.073<sup>***</sup></td></tr><tr><td style=\"text-align:left\"></td><td></td><td>(0.013)</td></tr><td colspan=\"3\" style=\"border-bottom: 1px solid black\"></td></tr><tr><td style=\"text-align: left\">Observations</td><td>5,947</td><td>5,947</td></tr><tr><td style=\"text-align: left\">R<sup>2</sup></td><td>0.012</td><td>0.017</td></tr><tr><td style=\"text-align: left\">Adjusted R<sup>2</sup></td><td>0.012</td><td>0.016</td></tr><tr><td style=\"text-align: left\">Residual Std. Error</td><td>0.457 (df=5944)</td><td>0.456 (df=5943)</td></tr><tr><td style=\"text-align: left\">F Statistic</td><td>35.851<sup>***</sup> (df=2; 5944)</td><td>34.140<sup>***</sup> (df=3; 5943)</td></tr><tr><td colspan=\"3\" style=\"border-bottom: 1px solid black\"></td></tr><tr><td style=\"text-align: left\">Note:</td>\n",
       " <td colspan=\"2\" style=\"text-align: right\">\n",
       "  <sup>*</sup>p&lt;0.1;\n",
       "  <sup>**</sup>p&lt;0.05;\n",
       "  <sup>***</sup>p&lt;0.01\n",
       " </td></tr></table>"
      ],
      "text/plain": [
       "<stargazer.stargazer.Stargazer at 0x28861047100>"
      ]
     },
     "execution_count": 74,
     "metadata": {},
     "output_type": "execute_result"
    }
   ],
   "source": [
    "reg_table = Stargazer([ols1, ols2])\n",
    "reg_table"
   ]
  },
  {
   "cell_type": "markdown",
   "id": "1e1c44cb",
   "metadata": {},
   "source": [
    "`stargazer` offers numerous methods for editing the appearance of the table, for example the order the independent variables appear in, the names of the independent variables, and the title of the table."
   ]
  },
  {
   "cell_type": "code",
   "execution_count": 75,
   "id": "ecf11c76",
   "metadata": {},
   "outputs": [],
   "source": [
    "reg_table = Stargazer([ols1, ols2])\n",
    "reg_table.covariate_order([\"RestaurantsPriceRange2\", \"breakfast[T.True]\", \"classy[T.True]\", \"Intercept\"])\n",
    "reg_table.rename_covariates({\"RestaurantsPriceRange2\": \"Price\", \"breakfast[T.True]\": \"Breakfast\", \"classy[T.True]\": \"Classy\"})\n",
    "reg_table.title(\"Compound Sentiment Regressed on Price, Ambience, and Breakfast\")\n",
    "reg_table.show_model_numbers(False)\n",
    "reg_table.significance_levels([0.05, 0.01, 0.001])\n",
    "reg_table.custom_columns([\"Model 1\", \"Model 2\"], [1, 1])"
   ]
  },
  {
   "cell_type": "code",
   "execution_count": 76,
   "id": "424f4cd3",
   "metadata": {},
   "outputs": [
    {
     "data": {
      "text/html": [
       "Compound Sentiment Regressed on Price, Ambience, and Breakfast<br><table style=\"text-align:center\"><tr><td colspan=\"3\" style=\"border-bottom: 1px solid black\"></td></tr><tr><td style=\"text-align:left\"></td><td colspan=\"2\"><em>Dependent variable:compound</em></td></tr><tr><td style=\"text-align:left\"></td><tr><td></td><td colspan=\"1\">Model 1</td><td colspan=\"1\">Model 2</td></tr><tr><td colspan=\"3\" style=\"border-bottom: 1px solid black\"></td></tr><tr><td style=\"text-align:left\">Price</td><td>0.088<sup>***</sup></td><td>0.062<sup>***</sup></td></tr><tr><td style=\"text-align:left\"></td><td>(0.011)</td><td>(0.012)</td></tr><tr><td style=\"text-align:left\">Breakfast</td><td>0.039<sup>*</sup></td><td>0.031<sup>*</sup></td></tr><tr><td style=\"text-align:left\"></td><td>(0.016)</td><td>(0.016)</td></tr><tr><td style=\"text-align:left\">Classy</td><td></td><td>0.073<sup>***</sup></td></tr><tr><td style=\"text-align:left\"></td><td></td><td>(0.013)</td></tr><tr><td style=\"text-align:left\">Intercept</td><td>0.548<sup>***</sup></td><td>0.570<sup>***</sup></td></tr><tr><td style=\"text-align:left\"></td><td>(0.021)</td><td>(0.022)</td></tr><td colspan=\"3\" style=\"border-bottom: 1px solid black\"></td></tr><tr><td style=\"text-align: left\">Observations</td><td>5,947</td><td>5,947</td></tr><tr><td style=\"text-align: left\">R<sup>2</sup></td><td>0.012</td><td>0.017</td></tr><tr><td style=\"text-align: left\">Adjusted R<sup>2</sup></td><td>0.012</td><td>0.016</td></tr><tr><td style=\"text-align: left\">Residual Std. Error</td><td>0.457 (df=5944)</td><td>0.456 (df=5943)</td></tr><tr><td style=\"text-align: left\">F Statistic</td><td>35.851<sup>***</sup> (df=2; 5944)</td><td>34.140<sup>***</sup> (df=3; 5943)</td></tr><tr><td colspan=\"3\" style=\"border-bottom: 1px solid black\"></td></tr><tr><td style=\"text-align: left\">Note:</td>\n",
       " <td colspan=\"2\" style=\"text-align: right\">\n",
       "  <sup>*</sup>p&lt;0.05;\n",
       "  <sup>**</sup>p&lt;0.01;\n",
       "  <sup>***</sup>p&lt;0.001\n",
       " </td></tr></table>"
      ],
      "text/plain": [
       "<stargazer.stargazer.Stargazer at 0x2886104a730>"
      ]
     },
     "execution_count": 76,
     "metadata": {},
     "output_type": "execute_result"
    }
   ],
   "source": [
    "reg_table"
   ]
  },
  {
   "cell_type": "markdown",
   "id": "5a04899c",
   "metadata": {},
   "source": [
    "**Interpretation:**\n",
    "For each tier increase in the measure of the restaurant's price range, we would expect the <tt>compound</tt> sentiment score of a review to increase by 0.088 on average according to Model 1 or by 0.062 on average according to Model 2, net of the other variables in each model.\n",
    "\n",
    "Serving breakfast is associated with an increase in the <tt>compound</tt> sentiment score of approximately 0.039 (Model 1) or 0.031 (Model 2), net of the other variables in each model.\n",
    "\n",
    "Businesses characterized as having a \"classy\" ambience score 0.073 higher on the <tt>compound</tt> score of sentiment on average, net of price and whether or not the business serves breakfast.\n",
    "\n",
    "Based on a comparison of the coefficients in these two models, it appears that controlling for whether a restaurant is categorized as <tt>classy</tt> accounts for some of the association between the outcome and the other independent variables. For example, the coefficient on price decreases from 0.088 to 0.062 when we control for <tt>classy</tt>. This could be interpreted in different ways.\n",
    "\n",
    "For example, classiness may be associated both with higher prices and with factors that lead to more positive reviews (i.e., higher <tt>compound</tt> scores). This would be an example of confounding. Alternatively, it may be that higher prices make a restaurant seem more classy, which in turn leads to more positive reviews. This would be an example of partial mediation, and there are more formal ways to test for this. The larger point is that this is observational data and as much as we may like to offer causal interpretations, we can't be certain. Our job when using tools like linear regression is to come up with the best hypothesis we can, motivated by the best theory, and then use our models (and the results of significance tests) as components of an argument.\n",
    "\n",
    "In OLS, each coefficient is being tested using the null hypothesis (H<sub>0</sub>) that the coefficient is equal to zero. A significant coefficient on any of the independent variables indicates we can reject the null hypothesis and conclude that the two variables are related in some way. The coefficient quantifies the strength of that relationship.\n",
    "\n",
    "Note that both the R<sup>2</sup> and Adjusted R<sup>2</sup> increase from Model 1 to Model 2. The R<sup>2</sup> is a measure of how much variance in the outcome is explained by the independent (or explanatory) variables. This tends to increase if we add additional independent variables. The adjusted R<sup>2</sup> is penalized for each additional variable, so it is slightly lower the plain R<sup>2</sup> in Model 2.\n",
    "\n",
    "A **crucial point** with this kind of statistical modeling is that we ultimately should not care much about the R<sup>2</sup> or Adjusted R<sup>2</sup>. If we are interested in the relationship between some variable x and another variable y, we want to include additional variables only if we expect that they confound the relationship (i.e., have an effect on both x and y) or, more generally, are a source of [omitted-variable bias](https://en.wikipedia.org/wiki/Omitted-variable_bias). If you want a deeper dive into these issues, see [this paper](https://journals.sagepub.com/doi/full/10.1177/0049124118782542), although it is a reply to a comment on another paper, so a lot of the original context won't be immediately clear."
   ]
  },
  {
   "cell_type": "markdown",
   "id": "efdef751",
   "metadata": {},
   "source": [
    "With Stargazer, can also produce LaTeX code for the table directly:"
   ]
  },
  {
   "cell_type": "code",
   "execution_count": 77,
   "id": "26c7fcd8",
   "metadata": {},
   "outputs": [
    {
     "name": "stdout",
     "output_type": "stream",
     "text": [
      "\\begin{table}[!htbp] \\centering\n",
      "  \\caption{Compound Sentiment Regressed on Price, Ambience, and Breakfast}\n",
      "\\begin{tabular}{@{\\extracolsep{5pt}}lcc}\n",
      "\\\\[-1.8ex]\\hline\n",
      "\\hline \\\\[-1.8ex]\n",
      "& \\multicolumn{2}{c}{\\textit{Dependent variable:}} \\\n",
      "\\cr \\cline{2-3}\n",
      "\\\\[-1.8ex] & \\multicolumn{1}{c}{Model 1} & \\multicolumn{1}{c}{Model 2}  \\\\\n",
      "\\hline \\\\[-1.8ex]\n",
      " Price & 0.088$^{***}$ & 0.062$^{***}$ \\\\\n",
      "  & (0.011) & (0.012) \\\\\n",
      " Breakfast & 0.039$^{*}$ & 0.031$^{*}$ \\\\\n",
      "  & (0.016) & (0.016) \\\\\n",
      " Classy & & 0.073$^{***}$ \\\\\n",
      "  & & (0.013) \\\\\n",
      " Intercept & 0.548$^{***}$ & 0.570$^{***}$ \\\\\n",
      "  & (0.021) & (0.022) \\\\\n",
      "\\hline \\\\[-1.8ex]\n",
      " Observations & 5,947 & 5,947 \\\\\n",
      " $R^2$ & 0.012 & 0.017 \\\\\n",
      " Adjusted $R^2$ & 0.012 & 0.016 \\\\\n",
      " Residual Std. Error & 0.457(df = 5944) & 0.456(df = 5943)  \\\\\n",
      " F Statistic & 35.851$^{***}$ (df = 2.0; 5944.0) & 34.140$^{***}$ (df = 3.0; 5943.0) \\\\\n",
      "\\hline\n",
      "\\hline \\\\[-1.8ex]\n",
      "\\textit{Note:} & \\multicolumn{2}{r}{$^{*}$p$<$0.05; $^{**}$p$<$0.01; $^{***}$p$<$0.001} \\\\\n",
      "\\end{tabular}\n",
      "\\end{table}\n"
     ]
    }
   ],
   "source": [
    "print(reg_table.render_latex())"
   ]
  },
  {
   "cell_type": "markdown",
   "id": "764b9fed",
   "metadata": {},
   "source": [
    "#### Logistic Regression\n",
    "\n",
    "Finally, we will take a quick look at an example of logistic regression using `statsmodels`. Coefficients are reported in log-odds, but interpretations are otherwise similar: A unit change in x is associated with a change in the log-odds of y of some amount.\n",
    "\n",
    "For our dependent variable, we'll use the BYOBCorkage attribute, which we have dichotomized to no == 0 and yes == 1. What factors affect whether the restaurant will uncork your BYOB wine for you?"
   ]
  },
  {
   "cell_type": "code",
   "execution_count": 78,
   "id": "fc55aaec",
   "metadata": {},
   "outputs": [
    {
     "name": "stdout",
     "output_type": "stream",
     "text": [
      "Optimization terminated successfully.\n",
      "         Current function value: 0.682686\n",
      "         Iterations 4\n",
      "Optimization terminated successfully.\n",
      "         Current function value: 0.681985\n",
      "         Iterations 4\n"
     ]
    },
    {
     "data": {
      "text/html": [
       "BYOBCorkage Regressed on Price, Ambience, and Breakfast<br><table style=\"text-align:center\"><tr><td colspan=\"3\" style=\"border-bottom: 1px solid black\"></td></tr><tr><td style=\"text-align:left\"></td><td colspan=\"2\"><em>Dependent variable:BYOBCorkage</em></td></tr><tr><td style=\"text-align:left\"></td><tr><td></td><td colspan=\"1\">Model 1</td><td colspan=\"1\">Model 2</td></tr><tr><td colspan=\"3\" style=\"border-bottom: 1px solid black\"></td></tr><tr><td style=\"text-align:left\">Price</td><td>0.298<sup>*</sup></td><td>0.245<sup></sup></td></tr><tr><td style=\"text-align:left\"></td><td>(0.147)</td><td>(0.158)</td></tr><tr><td style=\"text-align:left\">Breakfast</td><td>-0.571<sup>*</sup></td><td>-0.601<sup>**</sup></td></tr><tr><td style=\"text-align:left\"></td><td>(0.225)</td><td>(0.227)</td></tr><tr><td style=\"text-align:left\">Classy</td><td></td><td>0.171<sup></sup></td></tr><tr><td style=\"text-align:left\"></td><td></td><td>(0.187)</td></tr><tr><td style=\"text-align:left\">Intercept</td><td>-0.621<sup></sup></td><td>-0.614<sup></sup></td></tr><tr><td style=\"text-align:left\"></td><td>(0.321)</td><td>(0.321)</td></tr><td colspan=\"3\" style=\"border-bottom: 1px solid black\"></td></tr><tr><td style=\"text-align: left\">Observations</td><td>596</td><td>596</td></tr><tr><td style=\"text-align: left\">R<sup>2</sup></td><td></td><td></td></tr><tr><td style=\"text-align: left\">Adjusted R<sup>2</sup></td><td></td><td></td></tr><tr><td style=\"text-align: left\">Residual Std. Error</td><td>1.000 (df=593)</td><td>1.000 (df=592)</td></tr><tr><td style=\"text-align: left\">F Statistic</td><td><sup></sup> (df=2; 593)</td><td><sup></sup> (df=3; 592)</td></tr><tr><td colspan=\"3\" style=\"border-bottom: 1px solid black\"></td></tr><tr><td style=\"text-align: left\">Note:</td>\n",
       " <td colspan=\"2\" style=\"text-align: right\">\n",
       "  <sup>*</sup>p&lt;0.05;\n",
       "  <sup>**</sup>p&lt;0.01;\n",
       "  <sup>***</sup>p&lt;0.001\n",
       " </td></tr></table>"
      ],
      "text/plain": [
       "<stargazer.stargazer.Stargazer at 0x28860fed0d0>"
      ]
     },
     "execution_count": 78,
     "metadata": {},
     "output_type": "execute_result"
    }
   ],
   "source": [
    "# We are going to create a subset of the dataframe without missing data for the variables in our models\n",
    "tmp = df[[\"BYOBCorkage\", \"RestaurantsPriceRange2\", \"breakfast\", \"classy\"]].dropna()\n",
    "\n",
    "formula = \"BYOBCorkage ~ RestaurantsPriceRange2 + breakfast\"\n",
    "logit1 = smf.logit(formula, data=tmp).fit()\n",
    "\n",
    "formula = \"BYOBCorkage ~ RestaurantsPriceRange2 + breakfast + classy\"\n",
    "logit2 = smf.logit(formula, data=tmp).fit()\n",
    "\n",
    "logit_table = Stargazer([logit1, logit2])\n",
    "logit_table.covariate_order([\"RestaurantsPriceRange2\", \"breakfast[T.True]\", \"classy[T.True]\", \"Intercept\"])\n",
    "logit_table.rename_covariates({\"RestaurantsPriceRange2\": \"Price\", \"breakfast[T.True]\": \"Breakfast\", \"classy[T.True]\": \"Classy\"})\n",
    "logit_table.title(\"BYOBCorkage Regressed on Price, Ambience, and Breakfast\")\n",
    "logit_table.show_model_numbers(False)\n",
    "logit_table.significance_levels([0.05, 0.01, 0.001])\n",
    "logit_table.custom_columns([\"Model 1\", \"Model 2\"], [1, 1])\n",
    "logit_table"
   ]
  },
  {
   "cell_type": "markdown",
   "id": "8d902cf8",
   "metadata": {},
   "source": [
    "**Interpretation:**\n",
    "According to the first model, an increase in the price range of the business is associated with a 0.298 increase in the log-odds that the business will uncork your BYOB wine. When we control for whether the restaurant is considered classy (Model 2), we no longer observe a significant relationship between price and the outcome.\n",
    "\n",
    "Note that the lines for R<sup>2</sup> and Adjusted R<sup>2</sup> are blank for the logistic regression table. We cannot calculate a true R<sup>2</sup> or Adjusted R<sup>2</sup> using logistic regression. There are alternatives that try to quantify how well the model fits the data, but they aren't implemented here.\n",
    "\n",
    "## V. Supervised Machine Learning\n",
    "\n",
    "Whereas inferential statistics is concerned with generalizing from a sample to a population by quantifying uncertainty, and we often want to know about the relationship between two specific variables net of any potential confounders, that's all (usually) beside the point in supervised machine learning. We want to train models that predict outcomes well, regardless of the substantive importance of the relationship in question. Confounding is no longer an issue–we just want to predict the outcome well and in a way that generalizes to unseen data.\n",
    "\n",
    "One thing you may notice–and which may cause some confusion–is that tools we use for inferential statistics can be used for supervised machine learning and vice versa. The two biggest categories of machine learning are *regression* (predicting continuous outcomes, like income or ratings) and *classification* (predicting membership in a category). We used OLS for linear regression in the inferential statistics section, and we can use OLS for supervised machine learning as well. Further, we used logistic regression for inferential statistics, and we can use it for classification tasks in the context of supervised machine learning.\n",
    "\n",
    "#### Regression\n",
    "\n",
    "In regression tasks in a supervised machine learning framework, we want to minimize an objective function like the mean squared error or root mean squared error. [Mathematically, this is equivalent to *maximizing* the R<sup>2</sup>](https://stats.stackexchange.com/questions/250730/what-is-the-mathematical-relationship-between-r2-and-mse)."
   ]
  },
  {
   "cell_type": "code",
   "execution_count": 97,
   "id": "9f2410e8",
   "metadata": {},
   "outputs": [],
   "source": [
    "docs = df.preprocessed.tolist()\n",
    "y = df.compound.tolist()\n",
    "\n",
    "X_train, X_test, y_train, y_test = train_test_split(docs, labels, test_size=0.3, random_state=8675309)\n",
    "vectorizer = CountVectorizer()\n",
    "X_train = vectorizer.fit_transform(X_train)\n",
    "X_test = vectorizer.transform(X_test)\n",
    "\n",
    "regr = LinearRegression()\n",
    "regr.fit(X_train, y_train)\n",
    "\n",
    "y_pred = regr.predict(X_test)"
   ]
  },
  {
   "cell_type": "code",
   "execution_count": 101,
   "id": "14527084",
   "metadata": {},
   "outputs": [
    {
     "name": "stdout",
     "output_type": "stream",
     "text": [
      "Coefficients: \n",
      "[ 0.04676098 -0.48820371  0.14318015 ...  0.54007375  0.00203847\n",
      " -0.18193904]\n",
      "Mean squared error: 1.6000263767156804\n"
     ]
    }
   ],
   "source": [
    "print(f\"Coefficients: \\n{regr.coef_}\")\n",
    "print(f\"Mean squared error: {mean_squared_error(y_test, y_pred)}\")"
   ]
  },
  {
   "cell_type": "markdown",
   "id": "4078f9d9",
   "metadata": {},
   "source": [
    "#### Classification\n",
    "\n",
    "In classification problems, two major properties of our models are *precision* and *recall*. The diagram below clarifies the difference between the two. In practice, people often default to using an [F-score](https://en.wikipedia.org/wiki/F-score), such as F<sub>1</sub>, which is the harmonic mean of precision and recall.\n",
    "\n",
    "<img src=\"https://raw.githubusercontent.com/soc128d/soc128d.github.io/master/assets/images/precision_recall_wiki_walber_side_by_side.png\" width=800 align=\"left\"/> <br>"
   ]
  },
  {
   "cell_type": "markdown",
   "id": "f02e7d54",
   "metadata": {},
   "source": [
    "([Image source](https://en.wikipedia.org/wiki/F-score#/media/File:Precisionrecall.svg))"
   ]
  },
  {
   "cell_type": "code",
   "execution_count": 83,
   "id": "44fa1065",
   "metadata": {},
   "outputs": [
    {
     "data": {
      "text/plain": [
       "count    9999.000000\n",
       "mean        0.675643\n",
       "std         0.511678\n",
       "min        -0.994200\n",
       "25%         0.690800\n",
       "50%         0.914500\n",
       "75%         0.967400\n",
       "max         0.998900\n",
       "Name: compound, dtype: float64"
      ]
     },
     "execution_count": 83,
     "metadata": {},
     "output_type": "execute_result"
    }
   ],
   "source": [
    "df.compound.describe()"
   ]
  },
  {
   "cell_type": "code",
   "execution_count": 87,
   "id": "7bf0e5c7",
   "metadata": {},
   "outputs": [],
   "source": [
    "df[\"compound_binary\"] = df.compound.apply(lambda x: x >= df.compound.median())"
   ]
  },
  {
   "cell_type": "code",
   "execution_count": 88,
   "id": "f0e82247",
   "metadata": {},
   "outputs": [
    {
     "data": {
      "text/plain": [
       "0     True\n",
       "1    False\n",
       "2     True\n",
       "3    False\n",
       "4     True\n",
       "Name: compound_binary, dtype: bool"
      ]
     },
     "execution_count": 88,
     "metadata": {},
     "output_type": "execute_result"
    }
   ],
   "source": [
    "df.compound_binary.head()"
   ]
  },
  {
   "cell_type": "code",
   "execution_count": 93,
   "id": "bd60a4c1",
   "metadata": {},
   "outputs": [
    {
     "name": "stdout",
     "output_type": "stream",
     "text": [
      "              precision    recall  f1-score   support\n",
      "\n",
      "       False       0.79      0.66      0.72      1513\n",
      "        True       0.70      0.82      0.76      1487\n",
      "\n",
      "    accuracy                           0.74      3000\n",
      "   macro avg       0.75      0.74      0.74      3000\n",
      "weighted avg       0.75      0.74      0.74      3000\n",
      "\n",
      "CPU times: total: 4.12 s\n",
      "Wall time: 4.12 s\n"
     ]
    }
   ],
   "source": [
    "%%time\n",
    "\n",
    "docs = df.preprocessed.tolist()\n",
    "labels = df.compound_binary.tolist()\n",
    "\n",
    "X_train, X_test, y_train, y_test = train_test_split(docs, labels, test_size=0.3, random_state=8675309)\n",
    "vectorizer = CountVectorizer()\n",
    "X_train = vectorizer.fit_transform(X_train)\n",
    "X_test = vectorizer.transform(X_test)\n",
    "\n",
    "clf = LogisticRegression(fit_intercept=False, solver=\"sag\", penalty=\"l2\", max_iter=1000)\n",
    "clf.fit(X_train, y_train)\n",
    "\n",
    "y_pred = clf.predict(X_test)\n",
    "\n",
    "print(classification_report(y_test, y_pred))"
   ]
  },
  {
   "cell_type": "markdown",
   "id": "4db00e8c",
   "metadata": {},
   "source": [
    "You can read more about [`classification_report` here](https://scikit-learn.org/stable/modules/generated/sklearn.metrics.classification_report.html)."
   ]
  },
  {
   "cell_type": "markdown",
   "id": "da70a933",
   "metadata": {},
   "source": [
    "## VI. Exercises"
   ]
  },
  {
   "cell_type": "markdown",
   "id": "0b90b9ea",
   "metadata": {},
   "source": [
    "<div class=\"alert alert-warning\">\n",
    "    For the exercises in this notebook, you will use the <tt>categories</tt> and <tt>attributes</tt> data to create new variables to answer a social research question. You will then use t-tests or correlation coefficients and finally a linear or logistic regression to test your hypothesis. <br><br>\n",
    "    <b>Exercise 1</b><br><br>\n",
    "    Keeping in mind the variables you will create, what is your research question? You might find it helpful to pose your question in terms of the relationship between two variables. At least one of these should be a continuous variable (or a variable that can be treated as continuous). It may also be helpful to use one of the pre-existing continuous variables (e.g., star ratings or sentiment) as the outcome (dependent variable). Why did you choose these variables? Why might they be related? Are there variables that you may need to control for in order to model the relationship between your two variables? You might also consider using a subset of the data confined to a particular period of time. If needed, you can start with a sample larger than the 10,000-review sample taken at the start of the notebook. (You may also find it helpful to wait to fully finish this question until you've made sure you can create the variables you have in mind.)\n",
    "</div>"
   ]
  },
  {
   "cell_type": "markdown",
   "id": "4c3ccf86",
   "metadata": {},
   "source": [
    "*Your answer here*"
   ]
  },
  {
   "cell_type": "markdown",
   "id": "fa377daa",
   "metadata": {},
   "source": [
    "<div class=\"alert alert-warning\">\n",
    "    <b>Exercise 2</b><br><br>\n",
    "    2.1 Now create two variables. If you are using one of the pre-existing variables as your independent or (more likely) dependent variable, you might create the other variable and then create an additional variable to use as a control variable. The variables should fit your research question. <br><br>\n",
    "    Remember, you can create variables using code like the following: </div>\n",
    "    \n",
    "```python\n",
    "df[\"classy\"] = df.business_id.apply(lambda x: biz_attributes_dict[\"classy\"].get(x, np.nan))\n",
    "```\n",
    "\n",
    "```python\n",
    "df[\"karaoke\"] = df.business_id.apply(lambda x: \"karaoke\" in biz_categories_dict[x])\n",
    "```"
   ]
  },
  {
   "cell_type": "code",
   "execution_count": null,
   "id": "d3872421",
   "metadata": {},
   "outputs": [],
   "source": [
    "# YOUR CODE HERE"
   ]
  },
  {
   "cell_type": "markdown",
   "id": "188ac019",
   "metadata": {},
   "source": [
    "<div class=\"alert alert-warning\">\n",
    "2.2 Be sure to check the values of your new variables and recode them if needed. You can using code like <tt>df.NEW_VARIABLE.unique()</tt> to display the unique values.\n",
    "</div>"
   ]
  },
  {
   "cell_type": "code",
   "execution_count": null,
   "id": "9e824f2e",
   "metadata": {},
   "outputs": [],
   "source": [
    "# YOUR CODE HERE"
   ]
  },
  {
   "cell_type": "markdown",
   "id": "94e9cbac",
   "metadata": {},
   "source": [
    "<div class=\"alert alert-warning\">\n",
    "    <b>Exercise 3</b><br><br>\n",
    "    3.1 If your independent and dependent variables are both continuous (or can be treated as continuous, e.g. <tt>RestaurantsPriceRange2</tt>), are they correlated with one another? Use <tt>pearsonr</tt> or <tt>spearmanr</tt> from <tt>scipy.stats</tt> and report both the correlation coefficient and p-value. If only one of these variables is continuous, then select two groups from your categorical variable (e.g., the True and False groups) to compare with respect to the continuous variable. What are the group means of the continuous variable? Is one mean substantially higher? Is there a significant difference according to a t-test? Use <tt>ttest_ind</tt>. Report the group means, the difference, the results of the t-test. What do the results say about your research question? Do they fit with your expectations?</div>"
   ]
  },
  {
   "cell_type": "code",
   "execution_count": null,
   "id": "3c4dcc0c",
   "metadata": {},
   "outputs": [],
   "source": [
    "# YOUR CODE HERE"
   ]
  },
  {
   "cell_type": "markdown",
   "id": "08533d61",
   "metadata": {},
   "source": [
    "*Your answer here*"
   ]
  },
  {
   "cell_type": "markdown",
   "id": "6db4db93",
   "metadata": {},
   "source": [
    "<div class=\"alert alert-warning\">\n",
    "    3.2 Now, assuming your dependent variable is continuous, train at least two linear regression models using OLS (and <tt>smf.ols</tt>). If your dependent variable is categorical, then make sure you are using a binary version of it (i.e., only two groups) and train at least two logistic regression models using <tt>smf.logit</tt> instead. The models should be trained using the same observations and should only differ in that the second (or third, etc.) model has one additional control variable. The addition of a control variable may reflect what you write in Exercise 1. You can train the models on the same subset of observations by using code like the code below to exclude any observations missing data for any of the variables you will use:</div>\n",
    "    \n",
    "```python\n",
    "tmp = df[[\"compound\", \"RestaurantsPriceRange2\", \"breakfast\", \"classy\"]].dropna()\n",
    "```"
   ]
  },
  {
   "cell_type": "code",
   "execution_count": null,
   "id": "fba9dba0",
   "metadata": {},
   "outputs": [],
   "source": [
    "# YOUR CODE HERE"
   ]
  },
  {
   "cell_type": "markdown",
   "id": "3f0de62f",
   "metadata": {},
   "source": [
    "<div class=\"alert alert-warning\">\n",
    "    3.2 Now use <tt>stargazer</tt> to make a regression table presenting the results of your models.\n",
    "</div>"
   ]
  },
  {
   "cell_type": "code",
   "execution_count": null,
   "id": "a3c9462e",
   "metadata": {},
   "outputs": [],
   "source": [
    "# YOUR CODE HERE"
   ]
  },
  {
   "cell_type": "markdown",
   "id": "e75eead0",
   "metadata": {},
   "source": [
    "<div class=\"alert alert-warning\">\n",
    "    3.3 Interpret the results. Do they fit your expectations? What do they tell us about your research question?\n",
    "</div>"
   ]
  },
  {
   "cell_type": "markdown",
   "id": "cad82854",
   "metadata": {},
   "source": [
    "*Your answer here*"
   ]
  }
 ],
 "metadata": {
  "kernelspec": {
   "display_name": "Python 3 (ipykernel)",
   "language": "python",
   "name": "python3"
  },
  "language_info": {
   "codemirror_mode": {
    "name": "ipython",
    "version": 3
   },
   "file_extension": ".py",
   "mimetype": "text/x-python",
   "name": "python",
   "nbconvert_exporter": "python",
   "pygments_lexer": "ipython3",
   "version": "3.9.12"
  }
 },
 "nbformat": 4,
 "nbformat_minor": 5
}
